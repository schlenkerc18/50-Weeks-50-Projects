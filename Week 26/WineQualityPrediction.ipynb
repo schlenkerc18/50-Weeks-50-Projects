{
 "cells": [
  {
   "cell_type": "code",
   "execution_count": 1,
   "id": "c44480f6",
   "metadata": {},
   "outputs": [],
   "source": [
    "import pandas as pd\n",
    "import numpy as np\n",
    "\n",
    "import seaborn as sns\n",
    "import matplotlib.pyplot as plt\n",
    "sns.set_style(\"whitegrid\")\n",
    "sns.set_palette(\"pastel\")\n",
    "\n",
    "from sklearn.model_selection import train_test_split, GridSearchCV\n",
    "from sklearn.metrics import accuracy_score, precision_score, recall_score\n",
    "\n",
    "from sklearn.ensemble import RandomForestClassifier\n",
    "from xgboost import XGBClassifier "
   ]
  },
  {
   "cell_type": "code",
   "execution_count": 2,
   "id": "bc9a0a28",
   "metadata": {},
   "outputs": [
    {
     "data": {
      "text/html": [
       "<div>\n",
       "<style scoped>\n",
       "    .dataframe tbody tr th:only-of-type {\n",
       "        vertical-align: middle;\n",
       "    }\n",
       "\n",
       "    .dataframe tbody tr th {\n",
       "        vertical-align: top;\n",
       "    }\n",
       "\n",
       "    .dataframe thead th {\n",
       "        text-align: right;\n",
       "    }\n",
       "</style>\n",
       "<table border=\"1\" class=\"dataframe\">\n",
       "  <thead>\n",
       "    <tr style=\"text-align: right;\">\n",
       "      <th></th>\n",
       "      <th>fixed acidity</th>\n",
       "      <th>volatile acidity</th>\n",
       "      <th>citric acid</th>\n",
       "      <th>residual sugar</th>\n",
       "      <th>chlorides</th>\n",
       "      <th>free sulfur dioxide</th>\n",
       "      <th>total sulfur dioxide</th>\n",
       "      <th>density</th>\n",
       "      <th>pH</th>\n",
       "      <th>sulphates</th>\n",
       "      <th>alcohol</th>\n",
       "      <th>quality</th>\n",
       "    </tr>\n",
       "  </thead>\n",
       "  <tbody>\n",
       "    <tr>\n",
       "      <th>0</th>\n",
       "      <td>7.4</td>\n",
       "      <td>0.70</td>\n",
       "      <td>0.00</td>\n",
       "      <td>1.9</td>\n",
       "      <td>0.076</td>\n",
       "      <td>11.0</td>\n",
       "      <td>34.0</td>\n",
       "      <td>0.9978</td>\n",
       "      <td>3.51</td>\n",
       "      <td>0.56</td>\n",
       "      <td>9.4</td>\n",
       "      <td>5</td>\n",
       "    </tr>\n",
       "    <tr>\n",
       "      <th>1</th>\n",
       "      <td>7.8</td>\n",
       "      <td>0.88</td>\n",
       "      <td>0.00</td>\n",
       "      <td>2.6</td>\n",
       "      <td>0.098</td>\n",
       "      <td>25.0</td>\n",
       "      <td>67.0</td>\n",
       "      <td>0.9968</td>\n",
       "      <td>3.20</td>\n",
       "      <td>0.68</td>\n",
       "      <td>9.8</td>\n",
       "      <td>5</td>\n",
       "    </tr>\n",
       "    <tr>\n",
       "      <th>2</th>\n",
       "      <td>7.8</td>\n",
       "      <td>0.76</td>\n",
       "      <td>0.04</td>\n",
       "      <td>2.3</td>\n",
       "      <td>0.092</td>\n",
       "      <td>15.0</td>\n",
       "      <td>54.0</td>\n",
       "      <td>0.9970</td>\n",
       "      <td>3.26</td>\n",
       "      <td>0.65</td>\n",
       "      <td>9.8</td>\n",
       "      <td>5</td>\n",
       "    </tr>\n",
       "    <tr>\n",
       "      <th>3</th>\n",
       "      <td>11.2</td>\n",
       "      <td>0.28</td>\n",
       "      <td>0.56</td>\n",
       "      <td>1.9</td>\n",
       "      <td>0.075</td>\n",
       "      <td>17.0</td>\n",
       "      <td>60.0</td>\n",
       "      <td>0.9980</td>\n",
       "      <td>3.16</td>\n",
       "      <td>0.58</td>\n",
       "      <td>9.8</td>\n",
       "      <td>6</td>\n",
       "    </tr>\n",
       "    <tr>\n",
       "      <th>4</th>\n",
       "      <td>7.4</td>\n",
       "      <td>0.70</td>\n",
       "      <td>0.00</td>\n",
       "      <td>1.9</td>\n",
       "      <td>0.076</td>\n",
       "      <td>11.0</td>\n",
       "      <td>34.0</td>\n",
       "      <td>0.9978</td>\n",
       "      <td>3.51</td>\n",
       "      <td>0.56</td>\n",
       "      <td>9.4</td>\n",
       "      <td>5</td>\n",
       "    </tr>\n",
       "  </tbody>\n",
       "</table>\n",
       "</div>"
      ],
      "text/plain": [
       "   fixed acidity  volatile acidity  citric acid  residual sugar  chlorides  \\\n",
       "0            7.4              0.70         0.00             1.9      0.076   \n",
       "1            7.8              0.88         0.00             2.6      0.098   \n",
       "2            7.8              0.76         0.04             2.3      0.092   \n",
       "3           11.2              0.28         0.56             1.9      0.075   \n",
       "4            7.4              0.70         0.00             1.9      0.076   \n",
       "\n",
       "   free sulfur dioxide  total sulfur dioxide  density    pH  sulphates  \\\n",
       "0                 11.0                  34.0   0.9978  3.51       0.56   \n",
       "1                 25.0                  67.0   0.9968  3.20       0.68   \n",
       "2                 15.0                  54.0   0.9970  3.26       0.65   \n",
       "3                 17.0                  60.0   0.9980  3.16       0.58   \n",
       "4                 11.0                  34.0   0.9978  3.51       0.56   \n",
       "\n",
       "   alcohol  quality  \n",
       "0      9.4        5  \n",
       "1      9.8        5  \n",
       "2      9.8        5  \n",
       "3      9.8        6  \n",
       "4      9.4        5  "
      ]
     },
     "execution_count": 2,
     "metadata": {},
     "output_type": "execute_result"
    }
   ],
   "source": [
    "df = pd.read_csv('winequality-red.csv')\n",
    "df.head()"
   ]
  },
  {
   "cell_type": "markdown",
   "id": "901045c8",
   "metadata": {},
   "source": [
    "# Set Aside Data before Inspecting it"
   ]
  },
  {
   "cell_type": "code",
   "execution_count": 3,
   "id": "4d82093b",
   "metadata": {},
   "outputs": [],
   "source": [
    "X = df.drop(['quality'], axis = 1)\n",
    "y = df.quality\n",
    "\n",
    "X_train, X_test, y_train, y_test = train_test_split(X, y, train_size = .8)"
   ]
  },
  {
   "cell_type": "code",
   "execution_count": 4,
   "id": "2fadf4bb",
   "metadata": {},
   "outputs": [
    {
     "data": {
      "text/html": [
       "<div>\n",
       "<style scoped>\n",
       "    .dataframe tbody tr th:only-of-type {\n",
       "        vertical-align: middle;\n",
       "    }\n",
       "\n",
       "    .dataframe tbody tr th {\n",
       "        vertical-align: top;\n",
       "    }\n",
       "\n",
       "    .dataframe thead th {\n",
       "        text-align: right;\n",
       "    }\n",
       "</style>\n",
       "<table border=\"1\" class=\"dataframe\">\n",
       "  <thead>\n",
       "    <tr style=\"text-align: right;\">\n",
       "      <th></th>\n",
       "      <th>fixed acidity</th>\n",
       "      <th>volatile acidity</th>\n",
       "      <th>citric acid</th>\n",
       "      <th>residual sugar</th>\n",
       "      <th>chlorides</th>\n",
       "      <th>free sulfur dioxide</th>\n",
       "      <th>total sulfur dioxide</th>\n",
       "      <th>density</th>\n",
       "      <th>pH</th>\n",
       "      <th>sulphates</th>\n",
       "      <th>alcohol</th>\n",
       "      <th>quality</th>\n",
       "      <th>HighQuality</th>\n",
       "    </tr>\n",
       "  </thead>\n",
       "  <tbody>\n",
       "    <tr>\n",
       "      <th>1525</th>\n",
       "      <td>6.7</td>\n",
       "      <td>0.48</td>\n",
       "      <td>0.08</td>\n",
       "      <td>2.1</td>\n",
       "      <td>0.064</td>\n",
       "      <td>18.0</td>\n",
       "      <td>34.0</td>\n",
       "      <td>0.99552</td>\n",
       "      <td>3.33</td>\n",
       "      <td>0.64</td>\n",
       "      <td>9.7</td>\n",
       "      <td>5</td>\n",
       "      <td>0</td>\n",
       "    </tr>\n",
       "    <tr>\n",
       "      <th>1548</th>\n",
       "      <td>11.2</td>\n",
       "      <td>0.40</td>\n",
       "      <td>0.50</td>\n",
       "      <td>2.0</td>\n",
       "      <td>0.099</td>\n",
       "      <td>19.0</td>\n",
       "      <td>50.0</td>\n",
       "      <td>0.99783</td>\n",
       "      <td>3.10</td>\n",
       "      <td>0.58</td>\n",
       "      <td>10.4</td>\n",
       "      <td>5</td>\n",
       "      <td>0</td>\n",
       "    </tr>\n",
       "    <tr>\n",
       "      <th>887</th>\n",
       "      <td>10.7</td>\n",
       "      <td>0.52</td>\n",
       "      <td>0.38</td>\n",
       "      <td>2.6</td>\n",
       "      <td>0.066</td>\n",
       "      <td>29.0</td>\n",
       "      <td>56.0</td>\n",
       "      <td>0.99577</td>\n",
       "      <td>3.15</td>\n",
       "      <td>0.79</td>\n",
       "      <td>12.1</td>\n",
       "      <td>7</td>\n",
       "      <td>1</td>\n",
       "    </tr>\n",
       "    <tr>\n",
       "      <th>618</th>\n",
       "      <td>11.4</td>\n",
       "      <td>0.46</td>\n",
       "      <td>0.50</td>\n",
       "      <td>2.7</td>\n",
       "      <td>0.122</td>\n",
       "      <td>4.0</td>\n",
       "      <td>17.0</td>\n",
       "      <td>1.00060</td>\n",
       "      <td>3.13</td>\n",
       "      <td>0.70</td>\n",
       "      <td>10.2</td>\n",
       "      <td>5</td>\n",
       "      <td>0</td>\n",
       "    </tr>\n",
       "    <tr>\n",
       "      <th>190</th>\n",
       "      <td>8.2</td>\n",
       "      <td>0.50</td>\n",
       "      <td>0.35</td>\n",
       "      <td>2.9</td>\n",
       "      <td>0.077</td>\n",
       "      <td>21.0</td>\n",
       "      <td>127.0</td>\n",
       "      <td>0.99760</td>\n",
       "      <td>3.23</td>\n",
       "      <td>0.62</td>\n",
       "      <td>9.4</td>\n",
       "      <td>5</td>\n",
       "      <td>0</td>\n",
       "    </tr>\n",
       "  </tbody>\n",
       "</table>\n",
       "</div>"
      ],
      "text/plain": [
       "      fixed acidity  volatile acidity  citric acid  residual sugar  chlorides  \\\n",
       "1525            6.7              0.48         0.08             2.1      0.064   \n",
       "1548           11.2              0.40         0.50             2.0      0.099   \n",
       "887            10.7              0.52         0.38             2.6      0.066   \n",
       "618            11.4              0.46         0.50             2.7      0.122   \n",
       "190             8.2              0.50         0.35             2.9      0.077   \n",
       "\n",
       "      free sulfur dioxide  total sulfur dioxide  density    pH  sulphates  \\\n",
       "1525                 18.0                  34.0  0.99552  3.33       0.64   \n",
       "1548                 19.0                  50.0  0.99783  3.10       0.58   \n",
       "887                  29.0                  56.0  0.99577  3.15       0.79   \n",
       "618                   4.0                  17.0  1.00060  3.13       0.70   \n",
       "190                  21.0                 127.0  0.99760  3.23       0.62   \n",
       "\n",
       "      alcohol  quality  HighQuality  \n",
       "1525      9.7        5            0  \n",
       "1548     10.4        5            0  \n",
       "887      12.1        7            1  \n",
       "618      10.2        5            0  \n",
       "190       9.4        5            0  "
      ]
     },
     "execution_count": 4,
     "metadata": {},
     "output_type": "execute_result"
    }
   ],
   "source": [
    "df = pd.merge(X_train, y_train, left_index = True, right_index = True, how = 'inner')\n",
    "df['HighQuality'] = (df.quality >= 6).replace({False: 0, True: 1})\n",
    "df.head()"
   ]
  },
  {
   "cell_type": "code",
   "execution_count": 5,
   "id": "fc65751d",
   "metadata": {},
   "outputs": [
    {
     "data": {
      "text/plain": [
       "fixed acidity           0\n",
       "volatile acidity        0\n",
       "citric acid             0\n",
       "residual sugar          0\n",
       "chlorides               0\n",
       "free sulfur dioxide     0\n",
       "total sulfur dioxide    0\n",
       "density                 0\n",
       "pH                      0\n",
       "sulphates               0\n",
       "alcohol                 0\n",
       "quality                 0\n",
       "HighQuality             0\n",
       "dtype: int64"
      ]
     },
     "execution_count": 5,
     "metadata": {},
     "output_type": "execute_result"
    }
   ],
   "source": [
    "df.isna().sum()"
   ]
  },
  {
   "cell_type": "code",
   "execution_count": 6,
   "id": "7475434c",
   "metadata": {},
   "outputs": [
    {
     "name": "stdout",
     "output_type": "stream",
     "text": [
      "<class 'pandas.core.frame.DataFrame'>\n",
      "Int64Index: 1279 entries, 1525 to 110\n",
      "Data columns (total 13 columns):\n",
      " #   Column                Non-Null Count  Dtype  \n",
      "---  ------                --------------  -----  \n",
      " 0   fixed acidity         1279 non-null   float64\n",
      " 1   volatile acidity      1279 non-null   float64\n",
      " 2   citric acid           1279 non-null   float64\n",
      " 3   residual sugar        1279 non-null   float64\n",
      " 4   chlorides             1279 non-null   float64\n",
      " 5   free sulfur dioxide   1279 non-null   float64\n",
      " 6   total sulfur dioxide  1279 non-null   float64\n",
      " 7   density               1279 non-null   float64\n",
      " 8   pH                    1279 non-null   float64\n",
      " 9   sulphates             1279 non-null   float64\n",
      " 10  alcohol               1279 non-null   float64\n",
      " 11  quality               1279 non-null   int64  \n",
      " 12  HighQuality           1279 non-null   int64  \n",
      "dtypes: float64(11), int64(2)\n",
      "memory usage: 172.2 KB\n"
     ]
    }
   ],
   "source": [
    "df.info()"
   ]
  },
  {
   "cell_type": "code",
   "execution_count": 7,
   "id": "c39179e6",
   "metadata": {},
   "outputs": [
    {
     "data": {
      "text/html": [
       "<div>\n",
       "<style scoped>\n",
       "    .dataframe tbody tr th:only-of-type {\n",
       "        vertical-align: middle;\n",
       "    }\n",
       "\n",
       "    .dataframe tbody tr th {\n",
       "        vertical-align: top;\n",
       "    }\n",
       "\n",
       "    .dataframe thead th {\n",
       "        text-align: right;\n",
       "    }\n",
       "</style>\n",
       "<table border=\"1\" class=\"dataframe\">\n",
       "  <thead>\n",
       "    <tr style=\"text-align: right;\">\n",
       "      <th></th>\n",
       "      <th>fixed acidity</th>\n",
       "      <th>volatile acidity</th>\n",
       "      <th>citric acid</th>\n",
       "      <th>residual sugar</th>\n",
       "      <th>chlorides</th>\n",
       "      <th>free sulfur dioxide</th>\n",
       "      <th>total sulfur dioxide</th>\n",
       "      <th>density</th>\n",
       "      <th>pH</th>\n",
       "      <th>sulphates</th>\n",
       "      <th>alcohol</th>\n",
       "      <th>quality</th>\n",
       "      <th>HighQuality</th>\n",
       "    </tr>\n",
       "  </thead>\n",
       "  <tbody>\n",
       "    <tr>\n",
       "      <th>count</th>\n",
       "      <td>1279.000000</td>\n",
       "      <td>1279.000000</td>\n",
       "      <td>1279.000000</td>\n",
       "      <td>1279.000000</td>\n",
       "      <td>1279.000000</td>\n",
       "      <td>1279.000000</td>\n",
       "      <td>1279.000000</td>\n",
       "      <td>1279.000000</td>\n",
       "      <td>1279.000000</td>\n",
       "      <td>1279.000000</td>\n",
       "      <td>1279.000000</td>\n",
       "      <td>1279.000000</td>\n",
       "      <td>1279.000000</td>\n",
       "    </tr>\n",
       "    <tr>\n",
       "      <th>mean</th>\n",
       "      <td>8.333776</td>\n",
       "      <td>0.526919</td>\n",
       "      <td>0.272056</td>\n",
       "      <td>2.562236</td>\n",
       "      <td>0.087002</td>\n",
       "      <td>15.836200</td>\n",
       "      <td>45.968335</td>\n",
       "      <td>0.996733</td>\n",
       "      <td>3.310758</td>\n",
       "      <td>0.656990</td>\n",
       "      <td>10.443901</td>\n",
       "      <td>5.640344</td>\n",
       "      <td>0.532447</td>\n",
       "    </tr>\n",
       "    <tr>\n",
       "      <th>std</th>\n",
       "      <td>1.742303</td>\n",
       "      <td>0.181919</td>\n",
       "      <td>0.193718</td>\n",
       "      <td>1.452300</td>\n",
       "      <td>0.047272</td>\n",
       "      <td>10.401014</td>\n",
       "      <td>33.164466</td>\n",
       "      <td>0.001887</td>\n",
       "      <td>0.152821</td>\n",
       "      <td>0.168127</td>\n",
       "      <td>1.065726</td>\n",
       "      <td>0.812923</td>\n",
       "      <td>0.499141</td>\n",
       "    </tr>\n",
       "    <tr>\n",
       "      <th>min</th>\n",
       "      <td>4.600000</td>\n",
       "      <td>0.120000</td>\n",
       "      <td>0.000000</td>\n",
       "      <td>0.900000</td>\n",
       "      <td>0.012000</td>\n",
       "      <td>1.000000</td>\n",
       "      <td>6.000000</td>\n",
       "      <td>0.990070</td>\n",
       "      <td>2.740000</td>\n",
       "      <td>0.330000</td>\n",
       "      <td>8.500000</td>\n",
       "      <td>3.000000</td>\n",
       "      <td>0.000000</td>\n",
       "    </tr>\n",
       "    <tr>\n",
       "      <th>25%</th>\n",
       "      <td>7.100000</td>\n",
       "      <td>0.390000</td>\n",
       "      <td>0.095000</td>\n",
       "      <td>1.900000</td>\n",
       "      <td>0.070000</td>\n",
       "      <td>7.000000</td>\n",
       "      <td>21.500000</td>\n",
       "      <td>0.995580</td>\n",
       "      <td>3.210000</td>\n",
       "      <td>0.550000</td>\n",
       "      <td>9.500000</td>\n",
       "      <td>5.000000</td>\n",
       "      <td>0.000000</td>\n",
       "    </tr>\n",
       "    <tr>\n",
       "      <th>50%</th>\n",
       "      <td>7.900000</td>\n",
       "      <td>0.520000</td>\n",
       "      <td>0.260000</td>\n",
       "      <td>2.200000</td>\n",
       "      <td>0.079000</td>\n",
       "      <td>13.000000</td>\n",
       "      <td>37.000000</td>\n",
       "      <td>0.996720</td>\n",
       "      <td>3.310000</td>\n",
       "      <td>0.620000</td>\n",
       "      <td>10.200000</td>\n",
       "      <td>6.000000</td>\n",
       "      <td>1.000000</td>\n",
       "    </tr>\n",
       "    <tr>\n",
       "      <th>75%</th>\n",
       "      <td>9.200000</td>\n",
       "      <td>0.640000</td>\n",
       "      <td>0.420000</td>\n",
       "      <td>2.600000</td>\n",
       "      <td>0.089500</td>\n",
       "      <td>21.500000</td>\n",
       "      <td>61.000000</td>\n",
       "      <td>0.997800</td>\n",
       "      <td>3.400000</td>\n",
       "      <td>0.730000</td>\n",
       "      <td>11.100000</td>\n",
       "      <td>6.000000</td>\n",
       "      <td>1.000000</td>\n",
       "    </tr>\n",
       "    <tr>\n",
       "      <th>max</th>\n",
       "      <td>15.900000</td>\n",
       "      <td>1.580000</td>\n",
       "      <td>1.000000</td>\n",
       "      <td>15.500000</td>\n",
       "      <td>0.611000</td>\n",
       "      <td>72.000000</td>\n",
       "      <td>289.000000</td>\n",
       "      <td>1.003690</td>\n",
       "      <td>4.010000</td>\n",
       "      <td>2.000000</td>\n",
       "      <td>14.900000</td>\n",
       "      <td>8.000000</td>\n",
       "      <td>1.000000</td>\n",
       "    </tr>\n",
       "  </tbody>\n",
       "</table>\n",
       "</div>"
      ],
      "text/plain": [
       "       fixed acidity  volatile acidity  citric acid  residual sugar  \\\n",
       "count    1279.000000       1279.000000  1279.000000     1279.000000   \n",
       "mean        8.333776          0.526919     0.272056        2.562236   \n",
       "std         1.742303          0.181919     0.193718        1.452300   \n",
       "min         4.600000          0.120000     0.000000        0.900000   \n",
       "25%         7.100000          0.390000     0.095000        1.900000   \n",
       "50%         7.900000          0.520000     0.260000        2.200000   \n",
       "75%         9.200000          0.640000     0.420000        2.600000   \n",
       "max        15.900000          1.580000     1.000000       15.500000   \n",
       "\n",
       "         chlorides  free sulfur dioxide  total sulfur dioxide      density  \\\n",
       "count  1279.000000          1279.000000           1279.000000  1279.000000   \n",
       "mean      0.087002            15.836200             45.968335     0.996733   \n",
       "std       0.047272            10.401014             33.164466     0.001887   \n",
       "min       0.012000             1.000000              6.000000     0.990070   \n",
       "25%       0.070000             7.000000             21.500000     0.995580   \n",
       "50%       0.079000            13.000000             37.000000     0.996720   \n",
       "75%       0.089500            21.500000             61.000000     0.997800   \n",
       "max       0.611000            72.000000            289.000000     1.003690   \n",
       "\n",
       "                pH    sulphates      alcohol      quality  HighQuality  \n",
       "count  1279.000000  1279.000000  1279.000000  1279.000000  1279.000000  \n",
       "mean      3.310758     0.656990    10.443901     5.640344     0.532447  \n",
       "std       0.152821     0.168127     1.065726     0.812923     0.499141  \n",
       "min       2.740000     0.330000     8.500000     3.000000     0.000000  \n",
       "25%       3.210000     0.550000     9.500000     5.000000     0.000000  \n",
       "50%       3.310000     0.620000    10.200000     6.000000     1.000000  \n",
       "75%       3.400000     0.730000    11.100000     6.000000     1.000000  \n",
       "max       4.010000     2.000000    14.900000     8.000000     1.000000  "
      ]
     },
     "execution_count": 7,
     "metadata": {},
     "output_type": "execute_result"
    }
   ],
   "source": [
    "df.describe()"
   ]
  },
  {
   "cell_type": "code",
   "execution_count": 8,
   "id": "96a2ee31",
   "metadata": {},
   "outputs": [
    {
     "data": {
      "text/html": [
       "<div>\n",
       "<style scoped>\n",
       "    .dataframe tbody tr th:only-of-type {\n",
       "        vertical-align: middle;\n",
       "    }\n",
       "\n",
       "    .dataframe tbody tr th {\n",
       "        vertical-align: top;\n",
       "    }\n",
       "\n",
       "    .dataframe thead th {\n",
       "        text-align: right;\n",
       "    }\n",
       "</style>\n",
       "<table border=\"1\" class=\"dataframe\">\n",
       "  <thead>\n",
       "    <tr style=\"text-align: right;\">\n",
       "      <th></th>\n",
       "      <th>fixed acidity</th>\n",
       "      <th>volatile acidity</th>\n",
       "      <th>citric acid</th>\n",
       "      <th>residual sugar</th>\n",
       "      <th>chlorides</th>\n",
       "      <th>free sulfur dioxide</th>\n",
       "      <th>total sulfur dioxide</th>\n",
       "      <th>density</th>\n",
       "      <th>pH</th>\n",
       "      <th>sulphates</th>\n",
       "      <th>alcohol</th>\n",
       "      <th>HighQuality</th>\n",
       "    </tr>\n",
       "    <tr>\n",
       "      <th>quality</th>\n",
       "      <th></th>\n",
       "      <th></th>\n",
       "      <th></th>\n",
       "      <th></th>\n",
       "      <th></th>\n",
       "      <th></th>\n",
       "      <th></th>\n",
       "      <th></th>\n",
       "      <th></th>\n",
       "      <th></th>\n",
       "      <th></th>\n",
       "      <th></th>\n",
       "    </tr>\n",
       "  </thead>\n",
       "  <tbody>\n",
       "    <tr>\n",
       "      <th>3</th>\n",
       "      <td>7.933333</td>\n",
       "      <td>0.985833</td>\n",
       "      <td>0.081667</td>\n",
       "      <td>3.025000</td>\n",
       "      <td>0.135333</td>\n",
       "      <td>11.500000</td>\n",
       "      <td>20.833333</td>\n",
       "      <td>0.996898</td>\n",
       "      <td>3.451667</td>\n",
       "      <td>0.553333</td>\n",
       "      <td>10.416667</td>\n",
       "      <td>0.0</td>\n",
       "    </tr>\n",
       "    <tr>\n",
       "      <th>4</th>\n",
       "      <td>7.702128</td>\n",
       "      <td>0.693191</td>\n",
       "      <td>0.166596</td>\n",
       "      <td>2.725532</td>\n",
       "      <td>0.091915</td>\n",
       "      <td>12.361702</td>\n",
       "      <td>35.212766</td>\n",
       "      <td>0.996497</td>\n",
       "      <td>3.386809</td>\n",
       "      <td>0.602553</td>\n",
       "      <td>10.277660</td>\n",
       "      <td>0.0</td>\n",
       "    </tr>\n",
       "    <tr>\n",
       "      <th>5</th>\n",
       "      <td>8.204954</td>\n",
       "      <td>0.575468</td>\n",
       "      <td>0.244752</td>\n",
       "      <td>2.552385</td>\n",
       "      <td>0.092191</td>\n",
       "      <td>16.666055</td>\n",
       "      <td>55.237615</td>\n",
       "      <td>0.997108</td>\n",
       "      <td>3.301046</td>\n",
       "      <td>0.621156</td>\n",
       "      <td>9.912936</td>\n",
       "      <td>0.0</td>\n",
       "    </tr>\n",
       "    <tr>\n",
       "      <th>6</th>\n",
       "      <td>8.357746</td>\n",
       "      <td>0.497525</td>\n",
       "      <td>0.276076</td>\n",
       "      <td>2.488833</td>\n",
       "      <td>0.084002</td>\n",
       "      <td>15.801811</td>\n",
       "      <td>40.822938</td>\n",
       "      <td>0.996596</td>\n",
       "      <td>3.319899</td>\n",
       "      <td>0.673581</td>\n",
       "      <td>10.645674</td>\n",
       "      <td>1.0</td>\n",
       "    </tr>\n",
       "    <tr>\n",
       "      <th>7</th>\n",
       "      <td>8.846784</td>\n",
       "      <td>0.402895</td>\n",
       "      <td>0.373918</td>\n",
       "      <td>2.724269</td>\n",
       "      <td>0.077474</td>\n",
       "      <td>14.578947</td>\n",
       "      <td>36.175439</td>\n",
       "      <td>0.996096</td>\n",
       "      <td>3.291696</td>\n",
       "      <td>0.732456</td>\n",
       "      <td>11.464620</td>\n",
       "      <td>1.0</td>\n",
       "    </tr>\n",
       "    <tr>\n",
       "      <th>8</th>\n",
       "      <td>8.538462</td>\n",
       "      <td>0.433846</td>\n",
       "      <td>0.392308</td>\n",
       "      <td>2.846154</td>\n",
       "      <td>0.069462</td>\n",
       "      <td>13.461538</td>\n",
       "      <td>33.384615</td>\n",
       "      <td>0.995412</td>\n",
       "      <td>3.279231</td>\n",
       "      <td>0.776923</td>\n",
       "      <td>12.176923</td>\n",
       "      <td>1.0</td>\n",
       "    </tr>\n",
       "  </tbody>\n",
       "</table>\n",
       "</div>"
      ],
      "text/plain": [
       "         fixed acidity  volatile acidity  citric acid  residual sugar  \\\n",
       "quality                                                                 \n",
       "3             7.933333          0.985833     0.081667        3.025000   \n",
       "4             7.702128          0.693191     0.166596        2.725532   \n",
       "5             8.204954          0.575468     0.244752        2.552385   \n",
       "6             8.357746          0.497525     0.276076        2.488833   \n",
       "7             8.846784          0.402895     0.373918        2.724269   \n",
       "8             8.538462          0.433846     0.392308        2.846154   \n",
       "\n",
       "         chlorides  free sulfur dioxide  total sulfur dioxide   density  \\\n",
       "quality                                                                   \n",
       "3         0.135333            11.500000             20.833333  0.996898   \n",
       "4         0.091915            12.361702             35.212766  0.996497   \n",
       "5         0.092191            16.666055             55.237615  0.997108   \n",
       "6         0.084002            15.801811             40.822938  0.996596   \n",
       "7         0.077474            14.578947             36.175439  0.996096   \n",
       "8         0.069462            13.461538             33.384615  0.995412   \n",
       "\n",
       "               pH  sulphates    alcohol  HighQuality  \n",
       "quality                                               \n",
       "3        3.451667   0.553333  10.416667          0.0  \n",
       "4        3.386809   0.602553  10.277660          0.0  \n",
       "5        3.301046   0.621156   9.912936          0.0  \n",
       "6        3.319899   0.673581  10.645674          1.0  \n",
       "7        3.291696   0.732456  11.464620          1.0  \n",
       "8        3.279231   0.776923  12.176923          1.0  "
      ]
     },
     "execution_count": 8,
     "metadata": {},
     "output_type": "execute_result"
    }
   ],
   "source": [
    "df.groupby('quality').mean()"
   ]
  },
  {
   "cell_type": "code",
   "execution_count": 9,
   "id": "f8d0590a",
   "metadata": {},
   "outputs": [
    {
     "data": {
      "text/html": [
       "<div>\n",
       "<style scoped>\n",
       "    .dataframe tbody tr th:only-of-type {\n",
       "        vertical-align: middle;\n",
       "    }\n",
       "\n",
       "    .dataframe tbody tr th {\n",
       "        vertical-align: top;\n",
       "    }\n",
       "\n",
       "    .dataframe thead th {\n",
       "        text-align: right;\n",
       "    }\n",
       "</style>\n",
       "<table border=\"1\" class=\"dataframe\">\n",
       "  <thead>\n",
       "    <tr style=\"text-align: right;\">\n",
       "      <th></th>\n",
       "      <th>fixed acidity</th>\n",
       "      <th>volatile acidity</th>\n",
       "      <th>citric acid</th>\n",
       "      <th>residual sugar</th>\n",
       "      <th>chlorides</th>\n",
       "      <th>free sulfur dioxide</th>\n",
       "      <th>total sulfur dioxide</th>\n",
       "      <th>density</th>\n",
       "      <th>pH</th>\n",
       "      <th>sulphates</th>\n",
       "      <th>alcohol</th>\n",
       "    </tr>\n",
       "    <tr>\n",
       "      <th>HighQuality</th>\n",
       "      <th></th>\n",
       "      <th></th>\n",
       "      <th></th>\n",
       "      <th></th>\n",
       "      <th></th>\n",
       "      <th></th>\n",
       "      <th></th>\n",
       "      <th></th>\n",
       "      <th></th>\n",
       "      <th></th>\n",
       "      <th></th>\n",
       "    </tr>\n",
       "  </thead>\n",
       "  <tbody>\n",
       "    <tr>\n",
       "      <th>0</th>\n",
       "      <td>8.162709</td>\n",
       "      <td>0.588838</td>\n",
       "      <td>0.236973</td>\n",
       "      <td>2.570736</td>\n",
       "      <td>0.092602</td>\n",
       "      <td>16.275920</td>\n",
       "      <td>53.318562</td>\n",
       "      <td>0.997058</td>\n",
       "      <td>3.309298</td>\n",
       "      <td>0.619013</td>\n",
       "      <td>9.946656</td>\n",
       "    </tr>\n",
       "    <tr>\n",
       "      <th>1</th>\n",
       "      <td>8.483994</td>\n",
       "      <td>0.472548</td>\n",
       "      <td>0.302863</td>\n",
       "      <td>2.554772</td>\n",
       "      <td>0.082085</td>\n",
       "      <td>15.450073</td>\n",
       "      <td>39.513950</td>\n",
       "      <td>0.996448</td>\n",
       "      <td>3.312041</td>\n",
       "      <td>0.690338</td>\n",
       "      <td>10.880543</td>\n",
       "    </tr>\n",
       "  </tbody>\n",
       "</table>\n",
       "</div>"
      ],
      "text/plain": [
       "             fixed acidity  volatile acidity  citric acid  residual sugar  \\\n",
       "HighQuality                                                                 \n",
       "0                 8.162709          0.588838     0.236973        2.570736   \n",
       "1                 8.483994          0.472548     0.302863        2.554772   \n",
       "\n",
       "             chlorides  free sulfur dioxide  total sulfur dioxide   density  \\\n",
       "HighQuality                                                                   \n",
       "0             0.092602            16.275920             53.318562  0.997058   \n",
       "1             0.082085            15.450073             39.513950  0.996448   \n",
       "\n",
       "                   pH  sulphates    alcohol  \n",
       "HighQuality                                  \n",
       "0            3.309298   0.619013   9.946656  \n",
       "1            3.312041   0.690338  10.880543  "
      ]
     },
     "execution_count": 9,
     "metadata": {},
     "output_type": "execute_result"
    }
   ],
   "source": [
    "group = df.groupby('HighQuality').mean()\n",
    "group.drop('quality', axis = 1, inplace = True)\n",
    "group"
   ]
  },
  {
   "cell_type": "code",
   "execution_count": 10,
   "id": "37766e91",
   "metadata": {},
   "outputs": [
    {
     "data": {
      "text/plain": [
       "5    545\n",
       "6    497\n",
       "7    171\n",
       "4     47\n",
       "8     13\n",
       "3      6\n",
       "Name: quality, dtype: int64"
      ]
     },
     "execution_count": 10,
     "metadata": {},
     "output_type": "execute_result"
    }
   ],
   "source": [
    "df.quality.value_counts()"
   ]
  },
  {
   "cell_type": "markdown",
   "id": "5a6e7700",
   "metadata": {},
   "source": [
    "# Visual Exploration"
   ]
  },
  {
   "cell_type": "code",
   "execution_count": 11,
   "id": "ebcd7443",
   "metadata": {},
   "outputs": [
    {
     "data": {
      "image/png": "[encoded data removed]",
      "text/plain": [
       "<Figure size 640x480 with 1 Axes>"
      ]
     },
     "metadata": {},
     "output_type": "display_data"
    }
   ],
   "source": [
    "sns.violinplot(data = df[df['total sulfur dioxide'] < 100], x = 'quality', y = 'total sulfur dioxide')\n",
    "\n",
    "plt.title('Total Sulfur Dioxide Dist.')\n",
    "plt.show()"
   ]
  },
  {
   "cell_type": "code",
   "execution_count": 12,
   "id": "e726f1ad",
   "metadata": {},
   "outputs": [
    {
     "data": {
      "image/png": "[encoded data removed]",
      "text/plain": [
       "<Figure size 640x480 with 1 Axes>"
      ]
     },
     "metadata": {},
     "output_type": "display_data"
    }
   ],
   "source": [
    "sns.boxenplot(data = df, x = 'quality', y = 'alcohol')\n",
    "\n",
    "plt.title('Alcohol Dist.')\n",
    "plt.show()"
   ]
  },
  {
   "cell_type": "markdown",
   "id": "ebb7576d",
   "metadata": {},
   "source": [
    "# Statistical Tests"
   ]
  },
  {
   "cell_type": "code",
   "execution_count": 13,
   "id": "79638629",
   "metadata": {},
   "outputs": [],
   "source": [
    "def perm_fun(df, col, len_a):\n",
    "    a = df.sample(n = len_a, replace = False)\n",
    "    b = df[~df.index.isin(a.index)]\n",
    "    \n",
    "    return a[col].mean() - b[col].mean()"
   ]
  },
  {
   "cell_type": "code",
   "execution_count": 14,
   "id": "22d1362d",
   "metadata": {},
   "outputs": [],
   "source": [
    "def generate_diffs_and_graph(col, len_a, df):\n",
    "    # generated permuted differences\n",
    "    actual_diff = group.loc[1][col] - group.loc[0][col]\n",
    "    diffs = [perm_fun(df, col, len_a) for _ in range(1000)]\n",
    "    \n",
    "    # plot permuted differences and actual difference\n",
    "    plt.figure(figsize = (5,4))\n",
    "    sns.histplot(diffs)\n",
    "    plt.axvline(x = actual_diff, color = 'red')\n",
    "    plt.title(f\"Perm Test (statistical significance) for {col}\")\n",
    "    plt.show()\n",
    "\n",
    "    # calculate and print p-val for statistical significance test\n",
    "    p_val = [np.abs(diff) > np.abs(actual_diff) for diff in diffs]\n",
    "    p_val = np.array(p_val).mean()\n",
    "    print(\"p-val:\", p_val)\n",
    "    \n",
    "    return p_val"
   ]
  },
  {
   "cell_type": "code",
   "execution_count": 15,
   "id": "61dbe6f8",
   "metadata": {
    "scrolled": false
   },
   "outputs": [
    {
     "data": {
      "image/png": "[encoded data removed]",
      "text/plain": [
       "<Figure size 500x400 with 1 Axes>"
      ]
     },
     "metadata": {},
     "output_type": "display_data"
    },
    {
     "name": "stdout",
     "output_type": "stream",
     "text": [
      "p-val: 0.003\n"
     ]
    },
    {
     "data": {
      "image/png": "[encoded data removed]",
      "text/plain": [
       "<Figure size 500x400 with 1 Axes>"
      ]
     },
     "metadata": {},
     "output_type": "display_data"
    },
    {
     "name": "stdout",
     "output_type": "stream",
     "text": [
      "p-val: 0.0\n"
     ]
    },
    {
     "data": {
      "image/png": "[encoded data removed]",
      "text/plain": [
       "<Figure size 500x400 with 1 Axes>"
      ]
     },
     "metadata": {},
     "output_type": "display_data"
    },
    {
     "name": "stdout",
     "output_type": "stream",
     "text": [
      "p-val: 0.0\n"
     ]
    },
    {
     "data": {
      "image/png": "[encoded data removed]",
      "text/plain": [
       "<Figure size 500x400 with 1 Axes>"
      ]
     },
     "metadata": {},
     "output_type": "display_data"
    },
    {
     "name": "stdout",
     "output_type": "stream",
     "text": [
      "p-val: 0.853\n"
     ]
    },
    {
     "data": {
      "image/png": "[encoded data removed]",
      "text/plain": [
       "<Figure size 500x400 with 1 Axes>"
      ]
     },
     "metadata": {},
     "output_type": "display_data"
    },
    {
     "name": "stdout",
     "output_type": "stream",
     "text": [
      "p-val: 0.0\n"
     ]
    },
    {
     "data": {
      "image/png": "[encoded data removed]",
      "text/plain": [
       "<Figure size 500x400 with 1 Axes>"
      ]
     },
     "metadata": {},
     "output_type": "display_data"
    },
    {
     "name": "stdout",
     "output_type": "stream",
     "text": [
      "p-val: 0.181\n"
     ]
    },
    {
     "data": {
      "image/png": "[encoded data removed]",
      "text/plain": [
       "<Figure size 500x400 with 1 Axes>"
      ]
     },
     "metadata": {},
     "output_type": "display_data"
    },
    {
     "name": "stdout",
     "output_type": "stream",
     "text": [
      "p-val: 0.0\n"
     ]
    },
    {
     "data": {
      "image/png": "[encoded data removed]",
      "text/plain": [
       "<Figure size 500x400 with 1 Axes>"
      ]
     },
     "metadata": {},
     "output_type": "display_data"
    },
    {
     "name": "stdout",
     "output_type": "stream",
     "text": [
      "p-val: 0.0\n"
     ]
    },
    {
     "data": {
      "image/png": "[encoded data removed]",
      "text/plain": [
       "<Figure size 500x400 with 1 Axes>"
      ]
     },
     "metadata": {},
     "output_type": "display_data"
    },
    {
     "name": "stdout",
     "output_type": "stream",
     "text": [
      "p-val: 0.755\n"
     ]
    },
    {
     "data": {
      "image/png": "[encoded data removed]",
      "text/plain": [
       "<Figure size 500x400 with 1 Axes>"
      ]
     },
     "metadata": {},
     "output_type": "display_data"
    },
    {
     "name": "stdout",
     "output_type": "stream",
     "text": [
      "p-val: 0.0\n"
     ]
    },
    {
     "data": {
      "image/png": "[encoded data removed]",
      "text/plain": [
       "<Figure size 500x400 with 1 Axes>"
      ]
     },
     "metadata": {},
     "output_type": "display_data"
    },
    {
     "name": "stdout",
     "output_type": "stream",
     "text": [
      "p-val: 0.0\n"
     ]
    }
   ],
   "source": [
    "significant_vars = []\n",
    "len_a = df.HighQuality.value_counts().loc[1]\n",
    "\n",
    "for col in group.columns:\n",
    "    p_val = generate_diffs_and_graph(col, len_a, df)\n",
    "    if (p_val <= .05):\n",
    "        significant_vars.append(col)"
   ]
  },
  {
   "cell_type": "code",
   "execution_count": 16,
   "id": "d3fe4ef4",
   "metadata": {},
   "outputs": [
    {
     "data": {
      "text/plain": [
       "['fixed acidity',\n",
       " 'volatile acidity',\n",
       " 'citric acid',\n",
       " 'chlorides',\n",
       " 'total sulfur dioxide',\n",
       " 'density',\n",
       " 'sulphates',\n",
       " 'alcohol']"
      ]
     },
     "execution_count": 16,
     "metadata": {},
     "output_type": "execute_result"
    }
   ],
   "source": [
    "significant_vars"
   ]
  },
  {
   "cell_type": "markdown",
   "id": "42958d08",
   "metadata": {},
   "source": [
    "# Train Models"
   ]
  },
  {
   "cell_type": "code",
   "execution_count": 17,
   "id": "64082fd1",
   "metadata": {},
   "outputs": [
    {
     "data": {
      "text/plain": [
       "RandomForestClassifier()"
      ]
     },
     "execution_count": 17,
     "metadata": {},
     "output_type": "execute_result"
    }
   ],
   "source": [
    "X_train = df[significant_vars]\n",
    "y_train = df.quality\n",
    "\n",
    "rf = RandomForestClassifier()\n",
    "rf.fit(X_train, y_train)"
   ]
  },
  {
   "cell_type": "markdown",
   "id": "71c02ff0",
   "metadata": {},
   "source": [
    "# Grid Search"
   ]
  },
  {
   "cell_type": "code",
   "execution_count": 18,
   "id": "8eb3d0cd",
   "metadata": {},
   "outputs": [],
   "source": [
    "param_grid = {\n",
    "    'n_estimators': [100, 200, 300],\n",
    "    'max_depth': [3, 5, 7],\n",
    "    'min_samples_split': [5,10,20]\n",
    "}"
   ]
  },
  {
   "cell_type": "code",
   "execution_count": 19,
   "id": "7043ba9b",
   "metadata": {},
   "outputs": [
    {
     "data": {
      "text/plain": [
       "GridSearchCV(cv=5, estimator=RandomForestClassifier(),\n",
       "             param_grid={'max_depth': [3, 5, 7],\n",
       "                         'min_samples_split': [5, 10, 20],\n",
       "                         'n_estimators': [100, 200, 300]},\n",
       "             scoring='accuracy')"
      ]
     },
     "execution_count": 19,
     "metadata": {},
     "output_type": "execute_result"
    }
   ],
   "source": [
    "rf_grid = GridSearchCV(rf, param_grid = param_grid, cv = 5, scoring = 'accuracy')\n",
    "rf_grid.fit(X_train, y_train)"
   ]
  },
  {
   "cell_type": "code",
   "execution_count": 20,
   "id": "b7008e70",
   "metadata": {},
   "outputs": [
    {
     "name": "stdout",
     "output_type": "stream",
     "text": [
      "0.5879564950980393 {'max_depth': 3, 'min_samples_split': 5, 'n_estimators': 100}\n",
      "0.5895189950980393 {'max_depth': 3, 'min_samples_split': 5, 'n_estimators': 200}\n",
      "0.5871752450980392 {'max_depth': 3, 'min_samples_split': 5, 'n_estimators': 300}\n",
      "0.5910814950980392 {'max_depth': 3, 'min_samples_split': 10, 'n_estimators': 100}\n",
      "0.5840441176470588 {'max_depth': 3, 'min_samples_split': 10, 'n_estimators': 200}\n",
      "0.5918596813725491 {'max_depth': 3, 'min_samples_split': 10, 'n_estimators': 300}\n",
      "0.5809252450980392 {'max_depth': 3, 'min_samples_split': 20, 'n_estimators': 100}\n",
      "0.5879503676470588 {'max_depth': 3, 'min_samples_split': 20, 'n_estimators': 200}\n",
      "0.5871691176470588 {'max_depth': 3, 'min_samples_split': 20, 'n_estimators': 300}\n",
      "0.6075061274509804 {'max_depth': 5, 'min_samples_split': 5, 'n_estimators': 100}\n",
      "0.6106341911764706 {'max_depth': 5, 'min_samples_split': 5, 'n_estimators': 200}\n",
      "0.6020343137254902 {'max_depth': 5, 'min_samples_split': 5, 'n_estimators': 300}\n",
      "0.5973406862745099 {'max_depth': 5, 'min_samples_split': 10, 'n_estimators': 100}\n",
      "0.6028094362745098 {'max_depth': 5, 'min_samples_split': 10, 'n_estimators': 200}\n",
      "0.5996783088235295 {'max_depth': 5, 'min_samples_split': 10, 'n_estimators': 300}\n",
      "0.5942064950980392 {'max_depth': 5, 'min_samples_split': 20, 'n_estimators': 100}\n",
      "0.6004626225490196 {'max_depth': 5, 'min_samples_split': 20, 'n_estimators': 200}\n",
      "0.6067156862745098 {'max_depth': 5, 'min_samples_split': 20, 'n_estimators': 300}\n",
      "0.6293995098039216 {'max_depth': 7, 'min_samples_split': 5, 'n_estimators': 100}\n",
      "0.6184620098039215 {'max_depth': 7, 'min_samples_split': 5, 'n_estimators': 200}\n",
      "0.6293964460784314 {'max_depth': 7, 'min_samples_split': 5, 'n_estimators': 300}\n",
      "0.6176776960784314 {'max_depth': 7, 'min_samples_split': 10, 'n_estimators': 100}\n",
      "0.623155637254902 {'max_depth': 7, 'min_samples_split': 10, 'n_estimators': 200}\n",
      "0.624702818627451 {'max_depth': 7, 'min_samples_split': 10, 'n_estimators': 300}\n",
      "0.6129871323529412 {'max_depth': 7, 'min_samples_split': 20, 'n_estimators': 100}\n",
      "0.6161060049019608 {'max_depth': 7, 'min_samples_split': 20, 'n_estimators': 200}\n",
      "0.6082935049019608 {'max_depth': 7, 'min_samples_split': 20, 'n_estimators': 300}\n"
     ]
    }
   ],
   "source": [
    "cvres = rf_grid.cv_results_\n",
    "\n",
    "for mean_score, params in zip(cvres['mean_test_score'], cvres['params']):\n",
    "    print(mean_score, params)"
   ]
  },
  {
   "cell_type": "code",
   "execution_count": 21,
   "id": "f64d808e",
   "metadata": {},
   "outputs": [
    {
     "data": {
      "text/plain": [
       "{'max_depth': 7, 'min_samples_split': 5, 'n_estimators': 100}"
      ]
     },
     "execution_count": 21,
     "metadata": {},
     "output_type": "execute_result"
    }
   ],
   "source": [
    "best_params = rf_grid.best_params_\n",
    "best_params"
   ]
  },
  {
   "cell_type": "code",
   "execution_count": 22,
   "id": "4ed8a4c7",
   "metadata": {},
   "outputs": [
    {
     "data": {
      "text/plain": [
       "RandomForestClassifier(max_depth=7, min_samples_split=5)"
      ]
     },
     "execution_count": 22,
     "metadata": {},
     "output_type": "execute_result"
    }
   ],
   "source": [
    "rf_tuned = rf_grid.best_estimator_\n",
    "rf_tuned.fit(X_train, y_train)"
   ]
  },
  {
   "cell_type": "markdown",
   "id": "5002c9d6",
   "metadata": {},
   "source": [
    "# XGBoost"
   ]
  },
  {
   "cell_type": "code",
   "execution_count": 23,
   "id": "917a5447",
   "metadata": {},
   "outputs": [
    {
     "data": {
      "text/plain": [
       "GridSearchCV(cv=5,\n",
       "             estimator=XGBClassifier(base_score=None, booster=None,\n",
       "                                     callbacks=None, colsample_bylevel=None,\n",
       "                                     colsample_bynode=None,\n",
       "                                     colsample_bytree=None,\n",
       "                                     early_stopping_rounds=None,\n",
       "                                     enable_categorical=False, eval_metric=None,\n",
       "                                     feature_types=None, gamma=None,\n",
       "                                     gpu_id=None, grow_policy=None,\n",
       "                                     importance_type=None,\n",
       "                                     interaction_constraints=None,\n",
       "                                     learning_rate=None,...,\n",
       "                                     max_cat_threshold=None,\n",
       "                                     max_cat_to_onehot=None,\n",
       "                                     max_delta_step=None, max_depth=None,\n",
       "                                     max_leaves=None, min_child_weight=None,\n",
       "                                     missing=nan, monotone_constraints=None,\n",
       "                                     n_estimators=100, n_jobs=None,\n",
       "                                     num_parallel_tree=None, predictor=None,\n",
       "                                     random_state=None, ...),\n",
       "             param_grid={'eta': [0.05, 0.1, 0.3], 'max_depth': [3, 5, 7],\n",
       "                         'n_estimators': [100, 200, 300]},\n",
       "             scoring='accuracy')"
      ]
     },
     "execution_count": 23,
     "metadata": {},
     "output_type": "execute_result"
    }
   ],
   "source": [
    "xgb = XGBClassifier()\n",
    "param_grid = {\n",
    "    'n_estimators': [100, 200, 300],\n",
    "    'max_depth': [3, 5 ,7],\n",
    "    'eta': [.05, .1, .3]\n",
    "}\n",
    "\n",
    "# resetting y so that it will work for xgboost\n",
    "y_train_xgb = y_train - 3\n",
    "\n",
    "xgb_grid = GridSearchCV(xgb, param_grid = param_grid, cv = 5, scoring = 'accuracy')\n",
    "xgb_grid.fit(X_train, y_train_xgb)"
   ]
  },
  {
   "cell_type": "code",
   "execution_count": 24,
   "id": "418432a2",
   "metadata": {},
   "outputs": [
    {
     "name": "stdout",
     "output_type": "stream",
     "text": [
      "0.5965808823529412 {'eta': 0.05, 'max_depth': 3, 'n_estimators': 100}\n",
      "0.6067279411764706 {'eta': 0.05, 'max_depth': 3, 'n_estimators': 200}\n",
      "0.6145557598039215 {'eta': 0.05, 'max_depth': 3, 'n_estimators': 300}\n",
      "0.624718137254902 {'eta': 0.05, 'max_depth': 5, 'n_estimators': 100}\n",
      "0.6356525735294117 {'eta': 0.05, 'max_depth': 5, 'n_estimators': 200}\n",
      "0.650499387254902 {'eta': 0.05, 'max_depth': 5, 'n_estimators': 300}\n",
      "0.6372150735294118 {'eta': 0.05, 'max_depth': 7, 'n_estimators': 100}\n",
      "0.6372058823529412 {'eta': 0.05, 'max_depth': 7, 'n_estimators': 200}\n",
      "0.6442371323529412 {'eta': 0.05, 'max_depth': 7, 'n_estimators': 300}\n",
      "0.607515318627451 {'eta': 0.1, 'max_depth': 3, 'n_estimators': 100}\n",
      "0.6215808823529412 {'eta': 0.1, 'max_depth': 3, 'n_estimators': 200}\n",
      "0.6379901960784313 {'eta': 0.1, 'max_depth': 3, 'n_estimators': 300}\n",
      "0.6395435049019608 {'eta': 0.1, 'max_depth': 5, 'n_estimators': 100}\n",
      "0.6442432598039216 {'eta': 0.1, 'max_depth': 5, 'n_estimators': 200}\n",
      "0.6418964460784313 {'eta': 0.1, 'max_depth': 5, 'n_estimators': 300}\n",
      "0.6387714460784314 {'eta': 0.1, 'max_depth': 7, 'n_estimators': 100}\n",
      "0.6426746323529412 {'eta': 0.1, 'max_depth': 7, 'n_estimators': 200}\n",
      "0.6481433823529412 {'eta': 0.1, 'max_depth': 7, 'n_estimators': 300}\n",
      "0.6286121323529412 {'eta': 0.3, 'max_depth': 3, 'n_estimators': 100}\n",
      "0.6364246323529412 {'eta': 0.3, 'max_depth': 3, 'n_estimators': 200}\n",
      "0.6301746323529411 {'eta': 0.3, 'max_depth': 3, 'n_estimators': 300}\n",
      "0.6450183823529412 {'eta': 0.3, 'max_depth': 5, 'n_estimators': 100}\n",
      "0.6481464460784314 {'eta': 0.3, 'max_depth': 5, 'n_estimators': 200}\n",
      "0.6395496323529412 {'eta': 0.3, 'max_depth': 5, 'n_estimators': 300}\n",
      "0.646593137254902 {'eta': 0.3, 'max_depth': 7, 'n_estimators': 100}\n",
      "0.6442432598039216 {'eta': 0.3, 'max_depth': 7, 'n_estimators': 200}\n",
      "0.6348560049019608 {'eta': 0.3, 'max_depth': 7, 'n_estimators': 300}\n"
     ]
    }
   ],
   "source": [
    "cvres = xgb_grid.cv_results_\n",
    "\n",
    "for mean_score, params in zip(cvres['mean_test_score'], cvres['params']):\n",
    "    print(mean_score, params)"
   ]
  },
  {
   "cell_type": "code",
   "execution_count": 25,
   "id": "d6c82515",
   "metadata": {},
   "outputs": [
    {
     "data": {
      "text/plain": [
       "XGBClassifier(base_score=None, booster=None, callbacks=None,\n",
       "              colsample_bylevel=None, colsample_bynode=None,\n",
       "              colsample_bytree=None, early_stopping_rounds=None,\n",
       "              enable_categorical=False, eta=0.05, eval_metric=None,\n",
       "              feature_types=None, gamma=None, gpu_id=None, grow_policy=None,\n",
       "              importance_type=None, interaction_constraints=None,\n",
       "              learning_rate=None, max_bin=None, max_cat_threshold=None,\n",
       "              max_cat_to_onehot=None, max_delta_step=None, max_depth=5,\n",
       "              max_leaves=None, min_child_weight=None, missing=nan,\n",
       "              monotone_constraints=None, n_estimators=300, n_jobs=None,\n",
       "              num_parallel_tree=None, objective='multi:softprob', ...)"
      ]
     },
     "execution_count": 25,
     "metadata": {},
     "output_type": "execute_result"
    }
   ],
   "source": [
    "xgb_tuned = xgb_grid.best_estimator_\n",
    "xgb_tuned.fit(X_train, y_train_xgb)"
   ]
  },
  {
   "cell_type": "markdown",
   "id": "b40422fa",
   "metadata": {},
   "source": [
    "# Make Predictions"
   ]
  },
  {
   "cell_type": "code",
   "execution_count": 26,
   "id": "3305d546",
   "metadata": {},
   "outputs": [
    {
     "data": {
      "text/html": [
       "<div>\n",
       "<style scoped>\n",
       "    .dataframe tbody tr th:only-of-type {\n",
       "        vertical-align: middle;\n",
       "    }\n",
       "\n",
       "    .dataframe tbody tr th {\n",
       "        vertical-align: top;\n",
       "    }\n",
       "\n",
       "    .dataframe thead th {\n",
       "        text-align: right;\n",
       "    }\n",
       "</style>\n",
       "<table border=\"1\" class=\"dataframe\">\n",
       "  <thead>\n",
       "    <tr style=\"text-align: right;\">\n",
       "      <th></th>\n",
       "      <th>fixed acidity</th>\n",
       "      <th>volatile acidity</th>\n",
       "      <th>citric acid</th>\n",
       "      <th>residual sugar</th>\n",
       "      <th>chlorides</th>\n",
       "      <th>free sulfur dioxide</th>\n",
       "      <th>total sulfur dioxide</th>\n",
       "      <th>density</th>\n",
       "      <th>pH</th>\n",
       "      <th>sulphates</th>\n",
       "      <th>alcohol</th>\n",
       "      <th>quality</th>\n",
       "      <th>RFPred</th>\n",
       "      <th>RFTunedPred</th>\n",
       "      <th>XGBPred</th>\n",
       "    </tr>\n",
       "  </thead>\n",
       "  <tbody>\n",
       "    <tr>\n",
       "      <th>105</th>\n",
       "      <td>8.1</td>\n",
       "      <td>0.575</td>\n",
       "      <td>0.22</td>\n",
       "      <td>2.1</td>\n",
       "      <td>0.077</td>\n",
       "      <td>12.0</td>\n",
       "      <td>65.0</td>\n",
       "      <td>0.99670</td>\n",
       "      <td>3.29</td>\n",
       "      <td>0.51</td>\n",
       "      <td>9.2</td>\n",
       "      <td>5</td>\n",
       "      <td>5</td>\n",
       "      <td>5</td>\n",
       "      <td>5</td>\n",
       "    </tr>\n",
       "    <tr>\n",
       "      <th>1296</th>\n",
       "      <td>6.6</td>\n",
       "      <td>0.630</td>\n",
       "      <td>0.00</td>\n",
       "      <td>4.3</td>\n",
       "      <td>0.093</td>\n",
       "      <td>51.0</td>\n",
       "      <td>77.5</td>\n",
       "      <td>0.99558</td>\n",
       "      <td>3.20</td>\n",
       "      <td>0.45</td>\n",
       "      <td>9.5</td>\n",
       "      <td>5</td>\n",
       "      <td>5</td>\n",
       "      <td>5</td>\n",
       "      <td>5</td>\n",
       "    </tr>\n",
       "    <tr>\n",
       "      <th>375</th>\n",
       "      <td>11.5</td>\n",
       "      <td>0.540</td>\n",
       "      <td>0.71</td>\n",
       "      <td>4.4</td>\n",
       "      <td>0.124</td>\n",
       "      <td>6.0</td>\n",
       "      <td>15.0</td>\n",
       "      <td>0.99840</td>\n",
       "      <td>3.01</td>\n",
       "      <td>0.83</td>\n",
       "      <td>11.8</td>\n",
       "      <td>7</td>\n",
       "      <td>7</td>\n",
       "      <td>7</td>\n",
       "      <td>7</td>\n",
       "    </tr>\n",
       "    <tr>\n",
       "      <th>308</th>\n",
       "      <td>10.3</td>\n",
       "      <td>0.430</td>\n",
       "      <td>0.44</td>\n",
       "      <td>2.4</td>\n",
       "      <td>0.214</td>\n",
       "      <td>5.0</td>\n",
       "      <td>12.0</td>\n",
       "      <td>0.99940</td>\n",
       "      <td>3.19</td>\n",
       "      <td>0.63</td>\n",
       "      <td>9.5</td>\n",
       "      <td>6</td>\n",
       "      <td>6</td>\n",
       "      <td>6</td>\n",
       "      <td>6</td>\n",
       "    </tr>\n",
       "    <tr>\n",
       "      <th>551</th>\n",
       "      <td>9.4</td>\n",
       "      <td>0.430</td>\n",
       "      <td>0.24</td>\n",
       "      <td>2.8</td>\n",
       "      <td>0.092</td>\n",
       "      <td>14.0</td>\n",
       "      <td>45.0</td>\n",
       "      <td>0.99800</td>\n",
       "      <td>3.19</td>\n",
       "      <td>0.73</td>\n",
       "      <td>10.0</td>\n",
       "      <td>6</td>\n",
       "      <td>6</td>\n",
       "      <td>6</td>\n",
       "      <td>6</td>\n",
       "    </tr>\n",
       "    <tr>\n",
       "      <th>...</th>\n",
       "      <td>...</td>\n",
       "      <td>...</td>\n",
       "      <td>...</td>\n",
       "      <td>...</td>\n",
       "      <td>...</td>\n",
       "      <td>...</td>\n",
       "      <td>...</td>\n",
       "      <td>...</td>\n",
       "      <td>...</td>\n",
       "      <td>...</td>\n",
       "      <td>...</td>\n",
       "      <td>...</td>\n",
       "      <td>...</td>\n",
       "      <td>...</td>\n",
       "      <td>...</td>\n",
       "    </tr>\n",
       "    <tr>\n",
       "      <th>799</th>\n",
       "      <td>9.4</td>\n",
       "      <td>0.500</td>\n",
       "      <td>0.34</td>\n",
       "      <td>3.6</td>\n",
       "      <td>0.082</td>\n",
       "      <td>5.0</td>\n",
       "      <td>14.0</td>\n",
       "      <td>0.99870</td>\n",
       "      <td>3.29</td>\n",
       "      <td>0.52</td>\n",
       "      <td>10.7</td>\n",
       "      <td>6</td>\n",
       "      <td>6</td>\n",
       "      <td>6</td>\n",
       "      <td>6</td>\n",
       "    </tr>\n",
       "    <tr>\n",
       "      <th>1371</th>\n",
       "      <td>7.5</td>\n",
       "      <td>0.580</td>\n",
       "      <td>0.56</td>\n",
       "      <td>3.1</td>\n",
       "      <td>0.153</td>\n",
       "      <td>5.0</td>\n",
       "      <td>14.0</td>\n",
       "      <td>0.99476</td>\n",
       "      <td>3.21</td>\n",
       "      <td>1.03</td>\n",
       "      <td>11.6</td>\n",
       "      <td>6</td>\n",
       "      <td>6</td>\n",
       "      <td>6</td>\n",
       "      <td>6</td>\n",
       "    </tr>\n",
       "    <tr>\n",
       "      <th>140</th>\n",
       "      <td>8.4</td>\n",
       "      <td>0.745</td>\n",
       "      <td>0.11</td>\n",
       "      <td>1.9</td>\n",
       "      <td>0.090</td>\n",
       "      <td>16.0</td>\n",
       "      <td>63.0</td>\n",
       "      <td>0.99650</td>\n",
       "      <td>3.19</td>\n",
       "      <td>0.82</td>\n",
       "      <td>9.6</td>\n",
       "      <td>5</td>\n",
       "      <td>5</td>\n",
       "      <td>5</td>\n",
       "      <td>5</td>\n",
       "    </tr>\n",
       "    <tr>\n",
       "      <th>96</th>\n",
       "      <td>6.8</td>\n",
       "      <td>0.775</td>\n",
       "      <td>0.00</td>\n",
       "      <td>3.0</td>\n",
       "      <td>0.102</td>\n",
       "      <td>8.0</td>\n",
       "      <td>23.0</td>\n",
       "      <td>0.99650</td>\n",
       "      <td>3.45</td>\n",
       "      <td>0.56</td>\n",
       "      <td>10.7</td>\n",
       "      <td>5</td>\n",
       "      <td>6</td>\n",
       "      <td>6</td>\n",
       "      <td>6</td>\n",
       "    </tr>\n",
       "    <tr>\n",
       "      <th>1539</th>\n",
       "      <td>7.2</td>\n",
       "      <td>0.390</td>\n",
       "      <td>0.32</td>\n",
       "      <td>1.8</td>\n",
       "      <td>0.065</td>\n",
       "      <td>34.0</td>\n",
       "      <td>60.0</td>\n",
       "      <td>0.99714</td>\n",
       "      <td>3.46</td>\n",
       "      <td>0.78</td>\n",
       "      <td>9.9</td>\n",
       "      <td>5</td>\n",
       "      <td>6</td>\n",
       "      <td>6</td>\n",
       "      <td>6</td>\n",
       "    </tr>\n",
       "  </tbody>\n",
       "</table>\n",
       "<p>320 rows × 15 columns</p>\n",
       "</div>"
      ],
      "text/plain": [
       "      fixed acidity  volatile acidity  citric acid  residual sugar  chlorides  \\\n",
       "105             8.1             0.575         0.22             2.1      0.077   \n",
       "1296            6.6             0.630         0.00             4.3      0.093   \n",
       "375            11.5             0.540         0.71             4.4      0.124   \n",
       "308            10.3             0.430         0.44             2.4      0.214   \n",
       "551             9.4             0.430         0.24             2.8      0.092   \n",
       "...             ...               ...          ...             ...        ...   \n",
       "799             9.4             0.500         0.34             3.6      0.082   \n",
       "1371            7.5             0.580         0.56             3.1      0.153   \n",
       "140             8.4             0.745         0.11             1.9      0.090   \n",
       "96              6.8             0.775         0.00             3.0      0.102   \n",
       "1539            7.2             0.390         0.32             1.8      0.065   \n",
       "\n",
       "      free sulfur dioxide  total sulfur dioxide  density    pH  sulphates  \\\n",
       "105                  12.0                  65.0  0.99670  3.29       0.51   \n",
       "1296                 51.0                  77.5  0.99558  3.20       0.45   \n",
       "375                   6.0                  15.0  0.99840  3.01       0.83   \n",
       "308                   5.0                  12.0  0.99940  3.19       0.63   \n",
       "551                  14.0                  45.0  0.99800  3.19       0.73   \n",
       "...                   ...                   ...      ...   ...        ...   \n",
       "799                   5.0                  14.0  0.99870  3.29       0.52   \n",
       "1371                  5.0                  14.0  0.99476  3.21       1.03   \n",
       "140                  16.0                  63.0  0.99650  3.19       0.82   \n",
       "96                    8.0                  23.0  0.99650  3.45       0.56   \n",
       "1539                 34.0                  60.0  0.99714  3.46       0.78   \n",
       "\n",
       "      alcohol  quality  RFPred  RFTunedPred  XGBPred  \n",
       "105       9.2        5       5            5        5  \n",
       "1296      9.5        5       5            5        5  \n",
       "375      11.8        7       7            7        7  \n",
       "308       9.5        6       6            6        6  \n",
       "551      10.0        6       6            6        6  \n",
       "...       ...      ...     ...          ...      ...  \n",
       "799      10.7        6       6            6        6  \n",
       "1371     11.6        6       6            6        6  \n",
       "140       9.6        5       5            5        5  \n",
       "96       10.7        5       6            6        6  \n",
       "1539      9.9        5       6            6        6  \n",
       "\n",
       "[320 rows x 15 columns]"
      ]
     },
     "execution_count": 26,
     "metadata": {},
     "output_type": "execute_result"
    }
   ],
   "source": [
    "df_test = pd.merge(X_test, y_test, left_index = True, right_index = True, how = 'inner')\n",
    "df_test['RFPred'] = rf.predict(X_test[significant_vars])\n",
    "df_test['RFTunedPred'] = rf.predict(X_test[significant_vars])\n",
    "\n",
    "# xgboost predictions\n",
    "df_test['XGBPred'] = xgb_tuned.predict(X_test[significant_vars])\n",
    "df_test.XGBPred = df_test.XGBPred + 3 # xgboost was trained on y value range 0:5 instead of 3:8\n",
    "\n",
    "\n",
    "df_test"
   ]
  },
  {
   "cell_type": "markdown",
   "id": "47fe57cf",
   "metadata": {},
   "source": [
    "# Access Model Accuracy"
   ]
  },
  {
   "cell_type": "code",
   "execution_count": 27,
   "id": "52185b63",
   "metadata": {},
   "outputs": [],
   "source": [
    "rf_tuned_accuracy = accuracy_score(df_test.quality, df_test.RFTunedPred)\n",
    "rf_accuracy = accuracy_score(df_test.quality, df_test.RFPred)\n",
    "xgb_accuracy = accuracy_score(df_test.quality, df_test.XGBPred)"
   ]
  },
  {
   "cell_type": "code",
   "execution_count": 28,
   "id": "cc1debab",
   "metadata": {},
   "outputs": [
    {
     "data": {
      "text/html": [
       "<div>\n",
       "<style scoped>\n",
       "    .dataframe tbody tr th:only-of-type {\n",
       "        vertical-align: middle;\n",
       "    }\n",
       "\n",
       "    .dataframe tbody tr th {\n",
       "        vertical-align: top;\n",
       "    }\n",
       "\n",
       "    .dataframe thead th {\n",
       "        text-align: right;\n",
       "    }\n",
       "</style>\n",
       "<table border=\"1\" class=\"dataframe\">\n",
       "  <thead>\n",
       "    <tr style=\"text-align: right;\">\n",
       "      <th></th>\n",
       "      <th>Accuracy Score</th>\n",
       "    </tr>\n",
       "  </thead>\n",
       "  <tbody>\n",
       "    <tr>\n",
       "      <th>Random Forest Classifier</th>\n",
       "      <td>72.50</td>\n",
       "    </tr>\n",
       "    <tr>\n",
       "      <th>Random Forest w/GridSearch</th>\n",
       "      <td>72.50</td>\n",
       "    </tr>\n",
       "    <tr>\n",
       "      <th>XGBoost</th>\n",
       "      <td>70.31</td>\n",
       "    </tr>\n",
       "  </tbody>\n",
       "</table>\n",
       "</div>"
      ],
      "text/plain": [
       "                            Accuracy Score\n",
       "Random Forest Classifier             72.50\n",
       "Random Forest w/GridSearch           72.50\n",
       "XGBoost                              70.31"
      ]
     },
     "execution_count": 28,
     "metadata": {},
     "output_type": "execute_result"
    }
   ],
   "source": [
    "scores = pd.DataFrame(data = [rf_accuracy, rf_tuned_accuracy, xgb_accuracy], \n",
    "                      index = ['Random Forest Classifier', 'Random Forest w/GridSearch', 'XGBoost'],\n",
    "                      columns = ['Accuracy Score'])\n",
    "scores = np.round(scores * 100, 2)\n",
    "scores"
   ]
  }
 ],
 "metadata": {
  "kernelspec": {
   "display_name": "Python 3 (ipykernel)",
   "language": "python",
   "name": "python3"
  },
  "language_info": {
   "codemirror_mode": {
    "name": "ipython",
    "version": 3
   },
   "file_extension": ".py",
   "mimetype": "text/x-python",
   "name": "python",
   "nbconvert_exporter": "python",
   "pygments_lexer": "ipython3",
   "version": "3.9.13"
  }
 },
 "nbformat": 4,
 "nbformat_minor": 5
}
