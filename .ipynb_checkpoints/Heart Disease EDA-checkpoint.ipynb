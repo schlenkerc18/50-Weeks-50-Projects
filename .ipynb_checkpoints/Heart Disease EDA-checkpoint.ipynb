{
 "cells": [
  {
   "cell_type": "code",
   "execution_count": 67,
   "id": "16dbe8e1",
   "metadata": {},
   "outputs": [],
   "source": [
    "import numpy as np\n",
    "import pandas as pd\n",
    "\n",
    "import matplotlib.pyplot as plt\n",
    "import seaborn as sns\n",
    "\n",
    "from sklearn import preprocessing\n",
    "from sklearn.neighbors import KNeighborsClassifier\n",
    "from sklearn.model_selection import train_test_split\n",
    "from sklearn.ensemble import RandomForestClassifier\n",
    "from sklearn.tree import DecisionTreeClassifier\n",
    "from sklearn.ensemble import RandomForestClassifier\n",
    "\n",
    "from sklearn.metrics import classification_report\n",
    "\n",
    "from dmba import plotDecisionTree, textDecisionTree"
   ]
  },
  {
   "cell_type": "code",
   "execution_count": 3,
   "id": "afe2d013",
   "metadata": {},
   "outputs": [
    {
     "data": {
      "text/html": [
       "<div>\n",
       "<style scoped>\n",
       "    .dataframe tbody tr th:only-of-type {\n",
       "        vertical-align: middle;\n",
       "    }\n",
       "\n",
       "    .dataframe tbody tr th {\n",
       "        vertical-align: top;\n",
       "    }\n",
       "\n",
       "    .dataframe thead th {\n",
       "        text-align: right;\n",
       "    }\n",
       "</style>\n",
       "<table border=\"1\" class=\"dataframe\">\n",
       "  <thead>\n",
       "    <tr style=\"text-align: right;\">\n",
       "      <th></th>\n",
       "      <th>age</th>\n",
       "      <th>sex</th>\n",
       "      <th>cp</th>\n",
       "      <th>restbps</th>\n",
       "      <th>chol</th>\n",
       "      <th>fbs</th>\n",
       "      <th>restecg</th>\n",
       "      <th>MaxHeartRate</th>\n",
       "      <th>exang</th>\n",
       "      <th>oldpeak</th>\n",
       "      <th>slope</th>\n",
       "      <th>ca</th>\n",
       "      <th>thal</th>\n",
       "      <th>condition</th>\n",
       "    </tr>\n",
       "  </thead>\n",
       "  <tbody>\n",
       "    <tr>\n",
       "      <th>0</th>\n",
       "      <td>69</td>\n",
       "      <td>1</td>\n",
       "      <td>0</td>\n",
       "      <td>160</td>\n",
       "      <td>234</td>\n",
       "      <td>1</td>\n",
       "      <td>2</td>\n",
       "      <td>131</td>\n",
       "      <td>0</td>\n",
       "      <td>0.1</td>\n",
       "      <td>1</td>\n",
       "      <td>1</td>\n",
       "      <td>0</td>\n",
       "      <td>0</td>\n",
       "    </tr>\n",
       "    <tr>\n",
       "      <th>1</th>\n",
       "      <td>69</td>\n",
       "      <td>0</td>\n",
       "      <td>0</td>\n",
       "      <td>140</td>\n",
       "      <td>239</td>\n",
       "      <td>0</td>\n",
       "      <td>0</td>\n",
       "      <td>151</td>\n",
       "      <td>0</td>\n",
       "      <td>1.8</td>\n",
       "      <td>0</td>\n",
       "      <td>2</td>\n",
       "      <td>0</td>\n",
       "      <td>0</td>\n",
       "    </tr>\n",
       "    <tr>\n",
       "      <th>2</th>\n",
       "      <td>66</td>\n",
       "      <td>0</td>\n",
       "      <td>0</td>\n",
       "      <td>150</td>\n",
       "      <td>226</td>\n",
       "      <td>0</td>\n",
       "      <td>0</td>\n",
       "      <td>114</td>\n",
       "      <td>0</td>\n",
       "      <td>2.6</td>\n",
       "      <td>2</td>\n",
       "      <td>0</td>\n",
       "      <td>0</td>\n",
       "      <td>0</td>\n",
       "    </tr>\n",
       "    <tr>\n",
       "      <th>3</th>\n",
       "      <td>65</td>\n",
       "      <td>1</td>\n",
       "      <td>0</td>\n",
       "      <td>138</td>\n",
       "      <td>282</td>\n",
       "      <td>1</td>\n",
       "      <td>2</td>\n",
       "      <td>174</td>\n",
       "      <td>0</td>\n",
       "      <td>1.4</td>\n",
       "      <td>1</td>\n",
       "      <td>1</td>\n",
       "      <td>0</td>\n",
       "      <td>1</td>\n",
       "    </tr>\n",
       "    <tr>\n",
       "      <th>4</th>\n",
       "      <td>64</td>\n",
       "      <td>1</td>\n",
       "      <td>0</td>\n",
       "      <td>110</td>\n",
       "      <td>211</td>\n",
       "      <td>0</td>\n",
       "      <td>2</td>\n",
       "      <td>144</td>\n",
       "      <td>1</td>\n",
       "      <td>1.8</td>\n",
       "      <td>1</td>\n",
       "      <td>0</td>\n",
       "      <td>0</td>\n",
       "      <td>0</td>\n",
       "    </tr>\n",
       "  </tbody>\n",
       "</table>\n",
       "</div>"
      ],
      "text/plain": [
       "   age  sex  cp  restbps  chol  fbs  restecg  MaxHeartRate  exang  oldpeak  \\\n",
       "0   69    1   0      160   234    1        2           131      0      0.1   \n",
       "1   69    0   0      140   239    0        0           151      0      1.8   \n",
       "2   66    0   0      150   226    0        0           114      0      2.6   \n",
       "3   65    1   0      138   282    1        2           174      0      1.4   \n",
       "4   64    1   0      110   211    0        2           144      1      1.8   \n",
       "\n",
       "   slope  ca  thal  condition  \n",
       "0      1   1     0          0  \n",
       "1      0   2     0          0  \n",
       "2      2   0     0          0  \n",
       "3      1   1     0          1  \n",
       "4      1   0     0          0  "
      ]
     },
     "execution_count": 3,
     "metadata": {},
     "output_type": "execute_result"
    }
   ],
   "source": [
    "data = pd.read_csv('./data/heart_cleveland.csv')\n",
    "data.rename(columns={'trestbps': 'restbps', 'thalach':'MaxHeartRate'}, inplace = True)\n",
    "data.head()"
   ]
  },
  {
   "cell_type": "code",
   "execution_count": 4,
   "id": "15b7df8f",
   "metadata": {},
   "outputs": [
    {
     "data": {
      "text/plain": [
       "0    160\n",
       "1    137\n",
       "Name: condition, dtype: int64"
      ]
     },
     "execution_count": 4,
     "metadata": {},
     "output_type": "execute_result"
    }
   ],
   "source": [
    "data.condition.value_counts()"
   ]
  },
  {
   "cell_type": "code",
   "execution_count": 5,
   "id": "c44a4583",
   "metadata": {},
   "outputs": [
    {
     "data": {
      "text/html": [
       "<div>\n",
       "<style scoped>\n",
       "    .dataframe tbody tr th:only-of-type {\n",
       "        vertical-align: middle;\n",
       "    }\n",
       "\n",
       "    .dataframe tbody tr th {\n",
       "        vertical-align: top;\n",
       "    }\n",
       "\n",
       "    .dataframe thead th {\n",
       "        text-align: right;\n",
       "    }\n",
       "</style>\n",
       "<table border=\"1\" class=\"dataframe\">\n",
       "  <thead>\n",
       "    <tr style=\"text-align: right;\">\n",
       "      <th></th>\n",
       "      <th>NoHeartDisease</th>\n",
       "      <th>HeartDisease</th>\n",
       "      <th>Diff</th>\n",
       "    </tr>\n",
       "  </thead>\n",
       "  <tbody>\n",
       "    <tr>\n",
       "      <th>age</th>\n",
       "      <td>52.64375</td>\n",
       "      <td>56.759124</td>\n",
       "      <td>4.115374</td>\n",
       "    </tr>\n",
       "    <tr>\n",
       "      <th>restbps</th>\n",
       "      <td>129.17500</td>\n",
       "      <td>134.635036</td>\n",
       "      <td>5.460036</td>\n",
       "    </tr>\n",
       "    <tr>\n",
       "      <th>chol</th>\n",
       "      <td>243.49375</td>\n",
       "      <td>251.854015</td>\n",
       "      <td>8.360265</td>\n",
       "    </tr>\n",
       "    <tr>\n",
       "      <th>MaxHeartRate</th>\n",
       "      <td>158.58125</td>\n",
       "      <td>139.109489</td>\n",
       "      <td>-19.471761</td>\n",
       "    </tr>\n",
       "    <tr>\n",
       "      <th>oldpeak</th>\n",
       "      <td>0.59875</td>\n",
       "      <td>1.589051</td>\n",
       "      <td>0.990301</td>\n",
       "    </tr>\n",
       "  </tbody>\n",
       "</table>\n",
       "</div>"
      ],
      "text/plain": [
       "              NoHeartDisease  HeartDisease       Diff\n",
       "age                 52.64375     56.759124   4.115374\n",
       "restbps            129.17500    134.635036   5.460036\n",
       "chol               243.49375    251.854015   8.360265\n",
       "MaxHeartRate       158.58125    139.109489 -19.471761\n",
       "oldpeak              0.59875      1.589051   0.990301"
      ]
     },
     "execution_count": 5,
     "metadata": {},
     "output_type": "execute_result"
    }
   ],
   "source": [
    "grouped = data.groupby('condition').aggregate({'age': np.mean, 'restbps': np.mean, 'chol': np.mean,\n",
    "                                     'MaxHeartRate': np.mean, 'oldpeak': np.mean})\n",
    "grouped = grouped.transpose()\n",
    "grouped.columns = ['NoHeartDisease', 'HeartDisease']\n",
    "\n",
    "grouped['Diff'] = grouped.HeartDisease - grouped.NoHeartDisease\n",
    "grouped"
   ]
  },
  {
   "cell_type": "markdown",
   "id": "93c94841",
   "metadata": {},
   "source": [
    "## Permutation Tests"
   ]
  },
  {
   "cell_type": "code",
   "execution_count": 6,
   "id": "71157169",
   "metadata": {},
   "outputs": [],
   "source": [
    "heart_dis_num = data.condition.value_counts().loc[1]"
   ]
  },
  {
   "cell_type": "code",
   "execution_count": 7,
   "id": "90c3d7c9",
   "metadata": {},
   "outputs": [],
   "source": [
    "def perm_fun_mean(df, col, len_a):\n",
    "    a = df.sample(n = len_a, replace = False)\n",
    "    b = df[~df.index.isin(a.index)]\n",
    "    \n",
    "    return a[col].mean() - b[col].mean()"
   ]
  },
  {
   "cell_type": "markdown",
   "id": "1fa21add",
   "metadata": {},
   "source": [
    "### Age"
   ]
  },
  {
   "cell_type": "code",
   "execution_count": 8,
   "id": "f93fad35",
   "metadata": {},
   "outputs": [],
   "source": [
    "diffs = [perm_fun_mean(data, 'age', heart_dis_num) for _ in range(1000)]\n",
    "actual_diff = grouped.iloc[0][1] - grouped.iloc[0][0]"
   ]
  },
  {
   "cell_type": "code",
   "execution_count": 9,
   "id": "8c80056e",
   "metadata": {},
   "outputs": [
    {
     "data": {
      "image/png": "[encoded data removed]",
      "text/plain": [
       "<Figure size 500x400 with 1 Axes>"
      ]
     },
     "metadata": {},
     "output_type": "display_data"
    }
   ],
   "source": [
    "plt.figure(figsize = (5,4))\n",
    "\n",
    "sns.histplot(diffs, label = 'Theoretical Difference Distribution')\n",
    "plt.axvline(x = actual_diff, color = 'red', label = 'Observed Difference')\n",
    "\n",
    "plt.title('Distribution of Permuted Age Differences')\n",
    "plt.legend()\n",
    "plt.show()"
   ]
  },
  {
   "cell_type": "code",
   "execution_count": 10,
   "id": "79aa0ef3",
   "metadata": {},
   "outputs": [
    {
     "data": {
      "text/plain": [
       "0.0"
      ]
     },
     "execution_count": 10,
     "metadata": {},
     "output_type": "execute_result"
    }
   ],
   "source": [
    "p_val = [0 if actual_diff > np.abs(diff) else 1 for diff in diffs]\n",
    "np.mean(p_val)"
   ]
  },
  {
   "cell_type": "markdown",
   "id": "b50f5eeb",
   "metadata": {},
   "source": [
    "### Resting Blood Pressure"
   ]
  },
  {
   "cell_type": "code",
   "execution_count": 11,
   "id": "a9b6e692",
   "metadata": {},
   "outputs": [],
   "source": [
    "diffs = [perm_fun_mean(data, 'restbps', heart_dis_num) for _ in range(1000)]\n",
    "actual_diff = grouped.iloc[1][1] - grouped.iloc[1][0]"
   ]
  },
  {
   "cell_type": "code",
   "execution_count": 12,
   "id": "108c51bd",
   "metadata": {},
   "outputs": [
    {
     "data": {
      "image/png": "[encoded data removed]",
      "text/plain": [
       "<Figure size 500x400 with 1 Axes>"
      ]
     },
     "metadata": {},
     "output_type": "display_data"
    }
   ],
   "source": [
    "plt.figure(figsize = (5,4))\n",
    "\n",
    "sns.histplot(diffs, label = 'Theoretical Difference Distribution')\n",
    "plt.axvline(x = actual_diff, color = 'red', label = 'Observed Difference')\n",
    "\n",
    "plt.title('Distribution of Permuted Resting BP Differences')\n",
    "plt.legend()\n",
    "plt.show()"
   ]
  },
  {
   "cell_type": "code",
   "execution_count": 13,
   "id": "18af8ffb",
   "metadata": {},
   "outputs": [
    {
     "data": {
      "text/plain": [
       "0.009"
      ]
     },
     "execution_count": 13,
     "metadata": {},
     "output_type": "execute_result"
    }
   ],
   "source": [
    "p_val = [0 if actual_diff > np.abs(diff) else 1 for diff in diffs]\n",
    "np.mean(p_val)"
   ]
  },
  {
   "cell_type": "markdown",
   "id": "36c92750",
   "metadata": {},
   "source": [
    "### Cholestorol"
   ]
  },
  {
   "cell_type": "code",
   "execution_count": 14,
   "id": "8c46d9aa",
   "metadata": {},
   "outputs": [],
   "source": [
    "diffs = [perm_fun_mean(data, 'restbps', heart_dis_num) for _ in range(1000)]\n",
    "actual_diff = grouped.iloc[2][1] - grouped.iloc[2][0]"
   ]
  },
  {
   "cell_type": "code",
   "execution_count": 15,
   "id": "7f65b155",
   "metadata": {},
   "outputs": [
    {
     "data": {
      "image/png": "[encoded data removed]",
      "text/plain": [
       "<Figure size 500x400 with 1 Axes>"
      ]
     },
     "metadata": {},
     "output_type": "display_data"
    }
   ],
   "source": [
    "plt.figure(figsize = (5,4))\n",
    "\n",
    "sns.histplot(diffs, label = 'Theoretical Difference Distribution')\n",
    "plt.axvline(x = actual_diff, color = 'red', label = 'Observed Difference')\n",
    "\n",
    "plt.title('Distribution of Permuted Cholestorol Differences')\n",
    "plt.legend()\n",
    "plt.show()"
   ]
  },
  {
   "cell_type": "code",
   "execution_count": 16,
   "id": "37f3df20",
   "metadata": {},
   "outputs": [
    {
     "data": {
      "text/plain": [
       "0.0"
      ]
     },
     "execution_count": 16,
     "metadata": {},
     "output_type": "execute_result"
    }
   ],
   "source": [
    "p_val = [0 if actual_diff > np.abs(diff) else 1 for diff in diffs]\n",
    "np.mean(p_val)"
   ]
  },
  {
   "cell_type": "markdown",
   "id": "d0ccee23",
   "metadata": {},
   "source": [
    "### Max Heart Rate"
   ]
  },
  {
   "cell_type": "code",
   "execution_count": 17,
   "id": "d7678690",
   "metadata": {},
   "outputs": [],
   "source": [
    "diffs = [perm_fun_mean(data, 'MaxHeartRate', heart_dis_num) for _ in range(1000)]\n",
    "actual_diff = grouped.iloc[3][1] - grouped.iloc[3][0]"
   ]
  },
  {
   "cell_type": "code",
   "execution_count": 18,
   "id": "d97f707c",
   "metadata": {},
   "outputs": [
    {
     "data": {
      "image/png": "[encoded data removed]",
      "text/plain": [
       "<Figure size 500x400 with 1 Axes>"
      ]
     },
     "metadata": {},
     "output_type": "display_data"
    }
   ],
   "source": [
    "plt.figure(figsize = (5,4))\n",
    "\n",
    "sns.histplot(diffs, label = 'Theoretical Difference Distribution')\n",
    "plt.axvline(x = actual_diff, color = 'red', label = 'Observed Difference')\n",
    "\n",
    "plt.title('Distribution of Permuted Max Heart Rate Differences')\n",
    "plt.legend()\n",
    "plt.show()"
   ]
  },
  {
   "cell_type": "code",
   "execution_count": 19,
   "id": "7904c5f2",
   "metadata": {},
   "outputs": [
    {
     "data": {
      "text/plain": [
       "0.0"
      ]
     },
     "execution_count": 19,
     "metadata": {},
     "output_type": "execute_result"
    }
   ],
   "source": [
    "p_val = [0 if actual_diff < np.abs(diff) else 1 for diff in diffs]\n",
    "np.mean(p_val)"
   ]
  },
  {
   "cell_type": "markdown",
   "id": "1f19e060",
   "metadata": {},
   "source": [
    "### Old Peak"
   ]
  },
  {
   "cell_type": "code",
   "execution_count": 20,
   "id": "9d8fe5d3",
   "metadata": {},
   "outputs": [],
   "source": [
    "# ST depression induced by exercise relative to rest\n",
    "\n",
    "diffs = [perm_fun_mean(data, 'oldpeak', heart_dis_num) for _ in range(1000)]\n",
    "actual_diff = grouped.iloc[4][1] - grouped.iloc[4][0]"
   ]
  },
  {
   "cell_type": "code",
   "execution_count": 21,
   "id": "14b5e6b6",
   "metadata": {},
   "outputs": [
    {
     "data": {
      "image/png": "[encoded data removed]",
      "text/plain": [
       "<Figure size 500x400 with 1 Axes>"
      ]
     },
     "metadata": {},
     "output_type": "display_data"
    }
   ],
   "source": [
    "plt.figure(figsize = (5,4))\n",
    "\n",
    "sns.histplot(diffs, label = 'Theoretical Difference Distribution')\n",
    "plt.axvline(x = actual_diff, color = 'red', label = 'Observed Difference')\n",
    "\n",
    "plt.title('Distribution of Permuted Old Peak Differences')\n",
    "plt.legend()\n",
    "plt.show()"
   ]
  },
  {
   "cell_type": "code",
   "execution_count": 22,
   "id": "f6403cb2",
   "metadata": {},
   "outputs": [
    {
     "data": {
      "text/plain": [
       "0.0"
      ]
     },
     "execution_count": 22,
     "metadata": {},
     "output_type": "execute_result"
    }
   ],
   "source": [
    "p_val = [0 if actual_diff > np.abs(diff) else 1 for diff in diffs]\n",
    "np.mean(p_val)"
   ]
  },
  {
   "cell_type": "markdown",
   "id": "e26a6caa",
   "metadata": {},
   "source": [
    "### Modeling"
   ]
  },
  {
   "cell_type": "code",
   "execution_count": 23,
   "id": "071258f0",
   "metadata": {},
   "outputs": [
    {
     "data": {
      "text/html": [
       "<div>\n",
       "<style scoped>\n",
       "    .dataframe tbody tr th:only-of-type {\n",
       "        vertical-align: middle;\n",
       "    }\n",
       "\n",
       "    .dataframe tbody tr th {\n",
       "        vertical-align: top;\n",
       "    }\n",
       "\n",
       "    .dataframe thead th {\n",
       "        text-align: right;\n",
       "    }\n",
       "</style>\n",
       "<table border=\"1\" class=\"dataframe\">\n",
       "  <thead>\n",
       "    <tr style=\"text-align: right;\">\n",
       "      <th></th>\n",
       "      <th>age</th>\n",
       "      <th>sex</th>\n",
       "      <th>cp</th>\n",
       "      <th>restbps</th>\n",
       "      <th>chol</th>\n",
       "      <th>fbs</th>\n",
       "      <th>restecg</th>\n",
       "      <th>MaxHeartRate</th>\n",
       "      <th>exang</th>\n",
       "      <th>oldpeak</th>\n",
       "      <th>slope</th>\n",
       "      <th>ca</th>\n",
       "      <th>thal</th>\n",
       "      <th>condition</th>\n",
       "    </tr>\n",
       "  </thead>\n",
       "  <tbody>\n",
       "    <tr>\n",
       "      <th>0</th>\n",
       "      <td>69</td>\n",
       "      <td>1</td>\n",
       "      <td>0</td>\n",
       "      <td>160</td>\n",
       "      <td>234</td>\n",
       "      <td>1</td>\n",
       "      <td>2</td>\n",
       "      <td>131</td>\n",
       "      <td>0</td>\n",
       "      <td>0.1</td>\n",
       "      <td>1</td>\n",
       "      <td>1</td>\n",
       "      <td>0</td>\n",
       "      <td>0</td>\n",
       "    </tr>\n",
       "    <tr>\n",
       "      <th>1</th>\n",
       "      <td>69</td>\n",
       "      <td>0</td>\n",
       "      <td>0</td>\n",
       "      <td>140</td>\n",
       "      <td>239</td>\n",
       "      <td>0</td>\n",
       "      <td>0</td>\n",
       "      <td>151</td>\n",
       "      <td>0</td>\n",
       "      <td>1.8</td>\n",
       "      <td>0</td>\n",
       "      <td>2</td>\n",
       "      <td>0</td>\n",
       "      <td>0</td>\n",
       "    </tr>\n",
       "    <tr>\n",
       "      <th>2</th>\n",
       "      <td>66</td>\n",
       "      <td>0</td>\n",
       "      <td>0</td>\n",
       "      <td>150</td>\n",
       "      <td>226</td>\n",
       "      <td>0</td>\n",
       "      <td>0</td>\n",
       "      <td>114</td>\n",
       "      <td>0</td>\n",
       "      <td>2.6</td>\n",
       "      <td>2</td>\n",
       "      <td>0</td>\n",
       "      <td>0</td>\n",
       "      <td>0</td>\n",
       "    </tr>\n",
       "    <tr>\n",
       "      <th>3</th>\n",
       "      <td>65</td>\n",
       "      <td>1</td>\n",
       "      <td>0</td>\n",
       "      <td>138</td>\n",
       "      <td>282</td>\n",
       "      <td>1</td>\n",
       "      <td>2</td>\n",
       "      <td>174</td>\n",
       "      <td>0</td>\n",
       "      <td>1.4</td>\n",
       "      <td>1</td>\n",
       "      <td>1</td>\n",
       "      <td>0</td>\n",
       "      <td>1</td>\n",
       "    </tr>\n",
       "    <tr>\n",
       "      <th>4</th>\n",
       "      <td>64</td>\n",
       "      <td>1</td>\n",
       "      <td>0</td>\n",
       "      <td>110</td>\n",
       "      <td>211</td>\n",
       "      <td>0</td>\n",
       "      <td>2</td>\n",
       "      <td>144</td>\n",
       "      <td>1</td>\n",
       "      <td>1.8</td>\n",
       "      <td>1</td>\n",
       "      <td>0</td>\n",
       "      <td>0</td>\n",
       "      <td>0</td>\n",
       "    </tr>\n",
       "  </tbody>\n",
       "</table>\n",
       "</div>"
      ],
      "text/plain": [
       "   age  sex  cp  restbps  chol  fbs  restecg  MaxHeartRate  exang  oldpeak  \\\n",
       "0   69    1   0      160   234    1        2           131      0      0.1   \n",
       "1   69    0   0      140   239    0        0           151      0      1.8   \n",
       "2   66    0   0      150   226    0        0           114      0      2.6   \n",
       "3   65    1   0      138   282    1        2           174      0      1.4   \n",
       "4   64    1   0      110   211    0        2           144      1      1.8   \n",
       "\n",
       "   slope  ca  thal  condition  \n",
       "0      1   1     0          0  \n",
       "1      0   2     0          0  \n",
       "2      2   0     0          0  \n",
       "3      1   1     0          1  \n",
       "4      1   0     0          0  "
      ]
     },
     "execution_count": 23,
     "metadata": {},
     "output_type": "execute_result"
    }
   ],
   "source": [
    "data.head()"
   ]
  },
  {
   "cell_type": "markdown",
   "id": "36a87b04",
   "metadata": {},
   "source": [
    "### Random Forest Model"
   ]
  },
  {
   "cell_type": "code",
   "execution_count": 91,
   "id": "eec8ef32",
   "metadata": {},
   "outputs": [
    {
     "data": {
      "text/plain": [
       "RandomForestClassifier(max_features='sqrt', min_samples_split=10,\n",
       "                       n_estimators=500, random_state=1)"
      ]
     },
     "execution_count": 91,
     "metadata": {},
     "output_type": "execute_result"
    }
   ],
   "source": [
    "predictors = ['age', 'restbps', 'chol', 'MaxHeartRate', 'oldpeak']\n",
    "outcome = 'condition'\n",
    "\n",
    "X = data[predictors]\n",
    "y = data[outcome]\n",
    "\n",
    "X_train, X_test, y_train, y_test = train_test_split(X, y, train_size = .8, random_state = 42)\n",
    "\n",
    "rf = RandomForestClassifier(n_estimators = 500, random_state = 1, max_features = 'sqrt', min_samples_split = 10)\n",
    "rf.fit(X_train, y_train)"
   ]
  },
  {
   "cell_type": "code",
   "execution_count": 95,
   "id": "ef41ee5f",
   "metadata": {},
   "outputs": [
    {
     "name": "stdout",
     "output_type": "stream",
     "text": [
      "              precision    recall  f1-score   support\n",
      "\n",
      "           0       0.65      0.53      0.59        32\n",
      "           1       0.56      0.68      0.61        28\n",
      "\n",
      "    accuracy                           0.60        60\n",
      "   macro avg       0.61      0.60      0.60        60\n",
      "weighted avg       0.61      0.60      0.60        60\n",
      "\n"
     ]
    }
   ],
   "source": [
    "df_test = pd.merge(X_test, y_test, left_index = True, right_index = True)\n",
    "df_test['RFPrediction'] = rf.predict(df_test[predictors])\n",
    "print(classification_report(y_test, df_test['RFPrediction']))"
   ]
  },
  {
   "cell_type": "code",
   "execution_count": null,
   "id": "cee25f2d",
   "metadata": {},
   "outputs": [],
   "source": []
  }
 ],
 "metadata": {
  "kernelspec": {
   "display_name": "Python 3 (ipykernel)",
   "language": "python",
   "name": "python3"
  },
  "language_info": {
   "codemirror_mode": {
    "name": "ipython",
    "version": 3
   },
   "file_extension": ".py",
   "mimetype": "text/x-python",
   "name": "python",
   "nbconvert_exporter": "python",
   "pygments_lexer": "ipython3",
   "version": "3.9.13"
  }
 },
 "nbformat": 4,
 "nbformat_minor": 5
}
