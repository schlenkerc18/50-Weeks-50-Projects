{
 "cells": [
  {
   "cell_type": "code",
   "execution_count": 37,
   "id": "e7966b1b",
   "metadata": {},
   "outputs": [],
   "source": [
    "import numpy as np\n",
    "import pandas as pd\n",
    "import math\n",
    "\n",
    "import matplotlib.pyplot as plt\n",
    "import seaborn as sns\n",
    "\n",
    "from sklearn import preprocessing\n",
    "\n",
    "from sklearn.model_selection import train_test_split, cross_val_score, RepeatedKFold, GridSearchCV\n",
    "from sklearn.metrics import accuracy_score, precision_score, recall_score, confusion_matrix\n",
    "\n",
    "from sklearn.ensemble import RandomForestClassifier\n",
    "\n",
    "import xgboost"
   ]
  },
  {
   "cell_type": "code",
   "execution_count": 2,
   "id": "03c7cb20",
   "metadata": {},
   "outputs": [
    {
     "data": {
      "text/html": [
       "<div>\n",
       "<style scoped>\n",
       "    .dataframe tbody tr th:only-of-type {\n",
       "        vertical-align: middle;\n",
       "    }\n",
       "\n",
       "    .dataframe tbody tr th {\n",
       "        vertical-align: top;\n",
       "    }\n",
       "\n",
       "    .dataframe thead th {\n",
       "        text-align: right;\n",
       "    }\n",
       "</style>\n",
       "<table border=\"1\" class=\"dataframe\">\n",
       "  <thead>\n",
       "    <tr style=\"text-align: right;\">\n",
       "      <th></th>\n",
       "      <th>gender</th>\n",
       "      <th>age</th>\n",
       "      <th>hypertension</th>\n",
       "      <th>heart_disease</th>\n",
       "      <th>smoking_history</th>\n",
       "      <th>bmi</th>\n",
       "      <th>HbA1c_level</th>\n",
       "      <th>blood_glucose_level</th>\n",
       "      <th>diabetes</th>\n",
       "    </tr>\n",
       "  </thead>\n",
       "  <tbody>\n",
       "    <tr>\n",
       "      <th>0</th>\n",
       "      <td>Female</td>\n",
       "      <td>80.0</td>\n",
       "      <td>0</td>\n",
       "      <td>1</td>\n",
       "      <td>never</td>\n",
       "      <td>25.19</td>\n",
       "      <td>6.6</td>\n",
       "      <td>140</td>\n",
       "      <td>0</td>\n",
       "    </tr>\n",
       "    <tr>\n",
       "      <th>1</th>\n",
       "      <td>Female</td>\n",
       "      <td>54.0</td>\n",
       "      <td>0</td>\n",
       "      <td>0</td>\n",
       "      <td>No Info</td>\n",
       "      <td>27.32</td>\n",
       "      <td>6.6</td>\n",
       "      <td>80</td>\n",
       "      <td>0</td>\n",
       "    </tr>\n",
       "    <tr>\n",
       "      <th>2</th>\n",
       "      <td>Male</td>\n",
       "      <td>28.0</td>\n",
       "      <td>0</td>\n",
       "      <td>0</td>\n",
       "      <td>never</td>\n",
       "      <td>27.32</td>\n",
       "      <td>5.7</td>\n",
       "      <td>158</td>\n",
       "      <td>0</td>\n",
       "    </tr>\n",
       "    <tr>\n",
       "      <th>3</th>\n",
       "      <td>Female</td>\n",
       "      <td>36.0</td>\n",
       "      <td>0</td>\n",
       "      <td>0</td>\n",
       "      <td>current</td>\n",
       "      <td>23.45</td>\n",
       "      <td>5.0</td>\n",
       "      <td>155</td>\n",
       "      <td>0</td>\n",
       "    </tr>\n",
       "    <tr>\n",
       "      <th>4</th>\n",
       "      <td>Male</td>\n",
       "      <td>76.0</td>\n",
       "      <td>1</td>\n",
       "      <td>1</td>\n",
       "      <td>current</td>\n",
       "      <td>20.14</td>\n",
       "      <td>4.8</td>\n",
       "      <td>155</td>\n",
       "      <td>0</td>\n",
       "    </tr>\n",
       "  </tbody>\n",
       "</table>\n",
       "</div>"
      ],
      "text/plain": [
       "   gender   age  hypertension  heart_disease smoking_history    bmi  \\\n",
       "0  Female  80.0             0              1           never  25.19   \n",
       "1  Female  54.0             0              0         No Info  27.32   \n",
       "2    Male  28.0             0              0           never  27.32   \n",
       "3  Female  36.0             0              0         current  23.45   \n",
       "4    Male  76.0             1              1         current  20.14   \n",
       "\n",
       "   HbA1c_level  blood_glucose_level  diabetes  \n",
       "0          6.6                  140         0  \n",
       "1          6.6                   80         0  \n",
       "2          5.7                  158         0  \n",
       "3          5.0                  155         0  \n",
       "4          4.8                  155         0  "
      ]
     },
     "execution_count": 2,
     "metadata": {},
     "output_type": "execute_result"
    }
   ],
   "source": [
    "df = pd.read_csv('./data/diabetes_prediction_dataset.csv')\n",
    "df.head()"
   ]
  },
  {
   "cell_type": "code",
   "execution_count": 3,
   "id": "565d3630",
   "metadata": {},
   "outputs": [
    {
     "data": {
      "text/plain": [
       "No Info        35816\n",
       "never          35095\n",
       "former          9352\n",
       "current         9286\n",
       "not current     6447\n",
       "ever            4004\n",
       "Name: smoking_history, dtype: int64"
      ]
     },
     "execution_count": 3,
     "metadata": {},
     "output_type": "execute_result"
    }
   ],
   "source": [
    "df.smoking_history.value_counts()"
   ]
  },
  {
   "cell_type": "code",
   "execution_count": 4,
   "id": "6c110fe5",
   "metadata": {},
   "outputs": [
    {
     "data": {
      "text/plain": [
       "gender                 0\n",
       "age                    0\n",
       "hypertension           0\n",
       "heart_disease          0\n",
       "smoking_history        0\n",
       "bmi                    0\n",
       "HbA1c_level            0\n",
       "blood_glucose_level    0\n",
       "diabetes               0\n",
       "dtype: int64"
      ]
     },
     "execution_count": 4,
     "metadata": {},
     "output_type": "execute_result"
    }
   ],
   "source": [
    "df.isna().sum()"
   ]
  },
  {
   "cell_type": "code",
   "execution_count": 5,
   "id": "c91417cf",
   "metadata": {},
   "outputs": [
    {
     "data": {
      "text/plain": [
       "Female    58552\n",
       "Male      41430\n",
       "Other        18\n",
       "Name: gender, dtype: int64"
      ]
     },
     "execution_count": 5,
     "metadata": {},
     "output_type": "execute_result"
    }
   ],
   "source": [
    "df.gender.value_counts()"
   ]
  },
  {
   "cell_type": "code",
   "execution_count": 6,
   "id": "7bcb85b1",
   "metadata": {},
   "outputs": [
    {
     "data": {
      "text/plain": [
       "0    92515\n",
       "1     7485\n",
       "Name: hypertension, dtype: int64"
      ]
     },
     "execution_count": 6,
     "metadata": {},
     "output_type": "execute_result"
    }
   ],
   "source": [
    "df.hypertension.value_counts()"
   ]
  },
  {
   "cell_type": "code",
   "execution_count": 7,
   "id": "39db5933",
   "metadata": {},
   "outputs": [
    {
     "data": {
      "text/plain": [
       "0    96058\n",
       "1     3942\n",
       "Name: heart_disease, dtype: int64"
      ]
     },
     "execution_count": 7,
     "metadata": {},
     "output_type": "execute_result"
    }
   ],
   "source": [
    "df.heart_disease.value_counts()"
   ]
  },
  {
   "cell_type": "code",
   "execution_count": 8,
   "id": "13894397",
   "metadata": {},
   "outputs": [
    {
     "data": {
      "text/html": [
       "<div>\n",
       "<style scoped>\n",
       "    .dataframe tbody tr th:only-of-type {\n",
       "        vertical-align: middle;\n",
       "    }\n",
       "\n",
       "    .dataframe tbody tr th {\n",
       "        vertical-align: top;\n",
       "    }\n",
       "\n",
       "    .dataframe thead th {\n",
       "        text-align: right;\n",
       "    }\n",
       "</style>\n",
       "<table border=\"1\" class=\"dataframe\">\n",
       "  <thead>\n",
       "    <tr style=\"text-align: right;\">\n",
       "      <th></th>\n",
       "      <th>hypertension</th>\n",
       "      <th>heart_disease</th>\n",
       "      <th>bmi</th>\n",
       "      <th>HbA1c_level</th>\n",
       "      <th>blood_glucose_level</th>\n",
       "      <th>Count</th>\n",
       "    </tr>\n",
       "    <tr>\n",
       "      <th>diabetes</th>\n",
       "      <th></th>\n",
       "      <th></th>\n",
       "      <th></th>\n",
       "      <th></th>\n",
       "      <th></th>\n",
       "      <th></th>\n",
       "    </tr>\n",
       "  </thead>\n",
       "  <tbody>\n",
       "    <tr>\n",
       "      <th>0</th>\n",
       "      <td>0.058984</td>\n",
       "      <td>0.029235</td>\n",
       "      <td>26.887163</td>\n",
       "      <td>5.396761</td>\n",
       "      <td>132.852470</td>\n",
       "      <td>91500</td>\n",
       "    </tr>\n",
       "    <tr>\n",
       "      <th>1</th>\n",
       "      <td>0.245647</td>\n",
       "      <td>0.149059</td>\n",
       "      <td>31.988382</td>\n",
       "      <td>6.934953</td>\n",
       "      <td>194.094706</td>\n",
       "      <td>8500</td>\n",
       "    </tr>\n",
       "  </tbody>\n",
       "</table>\n",
       "</div>"
      ],
      "text/plain": [
       "          hypertension  heart_disease        bmi  HbA1c_level  \\\n",
       "diabetes                                                        \n",
       "0             0.058984       0.029235  26.887163     5.396761   \n",
       "1             0.245647       0.149059  31.988382     6.934953   \n",
       "\n",
       "          blood_glucose_level  Count  \n",
       "diabetes                              \n",
       "0                  132.852470  91500  \n",
       "1                  194.094706   8500  "
      ]
     },
     "execution_count": 8,
     "metadata": {},
     "output_type": "execute_result"
    }
   ],
   "source": [
    "group = df.groupby('diabetes').aggregate({'hypertension': np.average, 'heart_disease': np.average,\n",
    "                                  'bmi': np.average, 'HbA1c_level': np.average, \n",
    "                                  'blood_glucose_level': np.average, 'diabetes': 'count'}).rename(columns = {'diabetes': 'Count'})\n",
    "group"
   ]
  },
  {
   "cell_type": "code",
   "execution_count": 9,
   "id": "c776f263",
   "metadata": {},
   "outputs": [
    {
     "data": {
      "text/plain": [
       "<Figure size 640x480 with 0 Axes>"
      ]
     },
     "metadata": {},
     "output_type": "display_data"
    },
    {
     "data": {
      "image/png": "[encoded data removed]",
      "text/plain": [
       "<Figure size 320x400 with 1 Axes>"
      ]
     },
     "metadata": {},
     "output_type": "display_data"
    }
   ],
   "source": [
    "plt.figure()\n",
    "sns.catplot(data = df, x = 'gender', y = 'diabetes', kind = 'bar', height = 4, aspect = .8)\n",
    "plt.show()"
   ]
  },
  {
   "cell_type": "code",
   "execution_count": 10,
   "id": "200278fe",
   "metadata": {},
   "outputs": [],
   "source": [
    "predictors = []"
   ]
  },
  {
   "cell_type": "code",
   "execution_count": 11,
   "id": "3f2c07fa",
   "metadata": {},
   "outputs": [],
   "source": [
    "def perm_fun(df, len_a, col):\n",
    "    a = df[col].sample(len_a, replace = False)\n",
    "    b = df[~df.index.isin(a.index)][col]\n",
    "    \n",
    "    return a.mean() - b.mean()"
   ]
  },
  {
   "cell_type": "code",
   "execution_count": 12,
   "id": "8101bc31",
   "metadata": {},
   "outputs": [
    {
     "data": {
      "image/png": "[encoded data removed]",
      "text/plain": [
       "<Figure size 400x200 with 1 Axes>"
      ]
     },
     "metadata": {},
     "output_type": "display_data"
    },
    {
     "name": "stdout",
     "output_type": "stream",
     "text": [
      "P-Value: 0.0\n"
     ]
    }
   ],
   "source": [
    "actual_diff = group.hypertension.loc[1] - group.hypertension.loc[0]\n",
    "diffs = [perm_fun(df, group.Count.loc[1], 'hypertension') for _ in range(1000)]\n",
    "\n",
    "plt.figure(figsize = (4,2))\n",
    "sns.histplot(diffs)\n",
    "plt.axvline(actual_diff, color = 'red')\n",
    "plt.title('hypertension')\n",
    "plt.show()\n",
    "\n",
    "p_val = np.array([np.abs(diff) > np.abs(actual_diff) for diff in diffs]).mean()\n",
    "print(\"P-Value:\", p_val)\n",
    "\n",
    "if p_val <= .05:\n",
    "    predictors.append('hypertension')"
   ]
  },
  {
   "cell_type": "code",
   "execution_count": 13,
   "id": "1a369a00",
   "metadata": {},
   "outputs": [
    {
     "data": {
      "image/png": "[encoded data removed]",
      "text/plain": [
       "<Figure size 400x200 with 1 Axes>"
      ]
     },
     "metadata": {},
     "output_type": "display_data"
    },
    {
     "name": "stdout",
     "output_type": "stream",
     "text": [
      "P-Value: 0.0\n"
     ]
    }
   ],
   "source": [
    "actual_diff = group.heart_disease.loc[1] - group.heart_disease.loc[0]\n",
    "diffs = [perm_fun(df, group.Count.loc[1], 'heart_disease') for _ in range(1000)]\n",
    "\n",
    "plt.figure(figsize = (4,2))\n",
    "sns.histplot(diffs)\n",
    "plt.axvline(actual_diff, color = 'red')\n",
    "plt.title('heart_disease')\n",
    "plt.show()\n",
    "\n",
    "p_val = np.array([np.abs(diff) > np.abs(actual_diff) for diff in diffs]).mean()\n",
    "print(\"P-Value:\", p_val)\n",
    "\n",
    "if p_val <= .05:\n",
    "    predictors.append('heart_disease')"
   ]
  },
  {
   "cell_type": "code",
   "execution_count": 14,
   "id": "71077a5c",
   "metadata": {},
   "outputs": [
    {
     "data": {
      "image/png": "[encoded data removed]",
      "text/plain": [
       "<Figure size 400x200 with 1 Axes>"
      ]
     },
     "metadata": {},
     "output_type": "display_data"
    },
    {
     "name": "stdout",
     "output_type": "stream",
     "text": [
      "P-Value: 0.0\n"
     ]
    }
   ],
   "source": [
    "actual_diff = group.bmi.loc[1] - group.bmi.loc[0]\n",
    "diffs = [perm_fun(df, group.Count.loc[1], 'bmi') for _ in range(1000)]\n",
    "\n",
    "plt.figure(figsize = (4,2))\n",
    "sns.histplot(diffs)\n",
    "plt.axvline(actual_diff, color = 'red')\n",
    "plt.title('bmi')\n",
    "plt.show()\n",
    "\n",
    "p_val = np.array([np.abs(diff) > np.abs(actual_diff) for diff in diffs]).mean()\n",
    "print(\"P-Value:\", p_val)\n",
    "\n",
    "if p_val <= .05:\n",
    "    predictors.append('bmi')"
   ]
  },
  {
   "cell_type": "code",
   "execution_count": 15,
   "id": "06925a17",
   "metadata": {},
   "outputs": [
    {
     "data": {
      "image/png": "[encoded data removed]",
      "text/plain": [
       "<Figure size 400x200 with 1 Axes>"
      ]
     },
     "metadata": {},
     "output_type": "display_data"
    },
    {
     "name": "stdout",
     "output_type": "stream",
     "text": [
      "P-Value: 0.0\n"
     ]
    }
   ],
   "source": [
    "actual_diff = group.HbA1c_level.loc[1] - group.HbA1c_level.loc[0]\n",
    "diffs = [perm_fun(df, group.Count.loc[1], 'HbA1c_level') for _ in range(1000)]\n",
    "\n",
    "plt.figure(figsize = (4,2))\n",
    "sns.histplot(diffs)\n",
    "plt.axvline(actual_diff, color = 'red')\n",
    "plt.title('HbA1c_level')\n",
    "plt.show()\n",
    "\n",
    "p_val = np.array([np.abs(diff) > np.abs(actual_diff) for diff in diffs]).mean()\n",
    "print(\"P-Value:\", p_val)\n",
    "\n",
    "if p_val <= .05:\n",
    "    predictors.append('HbA1c_level')"
   ]
  },
  {
   "cell_type": "code",
   "execution_count": 16,
   "id": "dc39504b",
   "metadata": {},
   "outputs": [
    {
     "data": {
      "image/png": "[encoded data removed]",
      "text/plain": [
       "<Figure size 400x200 with 1 Axes>"
      ]
     },
     "metadata": {},
     "output_type": "display_data"
    },
    {
     "name": "stdout",
     "output_type": "stream",
     "text": [
      "P-Value: 0.0\n"
     ]
    }
   ],
   "source": [
    "actual_diff = group.blood_glucose_level.loc[1] - group.blood_glucose_level.loc[0]\n",
    "diffs = [perm_fun(df, group.Count.loc[1], 'blood_glucose_level') for _ in range(1000)]\n",
    "\n",
    "plt.figure(figsize = (4,2))\n",
    "sns.histplot(diffs)\n",
    "plt.axvline(actual_diff, color = 'red')\n",
    "plt.title('blood_glucose_level')\n",
    "plt.show()\n",
    "\n",
    "p_val = np.array([np.abs(diff) > np.abs(actual_diff) for diff in diffs]).mean()\n",
    "print(\"P-Value:\", p_val)\n",
    "\n",
    "if p_val <= .05:\n",
    "    predictors.append('blood_glucose_level')"
   ]
  },
  {
   "cell_type": "code",
   "execution_count": 17,
   "id": "1645b965",
   "metadata": {},
   "outputs": [
    {
     "data": {
      "text/plain": [
       "['hypertension', 'heart_disease', 'bmi', 'HbA1c_level', 'blood_glucose_level']"
      ]
     },
     "execution_count": 17,
     "metadata": {},
     "output_type": "execute_result"
    }
   ],
   "source": [
    "predictors"
   ]
  },
  {
   "cell_type": "markdown",
   "id": "d33e10d0",
   "metadata": {},
   "source": [
    "### Modeling with Perceptron"
   ]
  },
  {
   "cell_type": "code",
   "execution_count": 18,
   "id": "353bfd1d",
   "metadata": {},
   "outputs": [],
   "source": [
    "def sigmoid(z):\n",
    "    return 1 / (1 + np.exp(-z))"
   ]
  },
  {
   "cell_type": "code",
   "execution_count": 19,
   "id": "ab03f755",
   "metadata": {},
   "outputs": [],
   "source": [
    "def layer_sizes(x, y):\n",
    "    \"\"\"\n",
    "    arguments:\n",
    "    x -- input dataset of shape (input size, number of examples)\n",
    "    y -- labels of shape (output size, number of examples)\n",
    "    \"\"\"\n",
    "    \n",
    "    n_x = x.shape[0]\n",
    "    n_y = y.shape[0]\n",
    "    \n",
    "    return n_x, n_y"
   ]
  },
  {
   "cell_type": "code",
   "execution_count": 20,
   "id": "dfe4851a",
   "metadata": {},
   "outputs": [],
   "source": [
    "def forward_propogation(w, b, x):\n",
    "    \"\"\"\n",
    "    arguments: \n",
    "    x -> test array\n",
    "    w, b -> parameters\n",
    "    \"\"\"\n",
    "    \n",
    "    z = np.dot(x ,w) + b\n",
    "    f_wb = sigmoid(z)\n",
    "    \n",
    "    return f_wb"
   ]
  },
  {
   "cell_type": "code",
   "execution_count": 21,
   "id": "5d7cbacf",
   "metadata": {},
   "outputs": [],
   "source": [
    "def compute_cost(w, b, x, y):\n",
    "    \"\"\"\n",
    "    compute cost of algorithm\n",
    "    \"\"\"\n",
    "    m = x.shape[0]\n",
    "    total_cost = 0\n",
    "    \n",
    "    for i in range(m):\n",
    "        f_wb_i = sigmoid(np.dot(w, x[i]) + b)   \n",
    "\n",
    "        if (f_wb_i == 1 or f_wb_i == 0):\n",
    "            cost = np.abs(f_wb_i - y.iloc[i])\n",
    "        else:\n",
    "            cost = -y.iloc[i] * math.log(f_wb_i) - ((1 - y.iloc[i]) * math.log(1 - f_wb_i))\n",
    "        \n",
    "        total_cost += cost\n",
    "        \n",
    "    total_cost = total_cost / m\n",
    "    \n",
    "    return total_cost"
   ]
  },
  {
   "cell_type": "code",
   "execution_count": 22,
   "id": "f077d992",
   "metadata": {},
   "outputs": [],
   "source": [
    "def backward_propogation(w, b, x, y):\n",
    "    \"\"\"\n",
    "    calculate the gradient\n",
    "    \"\"\"\n",
    "    \n",
    "    dj_dw = np.zeros(len(w))\n",
    "    dj_db = 0\n",
    "    \n",
    "    m = x.shape[0]\n",
    "    \n",
    "    for i in range(m):\n",
    "        f_wb_i = sigmoid(np.dot(x[i], w) + b)\n",
    "        \n",
    "        for j in range(len(w)):\n",
    "            dj_dw[j] += (f_wb_i - y.iloc[i]) * x[i, j]\n",
    "        \n",
    "        dj_db += f_wb_i - y.iloc[i]\n",
    "        \n",
    "    dj_dw = dj_dw / m\n",
    "    dj_db = dj_db / m\n",
    "        \n",
    "    return dj_dw, dj_db"
   ]
  },
  {
   "cell_type": "code",
   "execution_count": 23,
   "id": "f2bc334f",
   "metadata": {},
   "outputs": [
    {
     "data": {
      "text/plain": [
       "array([0., 0., 0., 0., 0.])"
      ]
     },
     "execution_count": 23,
     "metadata": {},
     "output_type": "execute_result"
    }
   ],
   "source": [
    "dj_dw = np.zeros(5)\n",
    "dj_dw"
   ]
  },
  {
   "cell_type": "code",
   "execution_count": 24,
   "id": "18cfbb35",
   "metadata": {},
   "outputs": [
    {
     "data": {
      "text/plain": [
       "0.0"
      ]
     },
     "execution_count": 24,
     "metadata": {},
     "output_type": "execute_result"
    }
   ],
   "source": [
    "dj_dw[0]"
   ]
  },
  {
   "cell_type": "code",
   "execution_count": 25,
   "id": "03e83864",
   "metadata": {},
   "outputs": [],
   "source": [
    "def update_parameters(w, b, x, y, alpha):\n",
    "    \"\"\"\n",
    "    update parameters with gradient descent\n",
    "    \"\"\"\n",
    "    dj_dw, dj_db = backward_propogation(w, b, x, y)\n",
    "    \n",
    "    w = w - alpha * dj_dw\n",
    "    b = b - alpha * dj_db\n",
    "    \n",
    "    return w, b"
   ]
  },
  {
   "cell_type": "code",
   "execution_count": 27,
   "id": "0374dac3",
   "metadata": {},
   "outputs": [],
   "source": [
    "#initialize parameters\n",
    "\n",
    "w = np.array([.1, .1, .1, .1, .1])\n",
    "b = 4\n",
    "alpha = .1\n",
    "\n",
    "outcome = 'diabetes'\n",
    "\n",
    "X_train, X_test, y_train, y_test = train_test_split(df[predictors], df[outcome], test_size = .2)\n",
    "\n",
    "X_train, X_test = np.array(X_train), np.array(X_test)\n",
    "\n",
    "# scale X_train, X_test\n",
    "scaler = preprocessing.StandardScaler().fit(X_train)\n",
    "X_train = scaler.transform(X_train)\n",
    "\n",
    "scaler = preprocessing.StandardScaler().fit(X_test)\n",
    "X_test = scaler.transform(X_test)"
   ]
  },
  {
   "cell_type": "code",
   "execution_count": 28,
   "id": "69533cfc",
   "metadata": {},
   "outputs": [
    {
     "name": "stdout",
     "output_type": "stream",
     "text": [
      "total cost: 3.640140974351443\n",
      "total cost: 2.8246733522164407\n",
      "total cost: 2.0885717900801812\n",
      "total cost: 1.491262056535945\n",
      "total cost: 1.060596190824932\n",
      "total cost: 0.7734791834749413\n",
      "total cost: 0.5880241263961646\n",
      "total cost: 0.4684583198645025\n",
      "total cost: 0.3901439183561302\n",
      "total cost: 0.3374465656849591\n",
      "total cost: 0.30078872745986507\n"
     ]
    }
   ],
   "source": [
    "costs = [100]\n",
    "\n",
    "for i in range(101):\n",
    "    a = forward_propogation(w, b, X_train)\n",
    "    \n",
    "    cost = compute_cost(w, b, X_train, y_train)\n",
    "    \n",
    "    if cost == costs[-1]:\n",
    "        break\n",
    "    \n",
    "    dj_dw, dj_db = backward_propogation(w, b, X_train, y_train)\n",
    "    \n",
    "    w, b = update_parameters(w, b, X_train, y_train, alpha)\n",
    "    \n",
    "    if i % 10 == 0:\n",
    "        print(\"total cost:\", cost)"
   ]
  },
  {
   "cell_type": "code",
   "execution_count": 33,
   "id": "baec428a",
   "metadata": {},
   "outputs": [],
   "source": [
    "X_test_df = pd.DataFrame(X_test)\n",
    "X_test_df.columns = predictors\n",
    "y_test_df = pd.DataFrame(y_test).reset_index(drop = True)"
   ]
  },
  {
   "cell_type": "code",
   "execution_count": 34,
   "id": "56ecc2f3",
   "metadata": {
    "scrolled": false
   },
   "outputs": [
    {
     "data": {
      "text/html": [
       "<div>\n",
       "<style scoped>\n",
       "    .dataframe tbody tr th:only-of-type {\n",
       "        vertical-align: middle;\n",
       "    }\n",
       "\n",
       "    .dataframe tbody tr th {\n",
       "        vertical-align: top;\n",
       "    }\n",
       "\n",
       "    .dataframe thead th {\n",
       "        text-align: right;\n",
       "    }\n",
       "</style>\n",
       "<table border=\"1\" class=\"dataframe\">\n",
       "  <thead>\n",
       "    <tr style=\"text-align: right;\">\n",
       "      <th></th>\n",
       "      <th>hypertension</th>\n",
       "      <th>heart_disease</th>\n",
       "      <th>bmi</th>\n",
       "      <th>HbA1c_level</th>\n",
       "      <th>blood_glucose_level</th>\n",
       "      <th>LogProb</th>\n",
       "      <th>Prediction</th>\n",
       "    </tr>\n",
       "  </thead>\n",
       "  <tbody>\n",
       "    <tr>\n",
       "      <th>0</th>\n",
       "      <td>-0.288323</td>\n",
       "      <td>-0.199834</td>\n",
       "      <td>3.942772</td>\n",
       "      <td>0.437031</td>\n",
       "      <td>0.486007</td>\n",
       "      <td>0.480425</td>\n",
       "      <td>0</td>\n",
       "    </tr>\n",
       "    <tr>\n",
       "      <th>1</th>\n",
       "      <td>-0.288323</td>\n",
       "      <td>-0.199834</td>\n",
       "      <td>0.154568</td>\n",
       "      <td>1.366370</td>\n",
       "      <td>0.535153</td>\n",
       "      <td>0.400987</td>\n",
       "      <td>0</td>\n",
       "    </tr>\n",
       "    <tr>\n",
       "      <th>2</th>\n",
       "      <td>-0.288323</td>\n",
       "      <td>-0.199834</td>\n",
       "      <td>-1.218507</td>\n",
       "      <td>-1.886316</td>\n",
       "      <td>0.486007</td>\n",
       "      <td>0.108410</td>\n",
       "      <td>0</td>\n",
       "    </tr>\n",
       "    <tr>\n",
       "      <th>3</th>\n",
       "      <td>-0.288323</td>\n",
       "      <td>-0.199834</td>\n",
       "      <td>-1.632656</td>\n",
       "      <td>0.251163</td>\n",
       "      <td>-0.202038</td>\n",
       "      <td>0.170759</td>\n",
       "      <td>0</td>\n",
       "    </tr>\n",
       "    <tr>\n",
       "      <th>4</th>\n",
       "      <td>3.468330</td>\n",
       "      <td>5.004165</td>\n",
       "      <td>-0.166063</td>\n",
       "      <td>0.994634</td>\n",
       "      <td>-1.307826</td>\n",
       "      <td>0.514220</td>\n",
       "      <td>1</td>\n",
       "    </tr>\n",
       "    <tr>\n",
       "      <th>...</th>\n",
       "      <td>...</td>\n",
       "      <td>...</td>\n",
       "      <td>...</td>\n",
       "      <td>...</td>\n",
       "      <td>...</td>\n",
       "      <td>...</td>\n",
       "      <td>...</td>\n",
       "    </tr>\n",
       "    <tr>\n",
       "      <th>19995</th>\n",
       "      <td>-0.288323</td>\n",
       "      <td>-0.199834</td>\n",
       "      <td>2.554852</td>\n",
       "      <td>0.994634</td>\n",
       "      <td>0.535153</td>\n",
       "      <td>0.478004</td>\n",
       "      <td>0</td>\n",
       "    </tr>\n",
       "    <tr>\n",
       "      <th>19996</th>\n",
       "      <td>-0.288323</td>\n",
       "      <td>-0.199834</td>\n",
       "      <td>-0.019107</td>\n",
       "      <td>-0.956977</td>\n",
       "      <td>0.166557</td>\n",
       "      <td>0.165941</td>\n",
       "      <td>0</td>\n",
       "    </tr>\n",
       "    <tr>\n",
       "      <th>19997</th>\n",
       "      <td>-0.288323</td>\n",
       "      <td>-0.199834</td>\n",
       "      <td>0.322306</td>\n",
       "      <td>-0.678176</td>\n",
       "      <td>-0.939230</td>\n",
       "      <td>0.125807</td>\n",
       "      <td>0</td>\n",
       "    </tr>\n",
       "    <tr>\n",
       "      <th>19998</th>\n",
       "      <td>-0.288323</td>\n",
       "      <td>5.004165</td>\n",
       "      <td>-0.082937</td>\n",
       "      <td>0.622899</td>\n",
       "      <td>1.518076</td>\n",
       "      <td>0.634249</td>\n",
       "      <td>1</td>\n",
       "    </tr>\n",
       "    <tr>\n",
       "      <th>19999</th>\n",
       "      <td>-0.288323</td>\n",
       "      <td>-0.199834</td>\n",
       "      <td>-0.002779</td>\n",
       "      <td>-1.886316</td>\n",
       "      <td>-1.307826</td>\n",
       "      <td>0.063099</td>\n",
       "      <td>0</td>\n",
       "    </tr>\n",
       "  </tbody>\n",
       "</table>\n",
       "<p>20000 rows × 7 columns</p>\n",
       "</div>"
      ],
      "text/plain": [
       "       hypertension  heart_disease       bmi  HbA1c_level  \\\n",
       "0         -0.288323      -0.199834  3.942772     0.437031   \n",
       "1         -0.288323      -0.199834  0.154568     1.366370   \n",
       "2         -0.288323      -0.199834 -1.218507    -1.886316   \n",
       "3         -0.288323      -0.199834 -1.632656     0.251163   \n",
       "4          3.468330       5.004165 -0.166063     0.994634   \n",
       "...             ...            ...       ...          ...   \n",
       "19995     -0.288323      -0.199834  2.554852     0.994634   \n",
       "19996     -0.288323      -0.199834 -0.019107    -0.956977   \n",
       "19997     -0.288323      -0.199834  0.322306    -0.678176   \n",
       "19998     -0.288323       5.004165 -0.082937     0.622899   \n",
       "19999     -0.288323      -0.199834 -0.002779    -1.886316   \n",
       "\n",
       "       blood_glucose_level   LogProb  Prediction  \n",
       "0                 0.486007  0.480425           0  \n",
       "1                 0.535153  0.400987           0  \n",
       "2                 0.486007  0.108410           0  \n",
       "3                -0.202038  0.170759           0  \n",
       "4                -1.307826  0.514220           1  \n",
       "...                    ...       ...         ...  \n",
       "19995             0.535153  0.478004           0  \n",
       "19996             0.166557  0.165941           0  \n",
       "19997            -0.939230  0.125807           0  \n",
       "19998             1.518076  0.634249           1  \n",
       "19999            -1.307826  0.063099           0  \n",
       "\n",
       "[20000 rows x 7 columns]"
      ]
     },
     "execution_count": 34,
     "metadata": {},
     "output_type": "execute_result"
    }
   ],
   "source": [
    "X_test_df[\"LogProb\"] = X_test_df.apply(lambda x: sigmoid(np.dot(np.array(x), w) + b), axis = 1)\n",
    "X_test_df[\"Prediction\"] = (X_test_df.LogProb >= .5).replace({False: 0, True: 1})\n",
    "\n",
    "X_test_df"
   ]
  },
  {
   "cell_type": "code",
   "execution_count": 35,
   "id": "9f0672b9",
   "metadata": {},
   "outputs": [
    {
     "data": {
      "text/html": [
       "<div>\n",
       "<style scoped>\n",
       "    .dataframe tbody tr th:only-of-type {\n",
       "        vertical-align: middle;\n",
       "    }\n",
       "\n",
       "    .dataframe tbody tr th {\n",
       "        vertical-align: top;\n",
       "    }\n",
       "\n",
       "    .dataframe thead th {\n",
       "        text-align: right;\n",
       "    }\n",
       "</style>\n",
       "<table border=\"1\" class=\"dataframe\">\n",
       "  <thead>\n",
       "    <tr style=\"text-align: right;\">\n",
       "      <th></th>\n",
       "      <th>hypertension</th>\n",
       "      <th>heart_disease</th>\n",
       "      <th>bmi</th>\n",
       "      <th>HbA1c_level</th>\n",
       "      <th>blood_glucose_level</th>\n",
       "      <th>LogProb</th>\n",
       "      <th>Prediction</th>\n",
       "      <th>diabetes</th>\n",
       "    </tr>\n",
       "  </thead>\n",
       "  <tbody>\n",
       "    <tr>\n",
       "      <th>0</th>\n",
       "      <td>-0.288323</td>\n",
       "      <td>-0.199834</td>\n",
       "      <td>3.942772</td>\n",
       "      <td>0.437031</td>\n",
       "      <td>0.486007</td>\n",
       "      <td>0.480425</td>\n",
       "      <td>0</td>\n",
       "      <td>0</td>\n",
       "    </tr>\n",
       "    <tr>\n",
       "      <th>1</th>\n",
       "      <td>-0.288323</td>\n",
       "      <td>-0.199834</td>\n",
       "      <td>0.154568</td>\n",
       "      <td>1.366370</td>\n",
       "      <td>0.535153</td>\n",
       "      <td>0.400987</td>\n",
       "      <td>0</td>\n",
       "      <td>1</td>\n",
       "    </tr>\n",
       "    <tr>\n",
       "      <th>2</th>\n",
       "      <td>-0.288323</td>\n",
       "      <td>-0.199834</td>\n",
       "      <td>-1.218507</td>\n",
       "      <td>-1.886316</td>\n",
       "      <td>0.486007</td>\n",
       "      <td>0.108410</td>\n",
       "      <td>0</td>\n",
       "      <td>0</td>\n",
       "    </tr>\n",
       "    <tr>\n",
       "      <th>3</th>\n",
       "      <td>-0.288323</td>\n",
       "      <td>-0.199834</td>\n",
       "      <td>-1.632656</td>\n",
       "      <td>0.251163</td>\n",
       "      <td>-0.202038</td>\n",
       "      <td>0.170759</td>\n",
       "      <td>0</td>\n",
       "      <td>0</td>\n",
       "    </tr>\n",
       "    <tr>\n",
       "      <th>4</th>\n",
       "      <td>3.468330</td>\n",
       "      <td>5.004165</td>\n",
       "      <td>-0.166063</td>\n",
       "      <td>0.994634</td>\n",
       "      <td>-1.307826</td>\n",
       "      <td>0.514220</td>\n",
       "      <td>1</td>\n",
       "      <td>0</td>\n",
       "    </tr>\n",
       "  </tbody>\n",
       "</table>\n",
       "</div>"
      ],
      "text/plain": [
       "   hypertension  heart_disease       bmi  HbA1c_level  blood_glucose_level  \\\n",
       "0     -0.288323      -0.199834  3.942772     0.437031             0.486007   \n",
       "1     -0.288323      -0.199834  0.154568     1.366370             0.535153   \n",
       "2     -0.288323      -0.199834 -1.218507    -1.886316             0.486007   \n",
       "3     -0.288323      -0.199834 -1.632656     0.251163            -0.202038   \n",
       "4      3.468330       5.004165 -0.166063     0.994634            -1.307826   \n",
       "\n",
       "    LogProb  Prediction  diabetes  \n",
       "0  0.480425           0         0  \n",
       "1  0.400987           0         1  \n",
       "2  0.108410           0         0  \n",
       "3  0.170759           0         0  \n",
       "4  0.514220           1         0  "
      ]
     },
     "execution_count": 35,
     "metadata": {},
     "output_type": "execute_result"
    }
   ],
   "source": [
    "test_df = pd.merge(X_test_df, y_test_df, left_index = True, right_index = True)\n",
    "test_df.head()"
   ]
  },
  {
   "cell_type": "code",
   "execution_count": 36,
   "id": "cfa4c491",
   "metadata": {
    "scrolled": true
   },
   "outputs": [
    {
     "name": "stdout",
     "output_type": "stream",
     "text": [
      "accuracy score: 0.95175\n",
      "precision score: 0.771865889212828\n",
      "recall score: 0.6189362945645821\n"
     ]
    }
   ],
   "source": [
    "print(\"accuracy score:\", accuracy_score(test_df.diabetes, test_df.Prediction))\n",
    "print(\"precision score:\", precision_score(test_df.diabetes, test_df.Prediction))\n",
    "print(\"recall score:\", recall_score(test_df.diabetes, test_df.Prediction))"
   ]
  },
  {
   "cell_type": "code",
   "execution_count": 38,
   "id": "09a4d54e",
   "metadata": {},
   "outputs": [
    {
     "name": "stdout",
     "output_type": "stream",
     "text": [
      "['hypertension', 'heart_disease', 'bmi', 'HbA1c_level', 'blood_glucose_level']\n"
     ]
    }
   ],
   "source": [
    "print(predictors)"
   ]
  },
  {
   "cell_type": "markdown",
   "id": "9449f9f8",
   "metadata": {},
   "source": [
    "### Random Forest Model"
   ]
  },
  {
   "cell_type": "code",
   "execution_count": 52,
   "id": "d52e2ccc",
   "metadata": {},
   "outputs": [
    {
     "data": {
      "text/plain": [
       "RandomForestClassifier(max_depth=4, min_samples_split=30, n_estimators=300)"
      ]
     },
     "execution_count": 52,
     "metadata": {},
     "output_type": "execute_result"
    }
   ],
   "source": [
    "outcome = 'diabetes'\n",
    "\n",
    "X_train, X_test, y_train, y_test = train_test_split(df[predictors], df[outcome], test_size = .2)\n",
    "\n",
    "rf = RandomForestClassifier(n_estimators = 300, min_samples_split = 30, max_depth = 4)\n",
    "rf.fit(X_train, y_train)"
   ]
  },
  {
   "cell_type": "code",
   "execution_count": 53,
   "id": "82c15866",
   "metadata": {},
   "outputs": [
    {
     "data": {
      "text/html": [
       "<div>\n",
       "<style scoped>\n",
       "    .dataframe tbody tr th:only-of-type {\n",
       "        vertical-align: middle;\n",
       "    }\n",
       "\n",
       "    .dataframe tbody tr th {\n",
       "        vertical-align: top;\n",
       "    }\n",
       "\n",
       "    .dataframe thead th {\n",
       "        text-align: right;\n",
       "    }\n",
       "</style>\n",
       "<table border=\"1\" class=\"dataframe\">\n",
       "  <thead>\n",
       "    <tr style=\"text-align: right;\">\n",
       "      <th></th>\n",
       "      <th>hypertension</th>\n",
       "      <th>heart_disease</th>\n",
       "      <th>bmi</th>\n",
       "      <th>HbA1c_level</th>\n",
       "      <th>blood_glucose_level</th>\n",
       "      <th>diabetes</th>\n",
       "    </tr>\n",
       "  </thead>\n",
       "  <tbody>\n",
       "    <tr>\n",
       "      <th>17677</th>\n",
       "      <td>0</td>\n",
       "      <td>0</td>\n",
       "      <td>14.63</td>\n",
       "      <td>6.2</td>\n",
       "      <td>159</td>\n",
       "      <td>0</td>\n",
       "    </tr>\n",
       "    <tr>\n",
       "      <th>47133</th>\n",
       "      <td>0</td>\n",
       "      <td>0</td>\n",
       "      <td>25.61</td>\n",
       "      <td>4.0</td>\n",
       "      <td>159</td>\n",
       "      <td>0</td>\n",
       "    </tr>\n",
       "    <tr>\n",
       "      <th>4840</th>\n",
       "      <td>0</td>\n",
       "      <td>0</td>\n",
       "      <td>30.22</td>\n",
       "      <td>6.2</td>\n",
       "      <td>130</td>\n",
       "      <td>1</td>\n",
       "    </tr>\n",
       "    <tr>\n",
       "      <th>65050</th>\n",
       "      <td>0</td>\n",
       "      <td>0</td>\n",
       "      <td>22.96</td>\n",
       "      <td>6.1</td>\n",
       "      <td>159</td>\n",
       "      <td>0</td>\n",
       "    </tr>\n",
       "    <tr>\n",
       "      <th>72548</th>\n",
       "      <td>0</td>\n",
       "      <td>0</td>\n",
       "      <td>32.81</td>\n",
       "      <td>4.0</td>\n",
       "      <td>158</td>\n",
       "      <td>0</td>\n",
       "    </tr>\n",
       "  </tbody>\n",
       "</table>\n",
       "</div>"
      ],
      "text/plain": [
       "       hypertension  heart_disease    bmi  HbA1c_level  blood_glucose_level  \\\n",
       "17677             0              0  14.63          6.2                  159   \n",
       "47133             0              0  25.61          4.0                  159   \n",
       "4840              0              0  30.22          6.2                  130   \n",
       "65050             0              0  22.96          6.1                  159   \n",
       "72548             0              0  32.81          4.0                  158   \n",
       "\n",
       "       diabetes  \n",
       "17677         0  \n",
       "47133         0  \n",
       "4840          1  \n",
       "65050         0  \n",
       "72548         0  "
      ]
     },
     "execution_count": 53,
     "metadata": {},
     "output_type": "execute_result"
    }
   ],
   "source": [
    "df_test = pd.merge(X_test, y_test, left_index = True, right_index = True)\n",
    "df_test.head()"
   ]
  },
  {
   "cell_type": "code",
   "execution_count": 56,
   "id": "fc9cfaea",
   "metadata": {},
   "outputs": [
    {
     "data": {
      "text/html": [
       "<div>\n",
       "<style scoped>\n",
       "    .dataframe tbody tr th:only-of-type {\n",
       "        vertical-align: middle;\n",
       "    }\n",
       "\n",
       "    .dataframe tbody tr th {\n",
       "        vertical-align: top;\n",
       "    }\n",
       "\n",
       "    .dataframe thead th {\n",
       "        text-align: right;\n",
       "    }\n",
       "</style>\n",
       "<table border=\"1\" class=\"dataframe\">\n",
       "  <thead>\n",
       "    <tr style=\"text-align: right;\">\n",
       "      <th></th>\n",
       "      <th>hypertension</th>\n",
       "      <th>heart_disease</th>\n",
       "      <th>bmi</th>\n",
       "      <th>HbA1c_level</th>\n",
       "      <th>blood_glucose_level</th>\n",
       "      <th>diabetes</th>\n",
       "      <th>Prediction</th>\n",
       "      <th>RFProb</th>\n",
       "    </tr>\n",
       "  </thead>\n",
       "  <tbody>\n",
       "    <tr>\n",
       "      <th>17677</th>\n",
       "      <td>0</td>\n",
       "      <td>0</td>\n",
       "      <td>14.63</td>\n",
       "      <td>6.2</td>\n",
       "      <td>159</td>\n",
       "      <td>0</td>\n",
       "      <td>0</td>\n",
       "      <td>0.032871</td>\n",
       "    </tr>\n",
       "    <tr>\n",
       "      <th>47133</th>\n",
       "      <td>0</td>\n",
       "      <td>0</td>\n",
       "      <td>25.61</td>\n",
       "      <td>4.0</td>\n",
       "      <td>159</td>\n",
       "      <td>0</td>\n",
       "      <td>0</td>\n",
       "      <td>0.012634</td>\n",
       "    </tr>\n",
       "    <tr>\n",
       "      <th>4840</th>\n",
       "      <td>0</td>\n",
       "      <td>0</td>\n",
       "      <td>30.22</td>\n",
       "      <td>6.2</td>\n",
       "      <td>130</td>\n",
       "      <td>1</td>\n",
       "      <td>0</td>\n",
       "      <td>0.050790</td>\n",
       "    </tr>\n",
       "    <tr>\n",
       "      <th>65050</th>\n",
       "      <td>0</td>\n",
       "      <td>0</td>\n",
       "      <td>22.96</td>\n",
       "      <td>6.1</td>\n",
       "      <td>159</td>\n",
       "      <td>0</td>\n",
       "      <td>0</td>\n",
       "      <td>0.032898</td>\n",
       "    </tr>\n",
       "    <tr>\n",
       "      <th>72548</th>\n",
       "      <td>0</td>\n",
       "      <td>0</td>\n",
       "      <td>32.81</td>\n",
       "      <td>4.0</td>\n",
       "      <td>158</td>\n",
       "      <td>0</td>\n",
       "      <td>0</td>\n",
       "      <td>0.034062</td>\n",
       "    </tr>\n",
       "  </tbody>\n",
       "</table>\n",
       "</div>"
      ],
      "text/plain": [
       "       hypertension  heart_disease    bmi  HbA1c_level  blood_glucose_level  \\\n",
       "17677             0              0  14.63          6.2                  159   \n",
       "47133             0              0  25.61          4.0                  159   \n",
       "4840              0              0  30.22          6.2                  130   \n",
       "65050             0              0  22.96          6.1                  159   \n",
       "72548             0              0  32.81          4.0                  158   \n",
       "\n",
       "       diabetes  Prediction    RFProb  \n",
       "17677         0           0  0.032871  \n",
       "47133         0           0  0.012634  \n",
       "4840          1           0  0.050790  \n",
       "65050         0           0  0.032898  \n",
       "72548         0           0  0.034062  "
      ]
     },
     "execution_count": 56,
     "metadata": {},
     "output_type": "execute_result"
    }
   ],
   "source": [
    "df_test[\"Prediction\"] = rf.predict(df_test[predictors])\n",
    "df_test[\"RFProb\"] = rf.predict_proba(df_test[predictors])[:, 1]\n",
    "df_test.head()"
   ]
  },
  {
   "cell_type": "code",
   "execution_count": 55,
   "id": "e940e70b",
   "metadata": {
    "scrolled": true
   },
   "outputs": [
    {
     "name": "stdout",
     "output_type": "stream",
     "text": [
      "accuracy score: 0.97145\n",
      "precision score: 1.0\n",
      "recall score: 0.672027570361861\n"
     ]
    }
   ],
   "source": [
    "print(\"accuracy score:\", accuracy_score(df_test.diabetes, df_test.Prediction))\n",
    "print(\"precision score:\", precision_score(df_test.diabetes, df_test.Prediction))\n",
    "print(\"recall score:\", recall_score(df_test.diabetes, df_test.Prediction))"
   ]
  },
  {
   "cell_type": "markdown",
   "id": "6d9618c6",
   "metadata": {},
   "source": [
    "### Testing for Overfit"
   ]
  },
  {
   "cell_type": "code",
   "execution_count": 77,
   "id": "a6c82dd3",
   "metadata": {},
   "outputs": [
    {
     "data": {
      "text/html": [
       "<div>\n",
       "<style scoped>\n",
       "    .dataframe tbody tr th:only-of-type {\n",
       "        vertical-align: middle;\n",
       "    }\n",
       "\n",
       "    .dataframe tbody tr th {\n",
       "        vertical-align: top;\n",
       "    }\n",
       "\n",
       "    .dataframe thead th {\n",
       "        text-align: right;\n",
       "    }\n",
       "</style>\n",
       "<table border=\"1\" class=\"dataframe\">\n",
       "  <thead>\n",
       "    <tr style=\"text-align: right;\">\n",
       "      <th></th>\n",
       "      <th>hypertension</th>\n",
       "      <th>heart_disease</th>\n",
       "      <th>bmi</th>\n",
       "      <th>HbA1c_level</th>\n",
       "      <th>blood_glucose_level</th>\n",
       "      <th>diabetes</th>\n",
       "    </tr>\n",
       "  </thead>\n",
       "  <tbody>\n",
       "    <tr>\n",
       "      <th>47002</th>\n",
       "      <td>0</td>\n",
       "      <td>0</td>\n",
       "      <td>27.32</td>\n",
       "      <td>9.0</td>\n",
       "      <td>159</td>\n",
       "      <td>1</td>\n",
       "    </tr>\n",
       "    <tr>\n",
       "      <th>49958</th>\n",
       "      <td>0</td>\n",
       "      <td>0</td>\n",
       "      <td>16.50</td>\n",
       "      <td>5.0</td>\n",
       "      <td>155</td>\n",
       "      <td>0</td>\n",
       "    </tr>\n",
       "    <tr>\n",
       "      <th>78381</th>\n",
       "      <td>1</td>\n",
       "      <td>0</td>\n",
       "      <td>27.80</td>\n",
       "      <td>3.5</td>\n",
       "      <td>160</td>\n",
       "      <td>0</td>\n",
       "    </tr>\n",
       "    <tr>\n",
       "      <th>19037</th>\n",
       "      <td>0</td>\n",
       "      <td>0</td>\n",
       "      <td>42.57</td>\n",
       "      <td>5.7</td>\n",
       "      <td>200</td>\n",
       "      <td>0</td>\n",
       "    </tr>\n",
       "    <tr>\n",
       "      <th>10002</th>\n",
       "      <td>0</td>\n",
       "      <td>0</td>\n",
       "      <td>42.27</td>\n",
       "      <td>6.6</td>\n",
       "      <td>90</td>\n",
       "      <td>0</td>\n",
       "    </tr>\n",
       "  </tbody>\n",
       "</table>\n",
       "</div>"
      ],
      "text/plain": [
       "       hypertension  heart_disease    bmi  HbA1c_level  blood_glucose_level  \\\n",
       "47002             0              0  27.32          9.0                  159   \n",
       "49958             0              0  16.50          5.0                  155   \n",
       "78381             1              0  27.80          3.5                  160   \n",
       "19037             0              0  42.57          5.7                  200   \n",
       "10002             0              0  42.27          6.6                   90   \n",
       "\n",
       "       diabetes  \n",
       "47002         1  \n",
       "49958         0  \n",
       "78381         0  \n",
       "19037         0  \n",
       "10002         0  "
      ]
     },
     "execution_count": 77,
     "metadata": {},
     "output_type": "execute_result"
    }
   ],
   "source": [
    "df_train = pd.merge(X_train, y_train, left_index = True, right_index = True)\n",
    "df_train.head()"
   ]
  },
  {
   "cell_type": "code",
   "execution_count": 79,
   "id": "a7f3a203",
   "metadata": {},
   "outputs": [
    {
     "data": {
      "text/html": [
       "<div>\n",
       "<style scoped>\n",
       "    .dataframe tbody tr th:only-of-type {\n",
       "        vertical-align: middle;\n",
       "    }\n",
       "\n",
       "    .dataframe tbody tr th {\n",
       "        vertical-align: top;\n",
       "    }\n",
       "\n",
       "    .dataframe thead th {\n",
       "        text-align: right;\n",
       "    }\n",
       "</style>\n",
       "<table border=\"1\" class=\"dataframe\">\n",
       "  <thead>\n",
       "    <tr style=\"text-align: right;\">\n",
       "      <th></th>\n",
       "      <th>hypertension</th>\n",
       "      <th>heart_disease</th>\n",
       "      <th>bmi</th>\n",
       "      <th>HbA1c_level</th>\n",
       "      <th>blood_glucose_level</th>\n",
       "      <th>diabetes</th>\n",
       "      <th>Prediction</th>\n",
       "      <th>RFProb</th>\n",
       "    </tr>\n",
       "  </thead>\n",
       "  <tbody>\n",
       "    <tr>\n",
       "      <th>47002</th>\n",
       "      <td>0</td>\n",
       "      <td>0</td>\n",
       "      <td>27.32</td>\n",
       "      <td>9.0</td>\n",
       "      <td>159</td>\n",
       "      <td>1</td>\n",
       "      <td>1</td>\n",
       "      <td>0.887781</td>\n",
       "    </tr>\n",
       "    <tr>\n",
       "      <th>49958</th>\n",
       "      <td>0</td>\n",
       "      <td>0</td>\n",
       "      <td>16.50</td>\n",
       "      <td>5.0</td>\n",
       "      <td>155</td>\n",
       "      <td>0</td>\n",
       "      <td>0</td>\n",
       "      <td>0.011694</td>\n",
       "    </tr>\n",
       "    <tr>\n",
       "      <th>78381</th>\n",
       "      <td>1</td>\n",
       "      <td>0</td>\n",
       "      <td>27.80</td>\n",
       "      <td>3.5</td>\n",
       "      <td>160</td>\n",
       "      <td>0</td>\n",
       "      <td>0</td>\n",
       "      <td>0.057051</td>\n",
       "    </tr>\n",
       "    <tr>\n",
       "      <th>19037</th>\n",
       "      <td>0</td>\n",
       "      <td>0</td>\n",
       "      <td>42.57</td>\n",
       "      <td>5.7</td>\n",
       "      <td>200</td>\n",
       "      <td>0</td>\n",
       "      <td>0</td>\n",
       "      <td>0.080277</td>\n",
       "    </tr>\n",
       "    <tr>\n",
       "      <th>10002</th>\n",
       "      <td>0</td>\n",
       "      <td>0</td>\n",
       "      <td>42.27</td>\n",
       "      <td>6.6</td>\n",
       "      <td>90</td>\n",
       "      <td>0</td>\n",
       "      <td>0</td>\n",
       "      <td>0.061606</td>\n",
       "    </tr>\n",
       "  </tbody>\n",
       "</table>\n",
       "</div>"
      ],
      "text/plain": [
       "       hypertension  heart_disease    bmi  HbA1c_level  blood_glucose_level  \\\n",
       "47002             0              0  27.32          9.0                  159   \n",
       "49958             0              0  16.50          5.0                  155   \n",
       "78381             1              0  27.80          3.5                  160   \n",
       "19037             0              0  42.57          5.7                  200   \n",
       "10002             0              0  42.27          6.6                   90   \n",
       "\n",
       "       diabetes  Prediction    RFProb  \n",
       "47002         1           1  0.887781  \n",
       "49958         0           0  0.011694  \n",
       "78381         0           0  0.057051  \n",
       "19037         0           0  0.080277  \n",
       "10002         0           0  0.061606  "
      ]
     },
     "execution_count": 79,
     "metadata": {},
     "output_type": "execute_result"
    }
   ],
   "source": [
    "df_train[\"Prediction\"] = rf.predict(df_train[predictors])\n",
    "df_train[\"RFProb\"] = rf.predict_proba(df_train[predictors])[:, 1]\n",
    "df_train.head()"
   ]
  },
  {
   "cell_type": "code",
   "execution_count": 80,
   "id": "cd439e2b",
   "metadata": {},
   "outputs": [
    {
     "name": "stdout",
     "output_type": "stream",
     "text": [
      "accuracy score: 0.971975\n",
      "precision score: 1.0\n",
      "recall score: 0.6682941263500518\n"
     ]
    }
   ],
   "source": [
    "print(\"accuracy score:\", accuracy_score(df_train.diabetes, df_train.Prediction))\n",
    "print(\"precision score:\", precision_score(df_train.diabetes, df_train.Prediction))\n",
    "print(\"recall score:\", recall_score(df_train.diabetes, df_train.Prediction))"
   ]
  }
 ],
 "metadata": {
  "kernelspec": {
   "display_name": "Python 3 (ipykernel)",
   "language": "python",
   "name": "python3"
  },
  "language_info": {
   "codemirror_mode": {
    "name": "ipython",
    "version": 3
   },
   "file_extension": ".py",
   "mimetype": "text/x-python",
   "name": "python",
   "nbconvert_exporter": "python",
   "pygments_lexer": "ipython3",
   "version": "3.9.13"
  }
 },
 "nbformat": 4,
 "nbformat_minor": 5
}
