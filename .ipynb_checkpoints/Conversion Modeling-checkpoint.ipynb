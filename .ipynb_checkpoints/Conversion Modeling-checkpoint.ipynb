{
 "cells": [
  {
   "cell_type": "code",
   "execution_count": 128,
   "id": "4d467c4c",
   "metadata": {},
   "outputs": [],
   "source": [
    "import numpy as np\n",
    "import pandas as pd\n",
    "\n",
    "import matplotlib.pyplot as plt\n",
    "import seaborn as sns\n",
    "\n",
    "from sklearn.model_selection import train_test_split, cross_val_score, RepeatedKFold, GridSearchCV\n",
    "from sklearn.metrics import accuracy_score, precision_score, recall_score, confusion_matrix\n",
    "\n",
    "from sklearn.ensemble import RandomForestRegressor\n",
    "\n",
    "import xgboost"
   ]
  },
  {
   "cell_type": "code",
   "execution_count": 17,
   "id": "ed3ee2d5",
   "metadata": {},
   "outputs": [
    {
     "data": {
      "text/html": [
       "<div>\n",
       "<style scoped>\n",
       "    .dataframe tbody tr th:only-of-type {\n",
       "        vertical-align: middle;\n",
       "    }\n",
       "\n",
       "    .dataframe tbody tr th {\n",
       "        vertical-align: top;\n",
       "    }\n",
       "\n",
       "    .dataframe thead th {\n",
       "        text-align: right;\n",
       "    }\n",
       "</style>\n",
       "<table border=\"1\" class=\"dataframe\">\n",
       "  <thead>\n",
       "    <tr style=\"text-align: right;\">\n",
       "      <th></th>\n",
       "      <th>ad_id</th>\n",
       "      <th>xyz_campaign_id</th>\n",
       "      <th>fb_campaign_id</th>\n",
       "      <th>age</th>\n",
       "      <th>gender</th>\n",
       "      <th>interest</th>\n",
       "      <th>Impressions</th>\n",
       "      <th>Clicks</th>\n",
       "      <th>Spent</th>\n",
       "      <th>Total_Conversion</th>\n",
       "      <th>Approved_Conversion</th>\n",
       "      <th>Converted_1+</th>\n",
       "    </tr>\n",
       "  </thead>\n",
       "  <tbody>\n",
       "    <tr>\n",
       "      <th>0</th>\n",
       "      <td>708746</td>\n",
       "      <td>916</td>\n",
       "      <td>103916</td>\n",
       "      <td>30-34</td>\n",
       "      <td>M</td>\n",
       "      <td>15</td>\n",
       "      <td>7350</td>\n",
       "      <td>1</td>\n",
       "      <td>1.43</td>\n",
       "      <td>2</td>\n",
       "      <td>1</td>\n",
       "      <td>1</td>\n",
       "    </tr>\n",
       "    <tr>\n",
       "      <th>1</th>\n",
       "      <td>708749</td>\n",
       "      <td>916</td>\n",
       "      <td>103917</td>\n",
       "      <td>30-34</td>\n",
       "      <td>M</td>\n",
       "      <td>16</td>\n",
       "      <td>17861</td>\n",
       "      <td>2</td>\n",
       "      <td>1.82</td>\n",
       "      <td>2</td>\n",
       "      <td>0</td>\n",
       "      <td>0</td>\n",
       "    </tr>\n",
       "    <tr>\n",
       "      <th>2</th>\n",
       "      <td>708771</td>\n",
       "      <td>916</td>\n",
       "      <td>103920</td>\n",
       "      <td>30-34</td>\n",
       "      <td>M</td>\n",
       "      <td>20</td>\n",
       "      <td>693</td>\n",
       "      <td>0</td>\n",
       "      <td>0.00</td>\n",
       "      <td>1</td>\n",
       "      <td>0</td>\n",
       "      <td>0</td>\n",
       "    </tr>\n",
       "    <tr>\n",
       "      <th>3</th>\n",
       "      <td>708815</td>\n",
       "      <td>916</td>\n",
       "      <td>103928</td>\n",
       "      <td>30-34</td>\n",
       "      <td>M</td>\n",
       "      <td>28</td>\n",
       "      <td>4259</td>\n",
       "      <td>1</td>\n",
       "      <td>1.25</td>\n",
       "      <td>1</td>\n",
       "      <td>0</td>\n",
       "      <td>0</td>\n",
       "    </tr>\n",
       "    <tr>\n",
       "      <th>4</th>\n",
       "      <td>708818</td>\n",
       "      <td>916</td>\n",
       "      <td>103928</td>\n",
       "      <td>30-34</td>\n",
       "      <td>M</td>\n",
       "      <td>28</td>\n",
       "      <td>4133</td>\n",
       "      <td>1</td>\n",
       "      <td>1.29</td>\n",
       "      <td>1</td>\n",
       "      <td>1</td>\n",
       "      <td>1</td>\n",
       "    </tr>\n",
       "  </tbody>\n",
       "</table>\n",
       "</div>"
      ],
      "text/plain": [
       "    ad_id  xyz_campaign_id  fb_campaign_id    age gender  interest  \\\n",
       "0  708746              916          103916  30-34      M        15   \n",
       "1  708749              916          103917  30-34      M        16   \n",
       "2  708771              916          103920  30-34      M        20   \n",
       "3  708815              916          103928  30-34      M        28   \n",
       "4  708818              916          103928  30-34      M        28   \n",
       "\n",
       "   Impressions  Clicks  Spent  Total_Conversion  Approved_Conversion  \\\n",
       "0         7350       1   1.43                 2                    1   \n",
       "1        17861       2   1.82                 2                    0   \n",
       "2          693       0   0.00                 1                    0   \n",
       "3         4259       1   1.25                 1                    0   \n",
       "4         4133       1   1.29                 1                    1   \n",
       "\n",
       "   Converted_1+  \n",
       "0             1  \n",
       "1             0  \n",
       "2             0  \n",
       "3             0  \n",
       "4             1  "
      ]
     },
     "execution_count": 17,
     "metadata": {},
     "output_type": "execute_result"
    }
   ],
   "source": [
    "df = pd.read_csv('./data/KAG_conversion_data.csv')\n",
    "df['Converted_1+'] = (df.Approved_Conversion > 0).replace({True: 1, False: 0})\n",
    "df.head()"
   ]
  },
  {
   "cell_type": "code",
   "execution_count": 19,
   "id": "dd03f2f9",
   "metadata": {},
   "outputs": [
    {
     "data": {
      "text/plain": [
       "ad_id                  0\n",
       "xyz_campaign_id        0\n",
       "fb_campaign_id         0\n",
       "age                    0\n",
       "gender                 0\n",
       "interest               0\n",
       "Impressions            0\n",
       "Clicks                 0\n",
       "Spent                  0\n",
       "Total_Conversion       0\n",
       "Approved_Conversion    0\n",
       "Converted_1+           0\n",
       "dtype: int64"
      ]
     },
     "execution_count": 19,
     "metadata": {},
     "output_type": "execute_result"
    }
   ],
   "source": [
    "df.isna().sum()"
   ]
  },
  {
   "cell_type": "code",
   "execution_count": 32,
   "id": "6c45744a",
   "metadata": {},
   "outputs": [
    {
     "data": {
      "text/html": [
       "<div>\n",
       "<style scoped>\n",
       "    .dataframe tbody tr th:only-of-type {\n",
       "        vertical-align: middle;\n",
       "    }\n",
       "\n",
       "    .dataframe tbody tr th {\n",
       "        vertical-align: top;\n",
       "    }\n",
       "\n",
       "    .dataframe thead th {\n",
       "        text-align: right;\n",
       "    }\n",
       "</style>\n",
       "<table border=\"1\" class=\"dataframe\">\n",
       "  <thead>\n",
       "    <tr style=\"text-align: right;\">\n",
       "      <th></th>\n",
       "      <th>interest</th>\n",
       "      <th>Clicks</th>\n",
       "      <th>Spent</th>\n",
       "      <th>Impressions</th>\n",
       "      <th>Total_Conversion</th>\n",
       "      <th>Count</th>\n",
       "    </tr>\n",
       "    <tr>\n",
       "      <th>Converted_1+</th>\n",
       "      <th></th>\n",
       "      <th></th>\n",
       "      <th></th>\n",
       "      <th></th>\n",
       "      <th></th>\n",
       "      <th></th>\n",
       "    </tr>\n",
       "  </thead>\n",
       "  <tbody>\n",
       "    <tr>\n",
       "      <th>0</th>\n",
       "      <td>30.740608</td>\n",
       "      <td>17.588551</td>\n",
       "      <td>26.394311</td>\n",
       "      <td>88276.987478</td>\n",
       "      <td>1.375671</td>\n",
       "      <td>559</td>\n",
       "    </tr>\n",
       "    <tr>\n",
       "      <th>1</th>\n",
       "      <td>34.705479</td>\n",
       "      <td>48.515411</td>\n",
       "      <td>75.258236</td>\n",
       "      <td>280972.589041</td>\n",
       "      <td>4.272260</td>\n",
       "      <td>584</td>\n",
       "    </tr>\n",
       "  </tbody>\n",
       "</table>\n",
       "</div>"
      ],
      "text/plain": [
       "               interest     Clicks      Spent    Impressions  \\\n",
       "Converted_1+                                                   \n",
       "0             30.740608  17.588551  26.394311   88276.987478   \n",
       "1             34.705479  48.515411  75.258236  280972.589041   \n",
       "\n",
       "              Total_Conversion  Count  \n",
       "Converted_1+                           \n",
       "0                     1.375671    559  \n",
       "1                     4.272260    584  "
      ]
     },
     "execution_count": 32,
     "metadata": {},
     "output_type": "execute_result"
    }
   ],
   "source": [
    "group = df.groupby('Converted_1+').aggregate({'interest': np.average, 'Clicks': np.average, \n",
    "                                      'Spent': np.average, 'Impressions': np.average,\n",
    "                                      'Total_Conversion': np.average, 'ad_id': 'count'}).rename(columns = {'ad_id': 'Count'})\n",
    "group"
   ]
  },
  {
   "cell_type": "code",
   "execution_count": 43,
   "id": "6ba5b261",
   "metadata": {},
   "outputs": [],
   "source": [
    "predictors = []"
   ]
  },
  {
   "cell_type": "markdown",
   "id": "a9b39243",
   "metadata": {},
   "source": [
    "### Perm Tests"
   ]
  },
  {
   "cell_type": "code",
   "execution_count": 44,
   "id": "26f94c26",
   "metadata": {},
   "outputs": [],
   "source": [
    "def perm_fun(df, len_a, col):\n",
    "    a = df[col].sample(len_a, replace = False)\n",
    "    b = df[~df.index.isin(a.index)][col]\n",
    "    \n",
    "    return a.mean() - b.mean()"
   ]
  },
  {
   "cell_type": "code",
   "execution_count": 45,
   "id": "27c4069c",
   "metadata": {},
   "outputs": [
    {
     "data": {
      "text/plain": [
       "34.705479452054796"
      ]
     },
     "execution_count": 45,
     "metadata": {},
     "output_type": "execute_result"
    }
   ],
   "source": [
    "group.interest.loc[1]"
   ]
  },
  {
   "cell_type": "code",
   "execution_count": 46,
   "id": "fa9d6892",
   "metadata": {},
   "outputs": [
    {
     "data": {
      "image/png": "[encoded data removed]",
      "text/plain": [
       "<Figure size 400x200 with 1 Axes>"
      ]
     },
     "metadata": {},
     "output_type": "display_data"
    },
    {
     "name": "stdout",
     "output_type": "stream",
     "text": [
      "P-Value: 0.014\n"
     ]
    }
   ],
   "source": [
    "actual_diff = group.interest.loc[1] - group.interest.loc[0]\n",
    "diffs = [perm_fun(df, group.Count.loc[1], 'interest') for _ in range(1000)]\n",
    "\n",
    "plt.figure(figsize = (4,2))\n",
    "sns.histplot(diffs)\n",
    "plt.axvline(actual_diff, color = 'red')\n",
    "plt.title('Interest')\n",
    "plt.show()\n",
    "\n",
    "p_val = np.array([np.abs(diff) > np.abs(actual_diff) for diff in diffs]).mean()\n",
    "print(\"P-Value:\", p_val)\n",
    "\n",
    "if p_val <= .05:\n",
    "    predictors.append('interest')"
   ]
  },
  {
   "cell_type": "code",
   "execution_count": 47,
   "id": "cbab5b00",
   "metadata": {},
   "outputs": [
    {
     "data": {
      "image/png": "[encoded data removed]",
      "text/plain": [
       "<Figure size 400x200 with 1 Axes>"
      ]
     },
     "metadata": {},
     "output_type": "display_data"
    },
    {
     "name": "stdout",
     "output_type": "stream",
     "text": [
      "P-Value: 0.0\n"
     ]
    }
   ],
   "source": [
    "actual_diff = group.Clicks.loc[1] - group.Clicks.loc[0]\n",
    "diffs = [perm_fun(df, group.Count.loc[1], 'Clicks') for _ in range(1000)]\n",
    "\n",
    "plt.figure(figsize = (4,2))\n",
    "sns.histplot(diffs)\n",
    "plt.axvline(actual_diff, color = 'red')\n",
    "plt.title('Clicks')\n",
    "plt.show()\n",
    "\n",
    "p_val = np.array([np.abs(diff) > np.abs(actual_diff) for diff in diffs]).mean()\n",
    "print(\"P-Value:\", p_val)\n",
    "\n",
    "if p_val <= .05:\n",
    "    predictors.append('Clicks')"
   ]
  },
  {
   "cell_type": "code",
   "execution_count": 48,
   "id": "dcd3a59e",
   "metadata": {},
   "outputs": [
    {
     "data": {
      "image/png": "[encoded data removed]",
      "text/plain": [
       "<Figure size 400x200 with 1 Axes>"
      ]
     },
     "metadata": {},
     "output_type": "display_data"
    },
    {
     "name": "stdout",
     "output_type": "stream",
     "text": [
      "P-Value: 0.0\n"
     ]
    }
   ],
   "source": [
    "actual_diff = group.Spent.loc[1] - group.Spent.loc[0]\n",
    "diffs = [perm_fun(df, group.Count.loc[1], 'Spent') for _ in range(1000)]\n",
    "\n",
    "plt.figure(figsize = (4,2))\n",
    "sns.histplot(diffs)\n",
    "plt.axvline(actual_diff, color = 'red')\n",
    "plt.title('Spent')\n",
    "plt.show()\n",
    "\n",
    "p_val = np.array([np.abs(diff) > np.abs(actual_diff) for diff in diffs]).mean()\n",
    "print(\"P-Value:\", p_val)\n",
    "\n",
    "if p_val <= .05:\n",
    "    predictors.append('Spent')"
   ]
  },
  {
   "cell_type": "code",
   "execution_count": 49,
   "id": "dde0e92b",
   "metadata": {},
   "outputs": [
    {
     "data": {
      "image/png": "[encoded data removed]",
      "text/plain": [
       "<Figure size 400x200 with 1 Axes>"
      ]
     },
     "metadata": {},
     "output_type": "display_data"
    },
    {
     "name": "stdout",
     "output_type": "stream",
     "text": [
      "P-Value: 0.0\n"
     ]
    }
   ],
   "source": [
    "actual_diff = group.Impressions.loc[1] - group.Impressions.loc[0]\n",
    "diffs = [perm_fun(df, group.Count.loc[1], 'Impressions') for _ in range(1000)]\n",
    "\n",
    "plt.figure(figsize = (4,2))\n",
    "sns.histplot(diffs)\n",
    "plt.axvline(actual_diff, color = 'red')\n",
    "plt.title('Impressions')\n",
    "plt.show()\n",
    "\n",
    "p_val = np.array([np.abs(diff) > np.abs(actual_diff) for diff in diffs]).mean()\n",
    "print(\"P-Value:\", p_val)\n",
    "\n",
    "if p_val <= .05:\n",
    "    predictors.append('Impressions')"
   ]
  },
  {
   "cell_type": "code",
   "execution_count": 50,
   "id": "d4f76bbf",
   "metadata": {},
   "outputs": [
    {
     "data": {
      "image/png": "[encoded data removed]",
      "text/plain": [
       "<Figure size 400x200 with 1 Axes>"
      ]
     },
     "metadata": {},
     "output_type": "display_data"
    },
    {
     "name": "stdout",
     "output_type": "stream",
     "text": [
      "P-Value: 0.0\n"
     ]
    }
   ],
   "source": [
    "actual_diff = group.Total_Conversion.loc[1] - group.Total_Conversion.loc[0]\n",
    "diffs = [perm_fun(df, group.Count.loc[1], 'Total_Conversion') for _ in range(1000)]\n",
    "\n",
    "plt.figure(figsize = (4,2))\n",
    "sns.histplot(diffs)\n",
    "plt.axvline(actual_diff, color = 'red')\n",
    "plt.title('Total_Conversion')\n",
    "plt.show()\n",
    "\n",
    "p_val = np.array([np.abs(diff) > np.abs(actual_diff) for diff in diffs]).mean()\n",
    "print(\"P-Value:\", p_val)\n",
    "\n",
    "if p_val <= .05:\n",
    "    predictors.append('Total_Conversion')"
   ]
  },
  {
   "cell_type": "code",
   "execution_count": 5,
   "id": "b87e9595",
   "metadata": {},
   "outputs": [
    {
     "data": {
      "text/plain": [
       "0     559\n",
       "1     403\n",
       "2      86\n",
       "3      35\n",
       "4      24\n",
       "5       7\n",
       "6       7\n",
       "8       5\n",
       "10      4\n",
       "7       4\n",
       "9       3\n",
       "14      2\n",
       "17      1\n",
       "21      1\n",
       "12      1\n",
       "13      1\n",
       "Name: Approved_Conversion, dtype: int64"
      ]
     },
     "execution_count": 5,
     "metadata": {},
     "output_type": "execute_result"
    }
   ],
   "source": [
    "df.Approved_Conversion.value_counts()"
   ]
  },
  {
   "cell_type": "code",
   "execution_count": 12,
   "id": "b19336c5",
   "metadata": {},
   "outputs": [
    {
     "data": {
      "image/png": "[encoded data removed]",
      "text/plain": [
       "<Figure size 400x400 with 1 Axes>"
      ]
     },
     "metadata": {},
     "output_type": "display_data"
    }
   ],
   "source": [
    "plt.figure(figsize=(4,4))\n",
    "sns.scatterplot(x = df.interest, y = df.Approved_Conversion)\n",
    "plt.show()"
   ]
  },
  {
   "cell_type": "code",
   "execution_count": 15,
   "id": "ec8a4845",
   "metadata": {},
   "outputs": [
    {
     "data": {
      "image/png": "[encoded data removed]",
      "text/plain": [
       "<Figure size 400x400 with 1 Axes>"
      ]
     },
     "metadata": {},
     "output_type": "display_data"
    }
   ],
   "source": [
    "plt.figure(figsize=(4,4))\n",
    "sns.scatterplot(x = df.Clicks, y = df.Approved_Conversion)\n",
    "plt.show()"
   ]
  },
  {
   "cell_type": "code",
   "execution_count": 53,
   "id": "d8a51435",
   "metadata": {},
   "outputs": [
    {
     "data": {
      "image/png": "[encoded data removed]",
      "text/plain": [
       "<Figure size 400x400 with 1 Axes>"
      ]
     },
     "metadata": {},
     "output_type": "display_data"
    }
   ],
   "source": [
    "plt.figure(figsize = (4,4))\n",
    "sns.scatterplot(x = df.Impressions, y = df.Approved_Conversion)\n",
    "plt.show()"
   ]
  },
  {
   "cell_type": "code",
   "execution_count": 54,
   "id": "1510f8e9",
   "metadata": {},
   "outputs": [
    {
     "data": {
      "image/png": "[encoded data removed]",
      "text/plain": [
       "<Figure size 400x400 with 1 Axes>"
      ]
     },
     "metadata": {},
     "output_type": "display_data"
    }
   ],
   "source": [
    "plt.figure(figsize = (4,4))\n",
    "sns.scatterplot(x = df.Spent, y = df.Approved_Conversion)\n",
    "plt.show()"
   ]
  },
  {
   "cell_type": "code",
   "execution_count": 55,
   "id": "81914077",
   "metadata": {},
   "outputs": [
    {
     "data": {
      "image/png": "[encoded data removed]",
      "text/plain": [
       "<Figure size 400x400 with 1 Axes>"
      ]
     },
     "metadata": {},
     "output_type": "display_data"
    }
   ],
   "source": [
    "plt.figure(figsize = (4,4))\n",
    "sns.scatterplot(x = df.Total_Conversion, y = df.Approved_Conversion)\n",
    "plt.show()"
   ]
  },
  {
   "cell_type": "markdown",
   "id": "5b6fc357",
   "metadata": {},
   "source": [
    "### Modeling"
   ]
  },
  {
   "cell_type": "markdown",
   "id": "a5389a7a",
   "metadata": {},
   "source": [
    "#### Random Forest Regression"
   ]
  },
  {
   "cell_type": "code",
   "execution_count": 89,
   "id": "d60213fb",
   "metadata": {},
   "outputs": [
    {
     "data": {
      "text/plain": [
       "['interest', 'Clicks', 'Spent', 'Impressions', 'Total_Conversion']"
      ]
     },
     "execution_count": 89,
     "metadata": {},
     "output_type": "execute_result"
    }
   ],
   "source": [
    "predictors"
   ]
  },
  {
   "cell_type": "code",
   "execution_count": 90,
   "id": "a239574c",
   "metadata": {},
   "outputs": [
    {
     "data": {
      "text/plain": [
       "RandomForestClassifier()"
      ]
     },
     "execution_count": 90,
     "metadata": {},
     "output_type": "execute_result"
    }
   ],
   "source": [
    "X_train, X_test, y_train, y_test = train_test_split(df[predictors] ,df.Approved_Conversion, train_size = .7)\n",
    "\n",
    "rf = RandomForestClassifier(n_estimators = 100)\n",
    "rf.fit(X_train, y_train)"
   ]
  },
  {
   "cell_type": "code",
   "execution_count": 91,
   "id": "0a10b7d9",
   "metadata": {},
   "outputs": [
    {
     "data": {
      "text/plain": [
       "0.47230320699708456"
      ]
     },
     "execution_count": 91,
     "metadata": {},
     "output_type": "execute_result"
    }
   ],
   "source": [
    "rf.score(X_test, y_test)"
   ]
  },
  {
   "cell_type": "code",
   "execution_count": 92,
   "id": "a75b5a5a",
   "metadata": {},
   "outputs": [
    {
     "data": {
      "text/html": [
       "<div>\n",
       "<style scoped>\n",
       "    .dataframe tbody tr th:only-of-type {\n",
       "        vertical-align: middle;\n",
       "    }\n",
       "\n",
       "    .dataframe tbody tr th {\n",
       "        vertical-align: top;\n",
       "    }\n",
       "\n",
       "    .dataframe thead th {\n",
       "        text-align: right;\n",
       "    }\n",
       "</style>\n",
       "<table border=\"1\" class=\"dataframe\">\n",
       "  <thead>\n",
       "    <tr style=\"text-align: right;\">\n",
       "      <th></th>\n",
       "      <th>interest</th>\n",
       "      <th>Clicks</th>\n",
       "      <th>Spent</th>\n",
       "      <th>Impressions</th>\n",
       "      <th>Total_Conversion</th>\n",
       "      <th>pred</th>\n",
       "    </tr>\n",
       "  </thead>\n",
       "  <tbody>\n",
       "    <tr>\n",
       "      <th>742</th>\n",
       "      <td>32</td>\n",
       "      <td>85</td>\n",
       "      <td>140.970002</td>\n",
       "      <td>400844</td>\n",
       "      <td>4</td>\n",
       "      <td>1</td>\n",
       "    </tr>\n",
       "    <tr>\n",
       "      <th>194</th>\n",
       "      <td>15</td>\n",
       "      <td>5</td>\n",
       "      <td>8.860000</td>\n",
       "      <td>18602</td>\n",
       "      <td>1</td>\n",
       "      <td>0</td>\n",
       "    </tr>\n",
       "    <tr>\n",
       "      <th>160</th>\n",
       "      <td>16</td>\n",
       "      <td>2</td>\n",
       "      <td>3.180000</td>\n",
       "      <td>13355</td>\n",
       "      <td>1</td>\n",
       "      <td>1</td>\n",
       "    </tr>\n",
       "    <tr>\n",
       "      <th>1016</th>\n",
       "      <td>23</td>\n",
       "      <td>90</td>\n",
       "      <td>125.270001</td>\n",
       "      <td>284488</td>\n",
       "      <td>1</td>\n",
       "      <td>0</td>\n",
       "    </tr>\n",
       "    <tr>\n",
       "      <th>386</th>\n",
       "      <td>29</td>\n",
       "      <td>49</td>\n",
       "      <td>67.980000</td>\n",
       "      <td>164754</td>\n",
       "      <td>2</td>\n",
       "      <td>0</td>\n",
       "    </tr>\n",
       "  </tbody>\n",
       "</table>\n",
       "</div>"
      ],
      "text/plain": [
       "      interest  Clicks       Spent  Impressions  Total_Conversion  pred\n",
       "742         32      85  140.970002       400844                 4     1\n",
       "194         15       5    8.860000        18602                 1     0\n",
       "160         16       2    3.180000        13355                 1     1\n",
       "1016        23      90  125.270001       284488                 1     0\n",
       "386         29      49   67.980000       164754                 2     0"
      ]
     },
     "execution_count": 92,
     "metadata": {},
     "output_type": "execute_result"
    }
   ],
   "source": [
    "X_test['pred'] = rf.predict(X_test)\n",
    "X_test.head()"
   ]
  },
  {
   "cell_type": "markdown",
   "id": "d1080dd3",
   "metadata": {},
   "source": [
    "#### XGBoost"
   ]
  },
  {
   "cell_type": "code",
   "execution_count": 129,
   "id": "59e36c6e",
   "metadata": {},
   "outputs": [],
   "source": [
    "X_train, X_test, y_train, y_test = train_test_split(df[predictors] ,df.Approved_Conversion, train_size = .7)"
   ]
  },
  {
   "cell_type": "code",
   "execution_count": 130,
   "id": "421ec1a0",
   "metadata": {},
   "outputs": [],
   "source": [
    "params = [{\n",
    "    \"n_estimators\": [100,200,300],\n",
    "    \"max_depth\": [3,5,7,9],\n",
    "    \"eta\": [.01, .1, .5]\n",
    "}]"
   ]
  },
  {
   "cell_type": "code",
   "execution_count": 131,
   "id": "e304d1a7",
   "metadata": {},
   "outputs": [
    {
     "data": {
      "text/plain": [
       "GridSearchCV(estimator=XGBRegressor(base_score=None, booster=None,\n",
       "                                    callbacks=None, colsample_bylevel=None,\n",
       "                                    colsample_bynode=None,\n",
       "                                    colsample_bytree=None,\n",
       "                                    early_stopping_rounds=None,\n",
       "                                    enable_categorical=False, eval_metric=None,\n",
       "                                    feature_types=None, gamma=None, gpu_id=None,\n",
       "                                    grow_policy=None, importance_type=None,\n",
       "                                    interaction_constraints=None,\n",
       "                                    learning_rate=None, max_bin=None,\n",
       "                                    max_cat_threshold=None,\n",
       "                                    max_cat_to_onehot=None, max_delta_step=None,\n",
       "                                    max_depth=None, max_leaves=None,\n",
       "                                    min_child_weight=None, missing=nan,\n",
       "                                    monotone_constraints=None, n_estimators=100,\n",
       "                                    n_jobs=None, num_parallel_tree=None,\n",
       "                                    predictor=None, random_state=None, ...),\n",
       "             param_grid=[{'eta': [0.01, 0.1, 0.5], 'max_depth': [3, 5, 7, 9],\n",
       "                          'n_estimators': [100, 200, 300]}])"
      ]
     },
     "execution_count": 131,
     "metadata": {},
     "output_type": "execute_result"
    }
   ],
   "source": [
    "xgb = xgboost.XGBRegressor()\n",
    "xgb_grid= GridSearchCV(xgb, param_grid = params)\n",
    "\n",
    "xgb_grid.fit(X_train, y_train)"
   ]
  },
  {
   "cell_type": "code",
   "execution_count": 132,
   "id": "e8c1788a",
   "metadata": {},
   "outputs": [
    {
     "data": {
      "text/plain": [
       "{'eta': 0.01, 'max_depth': 3, 'n_estimators': 200}"
      ]
     },
     "execution_count": 132,
     "metadata": {},
     "output_type": "execute_result"
    }
   ],
   "source": [
    "xgb_grid.best_params_"
   ]
  },
  {
   "cell_type": "code",
   "execution_count": 133,
   "id": "563169be",
   "metadata": {},
   "outputs": [
    {
     "data": {
      "text/plain": [
       "XGBRegressor(base_score=None, booster=None, callbacks=None,\n",
       "             colsample_bylevel=None, colsample_bynode=None,\n",
       "             colsample_bytree=None, early_stopping_rounds=None,\n",
       "             enable_categorical=False, eta=0.01, eval_metric=None,\n",
       "             feature_types=None, gamma=None, gpu_id=None, grow_policy=None,\n",
       "             importance_type=None, interaction_constraints=None,\n",
       "             learning_rate=None, max_bin=None, max_cat_threshold=None,\n",
       "             max_cat_to_onehot=None, max_delta_step=None, max_depth=3,\n",
       "             max_leaves=None, min_child_weight=None, missing=nan,\n",
       "             monotone_constraints=None, n_estimators=200, n_jobs=None,\n",
       "             num_parallel_tree=None, predictor=None, ...)"
      ]
     },
     "execution_count": 133,
     "metadata": {},
     "output_type": "execute_result"
    }
   ],
   "source": [
    "xgb = xgboost.XGBRegressor(n_estimators = 200, eta = .01, max_depth = 3)\n",
    "xgb.fit(X_train, y_train)"
   ]
  },
  {
   "cell_type": "code",
   "execution_count": 134,
   "id": "c294b0b2",
   "metadata": {},
   "outputs": [
    {
     "data": {
      "text/html": [
       "<div>\n",
       "<style scoped>\n",
       "    .dataframe tbody tr th:only-of-type {\n",
       "        vertical-align: middle;\n",
       "    }\n",
       "\n",
       "    .dataframe tbody tr th {\n",
       "        vertical-align: top;\n",
       "    }\n",
       "\n",
       "    .dataframe thead th {\n",
       "        text-align: right;\n",
       "    }\n",
       "</style>\n",
       "<table border=\"1\" class=\"dataframe\">\n",
       "  <thead>\n",
       "    <tr style=\"text-align: right;\">\n",
       "      <th></th>\n",
       "      <th>interest</th>\n",
       "      <th>Clicks</th>\n",
       "      <th>Spent</th>\n",
       "      <th>Impressions</th>\n",
       "      <th>Total_Conversion</th>\n",
       "      <th>pred</th>\n",
       "    </tr>\n",
       "  </thead>\n",
       "  <tbody>\n",
       "    <tr>\n",
       "      <th>1096</th>\n",
       "      <td>106</td>\n",
       "      <td>26</td>\n",
       "      <td>35.540000</td>\n",
       "      <td>173912</td>\n",
       "      <td>2</td>\n",
       "      <td>0.695637</td>\n",
       "    </tr>\n",
       "    <tr>\n",
       "      <th>938</th>\n",
       "      <td>63</td>\n",
       "      <td>125</td>\n",
       "      <td>167.050000</td>\n",
       "      <td>579150</td>\n",
       "      <td>5</td>\n",
       "      <td>1.463630</td>\n",
       "    </tr>\n",
       "    <tr>\n",
       "      <th>747</th>\n",
       "      <td>63</td>\n",
       "      <td>49</td>\n",
       "      <td>81.360000</td>\n",
       "      <td>280764</td>\n",
       "      <td>2</td>\n",
       "      <td>0.653884</td>\n",
       "    </tr>\n",
       "    <tr>\n",
       "      <th>99</th>\n",
       "      <td>21</td>\n",
       "      <td>0</td>\n",
       "      <td>0.000000</td>\n",
       "      <td>708</td>\n",
       "      <td>1</td>\n",
       "      <td>0.370926</td>\n",
       "    </tr>\n",
       "    <tr>\n",
       "      <th>358</th>\n",
       "      <td>64</td>\n",
       "      <td>3</td>\n",
       "      <td>4.090000</td>\n",
       "      <td>13621</td>\n",
       "      <td>1</td>\n",
       "      <td>0.373216</td>\n",
       "    </tr>\n",
       "    <tr>\n",
       "      <th>...</th>\n",
       "      <td>...</td>\n",
       "      <td>...</td>\n",
       "      <td>...</td>\n",
       "      <td>...</td>\n",
       "      <td>...</td>\n",
       "      <td>...</td>\n",
       "    </tr>\n",
       "    <tr>\n",
       "      <th>891</th>\n",
       "      <td>65</td>\n",
       "      <td>16</td>\n",
       "      <td>23.970000</td>\n",
       "      <td>82640</td>\n",
       "      <td>1</td>\n",
       "      <td>0.373216</td>\n",
       "    </tr>\n",
       "    <tr>\n",
       "      <th>956</th>\n",
       "      <td>18</td>\n",
       "      <td>3</td>\n",
       "      <td>4.050000</td>\n",
       "      <td>22210</td>\n",
       "      <td>1</td>\n",
       "      <td>0.370926</td>\n",
       "    </tr>\n",
       "    <tr>\n",
       "      <th>347</th>\n",
       "      <td>18</td>\n",
       "      <td>2</td>\n",
       "      <td>3.090000</td>\n",
       "      <td>8469</td>\n",
       "      <td>1</td>\n",
       "      <td>0.370926</td>\n",
       "    </tr>\n",
       "    <tr>\n",
       "      <th>1116</th>\n",
       "      <td>101</td>\n",
       "      <td>152</td>\n",
       "      <td>223.189995</td>\n",
       "      <td>696612</td>\n",
       "      <td>31</td>\n",
       "      <td>7.112300</td>\n",
       "    </tr>\n",
       "    <tr>\n",
       "      <th>295</th>\n",
       "      <td>31</td>\n",
       "      <td>0</td>\n",
       "      <td>0.000000</td>\n",
       "      <td>3288</td>\n",
       "      <td>1</td>\n",
       "      <td>0.373216</td>\n",
       "    </tr>\n",
       "  </tbody>\n",
       "</table>\n",
       "<p>343 rows × 6 columns</p>\n",
       "</div>"
      ],
      "text/plain": [
       "      interest  Clicks       Spent  Impressions  Total_Conversion      pred\n",
       "1096       106      26   35.540000       173912                 2  0.695637\n",
       "938         63     125  167.050000       579150                 5  1.463630\n",
       "747         63      49   81.360000       280764                 2  0.653884\n",
       "99          21       0    0.000000          708                 1  0.370926\n",
       "358         64       3    4.090000        13621                 1  0.373216\n",
       "...        ...     ...         ...          ...               ...       ...\n",
       "891         65      16   23.970000        82640                 1  0.373216\n",
       "956         18       3    4.050000        22210                 1  0.370926\n",
       "347         18       2    3.090000         8469                 1  0.370926\n",
       "1116       101     152  223.189995       696612                31  7.112300\n",
       "295         31       0    0.000000         3288                 1  0.373216\n",
       "\n",
       "[343 rows x 6 columns]"
      ]
     },
     "execution_count": 134,
     "metadata": {},
     "output_type": "execute_result"
    }
   ],
   "source": [
    "X_test['pred'] = xgb.predict(X_test)\n",
    "X_test"
   ]
  },
  {
   "cell_type": "code",
   "execution_count": 135,
   "id": "ce99be40",
   "metadata": {},
   "outputs": [],
   "source": [
    "cv = RepeatedKFold(n_splits = 10, n_repeats = 3, random_state = 42)\n",
    "xgb_scores = cross_val_score(xgb, X_test, y_test, scoring = 'neg_mean_absolute_error', cv = cv, n_jobs = -1)\n",
    "rf_scores = cross_val_score(rf, X_test, y_test, scoring = 'neg_mean_absolute_error', cv = cv, n_jobs = -1)"
   ]
  },
  {
   "cell_type": "code",
   "execution_count": 136,
   "id": "01fa9f08",
   "metadata": {},
   "outputs": [
    {
     "name": "stdout",
     "output_type": "stream",
     "text": [
      "XGB Mean MAE: 0.677 (0.099)\n"
     ]
    }
   ],
   "source": [
    "xgb_scores = np.abs(xgb_scores)\n",
    "print('XGB Mean MAE: %.3f (%.3f)' % (xgb_scores.mean(), xgb_scores.std()) )"
   ]
  },
  {
   "cell_type": "code",
   "execution_count": 137,
   "id": "1c07c405",
   "metadata": {},
   "outputs": [
    {
     "name": "stdout",
     "output_type": "stream",
     "text": [
      "XGB Mean MAE: 0.695 (0.180)\n"
     ]
    }
   ],
   "source": [
    "rf_scores = np.abs(rf_scores)\n",
    "print('XGB Mean MAE: %.3f (%.3f)' % (rf_scores.mean(), rf_scores.std()) )"
   ]
  },
  {
   "cell_type": "code",
   "execution_count": null,
   "id": "05c80b15",
   "metadata": {},
   "outputs": [],
   "source": []
  }
 ],
 "metadata": {
  "kernelspec": {
   "display_name": "Python 3 (ipykernel)",
   "language": "python",
   "name": "python3"
  },
  "language_info": {
   "codemirror_mode": {
    "name": "ipython",
    "version": 3
   },
   "file_extension": ".py",
   "mimetype": "text/x-python",
   "name": "python",
   "nbconvert_exporter": "python",
   "pygments_lexer": "ipython3",
   "version": "3.9.13"
  }
 },
 "nbformat": 4,
 "nbformat_minor": 5
}
