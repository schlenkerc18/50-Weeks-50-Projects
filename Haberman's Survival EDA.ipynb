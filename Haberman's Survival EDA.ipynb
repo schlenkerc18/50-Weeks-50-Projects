{
 "cells": [
  {
   "cell_type": "code",
   "execution_count": 77,
   "id": "93b04f54",
   "metadata": {},
   "outputs": [],
   "source": [
    "import pandas as pd\n",
    "import numpy as np\n",
    "import seaborn as sns\n",
    "import matplotlib.pyplot as plt\n",
    "\n",
    "from sklearn.ensemble import RandomForestClassifier\n",
    "from sklearn.neighbors import KNeighborsClassifier\n",
    "\n",
    "from sklearn.model_selection import train_test_split, GridSearchCV\n",
    "\n",
    "from sklearn.metrics import accuracy_score, precision_score, recall_score"
   ]
  },
  {
   "cell_type": "code",
   "execution_count": 14,
   "id": "a1fc4fb1",
   "metadata": {},
   "outputs": [
    {
     "data": {
      "text/html": [
       "<div>\n",
       "<style scoped>\n",
       "    .dataframe tbody tr th:only-of-type {\n",
       "        vertical-align: middle;\n",
       "    }\n",
       "\n",
       "    .dataframe tbody tr th {\n",
       "        vertical-align: top;\n",
       "    }\n",
       "\n",
       "    .dataframe thead th {\n",
       "        text-align: right;\n",
       "    }\n",
       "</style>\n",
       "<table border=\"1\" class=\"dataframe\">\n",
       "  <thead>\n",
       "    <tr style=\"text-align: right;\">\n",
       "      <th></th>\n",
       "      <th>age_of_patient</th>\n",
       "      <th>year_of_operation</th>\n",
       "      <th>pos_nodes</th>\n",
       "      <th>outcome</th>\n",
       "    </tr>\n",
       "  </thead>\n",
       "  <tbody>\n",
       "    <tr>\n",
       "      <th>0</th>\n",
       "      <td>30</td>\n",
       "      <td>64</td>\n",
       "      <td>1</td>\n",
       "      <td>1</td>\n",
       "    </tr>\n",
       "    <tr>\n",
       "      <th>1</th>\n",
       "      <td>30</td>\n",
       "      <td>62</td>\n",
       "      <td>3</td>\n",
       "      <td>1</td>\n",
       "    </tr>\n",
       "    <tr>\n",
       "      <th>2</th>\n",
       "      <td>30</td>\n",
       "      <td>65</td>\n",
       "      <td>0</td>\n",
       "      <td>1</td>\n",
       "    </tr>\n",
       "    <tr>\n",
       "      <th>3</th>\n",
       "      <td>31</td>\n",
       "      <td>59</td>\n",
       "      <td>2</td>\n",
       "      <td>1</td>\n",
       "    </tr>\n",
       "    <tr>\n",
       "      <th>4</th>\n",
       "      <td>31</td>\n",
       "      <td>65</td>\n",
       "      <td>4</td>\n",
       "      <td>1</td>\n",
       "    </tr>\n",
       "  </tbody>\n",
       "</table>\n",
       "</div>"
      ],
      "text/plain": [
       "   age_of_patient  year_of_operation  pos_nodes  outcome\n",
       "0              30                 64          1        1\n",
       "1              30                 62          3        1\n",
       "2              30                 65          0        1\n",
       "3              31                 59          2        1\n",
       "4              31                 65          4        1"
      ]
     },
     "execution_count": 14,
     "metadata": {},
     "output_type": "execute_result"
    }
   ],
   "source": [
    "df = pd.read_csv('./data/haberman.data', delimiter = ',')\n",
    "df.columns = df.columns.str.strip()\n",
    "df.head()"
   ]
  },
  {
   "cell_type": "code",
   "execution_count": 32,
   "id": "3f91d1a2",
   "metadata": {},
   "outputs": [
    {
     "data": {
      "text/plain": [
       "1    225\n",
       "2     81\n",
       "Name: outcome, dtype: int64"
      ]
     },
     "execution_count": 32,
     "metadata": {},
     "output_type": "execute_result"
    }
   ],
   "source": [
    "# 1 = the patient survived 5 years or longer\n",
    "# 2 = the patient died within 5 years\n",
    "df.outcome.value_counts()"
   ]
  },
  {
   "cell_type": "code",
   "execution_count": 17,
   "id": "607d0101",
   "metadata": {},
   "outputs": [
    {
     "data": {
      "text/html": [
       "<div>\n",
       "<style scoped>\n",
       "    .dataframe tbody tr th:only-of-type {\n",
       "        vertical-align: middle;\n",
       "    }\n",
       "\n",
       "    .dataframe tbody tr th {\n",
       "        vertical-align: top;\n",
       "    }\n",
       "\n",
       "    .dataframe thead th {\n",
       "        text-align: right;\n",
       "    }\n",
       "</style>\n",
       "<table border=\"1\" class=\"dataframe\">\n",
       "  <thead>\n",
       "    <tr style=\"text-align: right;\">\n",
       "      <th></th>\n",
       "      <th>age_of_patient</th>\n",
       "      <th>year_of_operation</th>\n",
       "      <th>pos_nodes</th>\n",
       "    </tr>\n",
       "    <tr>\n",
       "      <th>outcome</th>\n",
       "      <th></th>\n",
       "      <th></th>\n",
       "      <th></th>\n",
       "    </tr>\n",
       "  </thead>\n",
       "  <tbody>\n",
       "    <tr>\n",
       "      <th>1</th>\n",
       "      <td>52.017778</td>\n",
       "      <td>62.862222</td>\n",
       "      <td>2.791111</td>\n",
       "    </tr>\n",
       "    <tr>\n",
       "      <th>2</th>\n",
       "      <td>53.679012</td>\n",
       "      <td>62.827160</td>\n",
       "      <td>7.456790</td>\n",
       "    </tr>\n",
       "  </tbody>\n",
       "</table>\n",
       "</div>"
      ],
      "text/plain": [
       "         age_of_patient  year_of_operation  pos_nodes\n",
       "outcome                                              \n",
       "1             52.017778          62.862222   2.791111\n",
       "2             53.679012          62.827160   7.456790"
      ]
     },
     "execution_count": 17,
     "metadata": {},
     "output_type": "execute_result"
    }
   ],
   "source": [
    "group = df.groupby('outcome').mean()\n",
    "group"
   ]
  },
  {
   "cell_type": "code",
   "execution_count": 19,
   "id": "c8389593",
   "metadata": {},
   "outputs": [
    {
     "data": {
      "image/png": "[encoded data removed]",
      "text/plain": [
       "<Figure size 400x400 with 1 Axes>"
      ]
     },
     "metadata": {},
     "output_type": "display_data"
    }
   ],
   "source": [
    "plt.figure(figsize = (4,4))\n",
    "sns.violinplot(data = df, x = 'outcome', y = 'year_of_operation')\n",
    "plt.show()"
   ]
  },
  {
   "cell_type": "code",
   "execution_count": 21,
   "id": "a482336f",
   "metadata": {},
   "outputs": [
    {
     "data": {
      "image/png": "[encoded data removed]",
      "text/plain": [
       "<Figure size 400x400 with 1 Axes>"
      ]
     },
     "metadata": {},
     "output_type": "display_data"
    }
   ],
   "source": [
    "plt.figure(figsize = (4,4))\n",
    "sns.violinplot(data = df, x = 'outcome', y = 'age_of_patient')\n",
    "plt.show()"
   ]
  },
  {
   "cell_type": "code",
   "execution_count": 24,
   "id": "e76ada30",
   "metadata": {},
   "outputs": [
    {
     "data": {
      "image/png": "[encoded data removed]",
      "text/plain": [
       "<Figure size 400x400 with 1 Axes>"
      ]
     },
     "metadata": {},
     "output_type": "display_data"
    }
   ],
   "source": [
    "plt.figure(figsize = (4,4))\n",
    "sns.violinplot(data = df, x = 'outcome', y = 'pos_nodes')\n",
    "plt.show()"
   ]
  },
  {
   "cell_type": "markdown",
   "id": "9a385969",
   "metadata": {},
   "source": [
    "### Perm fun"
   ]
  },
  {
   "cell_type": "code",
   "execution_count": 31,
   "id": "a0c5f24e",
   "metadata": {},
   "outputs": [],
   "source": [
    "def perm_fun(df, len_a, col):\n",
    "    a = df.sample(n = len_a, replace = False)\n",
    "    b = df[~df.index.isin(a.index)]\n",
    "    \n",
    "    return a[col].mean() - b[col].mean()"
   ]
  },
  {
   "cell_type": "markdown",
   "id": "6d7e4fd6",
   "metadata": {},
   "source": [
    "### Age "
   ]
  },
  {
   "cell_type": "code",
   "execution_count": 37,
   "id": "65a70693",
   "metadata": {},
   "outputs": [
    {
     "data": {
      "text/plain": [
       "81"
      ]
     },
     "execution_count": 37,
     "metadata": {},
     "output_type": "execute_result"
    }
   ],
   "source": [
    "df.outcome.value_counts().loc[2]"
   ]
  },
  {
   "cell_type": "code",
   "execution_count": 34,
   "id": "2ee9d66b",
   "metadata": {},
   "outputs": [
    {
     "data": {
      "text/plain": [
       "52.01777777777778"
      ]
     },
     "execution_count": 34,
     "metadata": {},
     "output_type": "execute_result"
    }
   ],
   "source": [
    "group.loc[1].age_of_patient"
   ]
  },
  {
   "cell_type": "code",
   "execution_count": 38,
   "id": "58b75887",
   "metadata": {},
   "outputs": [],
   "source": [
    "len_a = df.outcome.value_counts().loc[2]\n",
    "\n",
    "actual_diff = group.loc[2].age_of_patient - group.loc[1].age_of_patient\n",
    "diffs = [perm_fun(df, len_a, 'age_of_patient') for _ in range(1000)]"
   ]
  },
  {
   "cell_type": "code",
   "execution_count": 39,
   "id": "bfe64118",
   "metadata": {},
   "outputs": [
    {
     "data": {
      "image/png": "[encoded data removed]",
      "text/plain": [
       "<Figure size 640x480 with 1 Axes>"
      ]
     },
     "metadata": {},
     "output_type": "display_data"
    }
   ],
   "source": [
    "plt.figure()\n",
    "sns.histplot(diffs)\n",
    "plt.axvline(x = actual_diff, color = 'red')\n",
    "plt.show()"
   ]
  },
  {
   "cell_type": "code",
   "execution_count": 41,
   "id": "2cbed29c",
   "metadata": {},
   "outputs": [
    {
     "data": {
      "text/plain": [
       "0.242"
      ]
     },
     "execution_count": 41,
     "metadata": {},
     "output_type": "execute_result"
    }
   ],
   "source": [
    "p_val = np.array([np.abs(diff) > actual_diff for diff in diffs])\n",
    "p_val.mean()"
   ]
  },
  {
   "cell_type": "markdown",
   "id": "0776d530",
   "metadata": {},
   "source": [
    "### Positive Axillary Nodes Detected"
   ]
  },
  {
   "cell_type": "code",
   "execution_count": 42,
   "id": "a48b3405",
   "metadata": {},
   "outputs": [],
   "source": [
    "len_a = df.outcome.value_counts().loc[2]\n",
    "\n",
    "actual_diff = group.loc[2].pos_nodes - group.loc[1].pos_nodes\n",
    "diffs = [perm_fun(df, len_a, 'pos_nodes') for _ in range(1000)]"
   ]
  },
  {
   "cell_type": "code",
   "execution_count": 43,
   "id": "386b1f8e",
   "metadata": {},
   "outputs": [
    {
     "data": {
      "image/png": "[encoded data removed]",
      "text/plain": [
       "<Figure size 640x480 with 1 Axes>"
      ]
     },
     "metadata": {},
     "output_type": "display_data"
    }
   ],
   "source": [
    "plt.figure()\n",
    "sns.histplot(diffs)\n",
    "plt.axvline(x = actual_diff, color = 'red')\n",
    "plt.show()"
   ]
  },
  {
   "cell_type": "code",
   "execution_count": 44,
   "id": "82905995",
   "metadata": {},
   "outputs": [
    {
     "data": {
      "text/plain": [
       "0.0"
      ]
     },
     "execution_count": 44,
     "metadata": {},
     "output_type": "execute_result"
    }
   ],
   "source": [
    "p_val = np.array([np.abs(diff) > actual_diff for diff in diffs])\n",
    "p_val.mean()"
   ]
  },
  {
   "cell_type": "markdown",
   "id": "8617ce35",
   "metadata": {},
   "source": [
    "### Modeling"
   ]
  },
  {
   "cell_type": "code",
   "execution_count": 54,
   "id": "36605cb0",
   "metadata": {},
   "outputs": [],
   "source": [
    "# only good indicator for model appears to be positive number of auxillary nodes detected\n",
    "\n",
    "predictors = 'pos_nodes'\n",
    "outcome = 'outcome'\n",
    "\n",
    "X = df[predictors]\n",
    "y = df[outcome]\n",
    "\n",
    "X_train, X_test, y_train, y_test = train_test_split(X, y, test_size = .3)"
   ]
  },
  {
   "cell_type": "markdown",
   "id": "7799f6db",
   "metadata": {},
   "source": [
    "### Grid Search CV for best hyperparameters"
   ]
  },
  {
   "cell_type": "code",
   "execution_count": 80,
   "id": "51166ccc",
   "metadata": {},
   "outputs": [],
   "source": [
    "params = [{\n",
    "    \"n_estimators\": [100,200,300],\n",
    "    \"max_depth\": [3,5,7,9],\n",
    "    \"min_samples_split\": [5,10,20],\n",
    "    \"criterion\": ['gini', 'entropy']\n",
    "}]"
   ]
  },
  {
   "cell_type": "code",
   "execution_count": 84,
   "id": "27448fcb",
   "metadata": {},
   "outputs": [
    {
     "data": {
      "text/plain": [
       "GridSearchCV(estimator=RandomForestClassifier(),\n",
       "             param_grid=[{'criterion': ['gini', 'entropy'],\n",
       "                          'max_depth': [3, 5, 7, 9],\n",
       "                          'min_samples_split': [5, 10, 20],\n",
       "                          'n_estimators': [100, 200, 300]}])"
      ]
     },
     "execution_count": 84,
     "metadata": {},
     "output_type": "execute_result"
    }
   ],
   "source": [
    "rf = RandomForestClassifier()\n",
    "rf_gridsearch = GridSearchCV(rf, param_grid = params)\n",
    "\n",
    "rf_gridsearch.fit(np.array(X_train).reshape(-1,1), y_train)"
   ]
  },
  {
   "cell_type": "code",
   "execution_count": 85,
   "id": "8fcd11e1",
   "metadata": {},
   "outputs": [
    {
     "data": {
      "text/plain": [
       "{'criterion': 'entropy',\n",
       " 'max_depth': 5,\n",
       " 'min_samples_split': 10,\n",
       " 'n_estimators': 100}"
      ]
     },
     "execution_count": 85,
     "metadata": {},
     "output_type": "execute_result"
    }
   ],
   "source": [
    "rf_gridsearch.best_params_"
   ]
  },
  {
   "cell_type": "code",
   "execution_count": 87,
   "id": "c8a53298",
   "metadata": {},
   "outputs": [
    {
     "data": {
      "text/plain": [
       "RandomForestClassifier(criterion='entropy', max_depth=5, min_samples_split=10)"
      ]
     },
     "execution_count": 87,
     "metadata": {},
     "output_type": "execute_result"
    }
   ],
   "source": [
    "rf = RandomForestClassifier(n_estimators = 100, criterion = 'entropy', max_depth = 5, min_samples_split = 10)\n",
    "rf.fit(np.array(X_train).reshape(-1,1), y_train)"
   ]
  },
  {
   "cell_type": "code",
   "execution_count": 89,
   "id": "dade6a66",
   "metadata": {},
   "outputs": [
    {
     "data": {
      "text/html": [
       "<div>\n",
       "<style scoped>\n",
       "    .dataframe tbody tr th:only-of-type {\n",
       "        vertical-align: middle;\n",
       "    }\n",
       "\n",
       "    .dataframe tbody tr th {\n",
       "        vertical-align: top;\n",
       "    }\n",
       "\n",
       "    .dataframe thead th {\n",
       "        text-align: right;\n",
       "    }\n",
       "</style>\n",
       "<table border=\"1\" class=\"dataframe\">\n",
       "  <thead>\n",
       "    <tr style=\"text-align: right;\">\n",
       "      <th></th>\n",
       "      <th>age_of_patient</th>\n",
       "      <th>year_of_operation</th>\n",
       "      <th>pos_nodes</th>\n",
       "      <th>outcome</th>\n",
       "      <th>RFPrediction</th>\n",
       "    </tr>\n",
       "  </thead>\n",
       "  <tbody>\n",
       "    <tr>\n",
       "      <th>3</th>\n",
       "      <td>31</td>\n",
       "      <td>59</td>\n",
       "      <td>2</td>\n",
       "      <td>1</td>\n",
       "      <td>1</td>\n",
       "    </tr>\n",
       "    <tr>\n",
       "      <th>4</th>\n",
       "      <td>31</td>\n",
       "      <td>65</td>\n",
       "      <td>4</td>\n",
       "      <td>1</td>\n",
       "      <td>1</td>\n",
       "    </tr>\n",
       "    <tr>\n",
       "      <th>7</th>\n",
       "      <td>34</td>\n",
       "      <td>59</td>\n",
       "      <td>0</td>\n",
       "      <td>2</td>\n",
       "      <td>1</td>\n",
       "    </tr>\n",
       "    <tr>\n",
       "      <th>8</th>\n",
       "      <td>34</td>\n",
       "      <td>66</td>\n",
       "      <td>9</td>\n",
       "      <td>2</td>\n",
       "      <td>2</td>\n",
       "    </tr>\n",
       "    <tr>\n",
       "      <th>11</th>\n",
       "      <td>34</td>\n",
       "      <td>61</td>\n",
       "      <td>10</td>\n",
       "      <td>1</td>\n",
       "      <td>2</td>\n",
       "    </tr>\n",
       "  </tbody>\n",
       "</table>\n",
       "</div>"
      ],
      "text/plain": [
       "    age_of_patient  year_of_operation  pos_nodes  outcome  RFPrediction\n",
       "3               31                 59          2        1             1\n",
       "4               31                 65          4        1             1\n",
       "7               34                 59          0        2             1\n",
       "8               34                 66          9        2             2\n",
       "11              34                 61         10        1             2"
      ]
     },
     "execution_count": 89,
     "metadata": {},
     "output_type": "execute_result"
    }
   ],
   "source": [
    "df_test = df[df.index.isin(X_test.index)].copy()\n",
    "df_test['RFPrediction'] = rf.predict(np.array(df_test[predictors]).reshape(-1,1))\n",
    "df_test.head()"
   ]
  },
  {
   "cell_type": "code",
   "execution_count": 90,
   "id": "ad5b1a66",
   "metadata": {},
   "outputs": [
    {
     "name": "stdout",
     "output_type": "stream",
     "text": [
      "Accuracy score: 0.696\n",
      "Precsion score: 0.806\n",
      "Recall score: 0.783\n"
     ]
    }
   ],
   "source": [
    "print(\"Accuracy score:\", np.round(accuracy_score(df_test.outcome, df_test.RFPrediction), 3))\n",
    "print(\"Precsion score:\", np.round(precision_score(df_test.outcome, df_test.RFPrediction), 3))\n",
    "print(\"Recall score:\", np.round(recall_score(df_test.outcome, df_test.RFPrediction), 3))"
   ]
  },
  {
   "cell_type": "code",
   "execution_count": null,
   "id": "1449aba2",
   "metadata": {},
   "outputs": [],
   "source": []
  }
 ],
 "metadata": {
  "kernelspec": {
   "display_name": "Python 3 (ipykernel)",
   "language": "python",
   "name": "python3"
  },
  "language_info": {
   "codemirror_mode": {
    "name": "ipython",
    "version": 3
   },
   "file_extension": ".py",
   "mimetype": "text/x-python",
   "name": "python",
   "nbconvert_exporter": "python",
   "pygments_lexer": "ipython3",
   "version": "3.9.13"
  }
 },
 "nbformat": 4,
 "nbformat_minor": 5
}
