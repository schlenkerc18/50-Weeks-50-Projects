{
 "cells": [
  {
   "cell_type": "code",
   "execution_count": null,
   "id": "508d365c",
   "metadata": {},
   "outputs": [],
   "source": [
    "import pandas as pd\n",
    "import numpy as np\n",
    "\n",
    "import matplotlib.pyplot as plt\n",
    "import seaborn as sns\n",
    "sns.set_style(\"whitegrid\")\n",
    "sns.set_palette(\"pastel\")"
   ]
  },
  {
   "cell_type": "code",
   "execution_count": null,
   "id": "91c7c803",
   "metadata": {},
   "outputs": [],
   "source": [
    "df = pd.read_csv('./gender_wage_gap.csv')\n",
    "\n",
    "df['men_women_diff'] = df.men_average - df.women_average\n",
    "df.head()"
   ]
  },
  {
   "cell_type": "code",
   "execution_count": null,
   "id": "81c4c21b",
   "metadata": {},
   "outputs": [],
   "source": [
    "df.isna().sum().sum() # no missing data"
   ]
  },
  {
   "cell_type": "code",
   "execution_count": null,
   "id": "5410252e",
   "metadata": {},
   "outputs": [],
   "source": [
    "df.describe()"
   ]
  },
  {
   "cell_type": "markdown",
   "id": "34c877f6",
   "metadata": {},
   "source": [
    "# EDA"
   ]
  },
  {
   "cell_type": "code",
   "execution_count": null,
   "id": "c39365ae",
   "metadata": {},
   "outputs": [],
   "source": [
    "# let's explore the difference in wage gap over time\n",
    "plt.figure()\n",
    "sns.lineplot(data = df, x = 'year', y = 'men_average', label = 'Men Avg. Salary')\n",
    "sns.lineplot(data = df, x = 'year', y = 'women_average', label = 'Women Avg. Salary')\n",
    "plt.ylabel(\"Average Salary\")\n",
    "plt.legend()\n",
    "plt.show()"
   ]
  },
  {
   "cell_type": "code",
   "execution_count": null,
   "id": "0bfcd87c",
   "metadata": {},
   "outputs": [],
   "source": [
    "plt.figure()\n",
    "sns.lineplot(data = df, x = 'year', y = 'men_women_diff')\n",
    "plt.title(\"Difference Between Men's and Women's Avg. Salary\")\n",
    "plt.ylabel(\"Salary Difference\")\n",
    "plt.show()"
   ]
  },
  {
   "cell_type": "code",
   "execution_count": null,
   "id": "644d8e67",
   "metadata": {},
   "outputs": [],
   "source": [
    "# Let's now turn our attention to average salary of different races of men, and women, respectively"
   ]
  }
 ],
 "metadata": {
  "kernelspec": {
   "display_name": "Python 3 (ipykernel)",
   "language": "python",
   "name": "python3"
  },
  "language_info": {
   "codemirror_mode": {
    "name": "ipython",
    "version": 3
   },
   "file_extension": ".py",
   "mimetype": "text/x-python",
   "name": "python",
   "nbconvert_exporter": "python",
   "pygments_lexer": "ipython3",
   "version": "3.9.13"
  }
 },
 "nbformat": 4,
 "nbformat_minor": 5
}
