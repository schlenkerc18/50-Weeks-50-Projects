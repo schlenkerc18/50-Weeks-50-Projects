{
 "cells": [
  {
   "cell_type": "code",
   "execution_count": 1,
   "id": "227396f8",
   "metadata": {},
   "outputs": [],
   "source": [
    "import pandas as pd\n",
    "import numpy as np\n",
    "\n",
    "import seaborn as sns\n",
    "import matplotlib.pyplot as plt\n",
    "\n",
    "from sklearn.model_selection import train_test_split\n",
    "from sklearn.metrics import accuracy_score, precision_score, recall_score, confusion_matrix\n",
    "\n",
    "from sklearn.ensemble import RandomForestClassifier"
   ]
  },
  {
   "cell_type": "code",
   "execution_count": 2,
   "id": "8c232846",
   "metadata": {},
   "outputs": [
    {
     "data": {
      "text/html": [
       "<div>\n",
       "<style scoped>\n",
       "    .dataframe tbody tr th:only-of-type {\n",
       "        vertical-align: middle;\n",
       "    }\n",
       "\n",
       "    .dataframe tbody tr th {\n",
       "        vertical-align: top;\n",
       "    }\n",
       "\n",
       "    .dataframe thead th {\n",
       "        text-align: right;\n",
       "    }\n",
       "</style>\n",
       "<table border=\"1\" class=\"dataframe\">\n",
       "  <thead>\n",
       "    <tr style=\"text-align: right;\">\n",
       "      <th></th>\n",
       "      <th>Loan_ID</th>\n",
       "      <th>Gender</th>\n",
       "      <th>Married</th>\n",
       "      <th>Dependents</th>\n",
       "      <th>Education</th>\n",
       "      <th>Self_Employed</th>\n",
       "      <th>ApplicantIncome</th>\n",
       "      <th>CoapplicantIncome</th>\n",
       "      <th>LoanAmount</th>\n",
       "      <th>Loan_Amount_Term</th>\n",
       "      <th>Credit_History</th>\n",
       "      <th>Property_Area</th>\n",
       "    </tr>\n",
       "  </thead>\n",
       "  <tbody>\n",
       "    <tr>\n",
       "      <th>0</th>\n",
       "      <td>LP001015</td>\n",
       "      <td>Male</td>\n",
       "      <td>Yes</td>\n",
       "      <td>0</td>\n",
       "      <td>Graduate</td>\n",
       "      <td>No</td>\n",
       "      <td>5720</td>\n",
       "      <td>0</td>\n",
       "      <td>110.0</td>\n",
       "      <td>360.0</td>\n",
       "      <td>1.0</td>\n",
       "      <td>Urban</td>\n",
       "    </tr>\n",
       "    <tr>\n",
       "      <th>1</th>\n",
       "      <td>LP001022</td>\n",
       "      <td>Male</td>\n",
       "      <td>Yes</td>\n",
       "      <td>1</td>\n",
       "      <td>Graduate</td>\n",
       "      <td>No</td>\n",
       "      <td>3076</td>\n",
       "      <td>1500</td>\n",
       "      <td>126.0</td>\n",
       "      <td>360.0</td>\n",
       "      <td>1.0</td>\n",
       "      <td>Urban</td>\n",
       "    </tr>\n",
       "    <tr>\n",
       "      <th>2</th>\n",
       "      <td>LP001031</td>\n",
       "      <td>Male</td>\n",
       "      <td>Yes</td>\n",
       "      <td>2</td>\n",
       "      <td>Graduate</td>\n",
       "      <td>No</td>\n",
       "      <td>5000</td>\n",
       "      <td>1800</td>\n",
       "      <td>208.0</td>\n",
       "      <td>360.0</td>\n",
       "      <td>1.0</td>\n",
       "      <td>Urban</td>\n",
       "    </tr>\n",
       "    <tr>\n",
       "      <th>3</th>\n",
       "      <td>LP001035</td>\n",
       "      <td>Male</td>\n",
       "      <td>Yes</td>\n",
       "      <td>2</td>\n",
       "      <td>Graduate</td>\n",
       "      <td>No</td>\n",
       "      <td>2340</td>\n",
       "      <td>2546</td>\n",
       "      <td>100.0</td>\n",
       "      <td>360.0</td>\n",
       "      <td>NaN</td>\n",
       "      <td>Urban</td>\n",
       "    </tr>\n",
       "    <tr>\n",
       "      <th>4</th>\n",
       "      <td>LP001051</td>\n",
       "      <td>Male</td>\n",
       "      <td>No</td>\n",
       "      <td>0</td>\n",
       "      <td>Not Graduate</td>\n",
       "      <td>No</td>\n",
       "      <td>3276</td>\n",
       "      <td>0</td>\n",
       "      <td>78.0</td>\n",
       "      <td>360.0</td>\n",
       "      <td>1.0</td>\n",
       "      <td>Urban</td>\n",
       "    </tr>\n",
       "  </tbody>\n",
       "</table>\n",
       "</div>"
      ],
      "text/plain": [
       "    Loan_ID Gender Married Dependents     Education Self_Employed  \\\n",
       "0  LP001015   Male     Yes          0      Graduate            No   \n",
       "1  LP001022   Male     Yes          1      Graduate            No   \n",
       "2  LP001031   Male     Yes          2      Graduate            No   \n",
       "3  LP001035   Male     Yes          2      Graduate            No   \n",
       "4  LP001051   Male      No          0  Not Graduate            No   \n",
       "\n",
       "   ApplicantIncome  CoapplicantIncome  LoanAmount  Loan_Amount_Term  \\\n",
       "0             5720                  0       110.0             360.0   \n",
       "1             3076               1500       126.0             360.0   \n",
       "2             5000               1800       208.0             360.0   \n",
       "3             2340               2546       100.0             360.0   \n",
       "4             3276                  0        78.0             360.0   \n",
       "\n",
       "   Credit_History Property_Area  \n",
       "0             1.0         Urban  \n",
       "1             1.0         Urban  \n",
       "2             1.0         Urban  \n",
       "3             NaN         Urban  \n",
       "4             1.0         Urban  "
      ]
     },
     "execution_count": 2,
     "metadata": {},
     "output_type": "execute_result"
    }
   ],
   "source": [
    "test_df = pd.read_csv('./data/test_Y3wMUE5_7gLdaTN.csv')\n",
    "test_df.head()"
   ]
  },
  {
   "cell_type": "code",
   "execution_count": 3,
   "id": "200a6ee3",
   "metadata": {},
   "outputs": [],
   "source": [
    "test_df.dropna(inplace = True)"
   ]
  },
  {
   "cell_type": "code",
   "execution_count": 4,
   "id": "5de61d8a",
   "metadata": {},
   "outputs": [
    {
     "data": {
      "text/plain": [
       "(289, 12)"
      ]
     },
     "execution_count": 4,
     "metadata": {},
     "output_type": "execute_result"
    }
   ],
   "source": [
    "test_df.shape"
   ]
  },
  {
   "cell_type": "code",
   "execution_count": 5,
   "id": "d5fdad21",
   "metadata": {},
   "outputs": [
    {
     "data": {
      "text/html": [
       "<div>\n",
       "<style scoped>\n",
       "    .dataframe tbody tr th:only-of-type {\n",
       "        vertical-align: middle;\n",
       "    }\n",
       "\n",
       "    .dataframe tbody tr th {\n",
       "        vertical-align: top;\n",
       "    }\n",
       "\n",
       "    .dataframe thead th {\n",
       "        text-align: right;\n",
       "    }\n",
       "</style>\n",
       "<table border=\"1\" class=\"dataframe\">\n",
       "  <thead>\n",
       "    <tr style=\"text-align: right;\">\n",
       "      <th></th>\n",
       "      <th>Loan_ID</th>\n",
       "      <th>Gender</th>\n",
       "      <th>Married</th>\n",
       "      <th>Dependents</th>\n",
       "      <th>Education</th>\n",
       "      <th>Self_Employed</th>\n",
       "      <th>ApplicantIncome</th>\n",
       "      <th>CoapplicantIncome</th>\n",
       "      <th>LoanAmount</th>\n",
       "      <th>Loan_Amount_Term</th>\n",
       "      <th>Credit_History</th>\n",
       "      <th>Property_Area</th>\n",
       "      <th>Loan_Status</th>\n",
       "    </tr>\n",
       "  </thead>\n",
       "  <tbody>\n",
       "    <tr>\n",
       "      <th>1</th>\n",
       "      <td>LP001003</td>\n",
       "      <td>1</td>\n",
       "      <td>1</td>\n",
       "      <td>1</td>\n",
       "      <td>1</td>\n",
       "      <td>0</td>\n",
       "      <td>4583</td>\n",
       "      <td>1508.0</td>\n",
       "      <td>128.0</td>\n",
       "      <td>360.0</td>\n",
       "      <td>1.0</td>\n",
       "      <td>Rural</td>\n",
       "      <td>0</td>\n",
       "    </tr>\n",
       "    <tr>\n",
       "      <th>2</th>\n",
       "      <td>LP001005</td>\n",
       "      <td>1</td>\n",
       "      <td>1</td>\n",
       "      <td>0</td>\n",
       "      <td>1</td>\n",
       "      <td>1</td>\n",
       "      <td>3000</td>\n",
       "      <td>0.0</td>\n",
       "      <td>66.0</td>\n",
       "      <td>360.0</td>\n",
       "      <td>1.0</td>\n",
       "      <td>Urban</td>\n",
       "      <td>1</td>\n",
       "    </tr>\n",
       "    <tr>\n",
       "      <th>3</th>\n",
       "      <td>LP001006</td>\n",
       "      <td>1</td>\n",
       "      <td>1</td>\n",
       "      <td>0</td>\n",
       "      <td>0</td>\n",
       "      <td>0</td>\n",
       "      <td>2583</td>\n",
       "      <td>2358.0</td>\n",
       "      <td>120.0</td>\n",
       "      <td>360.0</td>\n",
       "      <td>1.0</td>\n",
       "      <td>Urban</td>\n",
       "      <td>1</td>\n",
       "    </tr>\n",
       "    <tr>\n",
       "      <th>4</th>\n",
       "      <td>LP001008</td>\n",
       "      <td>1</td>\n",
       "      <td>0</td>\n",
       "      <td>0</td>\n",
       "      <td>1</td>\n",
       "      <td>0</td>\n",
       "      <td>6000</td>\n",
       "      <td>0.0</td>\n",
       "      <td>141.0</td>\n",
       "      <td>360.0</td>\n",
       "      <td>1.0</td>\n",
       "      <td>Urban</td>\n",
       "      <td>1</td>\n",
       "    </tr>\n",
       "    <tr>\n",
       "      <th>5</th>\n",
       "      <td>LP001011</td>\n",
       "      <td>1</td>\n",
       "      <td>1</td>\n",
       "      <td>2</td>\n",
       "      <td>1</td>\n",
       "      <td>1</td>\n",
       "      <td>5417</td>\n",
       "      <td>4196.0</td>\n",
       "      <td>267.0</td>\n",
       "      <td>360.0</td>\n",
       "      <td>1.0</td>\n",
       "      <td>Urban</td>\n",
       "      <td>1</td>\n",
       "    </tr>\n",
       "  </tbody>\n",
       "</table>\n",
       "</div>"
      ],
      "text/plain": [
       "    Loan_ID  Gender  Married  Dependents  Education  Self_Employed  \\\n",
       "1  LP001003       1        1           1          1              0   \n",
       "2  LP001005       1        1           0          1              1   \n",
       "3  LP001006       1        1           0          0              0   \n",
       "4  LP001008       1        0           0          1              0   \n",
       "5  LP001011       1        1           2          1              1   \n",
       "\n",
       "   ApplicantIncome  CoapplicantIncome  LoanAmount  Loan_Amount_Term  \\\n",
       "1             4583             1508.0       128.0             360.0   \n",
       "2             3000                0.0        66.0             360.0   \n",
       "3             2583             2358.0       120.0             360.0   \n",
       "4             6000                0.0       141.0             360.0   \n",
       "5             5417             4196.0       267.0             360.0   \n",
       "\n",
       "   Credit_History Property_Area  Loan_Status  \n",
       "1             1.0         Rural            0  \n",
       "2             1.0         Urban            1  \n",
       "3             1.0         Urban            1  \n",
       "4             1.0         Urban            1  \n",
       "5             1.0         Urban            1  "
      ]
     },
     "execution_count": 5,
     "metadata": {},
     "output_type": "execute_result"
    }
   ],
   "source": [
    "df = pd.read_csv('./data/train_u6lujuX_CVtuZ9i.csv')\n",
    "\n",
    "df.dropna(inplace = True)\n",
    "\n",
    "df.Loan_Status = df.Loan_Status.replace({'N': 0, 'Y': 1})\n",
    "df.Gender = df.Gender.replace({'Male': 1, 'Female': 0})\n",
    "df.Married = df.Married.replace({'Yes': 1, 'No': 0})\n",
    "df.Dependents = df.Dependents.replace({'3+': 3}).astype(np.int64)\n",
    "df.Education = df.Education.replace({'Graduate': 1, 'Not Graduate': 0})\n",
    "df.Self_Employed = df.Self_Employed.replace({'Yes': 1, 'No': 0})\n",
    "\n",
    "df.head()"
   ]
  },
  {
   "cell_type": "code",
   "execution_count": 6,
   "id": "dfffccd9",
   "metadata": {},
   "outputs": [
    {
     "data": {
      "text/html": [
       "<div>\n",
       "<style scoped>\n",
       "    .dataframe tbody tr th:only-of-type {\n",
       "        vertical-align: middle;\n",
       "    }\n",
       "\n",
       "    .dataframe tbody tr th {\n",
       "        vertical-align: top;\n",
       "    }\n",
       "\n",
       "    .dataframe thead th {\n",
       "        text-align: right;\n",
       "    }\n",
       "</style>\n",
       "<table border=\"1\" class=\"dataframe\">\n",
       "  <thead>\n",
       "    <tr style=\"text-align: right;\">\n",
       "      <th></th>\n",
       "      <th>Loan_ID</th>\n",
       "      <th>Gender</th>\n",
       "      <th>Married</th>\n",
       "      <th>Dependents</th>\n",
       "      <th>Education</th>\n",
       "      <th>Self_Employed</th>\n",
       "      <th>ApplicantIncome</th>\n",
       "      <th>CoapplicantIncome</th>\n",
       "      <th>LoanAmount</th>\n",
       "      <th>Loan_Amount_Term</th>\n",
       "      <th>Credit_History</th>\n",
       "      <th>Loan_Status</th>\n",
       "      <th>Prop_Semiurban</th>\n",
       "      <th>Prop_Urban</th>\n",
       "    </tr>\n",
       "  </thead>\n",
       "  <tbody>\n",
       "    <tr>\n",
       "      <th>1</th>\n",
       "      <td>LP001003</td>\n",
       "      <td>1</td>\n",
       "      <td>1</td>\n",
       "      <td>1</td>\n",
       "      <td>1</td>\n",
       "      <td>0</td>\n",
       "      <td>4583</td>\n",
       "      <td>1508.0</td>\n",
       "      <td>128.0</td>\n",
       "      <td>360.0</td>\n",
       "      <td>1.0</td>\n",
       "      <td>0</td>\n",
       "      <td>0</td>\n",
       "      <td>0</td>\n",
       "    </tr>\n",
       "    <tr>\n",
       "      <th>2</th>\n",
       "      <td>LP001005</td>\n",
       "      <td>1</td>\n",
       "      <td>1</td>\n",
       "      <td>0</td>\n",
       "      <td>1</td>\n",
       "      <td>1</td>\n",
       "      <td>3000</td>\n",
       "      <td>0.0</td>\n",
       "      <td>66.0</td>\n",
       "      <td>360.0</td>\n",
       "      <td>1.0</td>\n",
       "      <td>1</td>\n",
       "      <td>0</td>\n",
       "      <td>1</td>\n",
       "    </tr>\n",
       "    <tr>\n",
       "      <th>3</th>\n",
       "      <td>LP001006</td>\n",
       "      <td>1</td>\n",
       "      <td>1</td>\n",
       "      <td>0</td>\n",
       "      <td>0</td>\n",
       "      <td>0</td>\n",
       "      <td>2583</td>\n",
       "      <td>2358.0</td>\n",
       "      <td>120.0</td>\n",
       "      <td>360.0</td>\n",
       "      <td>1.0</td>\n",
       "      <td>1</td>\n",
       "      <td>0</td>\n",
       "      <td>1</td>\n",
       "    </tr>\n",
       "    <tr>\n",
       "      <th>4</th>\n",
       "      <td>LP001008</td>\n",
       "      <td>1</td>\n",
       "      <td>0</td>\n",
       "      <td>0</td>\n",
       "      <td>1</td>\n",
       "      <td>0</td>\n",
       "      <td>6000</td>\n",
       "      <td>0.0</td>\n",
       "      <td>141.0</td>\n",
       "      <td>360.0</td>\n",
       "      <td>1.0</td>\n",
       "      <td>1</td>\n",
       "      <td>0</td>\n",
       "      <td>1</td>\n",
       "    </tr>\n",
       "    <tr>\n",
       "      <th>5</th>\n",
       "      <td>LP001011</td>\n",
       "      <td>1</td>\n",
       "      <td>1</td>\n",
       "      <td>2</td>\n",
       "      <td>1</td>\n",
       "      <td>1</td>\n",
       "      <td>5417</td>\n",
       "      <td>4196.0</td>\n",
       "      <td>267.0</td>\n",
       "      <td>360.0</td>\n",
       "      <td>1.0</td>\n",
       "      <td>1</td>\n",
       "      <td>0</td>\n",
       "      <td>1</td>\n",
       "    </tr>\n",
       "  </tbody>\n",
       "</table>\n",
       "</div>"
      ],
      "text/plain": [
       "    Loan_ID  Gender  Married  Dependents  Education  Self_Employed  \\\n",
       "1  LP001003       1        1           1          1              0   \n",
       "2  LP001005       1        1           0          1              1   \n",
       "3  LP001006       1        1           0          0              0   \n",
       "4  LP001008       1        0           0          1              0   \n",
       "5  LP001011       1        1           2          1              1   \n",
       "\n",
       "   ApplicantIncome  CoapplicantIncome  LoanAmount  Loan_Amount_Term  \\\n",
       "1             4583             1508.0       128.0             360.0   \n",
       "2             3000                0.0        66.0             360.0   \n",
       "3             2583             2358.0       120.0             360.0   \n",
       "4             6000                0.0       141.0             360.0   \n",
       "5             5417             4196.0       267.0             360.0   \n",
       "\n",
       "   Credit_History  Loan_Status  Prop_Semiurban  Prop_Urban  \n",
       "1             1.0            0               0           0  \n",
       "2             1.0            1               0           1  \n",
       "3             1.0            1               0           1  \n",
       "4             1.0            1               0           1  \n",
       "5             1.0            1               0           1  "
      ]
     },
     "execution_count": 6,
     "metadata": {},
     "output_type": "execute_result"
    }
   ],
   "source": [
    "df = pd.get_dummies(df, columns = ['Property_Area'], prefix = 'Prop', drop_first = True)\n",
    "df.head()"
   ]
  },
  {
   "cell_type": "code",
   "execution_count": 7,
   "id": "6a62bbf7",
   "metadata": {},
   "outputs": [
    {
     "data": {
      "text/plain": [
       "(480, 14)"
      ]
     },
     "execution_count": 7,
     "metadata": {},
     "output_type": "execute_result"
    }
   ],
   "source": [
    "df.shape"
   ]
  },
  {
   "cell_type": "code",
   "execution_count": 8,
   "id": "3ae26a6a",
   "metadata": {},
   "outputs": [
    {
     "data": {
      "text/html": [
       "<div>\n",
       "<style scoped>\n",
       "    .dataframe tbody tr th:only-of-type {\n",
       "        vertical-align: middle;\n",
       "    }\n",
       "\n",
       "    .dataframe tbody tr th {\n",
       "        vertical-align: top;\n",
       "    }\n",
       "\n",
       "    .dataframe thead th {\n",
       "        text-align: right;\n",
       "    }\n",
       "</style>\n",
       "<table border=\"1\" class=\"dataframe\">\n",
       "  <thead>\n",
       "    <tr style=\"text-align: right;\">\n",
       "      <th></th>\n",
       "      <th>Prop_Semiurban</th>\n",
       "      <th>Prop_Urban</th>\n",
       "    </tr>\n",
       "    <tr>\n",
       "      <th>Loan_Status</th>\n",
       "      <th></th>\n",
       "      <th></th>\n",
       "    </tr>\n",
       "  </thead>\n",
       "  <tbody>\n",
       "    <tr>\n",
       "      <th>0</th>\n",
       "      <td>0.283784</td>\n",
       "      <td>0.351351</td>\n",
       "    </tr>\n",
       "    <tr>\n",
       "      <th>1</th>\n",
       "      <td>0.448795</td>\n",
       "      <td>0.295181</td>\n",
       "    </tr>\n",
       "  </tbody>\n",
       "</table>\n",
       "</div>"
      ],
      "text/plain": [
       "             Prop_Semiurban  Prop_Urban\n",
       "Loan_Status                            \n",
       "0                  0.283784    0.351351\n",
       "1                  0.448795    0.295181"
      ]
     },
     "execution_count": 8,
     "metadata": {},
     "output_type": "execute_result"
    }
   ],
   "source": [
    "df.groupby('Loan_Status').aggregate({'Prop_Semiurban': np.average, 'Prop_Urban': np.average})"
   ]
  },
  {
   "cell_type": "code",
   "execution_count": 9,
   "id": "8ef05612",
   "metadata": {},
   "outputs": [
    {
     "data": {
      "text/plain": [
       "Loan_ID              0\n",
       "Gender               0\n",
       "Married              0\n",
       "Dependents           0\n",
       "Education            0\n",
       "Self_Employed        0\n",
       "ApplicantIncome      0\n",
       "CoapplicantIncome    0\n",
       "LoanAmount           0\n",
       "Loan_Amount_Term     0\n",
       "Credit_History       0\n",
       "Loan_Status          0\n",
       "Prop_Semiurban       0\n",
       "Prop_Urban           0\n",
       "dtype: int64"
      ]
     },
     "execution_count": 9,
     "metadata": {},
     "output_type": "execute_result"
    }
   ],
   "source": [
    "df.isna().sum()"
   ]
  },
  {
   "cell_type": "code",
   "execution_count": 10,
   "id": "d878c1bc",
   "metadata": {},
   "outputs": [
    {
     "data": {
      "text/html": [
       "<div>\n",
       "<style scoped>\n",
       "    .dataframe tbody tr th:only-of-type {\n",
       "        vertical-align: middle;\n",
       "    }\n",
       "\n",
       "    .dataframe tbody tr th {\n",
       "        vertical-align: top;\n",
       "    }\n",
       "\n",
       "    .dataframe thead th {\n",
       "        text-align: right;\n",
       "    }\n",
       "</style>\n",
       "<table border=\"1\" class=\"dataframe\">\n",
       "  <thead>\n",
       "    <tr style=\"text-align: right;\">\n",
       "      <th></th>\n",
       "      <th>Gender</th>\n",
       "      <th>Married</th>\n",
       "      <th>Dependents</th>\n",
       "      <th>Education</th>\n",
       "      <th>Self_Employed</th>\n",
       "      <th>ApplicantIncome</th>\n",
       "      <th>CoapplicantIncome</th>\n",
       "      <th>LoanAmount</th>\n",
       "      <th>Loan_Amount_Term</th>\n",
       "      <th>Credit_History</th>\n",
       "      <th>Count</th>\n",
       "    </tr>\n",
       "    <tr>\n",
       "      <th>Loan_Status</th>\n",
       "      <th></th>\n",
       "      <th></th>\n",
       "      <th></th>\n",
       "      <th></th>\n",
       "      <th></th>\n",
       "      <th></th>\n",
       "      <th></th>\n",
       "      <th></th>\n",
       "      <th></th>\n",
       "      <th></th>\n",
       "      <th></th>\n",
       "    </tr>\n",
       "  </thead>\n",
       "  <tbody>\n",
       "    <tr>\n",
       "      <th>0</th>\n",
       "      <td>0.783784</td>\n",
       "      <td>0.567568</td>\n",
       "      <td>0.722973</td>\n",
       "      <td>0.756757</td>\n",
       "      <td>0.155405</td>\n",
       "      <td>5730.189189</td>\n",
       "      <td>1773.081081</td>\n",
       "      <td>153.378378</td>\n",
       "      <td>342.810811</td>\n",
       "      <td>0.574324</td>\n",
       "      <td>148</td>\n",
       "    </tr>\n",
       "    <tr>\n",
       "      <th>1</th>\n",
       "      <td>0.837349</td>\n",
       "      <td>0.683735</td>\n",
       "      <td>0.801205</td>\n",
       "      <td>0.816265</td>\n",
       "      <td>0.129518</td>\n",
       "      <td>5201.093373</td>\n",
       "      <td>1495.508795</td>\n",
       "      <td>140.882530</td>\n",
       "      <td>341.710843</td>\n",
       "      <td>0.978916</td>\n",
       "      <td>332</td>\n",
       "    </tr>\n",
       "  </tbody>\n",
       "</table>\n",
       "</div>"
      ],
      "text/plain": [
       "               Gender   Married  Dependents  Education  Self_Employed  \\\n",
       "Loan_Status                                                             \n",
       "0            0.783784  0.567568    0.722973   0.756757       0.155405   \n",
       "1            0.837349  0.683735    0.801205   0.816265       0.129518   \n",
       "\n",
       "             ApplicantIncome  CoapplicantIncome  LoanAmount  Loan_Amount_Term  \\\n",
       "Loan_Status                                                                     \n",
       "0                5730.189189        1773.081081  153.378378        342.810811   \n",
       "1                5201.093373        1495.508795  140.882530        341.710843   \n",
       "\n",
       "             Credit_History  Count  \n",
       "Loan_Status                         \n",
       "0                  0.574324    148  \n",
       "1                  0.978916    332  "
      ]
     },
     "execution_count": 10,
     "metadata": {},
     "output_type": "execute_result"
    }
   ],
   "source": [
    "group = df.groupby('Loan_Status')\\\n",
    "          .aggregate({'Gender': np.average, 'Married': np.average, \n",
    "                      'Dependents': np.average, 'Education': np.average,\n",
    "                      'Self_Employed': np.average, 'ApplicantIncome': np.average,\n",
    "                      'CoapplicantIncome': np.average, 'LoanAmount': np.average,\n",
    "                      'Loan_Amount_Term': np.average, 'Credit_History': np.average,\n",
    "                      'Loan_ID': 'count'})\\\n",
    "          .rename(columns = {'Loan_ID': 'Count'})\n",
    "group"
   ]
  },
  {
   "cell_type": "code",
   "execution_count": 11,
   "id": "af1dc4a2",
   "metadata": {},
   "outputs": [],
   "source": [
    "predictors = []"
   ]
  },
  {
   "cell_type": "markdown",
   "id": "95c36d73",
   "metadata": {},
   "source": [
    "### Perm Tests"
   ]
  },
  {
   "cell_type": "code",
   "execution_count": 12,
   "id": "af8474be",
   "metadata": {},
   "outputs": [],
   "source": [
    "def perm_fun(df, len_a, col):\n",
    "    a = df[col].sample(len_a, replace=False)\n",
    "    b = df[~df.index.isin(a.index)][col]\n",
    "    \n",
    "    return a.mean() - b.mean()"
   ]
  },
  {
   "cell_type": "code",
   "execution_count": 13,
   "id": "74479206",
   "metadata": {},
   "outputs": [],
   "source": [
    "actual_diff = group.Gender.loc[1] - group.Gender.loc[0]\n",
    "diffs = [perm_fun(df, group.Count.loc[1], 'Gender') for _ in range(1000)]"
   ]
  },
  {
   "cell_type": "code",
   "execution_count": 14,
   "id": "f118a36c",
   "metadata": {},
   "outputs": [
    {
     "data": {
      "image/png": "[encoded data removed]",
      "text/plain": [
       "<Figure size 400x200 with 1 Axes>"
      ]
     },
     "metadata": {},
     "output_type": "display_data"
    },
    {
     "name": "stdout",
     "output_type": "stream",
     "text": [
      "\tP-val 0.148\n"
     ]
    }
   ],
   "source": [
    "plt.figure(figsize=(4,2))\n",
    "sns.histplot(diffs)\n",
    "plt.axvline(actual_diff, color = 'red')\n",
    "plt.title(\"Gender\")\n",
    "plt.show()\n",
    "\n",
    "p_val = np.array([np.abs(diff) > actual_diff for diff in diffs]).mean()\n",
    "print(\"\\tP-val\", p_val)\n",
    "\n",
    "if p_val <= .05:\n",
    "    predictors.append('Gender')"
   ]
  },
  {
   "cell_type": "code",
   "execution_count": 15,
   "id": "d1b0660c",
   "metadata": {},
   "outputs": [],
   "source": [
    "actual_diff = group.Married.loc[1] - group.Married.loc[0]\n",
    "diffs = [perm_fun(df, group.Count.loc[1], 'Married') for _ in range(1000)]"
   ]
  },
  {
   "cell_type": "code",
   "execution_count": 16,
   "id": "cc7c403c",
   "metadata": {},
   "outputs": [
    {
     "data": {
      "image/png": "[encoded data removed]",
      "text/plain": [
       "<Figure size 400x200 with 1 Axes>"
      ]
     },
     "metadata": {},
     "output_type": "display_data"
    },
    {
     "name": "stdout",
     "output_type": "stream",
     "text": [
      "\tP-val 0.01\n"
     ]
    }
   ],
   "source": [
    "plt.figure(figsize=(4,2))\n",
    "sns.histplot(diffs)\n",
    "plt.axvline(actual_diff, color = 'red')\n",
    "plt.title(\"Married\")\n",
    "plt.show()\n",
    "\n",
    "p_val = np.array([np.abs(diff) > np.abs(actual_diff) for diff in diffs]).mean()\n",
    "print(\"\\tP-val\", p_val)\n",
    "\n",
    "if p_val <= .05:\n",
    "    predictors.append('Married')"
   ]
  },
  {
   "cell_type": "code",
   "execution_count": 17,
   "id": "d012344d",
   "metadata": {},
   "outputs": [],
   "source": [
    "actual_diff = group.Dependents.loc[1] - group.Dependents.loc[0]\n",
    "diffs = [perm_fun(df, group.Count.loc[1], 'Dependents') for _ in range(1000)]"
   ]
  },
  {
   "cell_type": "code",
   "execution_count": 18,
   "id": "117e42c5",
   "metadata": {},
   "outputs": [
    {
     "data": {
      "image/png": "[encoded data removed]",
      "text/plain": [
       "<Figure size 400x200 with 1 Axes>"
      ]
     },
     "metadata": {},
     "output_type": "display_data"
    },
    {
     "name": "stdout",
     "output_type": "stream",
     "text": [
      "\tP-val 0.398\n"
     ]
    }
   ],
   "source": [
    "plt.figure(figsize=(4,2))\n",
    "sns.histplot(diffs)\n",
    "plt.axvline(actual_diff, color = 'red')\n",
    "plt.title(\"Dependents\")\n",
    "plt.show()\n",
    "\n",
    "p_val = np.array([np.abs(diff) > np.abs(actual_diff) for diff in diffs]).mean()\n",
    "print(\"\\tP-val\", p_val)\n",
    "\n",
    "if p_val <= .05:\n",
    "    predictors.append('Dependents')"
   ]
  },
  {
   "cell_type": "code",
   "execution_count": 19,
   "id": "55ffbec8",
   "metadata": {},
   "outputs": [],
   "source": [
    "actual_diff = group.Education.loc[1] - group.Education.loc[0]\n",
    "diffs = [perm_fun(df, group.Count.loc[1], 'Education') for _ in range(1000)]"
   ]
  },
  {
   "cell_type": "code",
   "execution_count": 20,
   "id": "d96be521",
   "metadata": {},
   "outputs": [
    {
     "data": {
      "image/png": "[encoded data removed]",
      "text/plain": [
       "<Figure size 400x200 with 1 Axes>"
      ]
     },
     "metadata": {},
     "output_type": "display_data"
    },
    {
     "name": "stdout",
     "output_type": "stream",
     "text": [
      "\tP-val 0.101\n"
     ]
    }
   ],
   "source": [
    "plt.figure(figsize=(4,2))\n",
    "sns.histplot(diffs)\n",
    "plt.axvline(actual_diff, color = 'red')\n",
    "plt.title(\"Education\")\n",
    "plt.show()\n",
    "\n",
    "p_val = np.array([np.abs(diff) > np.abs(actual_diff) for diff in diffs]).mean()\n",
    "print(\"\\tP-val\", p_val)\n",
    "\n",
    "if p_val <= .05:\n",
    "    predictors.append('Education')"
   ]
  },
  {
   "cell_type": "code",
   "execution_count": 21,
   "id": "e355980e",
   "metadata": {},
   "outputs": [],
   "source": [
    "actual_diff = group.Self_Employed.loc[1] - group.Self_Employed.loc[0]\n",
    "diffs = [perm_fun(df, group.Count.loc[1], 'Self_Employed') for _ in range(1000)]"
   ]
  },
  {
   "cell_type": "code",
   "execution_count": 22,
   "id": "77ed7c03",
   "metadata": {},
   "outputs": [
    {
     "data": {
      "image/png": "[encoded data removed]",
      "text/plain": [
       "<Figure size 400x200 with 1 Axes>"
      ]
     },
     "metadata": {},
     "output_type": "display_data"
    },
    {
     "name": "stdout",
     "output_type": "stream",
     "text": [
      "\tP-val 0.391\n"
     ]
    }
   ],
   "source": [
    "plt.figure(figsize=(4,2))\n",
    "sns.histplot(diffs)\n",
    "plt.axvline(actual_diff, color = 'red')\n",
    "plt.title(\"Self_Employed\")\n",
    "plt.show()\n",
    "\n",
    "p_val = np.array([np.abs(diff) > np.abs(actual_diff) for diff in diffs]).mean()\n",
    "print(\"\\tP-val\", p_val)\n",
    "\n",
    "if p_val <= .05:\n",
    "    predictors.append('Self_Employed')"
   ]
  },
  {
   "cell_type": "code",
   "execution_count": 23,
   "id": "f876667a",
   "metadata": {},
   "outputs": [
    {
     "data": {
      "image/png": "[encoded data removed]",
      "text/plain": [
       "<Figure size 400x200 with 1 Axes>"
      ]
     },
     "metadata": {},
     "output_type": "display_data"
    },
    {
     "name": "stdout",
     "output_type": "stream",
     "text": [
      "\tP-val 0.379\n"
     ]
    }
   ],
   "source": [
    "actual_diff = group.ApplicantIncome.loc[1] - group.ApplicantIncome.loc[0]\n",
    "diffs = [perm_fun(df, group.Count.loc[1], 'ApplicantIncome') for _ in range(1000)]\n",
    "\n",
    "plt.figure(figsize=(4,2))\n",
    "sns.histplot(diffs)\n",
    "plt.axvline(actual_diff, color = 'red')\n",
    "plt.title(\"ApplicantIncome\")\n",
    "plt.show()\n",
    "\n",
    "p_val = np.array([np.abs(diff) > np.abs(actual_diff) for diff in diffs]).mean()\n",
    "print(\"\\tP-val\", p_val)\n",
    "\n",
    "if p_val <= .05:\n",
    "    predictors.append('ApplicantIncome')"
   ]
  },
  {
   "cell_type": "code",
   "execution_count": 24,
   "id": "d7807310",
   "metadata": {},
   "outputs": [
    {
     "data": {
      "image/png": "[encoded data removed]",
      "text/plain": [
       "<Figure size 400x200 with 1 Axes>"
      ]
     },
     "metadata": {},
     "output_type": "display_data"
    },
    {
     "name": "stdout",
     "output_type": "stream",
     "text": [
      "\tP-val 0.285\n"
     ]
    }
   ],
   "source": [
    "actual_diff = group.CoapplicantIncome.loc[1] - group.CoapplicantIncome.loc[0]\n",
    "diffs = [perm_fun(df, group.Count.loc[1], 'CoapplicantIncome') for _ in range(1000)]\n",
    "\n",
    "plt.figure(figsize=(4,2))\n",
    "sns.histplot(diffs)\n",
    "plt.axvline(actual_diff, color = 'red')\n",
    "plt.title(\"CoapplicantIncome\")\n",
    "plt.show()\n",
    "\n",
    "p_val = np.array([np.abs(diff) > np.abs(actual_diff) for diff in diffs]).mean()\n",
    "print(\"\\tP-val\", p_val)\n",
    "\n",
    "if p_val <= .05:\n",
    "    predictors.append('CoapplicantIncome')"
   ]
  },
  {
   "cell_type": "code",
   "execution_count": 25,
   "id": "4fde56d0",
   "metadata": {},
   "outputs": [
    {
     "data": {
      "image/png": "[encoded data removed]",
      "text/plain": [
       "<Figure size 400x200 with 1 Axes>"
      ]
     },
     "metadata": {},
     "output_type": "display_data"
    },
    {
     "name": "stdout",
     "output_type": "stream",
     "text": [
      "\tP-val 0.102\n"
     ]
    }
   ],
   "source": [
    "actual_diff = group.LoanAmount.loc[1] - group.LoanAmount.loc[0]\n",
    "diffs = [perm_fun(df, group.Count.loc[1], 'LoanAmount') for _ in range(1000)]\n",
    "\n",
    "plt.figure(figsize=(4,2))\n",
    "sns.histplot(diffs)\n",
    "plt.axvline(actual_diff, color = 'red')\n",
    "plt.title(\"LoanAmount\")\n",
    "plt.show()\n",
    "\n",
    "p_val = np.array([np.abs(diff) > np.abs(actual_diff) for diff in diffs]).mean()\n",
    "print(\"\\tP-val\", p_val)\n",
    "\n",
    "if p_val <= .05:\n",
    "    predictors.append('LoanAmount')"
   ]
  },
  {
   "cell_type": "code",
   "execution_count": 26,
   "id": "ecdb92eb",
   "metadata": {},
   "outputs": [
    {
     "data": {
      "image/png": "[encoded data removed]",
      "text/plain": [
       "<Figure size 400x200 with 1 Axes>"
      ]
     },
     "metadata": {},
     "output_type": "display_data"
    },
    {
     "name": "stdout",
     "output_type": "stream",
     "text": [
      "\tP-val 0.835\n"
     ]
    }
   ],
   "source": [
    "actual_diff = group.Loan_Amount_Term.loc[1] - group.Loan_Amount_Term.loc[0]\n",
    "diffs = [perm_fun(df, group.Count.loc[1], 'Loan_Amount_Term') for _ in range(1000)]\n",
    "\n",
    "plt.figure(figsize=(4,2))\n",
    "sns.histplot(diffs)\n",
    "plt.axvline(actual_diff, color = 'red')\n",
    "plt.title(\"Loan_Amount_Term\")\n",
    "plt.show()\n",
    "\n",
    "p_val = np.array([np.abs(diff) > np.abs(actual_diff) for diff in diffs]).mean()\n",
    "print(\"\\tP-val\", p_val)\n",
    "\n",
    "if p_val <= .05:\n",
    "    predictors.append('Loan_Amount_Term')"
   ]
  },
  {
   "cell_type": "code",
   "execution_count": 27,
   "id": "7d13f8ff",
   "metadata": {},
   "outputs": [
    {
     "data": {
      "image/png": "[encoded data removed]",
      "text/plain": [
       "<Figure size 400x200 with 1 Axes>"
      ]
     },
     "metadata": {},
     "output_type": "display_data"
    },
    {
     "name": "stdout",
     "output_type": "stream",
     "text": [
      "\tP-val 0.0\n"
     ]
    }
   ],
   "source": [
    "actual_diff = group.Credit_History.loc[1] - group.Credit_History.loc[0]\n",
    "diffs = [perm_fun(df, group.Count.loc[1], 'Credit_History') for _ in range(1000)]\n",
    "\n",
    "plt.figure(figsize=(4,2))\n",
    "sns.histplot(diffs)\n",
    "plt.axvline(actual_diff, color = 'red')\n",
    "plt.title(\"Credit_History\")\n",
    "plt.show()\n",
    "\n",
    "p_val = np.array([np.abs(diff) > np.abs(actual_diff) for diff in diffs]).mean()\n",
    "print(\"\\tP-val\", p_val)\n",
    "\n",
    "if p_val <= .05:\n",
    "    predictors.append('Credit_History')"
   ]
  },
  {
   "cell_type": "code",
   "execution_count": 42,
   "id": "a4f0896b",
   "metadata": {},
   "outputs": [
    {
     "data": {
      "text/html": [
       "<div>\n",
       "<style scoped>\n",
       "    .dataframe tbody tr th:only-of-type {\n",
       "        vertical-align: middle;\n",
       "    }\n",
       "\n",
       "    .dataframe tbody tr th {\n",
       "        vertical-align: top;\n",
       "    }\n",
       "\n",
       "    .dataframe thead th {\n",
       "        text-align: right;\n",
       "    }\n",
       "</style>\n",
       "<table border=\"1\" class=\"dataframe\">\n",
       "  <thead>\n",
       "    <tr style=\"text-align: right;\">\n",
       "      <th></th>\n",
       "      <th>Loan_ID</th>\n",
       "      <th>Gender</th>\n",
       "      <th>Married</th>\n",
       "      <th>Dependents</th>\n",
       "      <th>Education</th>\n",
       "      <th>Self_Employed</th>\n",
       "      <th>ApplicantIncome</th>\n",
       "      <th>CoapplicantIncome</th>\n",
       "      <th>LoanAmount</th>\n",
       "      <th>Loan_Amount_Term</th>\n",
       "      <th>Credit_History</th>\n",
       "      <th>Loan_Status</th>\n",
       "      <th>Prop_Semiurban</th>\n",
       "      <th>Prop_Urban</th>\n",
       "    </tr>\n",
       "  </thead>\n",
       "  <tbody>\n",
       "    <tr>\n",
       "      <th>1</th>\n",
       "      <td>LP001003</td>\n",
       "      <td>1</td>\n",
       "      <td>1</td>\n",
       "      <td>1</td>\n",
       "      <td>1</td>\n",
       "      <td>0</td>\n",
       "      <td>4583</td>\n",
       "      <td>1508.0</td>\n",
       "      <td>128.0</td>\n",
       "      <td>360.0</td>\n",
       "      <td>1.0</td>\n",
       "      <td>0</td>\n",
       "      <td>0</td>\n",
       "      <td>0</td>\n",
       "    </tr>\n",
       "    <tr>\n",
       "      <th>2</th>\n",
       "      <td>LP001005</td>\n",
       "      <td>1</td>\n",
       "      <td>1</td>\n",
       "      <td>0</td>\n",
       "      <td>1</td>\n",
       "      <td>1</td>\n",
       "      <td>3000</td>\n",
       "      <td>0.0</td>\n",
       "      <td>66.0</td>\n",
       "      <td>360.0</td>\n",
       "      <td>1.0</td>\n",
       "      <td>1</td>\n",
       "      <td>0</td>\n",
       "      <td>1</td>\n",
       "    </tr>\n",
       "    <tr>\n",
       "      <th>3</th>\n",
       "      <td>LP001006</td>\n",
       "      <td>1</td>\n",
       "      <td>1</td>\n",
       "      <td>0</td>\n",
       "      <td>0</td>\n",
       "      <td>0</td>\n",
       "      <td>2583</td>\n",
       "      <td>2358.0</td>\n",
       "      <td>120.0</td>\n",
       "      <td>360.0</td>\n",
       "      <td>1.0</td>\n",
       "      <td>1</td>\n",
       "      <td>0</td>\n",
       "      <td>1</td>\n",
       "    </tr>\n",
       "    <tr>\n",
       "      <th>4</th>\n",
       "      <td>LP001008</td>\n",
       "      <td>1</td>\n",
       "      <td>0</td>\n",
       "      <td>0</td>\n",
       "      <td>1</td>\n",
       "      <td>0</td>\n",
       "      <td>6000</td>\n",
       "      <td>0.0</td>\n",
       "      <td>141.0</td>\n",
       "      <td>360.0</td>\n",
       "      <td>1.0</td>\n",
       "      <td>1</td>\n",
       "      <td>0</td>\n",
       "      <td>1</td>\n",
       "    </tr>\n",
       "    <tr>\n",
       "      <th>5</th>\n",
       "      <td>LP001011</td>\n",
       "      <td>1</td>\n",
       "      <td>1</td>\n",
       "      <td>2</td>\n",
       "      <td>1</td>\n",
       "      <td>1</td>\n",
       "      <td>5417</td>\n",
       "      <td>4196.0</td>\n",
       "      <td>267.0</td>\n",
       "      <td>360.0</td>\n",
       "      <td>1.0</td>\n",
       "      <td>1</td>\n",
       "      <td>0</td>\n",
       "      <td>1</td>\n",
       "    </tr>\n",
       "  </tbody>\n",
       "</table>\n",
       "</div>"
      ],
      "text/plain": [
       "    Loan_ID  Gender  Married  Dependents  Education  Self_Employed  \\\n",
       "1  LP001003       1        1           1          1              0   \n",
       "2  LP001005       1        1           0          1              1   \n",
       "3  LP001006       1        1           0          0              0   \n",
       "4  LP001008       1        0           0          1              0   \n",
       "5  LP001011       1        1           2          1              1   \n",
       "\n",
       "   ApplicantIncome  CoapplicantIncome  LoanAmount  Loan_Amount_Term  \\\n",
       "1             4583             1508.0       128.0             360.0   \n",
       "2             3000                0.0        66.0             360.0   \n",
       "3             2583             2358.0       120.0             360.0   \n",
       "4             6000                0.0       141.0             360.0   \n",
       "5             5417             4196.0       267.0             360.0   \n",
       "\n",
       "   Credit_History  Loan_Status  Prop_Semiurban  Prop_Urban  \n",
       "1             1.0            0               0           0  \n",
       "2             1.0            1               0           1  \n",
       "3             1.0            1               0           1  \n",
       "4             1.0            1               0           1  \n",
       "5             1.0            1               0           1  "
      ]
     },
     "execution_count": 42,
     "metadata": {},
     "output_type": "execute_result"
    }
   ],
   "source": [
    "df.head()"
   ]
  },
  {
   "cell_type": "code",
   "execution_count": 43,
   "id": "73eed949",
   "metadata": {},
   "outputs": [],
   "source": [
    "predictors.append('Prop_Semiurban')\n",
    "predictors.append('Prop_Urban')"
   ]
  },
  {
   "cell_type": "code",
   "execution_count": 55,
   "id": "46ce01a0",
   "metadata": {},
   "outputs": [
    {
     "data": {
      "text/plain": [
       "<AxesSubplot:>"
      ]
     },
     "execution_count": 55,
     "metadata": {},
     "output_type": "execute_result"
    },
    {
     "data": {
      "image/png": "[encoded data removed]",
      "text/plain": [
       "<Figure size 640x480 with 2 Axes>"
      ]
     },
     "metadata": {},
     "output_type": "display_data"
    }
   ],
   "source": [
    "sns.heatmap(df[predictors].corr(), annot=True)"
   ]
  },
  {
   "cell_type": "code",
   "execution_count": 44,
   "id": "2407478d",
   "metadata": {},
   "outputs": [
    {
     "data": {
      "text/plain": [
       "['Married', 'Credit_History', 'Prop_Semiurban', 'Prop_Urban']"
      ]
     },
     "execution_count": 44,
     "metadata": {},
     "output_type": "execute_result"
    }
   ],
   "source": [
    "predictors"
   ]
  },
  {
   "cell_type": "code",
   "execution_count": 45,
   "id": "9fe1045a",
   "metadata": {},
   "outputs": [
    {
     "data": {
      "text/plain": [
       "RandomForestClassifier()"
      ]
     },
     "execution_count": 45,
     "metadata": {},
     "output_type": "execute_result"
    }
   ],
   "source": [
    "outcome = 'Loan_Status'\n",
    "\n",
    "X_train, X_test, y_train, y_test = train_test_split(df[predictors], df[outcome], train_size = .7)\n",
    "\n",
    "rf = RandomForestClassifier(n_estimators = 100)\n",
    "\n",
    "rf.fit(X_train, y_train)"
   ]
  },
  {
   "cell_type": "code",
   "execution_count": 46,
   "id": "9d72f26c",
   "metadata": {},
   "outputs": [
    {
     "data": {
      "text/html": [
       "<div>\n",
       "<style scoped>\n",
       "    .dataframe tbody tr th:only-of-type {\n",
       "        vertical-align: middle;\n",
       "    }\n",
       "\n",
       "    .dataframe tbody tr th {\n",
       "        vertical-align: top;\n",
       "    }\n",
       "\n",
       "    .dataframe thead th {\n",
       "        text-align: right;\n",
       "    }\n",
       "</style>\n",
       "<table border=\"1\" class=\"dataframe\">\n",
       "  <thead>\n",
       "    <tr style=\"text-align: right;\">\n",
       "      <th></th>\n",
       "      <th>Married</th>\n",
       "      <th>Credit_History</th>\n",
       "      <th>Prop_Semiurban</th>\n",
       "      <th>Prop_Urban</th>\n",
       "      <th>Loan_Status</th>\n",
       "      <th>prediction</th>\n",
       "    </tr>\n",
       "  </thead>\n",
       "  <tbody>\n",
       "    <tr>\n",
       "      <th>577</th>\n",
       "      <td>0</td>\n",
       "      <td>1.0</td>\n",
       "      <td>0</td>\n",
       "      <td>1</td>\n",
       "      <td>1</td>\n",
       "      <td>1</td>\n",
       "    </tr>\n",
       "    <tr>\n",
       "      <th>326</th>\n",
       "      <td>0</td>\n",
       "      <td>0.0</td>\n",
       "      <td>0</td>\n",
       "      <td>0</td>\n",
       "      <td>1</td>\n",
       "      <td>0</td>\n",
       "    </tr>\n",
       "    <tr>\n",
       "      <th>543</th>\n",
       "      <td>1</td>\n",
       "      <td>1.0</td>\n",
       "      <td>0</td>\n",
       "      <td>1</td>\n",
       "      <td>1</td>\n",
       "      <td>1</td>\n",
       "    </tr>\n",
       "    <tr>\n",
       "      <th>7</th>\n",
       "      <td>1</td>\n",
       "      <td>0.0</td>\n",
       "      <td>1</td>\n",
       "      <td>0</td>\n",
       "      <td>0</td>\n",
       "      <td>0</td>\n",
       "    </tr>\n",
       "    <tr>\n",
       "      <th>167</th>\n",
       "      <td>1</td>\n",
       "      <td>1.0</td>\n",
       "      <td>0</td>\n",
       "      <td>0</td>\n",
       "      <td>1</td>\n",
       "      <td>1</td>\n",
       "    </tr>\n",
       "    <tr>\n",
       "      <th>...</th>\n",
       "      <td>...</td>\n",
       "      <td>...</td>\n",
       "      <td>...</td>\n",
       "      <td>...</td>\n",
       "      <td>...</td>\n",
       "      <td>...</td>\n",
       "    </tr>\n",
       "    <tr>\n",
       "      <th>31</th>\n",
       "      <td>0</td>\n",
       "      <td>1.0</td>\n",
       "      <td>0</td>\n",
       "      <td>1</td>\n",
       "      <td>0</td>\n",
       "      <td>1</td>\n",
       "    </tr>\n",
       "    <tr>\n",
       "      <th>9</th>\n",
       "      <td>1</td>\n",
       "      <td>1.0</td>\n",
       "      <td>1</td>\n",
       "      <td>0</td>\n",
       "      <td>0</td>\n",
       "      <td>1</td>\n",
       "    </tr>\n",
       "    <tr>\n",
       "      <th>539</th>\n",
       "      <td>1</td>\n",
       "      <td>1.0</td>\n",
       "      <td>0</td>\n",
       "      <td>0</td>\n",
       "      <td>1</td>\n",
       "      <td>1</td>\n",
       "    </tr>\n",
       "    <tr>\n",
       "      <th>593</th>\n",
       "      <td>1</td>\n",
       "      <td>1.0</td>\n",
       "      <td>0</td>\n",
       "      <td>0</td>\n",
       "      <td>1</td>\n",
       "      <td>1</td>\n",
       "    </tr>\n",
       "    <tr>\n",
       "      <th>64</th>\n",
       "      <td>0</td>\n",
       "      <td>0.0</td>\n",
       "      <td>1</td>\n",
       "      <td>0</td>\n",
       "      <td>0</td>\n",
       "      <td>0</td>\n",
       "    </tr>\n",
       "  </tbody>\n",
       "</table>\n",
       "<p>144 rows × 6 columns</p>\n",
       "</div>"
      ],
      "text/plain": [
       "     Married  Credit_History  Prop_Semiurban  Prop_Urban  Loan_Status  \\\n",
       "577        0             1.0               0           1            1   \n",
       "326        0             0.0               0           0            1   \n",
       "543        1             1.0               0           1            1   \n",
       "7          1             0.0               1           0            0   \n",
       "167        1             1.0               0           0            1   \n",
       "..       ...             ...             ...         ...          ...   \n",
       "31         0             1.0               0           1            0   \n",
       "9          1             1.0               1           0            0   \n",
       "539        1             1.0               0           0            1   \n",
       "593        1             1.0               0           0            1   \n",
       "64         0             0.0               1           0            0   \n",
       "\n",
       "     prediction  \n",
       "577           1  \n",
       "326           0  \n",
       "543           1  \n",
       "7             0  \n",
       "167           1  \n",
       "..          ...  \n",
       "31            1  \n",
       "9             1  \n",
       "539           1  \n",
       "593           1  \n",
       "64            0  \n",
       "\n",
       "[144 rows x 6 columns]"
      ]
     },
     "execution_count": 46,
     "metadata": {},
     "output_type": "execute_result"
    }
   ],
   "source": [
    "df_metrics = pd.merge(X_test, y_test, left_index = True, right_index = True)\n",
    "\n",
    "df_metrics['prediction'] = rf.predict(df_metrics[predictors])\n",
    "df_metrics"
   ]
  },
  {
   "cell_type": "code",
   "execution_count": 47,
   "id": "5c12f998",
   "metadata": {},
   "outputs": [
    {
     "data": {
      "text/plain": [
       "1    102\n",
       "0     42\n",
       "Name: Loan_Status, dtype: int64"
      ]
     },
     "execution_count": 47,
     "metadata": {},
     "output_type": "execute_result"
    }
   ],
   "source": [
    "df_metrics.Loan_Status.value_counts()"
   ]
  },
  {
   "cell_type": "code",
   "execution_count": 48,
   "id": "dc4c6be7",
   "metadata": {},
   "outputs": [
    {
     "data": {
      "text/plain": [
       "1    123\n",
       "0     21\n",
       "Name: prediction, dtype: int64"
      ]
     },
     "execution_count": 48,
     "metadata": {},
     "output_type": "execute_result"
    }
   ],
   "source": [
    "df_metrics.prediction.value_counts()"
   ]
  },
  {
   "cell_type": "code",
   "execution_count": 49,
   "id": "3f46dcd8",
   "metadata": {},
   "outputs": [
    {
     "name": "stdout",
     "output_type": "stream",
     "text": [
      "accuracy score: 0.84\n",
      "precision score: 0.821\n",
      "Recall Score: 0.99\n"
     ]
    }
   ],
   "source": [
    "print(\"accuracy score:\", np.round(accuracy_score(df_metrics.Loan_Status, df_metrics.prediction), 3))\n",
    "print(\"precision score:\", np.round(precision_score(df_metrics.Loan_Status, df_metrics.prediction), 3))\n",
    "print(\"Recall Score:\", np.round(recall_score(df_metrics.Loan_Status, df_metrics.prediction), 3))"
   ]
  },
  {
   "cell_type": "code",
   "execution_count": 50,
   "id": "0d017b0b",
   "metadata": {},
   "outputs": [
    {
     "data": {
      "text/html": [
       "<div>\n",
       "<style scoped>\n",
       "    .dataframe tbody tr th:only-of-type {\n",
       "        vertical-align: middle;\n",
       "    }\n",
       "\n",
       "    .dataframe tbody tr th {\n",
       "        vertical-align: top;\n",
       "    }\n",
       "\n",
       "    .dataframe thead th {\n",
       "        text-align: right;\n",
       "    }\n",
       "</style>\n",
       "<table border=\"1\" class=\"dataframe\">\n",
       "  <thead>\n",
       "    <tr style=\"text-align: right;\">\n",
       "      <th></th>\n",
       "      <th>Predicted 0</th>\n",
       "      <th>Predicted 1</th>\n",
       "    </tr>\n",
       "  </thead>\n",
       "  <tbody>\n",
       "    <tr>\n",
       "      <th>Actual 0</th>\n",
       "      <td>20</td>\n",
       "      <td>22</td>\n",
       "    </tr>\n",
       "    <tr>\n",
       "      <th>Actual 1</th>\n",
       "      <td>1</td>\n",
       "      <td>101</td>\n",
       "    </tr>\n",
       "  </tbody>\n",
       "</table>\n",
       "</div>"
      ],
      "text/plain": [
       "          Predicted 0  Predicted 1\n",
       "Actual 0           20           22\n",
       "Actual 1            1          101"
      ]
     },
     "execution_count": 50,
     "metadata": {},
     "output_type": "execute_result"
    }
   ],
   "source": [
    "df_confusion_matrix = pd.DataFrame(confusion_matrix(df_metrics.Loan_Status, df_metrics.prediction))\n",
    "df_confusion_matrix.rename(columns = {0: 'Predicted 0', 1: 'Predicted 1'}, index = {0: 'Actual 0', 1: 'Actual 1'}, inplace = True)\n",
    "df_confusion_matrix"
   ]
  }
 ],
 "metadata": {
  "kernelspec": {
   "display_name": "Python 3 (ipykernel)",
   "language": "python",
   "name": "python3"
  },
  "language_info": {
   "codemirror_mode": {
    "name": "ipython",
    "version": 3
   },
   "file_extension": ".py",
   "mimetype": "text/x-python",
   "name": "python",
   "nbconvert_exporter": "python",
   "pygments_lexer": "ipython3",
   "version": "3.9.13"
  }
 },
 "nbformat": 4,
 "nbformat_minor": 5
}
