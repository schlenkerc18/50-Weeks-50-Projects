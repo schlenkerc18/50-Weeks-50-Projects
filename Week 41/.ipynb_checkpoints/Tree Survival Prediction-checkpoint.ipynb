{
 "cells": [
  {
   "cell_type": "code",
   "execution_count": 1,
   "id": "e2095ebb",
   "metadata": {},
   "outputs": [],
   "source": [
    "import pandas as pd\n",
    "import numpy as np\n",
    "\n",
    "import matplotlib.pyplot as plt\n",
    "import seaborn as sns\n",
    "sns.set_style(\"whitegrid\")\n",
    "sns.set_palette(\"pastel\")\n",
    "\n",
    "from sklearn.preprocessing import OneHotEncoder, StandardScaler\n",
    "from sklearn.pipeline import Pipeline\n",
    "from sklearn.compose import ColumnTransformer\n",
    "\n",
    "from sklearn.impute import SimpleImputer\n",
    "from sklearn.model_selection import train_test_split, GridSearchCV\n",
    "from sklearn.metrics import accuracy_score, precision_score, recall_score\n",
    "\n",
    "from sklearn.neighbors import KNeighborsClassifier\n",
    "from sklearn.ensemble import RandomForestClassifier\n",
    "from xgboost import XGBClassifier "
   ]
  },
  {
   "cell_type": "code",
   "execution_count": 2,
   "id": "5c12a7bf",
   "metadata": {},
   "outputs": [
    {
     "data": {
      "text/html": [
       "<div>\n",
       "<style scoped>\n",
       "    .dataframe tbody tr th:only-of-type {\n",
       "        vertical-align: middle;\n",
       "    }\n",
       "\n",
       "    .dataframe tbody tr th {\n",
       "        vertical-align: top;\n",
       "    }\n",
       "\n",
       "    .dataframe thead th {\n",
       "        text-align: right;\n",
       "    }\n",
       "</style>\n",
       "<table border=\"1\" class=\"dataframe\">\n",
       "  <thead>\n",
       "    <tr style=\"text-align: right;\">\n",
       "      <th></th>\n",
       "      <th>No</th>\n",
       "      <th>Plot</th>\n",
       "      <th>Subplot</th>\n",
       "      <th>Species</th>\n",
       "      <th>Light_ISF</th>\n",
       "      <th>Light_Cat</th>\n",
       "      <th>Core</th>\n",
       "      <th>Soil</th>\n",
       "      <th>Adult</th>\n",
       "      <th>Sterile</th>\n",
       "      <th>...</th>\n",
       "      <th>AMF</th>\n",
       "      <th>EMF</th>\n",
       "      <th>Phenolics</th>\n",
       "      <th>Lignin</th>\n",
       "      <th>NSC</th>\n",
       "      <th>Census</th>\n",
       "      <th>Time</th>\n",
       "      <th>Event</th>\n",
       "      <th>Harvest</th>\n",
       "      <th>Alive</th>\n",
       "    </tr>\n",
       "  </thead>\n",
       "  <tbody>\n",
       "    <tr>\n",
       "      <th>0</th>\n",
       "      <td>126</td>\n",
       "      <td>1</td>\n",
       "      <td>C</td>\n",
       "      <td>Acer saccharum</td>\n",
       "      <td>0.106</td>\n",
       "      <td>Med</td>\n",
       "      <td>2017</td>\n",
       "      <td>Prunus serotina</td>\n",
       "      <td>I</td>\n",
       "      <td>Non-Sterile</td>\n",
       "      <td>...</td>\n",
       "      <td>22.00</td>\n",
       "      <td>NaN</td>\n",
       "      <td>-0.56</td>\n",
       "      <td>13.86</td>\n",
       "      <td>12.15</td>\n",
       "      <td>4</td>\n",
       "      <td>14.0</td>\n",
       "      <td>1.0</td>\n",
       "      <td>0</td>\n",
       "      <td>0</td>\n",
       "    </tr>\n",
       "    <tr>\n",
       "      <th>1</th>\n",
       "      <td>11</td>\n",
       "      <td>1</td>\n",
       "      <td>C</td>\n",
       "      <td>Quercus alba</td>\n",
       "      <td>0.106</td>\n",
       "      <td>Med</td>\n",
       "      <td>2017</td>\n",
       "      <td>Quercus rubra</td>\n",
       "      <td>970</td>\n",
       "      <td>Non-Sterile</td>\n",
       "      <td>...</td>\n",
       "      <td>15.82</td>\n",
       "      <td>31.07</td>\n",
       "      <td>5.19</td>\n",
       "      <td>20.52</td>\n",
       "      <td>19.29</td>\n",
       "      <td>33</td>\n",
       "      <td>115.5</td>\n",
       "      <td>0.0</td>\n",
       "      <td>0</td>\n",
       "      <td>1</td>\n",
       "    </tr>\n",
       "    <tr>\n",
       "      <th>2</th>\n",
       "      <td>12</td>\n",
       "      <td>1</td>\n",
       "      <td>C</td>\n",
       "      <td>Quercus rubra</td>\n",
       "      <td>0.106</td>\n",
       "      <td>Med</td>\n",
       "      <td>2017</td>\n",
       "      <td>Prunus serotina</td>\n",
       "      <td>J</td>\n",
       "      <td>Non-Sterile</td>\n",
       "      <td>...</td>\n",
       "      <td>24.45</td>\n",
       "      <td>28.19</td>\n",
       "      <td>3.36</td>\n",
       "      <td>24.74</td>\n",
       "      <td>15.01</td>\n",
       "      <td>18</td>\n",
       "      <td>63.0</td>\n",
       "      <td>1.0</td>\n",
       "      <td>0</td>\n",
       "      <td>0</td>\n",
       "    </tr>\n",
       "    <tr>\n",
       "      <th>3</th>\n",
       "      <td>2823</td>\n",
       "      <td>7</td>\n",
       "      <td>D</td>\n",
       "      <td>Acer saccharum</td>\n",
       "      <td>0.080</td>\n",
       "      <td>Med</td>\n",
       "      <td>2016</td>\n",
       "      <td>Prunus serotina</td>\n",
       "      <td>J</td>\n",
       "      <td>Non-Sterile</td>\n",
       "      <td>...</td>\n",
       "      <td>22.23</td>\n",
       "      <td>NaN</td>\n",
       "      <td>-0.71</td>\n",
       "      <td>14.29</td>\n",
       "      <td>12.36</td>\n",
       "      <td>4</td>\n",
       "      <td>14.0</td>\n",
       "      <td>1.0</td>\n",
       "      <td>0</td>\n",
       "      <td>0</td>\n",
       "    </tr>\n",
       "    <tr>\n",
       "      <th>4</th>\n",
       "      <td>5679</td>\n",
       "      <td>14</td>\n",
       "      <td>A</td>\n",
       "      <td>Acer saccharum</td>\n",
       "      <td>0.060</td>\n",
       "      <td>Low</td>\n",
       "      <td>2017</td>\n",
       "      <td>Prunus serotina</td>\n",
       "      <td>689</td>\n",
       "      <td>Non-Sterile</td>\n",
       "      <td>...</td>\n",
       "      <td>21.15</td>\n",
       "      <td>NaN</td>\n",
       "      <td>-0.58</td>\n",
       "      <td>10.85</td>\n",
       "      <td>11.20</td>\n",
       "      <td>4</td>\n",
       "      <td>14.0</td>\n",
       "      <td>1.0</td>\n",
       "      <td>0</td>\n",
       "      <td>0</td>\n",
       "    </tr>\n",
       "  </tbody>\n",
       "</table>\n",
       "<p>5 rows × 24 columns</p>\n",
       "</div>"
      ],
      "text/plain": [
       "     No  Plot Subplot         Species  Light_ISF Light_Cat  Core  \\\n",
       "0   126     1       C  Acer saccharum      0.106       Med  2017   \n",
       "1    11     1       C    Quercus alba      0.106       Med  2017   \n",
       "2    12     1       C   Quercus rubra      0.106       Med  2017   \n",
       "3  2823     7       D  Acer saccharum      0.080       Med  2016   \n",
       "4  5679    14       A  Acer saccharum      0.060       Low  2017   \n",
       "\n",
       "              Soil Adult      Sterile  ...    AMF    EMF Phenolics Lignin  \\\n",
       "0  Prunus serotina     I  Non-Sterile  ...  22.00    NaN     -0.56  13.86   \n",
       "1    Quercus rubra   970  Non-Sterile  ...  15.82  31.07      5.19  20.52   \n",
       "2  Prunus serotina     J  Non-Sterile  ...  24.45  28.19      3.36  24.74   \n",
       "3  Prunus serotina     J  Non-Sterile  ...  22.23    NaN     -0.71  14.29   \n",
       "4  Prunus serotina   689  Non-Sterile  ...  21.15    NaN     -0.58  10.85   \n",
       "\n",
       "     NSC  Census   Time  Event  Harvest  Alive  \n",
       "0  12.15       4   14.0    1.0        0      0  \n",
       "1  19.29      33  115.5    0.0        0      1  \n",
       "2  15.01      18   63.0    1.0        0      0  \n",
       "3  12.36       4   14.0    1.0        0      0  \n",
       "4  11.20       4   14.0    1.0        0      0  \n",
       "\n",
       "[5 rows x 24 columns]"
      ]
     },
     "execution_count": 2,
     "metadata": {},
     "output_type": "execute_result"
    }
   ],
   "source": [
    "df = pd.read_csv('./Tree_Data.csv')\n",
    "\n",
    "# X -> Alive (1), NaN -> not alive (0)\n",
    "df.Alive = df.Alive.apply(lambda x: 1 if x == 'X' else 0)\n",
    "\n",
    "df.Harvest = df.Harvest.apply(lambda x: 1 if x == 'X' else 0)\n",
    "\n",
    "df.head()"
   ]
  },
  {
   "cell_type": "code",
   "execution_count": 3,
   "id": "c9335e61",
   "metadata": {},
   "outputs": [
    {
     "name": "stdout",
     "output_type": "stream",
     "text": [
      "Alive Percentage: 17.64\n"
     ]
    }
   ],
   "source": [
    "print(f\"Alive Percentage: {np.round(df.Alive.mean(), 4) * 100}\")"
   ]
  },
  {
   "cell_type": "code",
   "execution_count": 4,
   "id": "9614ecd8",
   "metadata": {},
   "outputs": [
    {
     "name": "stdout",
     "output_type": "stream",
     "text": [
      "<class 'pandas.core.frame.DataFrame'>\n",
      "RangeIndex: 2783 entries, 0 to 2782\n",
      "Data columns (total 24 columns):\n",
      " #   Column       Non-Null Count  Dtype  \n",
      "---  ------       --------------  -----  \n",
      " 0   No           2783 non-null   int64  \n",
      " 1   Plot         2783 non-null   int64  \n",
      " 2   Subplot      2783 non-null   object \n",
      " 3   Species      2783 non-null   object \n",
      " 4   Light_ISF    2783 non-null   float64\n",
      " 5   Light_Cat    2783 non-null   object \n",
      " 6   Core         2783 non-null   int64  \n",
      " 7   Soil         2783 non-null   object \n",
      " 8   Adult        2783 non-null   object \n",
      " 9   Sterile      2783 non-null   object \n",
      " 10  Conspecific  2783 non-null   object \n",
      " 11  Myco         2783 non-null   object \n",
      " 12  SoilMyco     2783 non-null   object \n",
      " 13  PlantDate    2783 non-null   object \n",
      " 14  AMF          2783 non-null   float64\n",
      " 15  EMF          1283 non-null   float64\n",
      " 16  Phenolics    2783 non-null   float64\n",
      " 17  Lignin       2783 non-null   float64\n",
      " 18  NSC          2783 non-null   float64\n",
      " 19  Census       2783 non-null   int64  \n",
      " 20  Time         2783 non-null   float64\n",
      " 21  Event        2782 non-null   float64\n",
      " 22  Harvest      2783 non-null   int64  \n",
      " 23  Alive        2783 non-null   int64  \n",
      "dtypes: float64(8), int64(6), object(10)\n",
      "memory usage: 521.9+ KB\n"
     ]
    }
   ],
   "source": [
    "df.info()"
   ]
  },
  {
   "cell_type": "code",
   "execution_count": 5,
   "id": "c686cd8c",
   "metadata": {},
   "outputs": [],
   "source": [
    "# notice the large amount of missing data for EMF above, since we don't know why this is missing or how\n",
    "# it should be filled in (ex: mean, median, or 0), we're going to drop this data.\n",
    "# Let's drop other unimportant columns while we're at it\n",
    "df.drop(labels = ['EMF', 'Time', 'No', 'Event', 'Census', 'Core', 'Harvest', 'Plot'], axis = 1, inplace = True)"
   ]
  },
  {
   "cell_type": "code",
   "execution_count": 6,
   "id": "083a71cf",
   "metadata": {},
   "outputs": [
    {
     "data": {
      "text/html": [
       "<div>\n",
       "<style scoped>\n",
       "    .dataframe tbody tr th:only-of-type {\n",
       "        vertical-align: middle;\n",
       "    }\n",
       "\n",
       "    .dataframe tbody tr th {\n",
       "        vertical-align: top;\n",
       "    }\n",
       "\n",
       "    .dataframe thead th {\n",
       "        text-align: right;\n",
       "    }\n",
       "</style>\n",
       "<table border=\"1\" class=\"dataframe\">\n",
       "  <thead>\n",
       "    <tr style=\"text-align: right;\">\n",
       "      <th></th>\n",
       "      <th>Subplot</th>\n",
       "      <th>Species</th>\n",
       "      <th>Light_ISF</th>\n",
       "      <th>Light_Cat</th>\n",
       "      <th>Soil</th>\n",
       "      <th>Adult</th>\n",
       "      <th>Sterile</th>\n",
       "      <th>Conspecific</th>\n",
       "      <th>Myco</th>\n",
       "      <th>SoilMyco</th>\n",
       "      <th>PlantDate</th>\n",
       "      <th>AMF</th>\n",
       "      <th>Phenolics</th>\n",
       "      <th>Lignin</th>\n",
       "      <th>NSC</th>\n",
       "      <th>Alive</th>\n",
       "    </tr>\n",
       "  </thead>\n",
       "  <tbody>\n",
       "    <tr>\n",
       "      <th>0</th>\n",
       "      <td>C</td>\n",
       "      <td>Acer saccharum</td>\n",
       "      <td>0.106</td>\n",
       "      <td>Med</td>\n",
       "      <td>Prunus serotina</td>\n",
       "      <td>I</td>\n",
       "      <td>Non-Sterile</td>\n",
       "      <td>Heterospecific</td>\n",
       "      <td>AMF</td>\n",
       "      <td>AMF</td>\n",
       "      <td>6/11/18</td>\n",
       "      <td>22.00</td>\n",
       "      <td>-0.56</td>\n",
       "      <td>13.86</td>\n",
       "      <td>12.15</td>\n",
       "      <td>0</td>\n",
       "    </tr>\n",
       "    <tr>\n",
       "      <th>1</th>\n",
       "      <td>C</td>\n",
       "      <td>Quercus alba</td>\n",
       "      <td>0.106</td>\n",
       "      <td>Med</td>\n",
       "      <td>Quercus rubra</td>\n",
       "      <td>970</td>\n",
       "      <td>Non-Sterile</td>\n",
       "      <td>Heterospecific</td>\n",
       "      <td>EMF</td>\n",
       "      <td>EMF</td>\n",
       "      <td>5/25/18</td>\n",
       "      <td>15.82</td>\n",
       "      <td>5.19</td>\n",
       "      <td>20.52</td>\n",
       "      <td>19.29</td>\n",
       "      <td>1</td>\n",
       "    </tr>\n",
       "    <tr>\n",
       "      <th>2</th>\n",
       "      <td>C</td>\n",
       "      <td>Quercus rubra</td>\n",
       "      <td>0.106</td>\n",
       "      <td>Med</td>\n",
       "      <td>Prunus serotina</td>\n",
       "      <td>J</td>\n",
       "      <td>Non-Sterile</td>\n",
       "      <td>Heterospecific</td>\n",
       "      <td>EMF</td>\n",
       "      <td>AMF</td>\n",
       "      <td>5/31/18</td>\n",
       "      <td>24.45</td>\n",
       "      <td>3.36</td>\n",
       "      <td>24.74</td>\n",
       "      <td>15.01</td>\n",
       "      <td>0</td>\n",
       "    </tr>\n",
       "    <tr>\n",
       "      <th>3</th>\n",
       "      <td>D</td>\n",
       "      <td>Acer saccharum</td>\n",
       "      <td>0.080</td>\n",
       "      <td>Med</td>\n",
       "      <td>Prunus serotina</td>\n",
       "      <td>J</td>\n",
       "      <td>Non-Sterile</td>\n",
       "      <td>Heterospecific</td>\n",
       "      <td>AMF</td>\n",
       "      <td>AMF</td>\n",
       "      <td>6/11/18</td>\n",
       "      <td>22.23</td>\n",
       "      <td>-0.71</td>\n",
       "      <td>14.29</td>\n",
       "      <td>12.36</td>\n",
       "      <td>0</td>\n",
       "    </tr>\n",
       "    <tr>\n",
       "      <th>4</th>\n",
       "      <td>A</td>\n",
       "      <td>Acer saccharum</td>\n",
       "      <td>0.060</td>\n",
       "      <td>Low</td>\n",
       "      <td>Prunus serotina</td>\n",
       "      <td>689</td>\n",
       "      <td>Non-Sterile</td>\n",
       "      <td>Heterospecific</td>\n",
       "      <td>AMF</td>\n",
       "      <td>AMF</td>\n",
       "      <td>6/11/18</td>\n",
       "      <td>21.15</td>\n",
       "      <td>-0.58</td>\n",
       "      <td>10.85</td>\n",
       "      <td>11.20</td>\n",
       "      <td>0</td>\n",
       "    </tr>\n",
       "  </tbody>\n",
       "</table>\n",
       "</div>"
      ],
      "text/plain": [
       "  Subplot         Species  Light_ISF Light_Cat             Soil Adult  \\\n",
       "0       C  Acer saccharum      0.106       Med  Prunus serotina     I   \n",
       "1       C    Quercus alba      0.106       Med    Quercus rubra   970   \n",
       "2       C   Quercus rubra      0.106       Med  Prunus serotina     J   \n",
       "3       D  Acer saccharum      0.080       Med  Prunus serotina     J   \n",
       "4       A  Acer saccharum      0.060       Low  Prunus serotina   689   \n",
       "\n",
       "       Sterile     Conspecific Myco SoilMyco PlantDate    AMF  Phenolics  \\\n",
       "0  Non-Sterile  Heterospecific  AMF      AMF   6/11/18  22.00      -0.56   \n",
       "1  Non-Sterile  Heterospecific  EMF      EMF   5/25/18  15.82       5.19   \n",
       "2  Non-Sterile  Heterospecific  EMF      AMF   5/31/18  24.45       3.36   \n",
       "3  Non-Sterile  Heterospecific  AMF      AMF   6/11/18  22.23      -0.71   \n",
       "4  Non-Sterile  Heterospecific  AMF      AMF   6/11/18  21.15      -0.58   \n",
       "\n",
       "   Lignin    NSC  Alive  \n",
       "0   13.86  12.15      0  \n",
       "1   20.52  19.29      1  \n",
       "2   24.74  15.01      0  \n",
       "3   14.29  12.36      0  \n",
       "4   10.85  11.20      0  "
      ]
     },
     "execution_count": 6,
     "metadata": {},
     "output_type": "execute_result"
    }
   ],
   "source": [
    "df.head()"
   ]
  },
  {
   "cell_type": "markdown",
   "id": "d12c10ec",
   "metadata": {},
   "source": [
    "# Categorical Variable Analysis"
   ]
  },
  {
   "cell_type": "markdown",
   "id": "b407035b",
   "metadata": {},
   "source": [
    "## Species"
   ]
  },
  {
   "cell_type": "code",
   "execution_count": 7,
   "id": "adbb35d6",
   "metadata": {},
   "outputs": [
    {
     "data": {
      "text/plain": [
       "Acer saccharum     751\n",
       "Prunus serotina    749\n",
       "Quercus alba       673\n",
       "Quercus rubra      610\n",
       "Name: Species, dtype: int64"
      ]
     },
     "execution_count": 7,
     "metadata": {},
     "output_type": "execute_result"
    }
   ],
   "source": [
    "df.Species.value_counts()"
   ]
  },
  {
   "cell_type": "code",
   "execution_count": 8,
   "id": "cc075e75",
   "metadata": {},
   "outputs": [
    {
     "data": {
      "text/html": [
       "<div>\n",
       "<style scoped>\n",
       "    .dataframe tbody tr th:only-of-type {\n",
       "        vertical-align: middle;\n",
       "    }\n",
       "\n",
       "    .dataframe tbody tr th {\n",
       "        vertical-align: top;\n",
       "    }\n",
       "\n",
       "    .dataframe thead th {\n",
       "        text-align: right;\n",
       "    }\n",
       "</style>\n",
       "<table border=\"1\" class=\"dataframe\">\n",
       "  <thead>\n",
       "    <tr style=\"text-align: right;\">\n",
       "      <th></th>\n",
       "      <th>Species</th>\n",
       "      <th>Light_ISF</th>\n",
       "      <th>AMF</th>\n",
       "      <th>Phenolics</th>\n",
       "      <th>Lignin</th>\n",
       "      <th>NSC</th>\n",
       "      <th>Alive</th>\n",
       "    </tr>\n",
       "  </thead>\n",
       "  <tbody>\n",
       "    <tr>\n",
       "      <th>0</th>\n",
       "      <td>Acer saccharum</td>\n",
       "      <td>0.085614</td>\n",
       "      <td>15.279601</td>\n",
       "      <td>-0.091704</td>\n",
       "      <td>12.584993</td>\n",
       "      <td>11.832051</td>\n",
       "      <td>0.001332</td>\n",
       "    </tr>\n",
       "    <tr>\n",
       "      <th>1</th>\n",
       "      <td>Prunus serotina</td>\n",
       "      <td>0.085567</td>\n",
       "      <td>31.214206</td>\n",
       "      <td>0.525848</td>\n",
       "      <td>7.837356</td>\n",
       "      <td>10.867797</td>\n",
       "      <td>0.026702</td>\n",
       "    </tr>\n",
       "    <tr>\n",
       "      <th>2</th>\n",
       "      <td>Quercus alba</td>\n",
       "      <td>0.086000</td>\n",
       "      <td>16.377741</td>\n",
       "      <td>4.436553</td>\n",
       "      <td>20.329851</td>\n",
       "      <td>19.875973</td>\n",
       "      <td>0.383358</td>\n",
       "    </tr>\n",
       "    <tr>\n",
       "      <th>3</th>\n",
       "      <td>Quercus rubra</td>\n",
       "      <td>0.085669</td>\n",
       "      <td>18.561557</td>\n",
       "      <td>3.391869</td>\n",
       "      <td>24.354098</td>\n",
       "      <td>15.034230</td>\n",
       "      <td>0.347541</td>\n",
       "    </tr>\n",
       "  </tbody>\n",
       "</table>\n",
       "</div>"
      ],
      "text/plain": [
       "           Species  Light_ISF        AMF  Phenolics     Lignin        NSC  \\\n",
       "0   Acer saccharum   0.085614  15.279601  -0.091704  12.584993  11.832051   \n",
       "1  Prunus serotina   0.085567  31.214206   0.525848   7.837356  10.867797   \n",
       "2     Quercus alba   0.086000  16.377741   4.436553  20.329851  19.875973   \n",
       "3    Quercus rubra   0.085669  18.561557   3.391869  24.354098  15.034230   \n",
       "\n",
       "      Alive  \n",
       "0  0.001332  \n",
       "1  0.026702  \n",
       "2  0.383358  \n",
       "3  0.347541  "
      ]
     },
     "execution_count": 8,
     "metadata": {},
     "output_type": "execute_result"
    }
   ],
   "source": [
    "species_group = df.groupby('Species').mean().reset_index()\n",
    "species_group"
   ]
  },
  {
   "cell_type": "code",
   "execution_count": 9,
   "id": "51c14477",
   "metadata": {},
   "outputs": [
    {
     "data": {
      "image/png": "[encoded data removed]",
      "text/plain": [
       "<Figure size 640x480 with 1 Axes>"
      ]
     },
     "metadata": {},
     "output_type": "display_data"
    }
   ],
   "source": [
    "plt.figure()\n",
    "sns.barplot(data = df, x = 'Species', y = 'Alive')\n",
    "plt.show()"
   ]
  },
  {
   "cell_type": "markdown",
   "id": "be5eca24",
   "metadata": {},
   "source": [
    "## Light_Cat"
   ]
  },
  {
   "cell_type": "code",
   "execution_count": 10,
   "id": "c0db6d54",
   "metadata": {},
   "outputs": [
    {
     "data": {
      "text/html": [
       "<div>\n",
       "<style scoped>\n",
       "    .dataframe tbody tr th:only-of-type {\n",
       "        vertical-align: middle;\n",
       "    }\n",
       "\n",
       "    .dataframe tbody tr th {\n",
       "        vertical-align: top;\n",
       "    }\n",
       "\n",
       "    .dataframe thead th {\n",
       "        text-align: right;\n",
       "    }\n",
       "</style>\n",
       "<table border=\"1\" class=\"dataframe\">\n",
       "  <thead>\n",
       "    <tr style=\"text-align: right;\">\n",
       "      <th></th>\n",
       "      <th>Light_ISF</th>\n",
       "      <th>AMF</th>\n",
       "      <th>Phenolics</th>\n",
       "      <th>Lignin</th>\n",
       "      <th>NSC</th>\n",
       "      <th>Alive</th>\n",
       "    </tr>\n",
       "    <tr>\n",
       "      <th>Light_Cat</th>\n",
       "      <th></th>\n",
       "      <th></th>\n",
       "      <th></th>\n",
       "      <th></th>\n",
       "      <th></th>\n",
       "      <th></th>\n",
       "    </tr>\n",
       "  </thead>\n",
       "  <tbody>\n",
       "    <tr>\n",
       "      <th>High</th>\n",
       "      <td>0.137507</td>\n",
       "      <td>24.340230</td>\n",
       "      <td>2.427303</td>\n",
       "      <td>16.494638</td>\n",
       "      <td>15.760164</td>\n",
       "      <td>0.190789</td>\n",
       "    </tr>\n",
       "    <tr>\n",
       "      <th>Low</th>\n",
       "      <td>0.060985</td>\n",
       "      <td>19.853592</td>\n",
       "      <td>1.763940</td>\n",
       "      <td>15.112010</td>\n",
       "      <td>12.862070</td>\n",
       "      <td>0.156219</td>\n",
       "    </tr>\n",
       "    <tr>\n",
       "      <th>Med</th>\n",
       "      <td>0.091879</td>\n",
       "      <td>20.248915</td>\n",
       "      <td>1.946520</td>\n",
       "      <td>16.049905</td>\n",
       "      <td>14.827537</td>\n",
       "      <td>0.187246</td>\n",
       "    </tr>\n",
       "  </tbody>\n",
       "</table>\n",
       "</div>"
      ],
      "text/plain": [
       "           Light_ISF        AMF  Phenolics     Lignin        NSC     Alive\n",
       "Light_Cat                                                                 \n",
       "High        0.137507  24.340230   2.427303  16.494638  15.760164  0.190789\n",
       "Low         0.060985  19.853592   1.763940  15.112010  12.862070  0.156219\n",
       "Med         0.091879  20.248915   1.946520  16.049905  14.827537  0.187246"
      ]
     },
     "execution_count": 10,
     "metadata": {},
     "output_type": "execute_result"
    }
   ],
   "source": [
    "light_group = df.groupby('Light_Cat').mean()\n",
    "light_group"
   ]
  },
  {
   "cell_type": "code",
   "execution_count": 11,
   "id": "5c3efd65",
   "metadata": {},
   "outputs": [
    {
     "data": {
      "image/png": "[encoded data removed]",
      "text/plain": [
       "<Figure size 640x480 with 1 Axes>"
      ]
     },
     "metadata": {},
     "output_type": "display_data"
    }
   ],
   "source": [
    "plt.figure()\n",
    "sns.barplot(data = df, x = 'Light_Cat', y = 'Alive')\n",
    "plt.show()"
   ]
  },
  {
   "cell_type": "markdown",
   "id": "061b0e75",
   "metadata": {},
   "source": [
    "There is no significant different in survival rate between light categories"
   ]
  },
  {
   "cell_type": "markdown",
   "id": "3737d329",
   "metadata": {},
   "source": [
    "## Soil"
   ]
  },
  {
   "cell_type": "code",
   "execution_count": 12,
   "id": "676fa24d",
   "metadata": {},
   "outputs": [
    {
     "data": {
      "text/html": [
       "<div>\n",
       "<style scoped>\n",
       "    .dataframe tbody tr th:only-of-type {\n",
       "        vertical-align: middle;\n",
       "    }\n",
       "\n",
       "    .dataframe tbody tr th {\n",
       "        vertical-align: top;\n",
       "    }\n",
       "\n",
       "    .dataframe thead th {\n",
       "        text-align: right;\n",
       "    }\n",
       "</style>\n",
       "<table border=\"1\" class=\"dataframe\">\n",
       "  <thead>\n",
       "    <tr style=\"text-align: right;\">\n",
       "      <th></th>\n",
       "      <th>Light_ISF</th>\n",
       "      <th>AMF</th>\n",
       "      <th>Phenolics</th>\n",
       "      <th>Lignin</th>\n",
       "      <th>NSC</th>\n",
       "      <th>Alive</th>\n",
       "    </tr>\n",
       "    <tr>\n",
       "      <th>Soil</th>\n",
       "      <th></th>\n",
       "      <th></th>\n",
       "      <th></th>\n",
       "      <th></th>\n",
       "      <th></th>\n",
       "      <th></th>\n",
       "    </tr>\n",
       "  </thead>\n",
       "  <tbody>\n",
       "    <tr>\n",
       "      <th>Acer rubrum</th>\n",
       "      <td>0.085902</td>\n",
       "      <td>19.433856</td>\n",
       "      <td>1.785266</td>\n",
       "      <td>15.398431</td>\n",
       "      <td>14.192048</td>\n",
       "      <td>0.202128</td>\n",
       "    </tr>\n",
       "    <tr>\n",
       "      <th>Acer saccharum</th>\n",
       "      <td>0.085950</td>\n",
       "      <td>26.767733</td>\n",
       "      <td>2.258791</td>\n",
       "      <td>16.019295</td>\n",
       "      <td>14.513804</td>\n",
       "      <td>0.163728</td>\n",
       "    </tr>\n",
       "    <tr>\n",
       "      <th>Populus grandidentata</th>\n",
       "      <td>0.085197</td>\n",
       "      <td>24.832046</td>\n",
       "      <td>2.064322</td>\n",
       "      <td>14.782353</td>\n",
       "      <td>14.538286</td>\n",
       "      <td>0.173913</td>\n",
       "    </tr>\n",
       "    <tr>\n",
       "      <th>Prunus serotina</th>\n",
       "      <td>0.085983</td>\n",
       "      <td>22.621719</td>\n",
       "      <td>1.599443</td>\n",
       "      <td>16.069613</td>\n",
       "      <td>14.290533</td>\n",
       "      <td>0.191283</td>\n",
       "    </tr>\n",
       "    <tr>\n",
       "      <th>Quercus alba</th>\n",
       "      <td>0.086113</td>\n",
       "      <td>20.170157</td>\n",
       "      <td>2.055249</td>\n",
       "      <td>15.754278</td>\n",
       "      <td>14.315249</td>\n",
       "      <td>0.141732</td>\n",
       "    </tr>\n",
       "    <tr>\n",
       "      <th>Quercus rubra</th>\n",
       "      <td>0.085858</td>\n",
       "      <td>21.289005</td>\n",
       "      <td>2.186866</td>\n",
       "      <td>16.491194</td>\n",
       "      <td>13.896144</td>\n",
       "      <td>0.184080</td>\n",
       "    </tr>\n",
       "    <tr>\n",
       "      <th>Sterile</th>\n",
       "      <td>0.084998</td>\n",
       "      <td>9.385721</td>\n",
       "      <td>1.612151</td>\n",
       "      <td>15.748322</td>\n",
       "      <td>13.825650</td>\n",
       "      <td>0.177305</td>\n",
       "    </tr>\n",
       "  </tbody>\n",
       "</table>\n",
       "</div>"
      ],
      "text/plain": [
       "                       Light_ISF        AMF  Phenolics     Lignin        NSC  \\\n",
       "Soil                                                                           \n",
       "Acer rubrum             0.085902  19.433856   1.785266  15.398431  14.192048   \n",
       "Acer saccharum          0.085950  26.767733   2.258791  16.019295  14.513804   \n",
       "Populus grandidentata   0.085197  24.832046   2.064322  14.782353  14.538286   \n",
       "Prunus serotina         0.085983  22.621719   1.599443  16.069613  14.290533   \n",
       "Quercus alba            0.086113  20.170157   2.055249  15.754278  14.315249   \n",
       "Quercus rubra           0.085858  21.289005   2.186866  16.491194  13.896144   \n",
       "Sterile                 0.084998   9.385721   1.612151  15.748322  13.825650   \n",
       "\n",
       "                          Alive  \n",
       "Soil                             \n",
       "Acer rubrum            0.202128  \n",
       "Acer saccharum         0.163728  \n",
       "Populus grandidentata  0.173913  \n",
       "Prunus serotina        0.191283  \n",
       "Quercus alba           0.141732  \n",
       "Quercus rubra          0.184080  \n",
       "Sterile                0.177305  "
      ]
     },
     "execution_count": 12,
     "metadata": {},
     "output_type": "execute_result"
    }
   ],
   "source": [
    "df.groupby('Soil').mean()"
   ]
  },
  {
   "cell_type": "code",
   "execution_count": 13,
   "id": "9a02197c",
   "metadata": {},
   "outputs": [
    {
     "data": {
      "image/png": "[encoded data removed]",
      "text/plain": [
       "<Figure size 640x480 with 1 Axes>"
      ]
     },
     "metadata": {},
     "output_type": "display_data"
    }
   ],
   "source": [
    "plt.figure()\n",
    "\n",
    "ax = sns.barplot(data = df, x = 'Soil', y = 'Alive')\n",
    "ax.tick_params(axis = 'x', labelrotation = 40)\n",
    "plt.show()"
   ]
  },
  {
   "cell_type": "markdown",
   "id": "e3d57559",
   "metadata": {},
   "source": [
    "There is no significant different in survival rate between the types of soil used for a tree"
   ]
  },
  {
   "cell_type": "markdown",
   "id": "a9af1f0b",
   "metadata": {},
   "source": [
    "## Sterility "
   ]
  },
  {
   "cell_type": "code",
   "execution_count": 14,
   "id": "3f65932b",
   "metadata": {},
   "outputs": [
    {
     "data": {
      "text/html": [
       "<div>\n",
       "<style scoped>\n",
       "    .dataframe tbody tr th:only-of-type {\n",
       "        vertical-align: middle;\n",
       "    }\n",
       "\n",
       "    .dataframe tbody tr th {\n",
       "        vertical-align: top;\n",
       "    }\n",
       "\n",
       "    .dataframe thead th {\n",
       "        text-align: right;\n",
       "    }\n",
       "</style>\n",
       "<table border=\"1\" class=\"dataframe\">\n",
       "  <thead>\n",
       "    <tr style=\"text-align: right;\">\n",
       "      <th></th>\n",
       "      <th>Light_ISF</th>\n",
       "      <th>AMF</th>\n",
       "      <th>Phenolics</th>\n",
       "      <th>Lignin</th>\n",
       "      <th>NSC</th>\n",
       "      <th>Alive</th>\n",
       "    </tr>\n",
       "    <tr>\n",
       "      <th>Sterile</th>\n",
       "      <th></th>\n",
       "      <th></th>\n",
       "      <th></th>\n",
       "      <th></th>\n",
       "      <th></th>\n",
       "      <th></th>\n",
       "    </tr>\n",
       "  </thead>\n",
       "  <tbody>\n",
       "    <tr>\n",
       "      <th>Non-Sterile</th>\n",
       "      <td>0.085834</td>\n",
       "      <td>22.554674</td>\n",
       "      <td>1.990631</td>\n",
       "      <td>15.761847</td>\n",
       "      <td>14.290258</td>\n",
       "      <td>0.176271</td>\n",
       "    </tr>\n",
       "    <tr>\n",
       "      <th>Sterile</th>\n",
       "      <td>0.084998</td>\n",
       "      <td>9.385721</td>\n",
       "      <td>1.612151</td>\n",
       "      <td>15.748322</td>\n",
       "      <td>13.825650</td>\n",
       "      <td>0.177305</td>\n",
       "    </tr>\n",
       "  </tbody>\n",
       "</table>\n",
       "</div>"
      ],
      "text/plain": [
       "             Light_ISF        AMF  Phenolics     Lignin        NSC     Alive\n",
       "Sterile                                                                     \n",
       "Non-Sterile   0.085834  22.554674   1.990631  15.761847  14.290258  0.176271\n",
       "Sterile       0.084998   9.385721   1.612151  15.748322  13.825650  0.177305"
      ]
     },
     "execution_count": 14,
     "metadata": {},
     "output_type": "execute_result"
    }
   ],
   "source": [
    "df.groupby('Sterile').mean()"
   ]
  },
  {
   "cell_type": "code",
   "execution_count": 15,
   "id": "65650cf1",
   "metadata": {},
   "outputs": [
    {
     "data": {
      "image/png": "[encoded data removed]",
      "text/plain": [
       "<Figure size 600x400 with 1 Axes>"
      ]
     },
     "metadata": {},
     "output_type": "display_data"
    }
   ],
   "source": [
    "plt.figure(figsize = (6,4))\n",
    "sns.barplot(data = df, x = 'Sterile', y = 'Alive')\n",
    "plt.show()"
   ]
  },
  {
   "cell_type": "markdown",
   "id": "54813c89",
   "metadata": {},
   "source": [
    "## Conspecific"
   ]
  },
  {
   "cell_type": "code",
   "execution_count": 16,
   "id": "dbac0a73",
   "metadata": {},
   "outputs": [
    {
     "data": {
      "text/html": [
       "<div>\n",
       "<style scoped>\n",
       "    .dataframe tbody tr th:only-of-type {\n",
       "        vertical-align: middle;\n",
       "    }\n",
       "\n",
       "    .dataframe tbody tr th {\n",
       "        vertical-align: top;\n",
       "    }\n",
       "\n",
       "    .dataframe thead th {\n",
       "        text-align: right;\n",
       "    }\n",
       "</style>\n",
       "<table border=\"1\" class=\"dataframe\">\n",
       "  <thead>\n",
       "    <tr style=\"text-align: right;\">\n",
       "      <th></th>\n",
       "      <th>Light_ISF</th>\n",
       "      <th>AMF</th>\n",
       "      <th>Phenolics</th>\n",
       "      <th>Lignin</th>\n",
       "      <th>NSC</th>\n",
       "      <th>Alive</th>\n",
       "    </tr>\n",
       "    <tr>\n",
       "      <th>Conspecific</th>\n",
       "      <th></th>\n",
       "      <th></th>\n",
       "      <th></th>\n",
       "      <th></th>\n",
       "      <th></th>\n",
       "      <th></th>\n",
       "    </tr>\n",
       "  </thead>\n",
       "  <tbody>\n",
       "    <tr>\n",
       "      <th>Conspecific</th>\n",
       "      <td>0.086756</td>\n",
       "      <td>21.324404</td>\n",
       "      <td>1.956995</td>\n",
       "      <td>16.369896</td>\n",
       "      <td>13.330415</td>\n",
       "      <td>0.137306</td>\n",
       "    </tr>\n",
       "    <tr>\n",
       "      <th>Heterospecific</th>\n",
       "      <td>0.085653</td>\n",
       "      <td>22.795243</td>\n",
       "      <td>1.997209</td>\n",
       "      <td>15.642948</td>\n",
       "      <td>14.477948</td>\n",
       "      <td>0.183891</td>\n",
       "    </tr>\n",
       "    <tr>\n",
       "      <th>Sterilized</th>\n",
       "      <td>0.084998</td>\n",
       "      <td>9.385721</td>\n",
       "      <td>1.612151</td>\n",
       "      <td>15.748322</td>\n",
       "      <td>13.825650</td>\n",
       "      <td>0.177305</td>\n",
       "    </tr>\n",
       "  </tbody>\n",
       "</table>\n",
       "</div>"
      ],
      "text/plain": [
       "                Light_ISF        AMF  Phenolics     Lignin        NSC  \\\n",
       "Conspecific                                                             \n",
       "Conspecific      0.086756  21.324404   1.956995  16.369896  13.330415   \n",
       "Heterospecific   0.085653  22.795243   1.997209  15.642948  14.477948   \n",
       "Sterilized       0.084998   9.385721   1.612151  15.748322  13.825650   \n",
       "\n",
       "                   Alive  \n",
       "Conspecific               \n",
       "Conspecific     0.137306  \n",
       "Heterospecific  0.183891  \n",
       "Sterilized      0.177305  "
      ]
     },
     "execution_count": 16,
     "metadata": {},
     "output_type": "execute_result"
    }
   ],
   "source": [
    "df.groupby('Conspecific').mean()"
   ]
  },
  {
   "cell_type": "code",
   "execution_count": 17,
   "id": "579e9914",
   "metadata": {},
   "outputs": [
    {
     "data": {
      "image/png": "[encoded data removed]",
      "text/plain": [
       "<Figure size 600x400 with 1 Axes>"
      ]
     },
     "metadata": {},
     "output_type": "display_data"
    }
   ],
   "source": [
    "plt.figure(figsize = (6,4))\n",
    "sns.barplot(data = df, x = 'Conspecific', y = 'Alive')\n",
    "plt.show()"
   ]
  },
  {
   "cell_type": "markdown",
   "id": "e588efdf",
   "metadata": {},
   "source": [
    "## Myco"
   ]
  },
  {
   "cell_type": "code",
   "execution_count": 18,
   "id": "d981fc4d",
   "metadata": {},
   "outputs": [
    {
     "data": {
      "text/plain": [
       "AMF    1500\n",
       "EMF    1283\n",
       "Name: Myco, dtype: int64"
      ]
     },
     "execution_count": 18,
     "metadata": {},
     "output_type": "execute_result"
    }
   ],
   "source": [
    "df.Myco.value_counts()"
   ]
  },
  {
   "cell_type": "code",
   "execution_count": 19,
   "id": "2c2b17d5",
   "metadata": {},
   "outputs": [
    {
     "data": {
      "text/html": [
       "<div>\n",
       "<style scoped>\n",
       "    .dataframe tbody tr th:only-of-type {\n",
       "        vertical-align: middle;\n",
       "    }\n",
       "\n",
       "    .dataframe tbody tr th {\n",
       "        vertical-align: top;\n",
       "    }\n",
       "\n",
       "    .dataframe thead th {\n",
       "        text-align: right;\n",
       "    }\n",
       "</style>\n",
       "<table border=\"1\" class=\"dataframe\">\n",
       "  <thead>\n",
       "    <tr style=\"text-align: right;\">\n",
       "      <th></th>\n",
       "      <th>Light_ISF</th>\n",
       "      <th>AMF</th>\n",
       "      <th>Phenolics</th>\n",
       "      <th>Lignin</th>\n",
       "      <th>NSC</th>\n",
       "      <th>Alive</th>\n",
       "    </tr>\n",
       "    <tr>\n",
       "      <th>Myco</th>\n",
       "      <th></th>\n",
       "      <th></th>\n",
       "      <th></th>\n",
       "      <th></th>\n",
       "      <th></th>\n",
       "      <th></th>\n",
       "    </tr>\n",
       "  </thead>\n",
       "  <tbody>\n",
       "    <tr>\n",
       "      <th>AMF</th>\n",
       "      <td>0.085591</td>\n",
       "      <td>23.236280</td>\n",
       "      <td>0.21666</td>\n",
       "      <td>10.214340</td>\n",
       "      <td>11.350567</td>\n",
       "      <td>0.014000</td>\n",
       "    </tr>\n",
       "    <tr>\n",
       "      <th>EMF</th>\n",
       "      <td>0.085843</td>\n",
       "      <td>17.416033</td>\n",
       "      <td>3.93986</td>\n",
       "      <td>22.243172</td>\n",
       "      <td>17.573975</td>\n",
       "      <td>0.366329</td>\n",
       "    </tr>\n",
       "  </tbody>\n",
       "</table>\n",
       "</div>"
      ],
      "text/plain": [
       "      Light_ISF        AMF  Phenolics     Lignin        NSC     Alive\n",
       "Myco                                                                 \n",
       "AMF    0.085591  23.236280    0.21666  10.214340  11.350567  0.014000\n",
       "EMF    0.085843  17.416033    3.93986  22.243172  17.573975  0.366329"
      ]
     },
     "execution_count": 19,
     "metadata": {},
     "output_type": "execute_result"
    }
   ],
   "source": [
    "df.groupby('Myco').mean()"
   ]
  },
  {
   "cell_type": "code",
   "execution_count": 20,
   "id": "197af538",
   "metadata": {},
   "outputs": [
    {
     "data": {
      "image/png": "[encoded data removed]",
      "text/plain": [
       "<Figure size 600x400 with 1 Axes>"
      ]
     },
     "metadata": {},
     "output_type": "display_data"
    }
   ],
   "source": [
    "plt.figure(figsize = (6,4))\n",
    "sns.barplot(data = df, x = 'Myco', y = 'Alive')\n",
    "plt.show()"
   ]
  },
  {
   "cell_type": "code",
   "execution_count": 21,
   "id": "fc494b90",
   "metadata": {},
   "outputs": [
    {
     "data": {
      "text/html": [
       "<div>\n",
       "<style scoped>\n",
       "    .dataframe tbody tr th:only-of-type {\n",
       "        vertical-align: middle;\n",
       "    }\n",
       "\n",
       "    .dataframe tbody tr th {\n",
       "        vertical-align: top;\n",
       "    }\n",
       "\n",
       "    .dataframe thead th {\n",
       "        text-align: right;\n",
       "    }\n",
       "</style>\n",
       "<table border=\"1\" class=\"dataframe\">\n",
       "  <thead>\n",
       "    <tr style=\"text-align: right;\">\n",
       "      <th></th>\n",
       "      <th>Light_ISF</th>\n",
       "      <th>AMF</th>\n",
       "      <th>Phenolics</th>\n",
       "      <th>Lignin</th>\n",
       "      <th>NSC</th>\n",
       "      <th>Alive</th>\n",
       "    </tr>\n",
       "    <tr>\n",
       "      <th>SoilMyco</th>\n",
       "      <th></th>\n",
       "      <th></th>\n",
       "      <th></th>\n",
       "      <th></th>\n",
       "      <th></th>\n",
       "      <th></th>\n",
       "    </tr>\n",
       "  </thead>\n",
       "  <tbody>\n",
       "    <tr>\n",
       "      <th>AMF</th>\n",
       "      <td>0.085946</td>\n",
       "      <td>22.998895</td>\n",
       "      <td>1.879064</td>\n",
       "      <td>15.839983</td>\n",
       "      <td>14.334047</td>\n",
       "      <td>0.185497</td>\n",
       "    </tr>\n",
       "    <tr>\n",
       "      <th>EMF</th>\n",
       "      <td>0.085721</td>\n",
       "      <td>22.105911</td>\n",
       "      <td>2.103339</td>\n",
       "      <td>15.682913</td>\n",
       "      <td>14.246022</td>\n",
       "      <td>0.166951</td>\n",
       "    </tr>\n",
       "    <tr>\n",
       "      <th>Sterile</th>\n",
       "      <td>0.084998</td>\n",
       "      <td>9.385721</td>\n",
       "      <td>1.612151</td>\n",
       "      <td>15.748322</td>\n",
       "      <td>13.825650</td>\n",
       "      <td>0.177305</td>\n",
       "    </tr>\n",
       "  </tbody>\n",
       "</table>\n",
       "</div>"
      ],
      "text/plain": [
       "          Light_ISF        AMF  Phenolics     Lignin        NSC     Alive\n",
       "SoilMyco                                                                 \n",
       "AMF        0.085946  22.998895   1.879064  15.839983  14.334047  0.185497\n",
       "EMF        0.085721  22.105911   2.103339  15.682913  14.246022  0.166951\n",
       "Sterile    0.084998   9.385721   1.612151  15.748322  13.825650  0.177305"
      ]
     },
     "execution_count": 21,
     "metadata": {},
     "output_type": "execute_result"
    }
   ],
   "source": [
    "df.groupby('SoilMyco').mean()"
   ]
  },
  {
   "cell_type": "code",
   "execution_count": 22,
   "id": "5ef654ae",
   "metadata": {},
   "outputs": [
    {
     "data": {
      "image/png": "[encoded data removed]",
      "text/plain": [
       "<Figure size 600x400 with 1 Axes>"
      ]
     },
     "metadata": {},
     "output_type": "display_data"
    }
   ],
   "source": [
    "plt.figure(figsize = (6,4))\n",
    "sns.barplot(data = df, x = 'SoilMyco', y = 'Alive')\n",
    "plt.show()"
   ]
  },
  {
   "cell_type": "markdown",
   "id": "4398fb26",
   "metadata": {},
   "source": [
    "The only two important categorical variables which survival seems to be dependent on are: \n",
    "> 1. Species <br>\n",
    "> 2. Myco"
   ]
  },
  {
   "cell_type": "markdown",
   "id": "33645931",
   "metadata": {},
   "source": [
    "# Numerical Variable Exploration"
   ]
  },
  {
   "cell_type": "code",
   "execution_count": 23,
   "id": "bb8aa464",
   "metadata": {},
   "outputs": [
    {
     "data": {
      "text/html": [
       "<div>\n",
       "<style scoped>\n",
       "    .dataframe tbody tr th:only-of-type {\n",
       "        vertical-align: middle;\n",
       "    }\n",
       "\n",
       "    .dataframe tbody tr th {\n",
       "        vertical-align: top;\n",
       "    }\n",
       "\n",
       "    .dataframe thead th {\n",
       "        text-align: right;\n",
       "    }\n",
       "</style>\n",
       "<table border=\"1\" class=\"dataframe\">\n",
       "  <thead>\n",
       "    <tr style=\"text-align: right;\">\n",
       "      <th></th>\n",
       "      <th>Light_ISF</th>\n",
       "      <th>AMF</th>\n",
       "      <th>Phenolics</th>\n",
       "      <th>Lignin</th>\n",
       "      <th>NSC</th>\n",
       "    </tr>\n",
       "    <tr>\n",
       "      <th>Alive</th>\n",
       "      <th></th>\n",
       "      <th></th>\n",
       "      <th></th>\n",
       "      <th></th>\n",
       "      <th></th>\n",
       "    </tr>\n",
       "  </thead>\n",
       "  <tbody>\n",
       "    <tr>\n",
       "      <th>0</th>\n",
       "      <td>0.085197</td>\n",
       "      <td>21.029756</td>\n",
       "      <td>1.515611</td>\n",
       "      <td>14.620803</td>\n",
       "      <td>13.408944</td>\n",
       "    </tr>\n",
       "    <tr>\n",
       "      <th>1</th>\n",
       "      <td>0.088088</td>\n",
       "      <td>18.327882</td>\n",
       "      <td>3.881976</td>\n",
       "      <td>21.076619</td>\n",
       "      <td>18.003992</td>\n",
       "    </tr>\n",
       "  </tbody>\n",
       "</table>\n",
       "</div>"
      ],
      "text/plain": [
       "       Light_ISF        AMF  Phenolics     Lignin        NSC\n",
       "Alive                                                       \n",
       "0       0.085197  21.029756   1.515611  14.620803  13.408944\n",
       "1       0.088088  18.327882   3.881976  21.076619  18.003992"
      ]
     },
     "execution_count": 23,
     "metadata": {},
     "output_type": "execute_result"
    }
   ],
   "source": [
    "df.groupby('Alive').mean()"
   ]
  },
  {
   "cell_type": "markdown",
   "id": "1a48a711",
   "metadata": {},
   "source": [
    "## AMF"
   ]
  },
  {
   "cell_type": "code",
   "execution_count": 24,
   "id": "638f3d6d",
   "metadata": {},
   "outputs": [
    {
     "data": {
      "image/png": "[encoded data removed]",
      "text/plain": [
       "<Figure size 600x400 with 1 Axes>"
      ]
     },
     "metadata": {},
     "output_type": "display_data"
    }
   ],
   "source": [
    "plt.figure(figsize = (6,4))\n",
    "\n",
    "sns.violinplot(data = df, x = 'Alive', y = 'AMF')\n",
    "plt.show()"
   ]
  },
  {
   "cell_type": "markdown",
   "id": "b2fbfc8c",
   "metadata": {},
   "source": [
    "## Phenolics"
   ]
  },
  {
   "cell_type": "code",
   "execution_count": 25,
   "id": "e91e70a0",
   "metadata": {},
   "outputs": [
    {
     "data": {
      "image/png": "[encoded data removed]",
      "text/plain": [
       "<Figure size 600x400 with 1 Axes>"
      ]
     },
     "metadata": {},
     "output_type": "display_data"
    }
   ],
   "source": [
    "plt.figure(figsize = (6,4))\n",
    "\n",
    "sns.boxplot(data = df, x = 'Alive', y = 'Phenolics')\n",
    "plt.show()"
   ]
  },
  {
   "cell_type": "markdown",
   "id": "86ca2709",
   "metadata": {},
   "source": [
    "## Lignin"
   ]
  },
  {
   "cell_type": "code",
   "execution_count": 26,
   "id": "fa5831d8",
   "metadata": {},
   "outputs": [
    {
     "data": {
      "image/png": "[encoded data removed]",
      "text/plain": [
       "<Figure size 600x400 with 1 Axes>"
      ]
     },
     "metadata": {},
     "output_type": "display_data"
    }
   ],
   "source": [
    "plt.figure(figsize = (6,4))\n",
    "\n",
    "sns.stripplot(data = df, x = 'Alive', y = 'Lignin')\n",
    "plt.show()"
   ]
  },
  {
   "cell_type": "markdown",
   "id": "c0641145",
   "metadata": {},
   "source": [
    "## NSC"
   ]
  },
  {
   "cell_type": "code",
   "execution_count": 27,
   "id": "5159540d",
   "metadata": {
    "scrolled": false
   },
   "outputs": [
    {
     "data": {
      "image/png": "[encoded data removed]",
      "text/plain": [
       "<Figure size 600x400 with 1 Axes>"
      ]
     },
     "metadata": {},
     "output_type": "display_data"
    }
   ],
   "source": [
    "plt.figure(figsize = (6,4))\n",
    "\n",
    "sns.boxenplot(data = df, x = 'Alive', y = 'NSC')\n",
    "plt.show()"
   ]
  },
  {
   "cell_type": "markdown",
   "id": "18158397",
   "metadata": {},
   "source": [
    "# Feature Selection"
   ]
  },
  {
   "cell_type": "markdown",
   "id": "a38c965b",
   "metadata": {},
   "source": [
    "Based on the exploratary analysis above, we are going to select the following variables to be included in our modeling.\n",
    "\n",
    "<ul>\n",
    "    <li>\n",
    "        Species\n",
    "    </li>    \n",
    "    <li>\n",
    "        Myco\n",
    "    </li> \n",
    "    <li>\n",
    "        AMF\n",
    "    </li> \n",
    "    <li>\n",
    "        Phenolics\n",
    "    </li> \n",
    "    <li>\n",
    "        Lignin\n",
    "    </li> \n",
    "    <li>\n",
    "        NSC\n",
    "    </li> \n",
    "</ul>"
   ]
  },
  {
   "cell_type": "markdown",
   "id": "5f6254af",
   "metadata": {},
   "source": [
    "# Create Data Pipelines"
   ]
  },
  {
   "cell_type": "code",
   "execution_count": 28,
   "id": "2d41eb71",
   "metadata": {},
   "outputs": [
    {
     "data": {
      "text/plain": [
       "array([[1., 0., 0., 0., 1., 0.],\n",
       "       [0., 0., 1., 0., 0., 1.],\n",
       "       [0., 0., 0., 1., 0., 1.],\n",
       "       ...,\n",
       "       [0., 0., 1., 0., 0., 1.],\n",
       "       [0., 0., 1., 0., 0., 1.],\n",
       "       [0., 1., 0., 0., 1., 0.]])"
      ]
     },
     "execution_count": 28,
     "metadata": {},
     "output_type": "execute_result"
    }
   ],
   "source": [
    "cat_vars = ['Species', 'Myco']\n",
    "\n",
    "survival_cat = df[cat_vars]\n",
    "\n",
    "cat_pipeline = Pipeline([\n",
    "    ('categorical encoder', OneHotEncoder()) # get one hot values\n",
    "])\n",
    "\n",
    "survival_cat_tr = cat_pipeline.fit_transform(survival_cat)\n",
    "survival_cat_tr = survival_cat_tr.toarray()\n",
    "survival_cat_tr"
   ]
  },
  {
   "cell_type": "code",
   "execution_count": 29,
   "id": "c1ab7425",
   "metadata": {},
   "outputs": [
    {
     "data": {
      "text/plain": [
       "array([[ 0.1175662 , -1.26586428, -0.28027184, -0.48159192],\n",
       "       [-0.38457172,  1.65367617,  0.70226249,  1.17983963],\n",
       "       [ 0.31663382,  0.72450069,  1.3248293 ,  0.18391147],\n",
       "       ...,\n",
       "       [-0.6982048 ,  1.81615494,  0.79225438,  1.13562787],\n",
       "       [-0.28950678,  1.19162716,  0.53408094,  1.66151516],\n",
       "       [ 3.24252163, -0.47378026, -0.99135525, -0.55838077]])"
      ]
     },
     "execution_count": 29,
     "metadata": {},
     "output_type": "execute_result"
    }
   ],
   "source": [
    "num_vars = ['AMF', 'Phenolics', 'Lignin', 'NSC']\n",
    "\n",
    "survival_num = df[num_vars]\n",
    "\n",
    "num_pipeline = Pipeline([\n",
    "    ('scale', StandardScaler())\n",
    "])\n",
    "\n",
    "survival_num_tr = num_pipeline.fit_transform(survival_num)\n",
    "survival_num_tr"
   ]
  },
  {
   "cell_type": "markdown",
   "id": "c45a719e",
   "metadata": {},
   "source": [
    "## Full Pipeline"
   ]
  },
  {
   "cell_type": "code",
   "execution_count": 30,
   "id": "ba148c93",
   "metadata": {},
   "outputs": [
    {
     "data": {
      "text/plain": [
       "array([[ 0.1175662 , -1.26586428, -0.28027184, ...,  0.        ,\n",
       "         1.        ,  0.        ],\n",
       "       [-0.38457172,  1.65367617,  0.70226249, ...,  0.        ,\n",
       "         0.        ,  1.        ],\n",
       "       [ 0.31663382,  0.72450069,  1.3248293 , ...,  1.        ,\n",
       "         0.        ,  1.        ],\n",
       "       ...,\n",
       "       [-0.6982048 ,  1.81615494,  0.79225438, ...,  0.        ,\n",
       "         0.        ,  1.        ],\n",
       "       [-0.28950678,  1.19162716,  0.53408094, ...,  0.        ,\n",
       "         0.        ,  1.        ],\n",
       "       [ 3.24252163, -0.47378026, -0.99135525, ...,  0.        ,\n",
       "         1.        ,  0.        ]])"
      ]
     },
     "execution_count": 30,
     "metadata": {},
     "output_type": "execute_result"
    }
   ],
   "source": [
    "full_pipeline = ColumnTransformer([\n",
    "    ('num', num_pipeline, num_vars),\n",
    "    ('cat', cat_pipeline, cat_vars)\n",
    "])\n",
    "\n",
    "data_prepared = full_pipeline.fit_transform(df)\n",
    "data_prepared"
   ]
  },
  {
   "cell_type": "markdown",
   "id": "e1c09f48",
   "metadata": {},
   "source": [
    "# Machine Learning Model"
   ]
  },
  {
   "cell_type": "code",
   "execution_count": 31,
   "id": "c52e9a30",
   "metadata": {},
   "outputs": [],
   "source": [
    "X = data_prepared\n",
    "y = df['Alive']\n",
    "\n",
    "X_train, X_test, y_train, y_test = train_test_split(X, y, train_size = .9, random_state = 21)\n",
    "\n",
    "xgb = XGBClassifier(n_estimators = 100, max_depth = 10, gamma = 10, learning_rate = .1)"
   ]
  },
  {
   "cell_type": "code",
   "execution_count": 32,
   "id": "19c59b25",
   "metadata": {},
   "outputs": [
    {
     "data": {
      "text/plain": [
       "XGBClassifier(base_score=None, booster=None, callbacks=None,\n",
       "              colsample_bylevel=None, colsample_bynode=None,\n",
       "              colsample_bytree=None, early_stopping_rounds=None,\n",
       "              enable_categorical=False, eval_metric=None, feature_types=None,\n",
       "              gamma=10, gpu_id=None, grow_policy=None, importance_type=None,\n",
       "              interaction_constraints=None, learning_rate=0.1, max_bin=None,\n",
       "              max_cat_threshold=None, max_cat_to_onehot=None,\n",
       "              max_delta_step=None, max_depth=10, max_leaves=None,\n",
       "              min_child_weight=None, missing=nan, monotone_constraints=None,\n",
       "              n_estimators=100, n_jobs=None, num_parallel_tree=None,\n",
       "              predictor=None, random_state=None, ...)"
      ]
     },
     "execution_count": 32,
     "metadata": {},
     "output_type": "execute_result"
    }
   ],
   "source": [
    "xgb.fit(X, y)"
   ]
  },
  {
   "cell_type": "code",
   "execution_count": 33,
   "id": "fc36d5b4",
   "metadata": {},
   "outputs": [
    {
     "name": "stdout",
     "output_type": "stream",
     "text": [
      "Accuracy: 0.8781362007168458\n",
      "Precision: 0.8181818181818182\n",
      "Recall: 0.375\n"
     ]
    }
   ],
   "source": [
    "predictions = xgb.predict(X_test)\n",
    "\n",
    "accuracy = accuracy_score(y_test, predictions)\n",
    "precision = precision_score(y_test, predictions)\n",
    "recall = recall_score(y_test, predictions)\n",
    "\n",
    "print(\"Accuracy:\", accuracy)\n",
    "print(\"Precision:\", precision)\n",
    "print(\"Recall:\", recall)"
   ]
  },
  {
   "cell_type": "markdown",
   "id": "8fb86e89",
   "metadata": {},
   "source": [
    "# Hypertune Parameters using Cross-Validation"
   ]
  },
  {
   "cell_type": "code",
   "execution_count": 34,
   "id": "60cfe019",
   "metadata": {},
   "outputs": [
    {
     "data": {
      "text/plain": [
       "GridSearchCV(estimator=XGBClassifier(base_score=None, booster=None,\n",
       "                                     callbacks=None, colsample_bylevel=None,\n",
       "                                     colsample_bynode=None,\n",
       "                                     colsample_bytree=None,\n",
       "                                     early_stopping_rounds=None,\n",
       "                                     enable_categorical=False, eval_metric=None,\n",
       "                                     feature_types=None, gamma=None,\n",
       "                                     gpu_id=None, grow_policy=None,\n",
       "                                     importance_type=None,\n",
       "                                     interaction_constraints=None,\n",
       "                                     learning_rate=None, max_b...e,\n",
       "                                     max_cat_threshold=None,\n",
       "                                     max_cat_to_onehot=None,\n",
       "                                     max_delta_step=None, max_depth=None,\n",
       "                                     max_leaves=None, min_child_weight=None,\n",
       "                                     missing=nan, monotone_constraints=None,\n",
       "                                     n_estimators=100, n_jobs=None,\n",
       "                                     num_parallel_tree=None, predictor=None,\n",
       "                                     random_state=None, ...),\n",
       "             param_grid={'gamma': [1, 5], 'learning_rate': [0.01, 0.05],\n",
       "                         'max_depth': [4, 6], 'n_estimators': [50, 100, 200]})"
      ]
     },
     "execution_count": 34,
     "metadata": {},
     "output_type": "execute_result"
    }
   ],
   "source": [
    "# perform grid search to tune hyperparameters\n",
    "params = {\n",
    "    \"n_estimators\": [50, 100, 200],\n",
    "    \"max_depth\": [4, 6],\n",
    "    \"gamma\": [1, 5],\n",
    "    \"learning_rate\": [.01, .05]\n",
    "}\n",
    "\n",
    "xgb = XGBClassifier()\n",
    "\n",
    "grid = GridSearchCV(xgb, param_grid = params)\n",
    "grid.fit(X_train, y_train)"
   ]
  },
  {
   "cell_type": "code",
   "execution_count": 35,
   "id": "fb2500f0",
   "metadata": {},
   "outputs": [
    {
     "data": {
      "text/plain": [
       "{'gamma': 1, 'learning_rate': 0.05, 'max_depth': 6, 'n_estimators': 200}"
      ]
     },
     "execution_count": 35,
     "metadata": {},
     "output_type": "execute_result"
    }
   ],
   "source": [
    "grid.best_params_"
   ]
  },
  {
   "cell_type": "code",
   "execution_count": 36,
   "id": "899e816c",
   "metadata": {},
   "outputs": [
    {
     "data": {
      "text/plain": [
       "XGBClassifier(base_score=None, booster=None, callbacks=None,\n",
       "              colsample_bylevel=None, colsample_bynode=None,\n",
       "              colsample_bytree=None, early_stopping_rounds=None,\n",
       "              enable_categorical=False, eval_metric=None, feature_types=None,\n",
       "              gamma=1, gpu_id=None, grow_policy=None, importance_type=None,\n",
       "              interaction_constraints=None, learning_rate=0.05, max_bin=None,\n",
       "              max_cat_threshold=None, max_cat_to_onehot=None,\n",
       "              max_delta_step=None, max_depth=200, max_leaves=None,\n",
       "              min_child_weight=None, missing=nan, monotone_constraints=None,\n",
       "              n_estimators=6, n_jobs=None, num_parallel_tree=None,\n",
       "              predictor=None, random_state=None, ...)"
      ]
     },
     "execution_count": 36,
     "metadata": {},
     "output_type": "execute_result"
    }
   ],
   "source": [
    "# retrain model with the hypertuned parameters\n",
    "tuned_model = XGBClassifier(n_estimators = grid.best_params_[\"max_depth\"], max_depth = grid.best_params_[\"n_estimators\"],\n",
    "                      gamma = grid.best_params_[\"gamma\"], learning_rate = grid.best_params_[\"learning_rate\"])\n",
    "tuned_model.fit(X_train, y_train)"
   ]
  },
  {
   "cell_type": "code",
   "execution_count": 37,
   "id": "eedd8f58",
   "metadata": {},
   "outputs": [
    {
     "name": "stdout",
     "output_type": "stream",
     "text": [
      "Accuracy: 0.8422939068100358\n",
      "Precision: 0.54\n",
      "Recall: 0.5625\n"
     ]
    }
   ],
   "source": [
    "predictions = tuned_model.predict(X_test)\n",
    "\n",
    "tuned_accuracy = accuracy_score(y_test, predictions)\n",
    "tuned_precision = precision_score(y_test, predictions)\n",
    "tuned_recall = recall_score(y_test, predictions)\n",
    "\n",
    "print(\"Accuracy:\", tuned_accuracy)\n",
    "print(\"Precision:\", tuned_precision)\n",
    "print(\"Recall:\", tuned_recall)"
   ]
  },
  {
   "cell_type": "code",
   "execution_count": 38,
   "id": "4d2df738",
   "metadata": {},
   "outputs": [
    {
     "data": {
      "text/html": [
       "<div>\n",
       "<style scoped>\n",
       "    .dataframe tbody tr th:only-of-type {\n",
       "        vertical-align: middle;\n",
       "    }\n",
       "\n",
       "    .dataframe tbody tr th {\n",
       "        vertical-align: top;\n",
       "    }\n",
       "\n",
       "    .dataframe thead th {\n",
       "        text-align: right;\n",
       "    }\n",
       "</style>\n",
       "<table border=\"1\" class=\"dataframe\">\n",
       "  <thead>\n",
       "    <tr style=\"text-align: right;\">\n",
       "      <th></th>\n",
       "      <th>Accuracy</th>\n",
       "      <th>Precision</th>\n",
       "      <th>Recall</th>\n",
       "    </tr>\n",
       "  </thead>\n",
       "  <tbody>\n",
       "    <tr>\n",
       "      <th>Before Tuning</th>\n",
       "      <td>0.878136</td>\n",
       "      <td>0.818182</td>\n",
       "      <td>0.3750</td>\n",
       "    </tr>\n",
       "    <tr>\n",
       "      <th>After Tuning</th>\n",
       "      <td>0.842294</td>\n",
       "      <td>0.540000</td>\n",
       "      <td>0.5625</td>\n",
       "    </tr>\n",
       "  </tbody>\n",
       "</table>\n",
       "</div>"
      ],
      "text/plain": [
       "               Accuracy  Precision  Recall\n",
       "Before Tuning  0.878136   0.818182  0.3750\n",
       "After Tuning   0.842294   0.540000  0.5625"
      ]
     },
     "execution_count": 38,
     "metadata": {},
     "output_type": "execute_result"
    }
   ],
   "source": [
    "metrics_df = pd.DataFrame(data = [[accuracy, precision, recall], [tuned_accuracy, tuned_precision, tuned_recall]],\n",
    "                 index = ['Before Tuning', 'After Tuning'],\n",
    "                 columns = ['Accuracy', 'Precision', 'Recall'])\n",
    "\n",
    "metrics_df"
   ]
  }
 ],
 "metadata": {
  "kernelspec": {
   "display_name": "Python 3 (ipykernel)",
   "language": "python",
   "name": "python3"
  },
  "language_info": {
   "codemirror_mode": {
    "name": "ipython",
    "version": 3
   },
   "file_extension": ".py",
   "mimetype": "text/x-python",
   "name": "python",
   "nbconvert_exporter": "python",
   "pygments_lexer": "ipython3",
   "version": "3.9.13"
  }
 },
 "nbformat": 4,
 "nbformat_minor": 5
}
