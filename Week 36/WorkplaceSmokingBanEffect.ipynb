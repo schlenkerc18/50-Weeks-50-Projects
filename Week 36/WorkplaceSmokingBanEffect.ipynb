{
 "cells": [
  {
   "cell_type": "code",
   "execution_count": 1,
   "id": "4f7445f6",
   "metadata": {},
   "outputs": [],
   "source": [
    "import numpy as np\n",
    "import pandas as pd\n",
    "\n",
    "import matplotlib.pyplot as plt\n",
    "import seaborn as sns\n",
    "sns.set_style(\"whitegrid\")\n",
    "sns.set_palette(\"pastel\")\n",
    "\n",
    "from sklearn.preprocessing import OneHotEncoder\n",
    "from sklearn.model_selection import train_test_split\n",
    "\n",
    "from sklearn.pipeline import Pipeline\n",
    "\n",
    "from sklearn.model_selection import train_test_split, GridSearchCV\n",
    "from sklearn.metrics import accuracy_score, precision_score, recall_score\n",
    "\n",
    "from sklearn.ensemble import RandomForestClassifier\n",
    "from xgboost import XGBClassifier "
   ]
  },
  {
   "cell_type": "markdown",
   "id": "781ba4b7",
   "metadata": {},
   "source": [
    "# EDA Approach"
   ]
  },
  {
   "cell_type": "markdown",
   "id": "7745cd51",
   "metadata": {},
   "source": [
    "We are going to explore how each variable effects whether or not someone smokes.  The variable exploration will help us identify which variables we want to include in our model.  After we explore each categorical variable, we will attempt to build a model that predicts whether or not an indoor worker is a smoker."
   ]
  },
  {
   "cell_type": "code",
   "execution_count": 2,
   "id": "aa129fbe",
   "metadata": {},
   "outputs": [
    {
     "data": {
      "text/html": [
       "<div>\n",
       "<style scoped>\n",
       "    .dataframe tbody tr th:only-of-type {\n",
       "        vertical-align: middle;\n",
       "    }\n",
       "\n",
       "    .dataframe tbody tr th {\n",
       "        vertical-align: top;\n",
       "    }\n",
       "\n",
       "    .dataframe thead th {\n",
       "        text-align: right;\n",
       "    }\n",
       "</style>\n",
       "<table border=\"1\" class=\"dataframe\">\n",
       "  <thead>\n",
       "    <tr style=\"text-align: right;\">\n",
       "      <th></th>\n",
       "      <th>smoker</th>\n",
       "      <th>ban</th>\n",
       "      <th>age</th>\n",
       "      <th>education</th>\n",
       "      <th>afam</th>\n",
       "      <th>hispanic</th>\n",
       "      <th>gender</th>\n",
       "    </tr>\n",
       "  </thead>\n",
       "  <tbody>\n",
       "    <tr>\n",
       "      <th>0</th>\n",
       "      <td>yes</td>\n",
       "      <td>yes</td>\n",
       "      <td>41</td>\n",
       "      <td>hs</td>\n",
       "      <td>no</td>\n",
       "      <td>no</td>\n",
       "      <td>female</td>\n",
       "    </tr>\n",
       "    <tr>\n",
       "      <th>1</th>\n",
       "      <td>yes</td>\n",
       "      <td>yes</td>\n",
       "      <td>44</td>\n",
       "      <td>some college</td>\n",
       "      <td>no</td>\n",
       "      <td>no</td>\n",
       "      <td>female</td>\n",
       "    </tr>\n",
       "    <tr>\n",
       "      <th>2</th>\n",
       "      <td>no</td>\n",
       "      <td>no</td>\n",
       "      <td>19</td>\n",
       "      <td>some college</td>\n",
       "      <td>no</td>\n",
       "      <td>no</td>\n",
       "      <td>female</td>\n",
       "    </tr>\n",
       "    <tr>\n",
       "      <th>3</th>\n",
       "      <td>yes</td>\n",
       "      <td>no</td>\n",
       "      <td>29</td>\n",
       "      <td>hs</td>\n",
       "      <td>no</td>\n",
       "      <td>no</td>\n",
       "      <td>female</td>\n",
       "    </tr>\n",
       "    <tr>\n",
       "      <th>4</th>\n",
       "      <td>no</td>\n",
       "      <td>yes</td>\n",
       "      <td>28</td>\n",
       "      <td>some college</td>\n",
       "      <td>no</td>\n",
       "      <td>no</td>\n",
       "      <td>female</td>\n",
       "    </tr>\n",
       "  </tbody>\n",
       "</table>\n",
       "</div>"
      ],
      "text/plain": [
       "  smoker  ban  age     education afam hispanic  gender\n",
       "0    yes  yes   41            hs   no       no  female\n",
       "1    yes  yes   44  some college   no       no  female\n",
       "2     no   no   19  some college   no       no  female\n",
       "3    yes   no   29            hs   no       no  female\n",
       "4     no  yes   28  some college   no       no  female"
      ]
     },
     "execution_count": 2,
     "metadata": {},
     "output_type": "execute_result"
    }
   ],
   "source": [
    "df = pd.read_csv('SmokeBan.csv')\n",
    "df.drop(labels=['Unnamed: 0'], axis = 1, inplace = True)\n",
    "df.head()"
   ]
  },
  {
   "cell_type": "code",
   "execution_count": 3,
   "id": "27b8a146",
   "metadata": {},
   "outputs": [
    {
     "data": {
      "text/plain": [
       "smoker       0\n",
       "ban          0\n",
       "age          0\n",
       "education    0\n",
       "afam         0\n",
       "hispanic     0\n",
       "gender       0\n",
       "dtype: int64"
      ]
     },
     "execution_count": 3,
     "metadata": {},
     "output_type": "execute_result"
    }
   ],
   "source": [
    "df.isna().sum()"
   ]
  },
  {
   "cell_type": "code",
   "execution_count": 4,
   "id": "553ba29b",
   "metadata": {},
   "outputs": [
    {
     "data": {
      "text/plain": [
       "hs              3266\n",
       "some college    2802\n",
       "college         1972\n",
       "master          1048\n",
       "hs drop out      912\n",
       "Name: education, dtype: int64"
      ]
     },
     "execution_count": 4,
     "metadata": {},
     "output_type": "execute_result"
    }
   ],
   "source": [
    "df.education.value_counts()"
   ]
  },
  {
   "cell_type": "code",
   "execution_count": 5,
   "id": "fb78d326",
   "metadata": {},
   "outputs": [
    {
     "data": {
      "text/plain": [
       "no     9231\n",
       "yes     769\n",
       "Name: afam, dtype: int64"
      ]
     },
     "execution_count": 5,
     "metadata": {},
     "output_type": "execute_result"
    }
   ],
   "source": [
    "df.afam.value_counts()"
   ]
  },
  {
   "cell_type": "code",
   "execution_count": 6,
   "id": "69183b39",
   "metadata": {},
   "outputs": [
    {
     "data": {
      "text/plain": [
       "no     8866\n",
       "yes    1134\n",
       "Name: hispanic, dtype: int64"
      ]
     },
     "execution_count": 6,
     "metadata": {},
     "output_type": "execute_result"
    }
   ],
   "source": [
    "df.hispanic.value_counts()"
   ]
  },
  {
   "cell_type": "code",
   "execution_count": 7,
   "id": "ea768f97",
   "metadata": {},
   "outputs": [
    {
     "data": {
      "text/plain": [
       "female    5637\n",
       "male      4363\n",
       "Name: gender, dtype: int64"
      ]
     },
     "execution_count": 7,
     "metadata": {},
     "output_type": "execute_result"
    }
   ],
   "source": [
    "df.gender.value_counts()"
   ]
  },
  {
   "cell_type": "code",
   "execution_count": 8,
   "id": "15297a9a",
   "metadata": {},
   "outputs": [
    {
     "data": {
      "text/html": [
       "<div>\n",
       "<style scoped>\n",
       "    .dataframe tbody tr th:only-of-type {\n",
       "        vertical-align: middle;\n",
       "    }\n",
       "\n",
       "    .dataframe tbody tr th {\n",
       "        vertical-align: top;\n",
       "    }\n",
       "\n",
       "    .dataframe thead th {\n",
       "        text-align: right;\n",
       "    }\n",
       "</style>\n",
       "<table border=\"1\" class=\"dataframe\">\n",
       "  <thead>\n",
       "    <tr style=\"text-align: right;\">\n",
       "      <th></th>\n",
       "      <th>smoker</th>\n",
       "      <th>ban</th>\n",
       "      <th>age</th>\n",
       "      <th>education</th>\n",
       "      <th>afam</th>\n",
       "      <th>hispanic</th>\n",
       "      <th>gender</th>\n",
       "    </tr>\n",
       "  </thead>\n",
       "  <tbody>\n",
       "    <tr>\n",
       "      <th>0</th>\n",
       "      <td>1</td>\n",
       "      <td>1</td>\n",
       "      <td>41</td>\n",
       "      <td>hs</td>\n",
       "      <td>no</td>\n",
       "      <td>no</td>\n",
       "      <td>female</td>\n",
       "    </tr>\n",
       "    <tr>\n",
       "      <th>1</th>\n",
       "      <td>1</td>\n",
       "      <td>1</td>\n",
       "      <td>44</td>\n",
       "      <td>some college</td>\n",
       "      <td>no</td>\n",
       "      <td>no</td>\n",
       "      <td>female</td>\n",
       "    </tr>\n",
       "    <tr>\n",
       "      <th>2</th>\n",
       "      <td>0</td>\n",
       "      <td>0</td>\n",
       "      <td>19</td>\n",
       "      <td>some college</td>\n",
       "      <td>no</td>\n",
       "      <td>no</td>\n",
       "      <td>female</td>\n",
       "    </tr>\n",
       "    <tr>\n",
       "      <th>3</th>\n",
       "      <td>1</td>\n",
       "      <td>0</td>\n",
       "      <td>29</td>\n",
       "      <td>hs</td>\n",
       "      <td>no</td>\n",
       "      <td>no</td>\n",
       "      <td>female</td>\n",
       "    </tr>\n",
       "    <tr>\n",
       "      <th>4</th>\n",
       "      <td>0</td>\n",
       "      <td>1</td>\n",
       "      <td>28</td>\n",
       "      <td>some college</td>\n",
       "      <td>no</td>\n",
       "      <td>no</td>\n",
       "      <td>female</td>\n",
       "    </tr>\n",
       "    <tr>\n",
       "      <th>...</th>\n",
       "      <td>...</td>\n",
       "      <td>...</td>\n",
       "      <td>...</td>\n",
       "      <td>...</td>\n",
       "      <td>...</td>\n",
       "      <td>...</td>\n",
       "      <td>...</td>\n",
       "    </tr>\n",
       "    <tr>\n",
       "      <th>9995</th>\n",
       "      <td>0</td>\n",
       "      <td>0</td>\n",
       "      <td>55</td>\n",
       "      <td>hs</td>\n",
       "      <td>no</td>\n",
       "      <td>no</td>\n",
       "      <td>male</td>\n",
       "    </tr>\n",
       "    <tr>\n",
       "      <th>9996</th>\n",
       "      <td>0</td>\n",
       "      <td>0</td>\n",
       "      <td>31</td>\n",
       "      <td>master</td>\n",
       "      <td>no</td>\n",
       "      <td>no</td>\n",
       "      <td>male</td>\n",
       "    </tr>\n",
       "    <tr>\n",
       "      <th>9997</th>\n",
       "      <td>0</td>\n",
       "      <td>1</td>\n",
       "      <td>36</td>\n",
       "      <td>some college</td>\n",
       "      <td>no</td>\n",
       "      <td>no</td>\n",
       "      <td>female</td>\n",
       "    </tr>\n",
       "    <tr>\n",
       "      <th>9998</th>\n",
       "      <td>1</td>\n",
       "      <td>0</td>\n",
       "      <td>42</td>\n",
       "      <td>hs</td>\n",
       "      <td>no</td>\n",
       "      <td>no</td>\n",
       "      <td>female</td>\n",
       "    </tr>\n",
       "    <tr>\n",
       "      <th>9999</th>\n",
       "      <td>0</td>\n",
       "      <td>1</td>\n",
       "      <td>35</td>\n",
       "      <td>some college</td>\n",
       "      <td>no</td>\n",
       "      <td>no</td>\n",
       "      <td>male</td>\n",
       "    </tr>\n",
       "  </tbody>\n",
       "</table>\n",
       "<p>10000 rows × 7 columns</p>\n",
       "</div>"
      ],
      "text/plain": [
       "      smoker  ban  age     education afam hispanic  gender\n",
       "0          1    1   41            hs   no       no  female\n",
       "1          1    1   44  some college   no       no  female\n",
       "2          0    0   19  some college   no       no  female\n",
       "3          1    0   29            hs   no       no  female\n",
       "4          0    1   28  some college   no       no  female\n",
       "...      ...  ...  ...           ...  ...      ...     ...\n",
       "9995       0    0   55            hs   no       no    male\n",
       "9996       0    0   31        master   no       no    male\n",
       "9997       0    1   36  some college   no       no  female\n",
       "9998       1    0   42            hs   no       no  female\n",
       "9999       0    1   35  some college   no       no    male\n",
       "\n",
       "[10000 rows x 7 columns]"
      ]
     },
     "execution_count": 8,
     "metadata": {},
     "output_type": "execute_result"
    }
   ],
   "source": [
    "# let's replace each column with numerics so that we can plot the variables against each other\n",
    "num_df = df.copy()\n",
    "\n",
    "num_df.smoker.replace({'yes': 1, 'no': 0}, inplace= True)\n",
    "num_df.ban.replace({'yes': 1, 'no': 0}, inplace = True)\n",
    "num_df"
   ]
  },
  {
   "cell_type": "code",
   "execution_count": 9,
   "id": "e5c494e5",
   "metadata": {},
   "outputs": [
    {
     "data": {
      "text/plain": [
       "Index(['smoker', 'ban', 'age', 'education', 'afam', 'hispanic', 'gender'], dtype='object')"
      ]
     },
     "execution_count": 9,
     "metadata": {},
     "output_type": "execute_result"
    }
   ],
   "source": [
    "num_df.columns"
   ]
  },
  {
   "cell_type": "code",
   "execution_count": 10,
   "id": "107e5907",
   "metadata": {},
   "outputs": [
    {
     "data": {
      "text/plain": [
       "smoker       0\n",
       "ban          0\n",
       "age          0\n",
       "education    0\n",
       "afam         0\n",
       "hispanic     0\n",
       "gender       0\n",
       "dtype: int64"
      ]
     },
     "execution_count": 10,
     "metadata": {},
     "output_type": "execute_result"
    }
   ],
   "source": [
    "df.isna().sum()"
   ]
  },
  {
   "cell_type": "markdown",
   "id": "cbe05215",
   "metadata": {},
   "source": [
    "# Categorical Variable Exploration"
   ]
  },
  {
   "cell_type": "code",
   "execution_count": 11,
   "id": "28bdfc15",
   "metadata": {},
   "outputs": [
    {
     "data": {
      "image/png": "[encoded data removed]",
      "text/plain": [
       "<Figure size 400x400 with 1 Axes>"
      ]
     },
     "metadata": {},
     "output_type": "display_data"
    }
   ],
   "source": [
    "sns.catplot(data = num_df, x = 'ban', y = 'smoker', kind = 'bar', height = 4, aspect = 1)\n",
    "plt.title(\"Smoking Rate\")\n",
    "plt.show()"
   ]
  },
  {
   "cell_type": "markdown",
   "id": "c27f1b26",
   "metadata": {},
   "source": [
    "<h3>Ban Effect:</h3>\n",
    "<p style=\"color: blue; font-size: 16px\">It does initially appear that smoking bans have some effect on whether an individual smokes.  Workers smoke only ~21% of the time where workplace bans are in effect compared with ~29% of the time when they are not in effect.</p>"
   ]
  },
  {
   "cell_type": "code",
   "execution_count": 12,
   "id": "6f219dd8",
   "metadata": {},
   "outputs": [
    {
     "data": {
      "image/png": "[encoded data removed]",
      "text/plain": [
       "<Figure size 600x400 with 1 Axes>"
      ]
     },
     "metadata": {},
     "output_type": "display_data"
    }
   ],
   "source": [
    "sns.catplot(data = num_df, x = 'education', y = 'smoker', kind = 'bar', height = 4, aspect = 1.5)\n",
    "plt.title(\"Smoking Rate by Level of Education\")\n",
    "plt.show()"
   ]
  },
  {
   "cell_type": "markdown",
   "id": "bc5912f4",
   "metadata": {},
   "source": [
    "<h3>Education Effect</h3>\n",
    "<p style=\"color: blue; font-size: 16px;\">There seems to be a significant correlation between the level of education of an individual and how likely they are to smoke.  With each step up in level of education, a person is likely to smoke.  This is highlighted by the fact that over 35% of high school drop outs smoke while less than 10% of individuals with a masters degree smoke.</p>"
   ]
  },
  {
   "cell_type": "code",
   "execution_count": 13,
   "id": "9c06db78",
   "metadata": {},
   "outputs": [
    {
     "data": {
      "image/png": "[encoded data removed]",
      "text/plain": [
       "<Figure size 400x400 with 1 Axes>"
      ]
     },
     "metadata": {},
     "output_type": "display_data"
    }
   ],
   "source": [
    "sns.catplot(data = num_df, x = 'afam', y= 'smoker', kind = 'bar', height = 4, aspect = 1)\n",
    "plt.title(\"Smoking Rate: African American and Non African American\")\n",
    "plt.show()"
   ]
  },
  {
   "cell_type": "code",
   "execution_count": 14,
   "id": "edab160a",
   "metadata": {},
   "outputs": [
    {
     "data": {
      "image/png": "[encoded data removed]",
      "text/plain": [
       "<Figure size 400x400 with 1 Axes>"
      ]
     },
     "metadata": {},
     "output_type": "display_data"
    }
   ],
   "source": [
    "sns.catplot(data = num_df, x = 'hispanic', y = 'smoker', kind = 'bar', height = 4, aspect = 1)\n",
    "plt.title(\"Smoking Rate: Hispanic and Non-Hispanic\")\n",
    "plt.show()"
   ]
  },
  {
   "cell_type": "code",
   "execution_count": 15,
   "id": "4abbec6f",
   "metadata": {},
   "outputs": [
    {
     "data": {
      "image/png": "[encoded data removed]",
      "text/plain": [
       "<Figure size 400x400 with 1 Axes>"
      ]
     },
     "metadata": {},
     "output_type": "display_data"
    }
   ],
   "source": [
    "sns.catplot(data = num_df, x = 'gender', y = 'smoker', kind = 'bar', height = 4, aspect = 1)\n",
    "plt.title(\"Smoking Rate by Gender\")\n",
    "plt.show()"
   ]
  },
  {
   "cell_type": "markdown",
   "id": "90d4a147",
   "metadata": {},
   "source": [
    "<h3>Effect of Gender, Race, and Ethnicity on Smoking Rate</h3>\n",
    "<p>Gender, race, and ethnicity do not seem to play a significant role in whether or not an individual is a smoker.  Therefore, we will leave these variables out when building our predictive model.</p>"
   ]
  },
  {
   "cell_type": "markdown",
   "id": "e5c99c4f",
   "metadata": {},
   "source": [
    "# Continuous Variable Exploration"
   ]
  },
  {
   "cell_type": "code",
   "execution_count": 16,
   "id": "9868b06d",
   "metadata": {},
   "outputs": [
    {
     "data": {
      "image/png": "[encoded data removed]",
      "text/plain": [
       "<Figure size 640x480 with 1 Axes>"
      ]
     },
     "metadata": {},
     "output_type": "display_data"
    }
   ],
   "source": [
    "sns.boxenplot(data = num_df, x = 'smoker', y = 'age')\n",
    "plt.title(\"Age Distribution of Smokers and Non-Smokers\")\n",
    "plt.show()"
   ]
  },
  {
   "cell_type": "markdown",
   "id": "c9e167db",
   "metadata": {},
   "source": [
    "# Predictive Modeling"
   ]
  },
  {
   "cell_type": "markdown",
   "id": "998e4cb7",
   "metadata": {},
   "source": [
    "<p style=\"color: blue; font-size: 16px;\">Our variable exploration has helped identify which variables we will want to include when building a predictive model.  The only two variables in our dataset that correlate with smoking rate are level of education and workplace ban.  Thus, these will be the only two variables used in our predictive model</p>\n",
    "\n",
    "<h4>Input Variables</h4>\n",
    "<ol>\n",
    "    <li>Ban</li>\n",
    "    <li>Education</li>\n",
    "</ol>\n",
    "<h4>Target Variable</h4>\n",
    "<ul>\n",
    "    <li>Smoke</li>\n",
    "</ul>"
   ]
  },
  {
   "cell_type": "code",
   "execution_count": 17,
   "id": "7966e1fa",
   "metadata": {},
   "outputs": [
    {
     "data": {
      "text/html": [
       "<div>\n",
       "<style scoped>\n",
       "    .dataframe tbody tr th:only-of-type {\n",
       "        vertical-align: middle;\n",
       "    }\n",
       "\n",
       "    .dataframe tbody tr th {\n",
       "        vertical-align: top;\n",
       "    }\n",
       "\n",
       "    .dataframe thead th {\n",
       "        text-align: right;\n",
       "    }\n",
       "</style>\n",
       "<table border=\"1\" class=\"dataframe\">\n",
       "  <thead>\n",
       "    <tr style=\"text-align: right;\">\n",
       "      <th></th>\n",
       "      <th>smoker</th>\n",
       "      <th>ban</th>\n",
       "      <th>age</th>\n",
       "      <th>education</th>\n",
       "      <th>afam</th>\n",
       "      <th>hispanic</th>\n",
       "      <th>gender</th>\n",
       "    </tr>\n",
       "  </thead>\n",
       "  <tbody>\n",
       "    <tr>\n",
       "      <th>0</th>\n",
       "      <td>1</td>\n",
       "      <td>1</td>\n",
       "      <td>41</td>\n",
       "      <td>hs</td>\n",
       "      <td>no</td>\n",
       "      <td>no</td>\n",
       "      <td>female</td>\n",
       "    </tr>\n",
       "    <tr>\n",
       "      <th>1</th>\n",
       "      <td>1</td>\n",
       "      <td>1</td>\n",
       "      <td>44</td>\n",
       "      <td>some college</td>\n",
       "      <td>no</td>\n",
       "      <td>no</td>\n",
       "      <td>female</td>\n",
       "    </tr>\n",
       "    <tr>\n",
       "      <th>2</th>\n",
       "      <td>0</td>\n",
       "      <td>0</td>\n",
       "      <td>19</td>\n",
       "      <td>some college</td>\n",
       "      <td>no</td>\n",
       "      <td>no</td>\n",
       "      <td>female</td>\n",
       "    </tr>\n",
       "    <tr>\n",
       "      <th>3</th>\n",
       "      <td>1</td>\n",
       "      <td>0</td>\n",
       "      <td>29</td>\n",
       "      <td>hs</td>\n",
       "      <td>no</td>\n",
       "      <td>no</td>\n",
       "      <td>female</td>\n",
       "    </tr>\n",
       "    <tr>\n",
       "      <th>4</th>\n",
       "      <td>0</td>\n",
       "      <td>1</td>\n",
       "      <td>28</td>\n",
       "      <td>some college</td>\n",
       "      <td>no</td>\n",
       "      <td>no</td>\n",
       "      <td>female</td>\n",
       "    </tr>\n",
       "  </tbody>\n",
       "</table>\n",
       "</div>"
      ],
      "text/plain": [
       "   smoker  ban  age     education afam hispanic  gender\n",
       "0       1    1   41            hs   no       no  female\n",
       "1       1    1   44  some college   no       no  female\n",
       "2       0    0   19  some college   no       no  female\n",
       "3       1    0   29            hs   no       no  female\n",
       "4       0    1   28  some college   no       no  female"
      ]
     },
     "execution_count": 17,
     "metadata": {},
     "output_type": "execute_result"
    }
   ],
   "source": [
    "num_df.head()"
   ]
  },
  {
   "cell_type": "markdown",
   "id": "00bc2ba2",
   "metadata": {},
   "source": [
    "## Using one Hot Encoded Columns"
   ]
  },
  {
   "cell_type": "code",
   "execution_count": 18,
   "id": "e4a5f086",
   "metadata": {},
   "outputs": [
    {
     "data": {
      "text/plain": [
       "array([[0., 1., 0., 0., 0., 1.],\n",
       "       [0., 0., 0., 0., 1., 1.],\n",
       "       [0., 0., 0., 0., 1., 0.],\n",
       "       ...,\n",
       "       [0., 0., 0., 0., 1., 1.],\n",
       "       [0., 1., 0., 0., 0., 0.],\n",
       "       [0., 0., 0., 0., 1., 1.]])"
      ]
     },
     "execution_count": 18,
     "metadata": {},
     "output_type": "execute_result"
    }
   ],
   "source": [
    "# building pipeline to transform input variables\n",
    "cat_attribute = num_df[['education']]\n",
    "\n",
    "pipeline = Pipeline([\n",
    "    ('One hot encoding', OneHotEncoder())\n",
    "])\n",
    "\n",
    "cat_tr = pipeline.fit_transform(cat_attribute)\n",
    "cat_tr = cat_tr.toarray() # numpy array of one hot encoded values\n",
    "\n",
    "ban_attribute = np.array(num_df['ban']).reshape(-1, 1) # numpy array of workplace ban\n",
    "\n",
    "predictors = np.concatenate((cat_tr, ban_attribute), axis = 1) # concatentate two variables to form prediction dataset\n",
    "predictors"
   ]
  },
  {
   "cell_type": "code",
   "execution_count": 19,
   "id": "ffa7db0f",
   "metadata": {},
   "outputs": [],
   "source": [
    "X = predictors\n",
    "y = num_df['smoker']\n",
    "\n",
    "# split into train/test set\n",
    "X_train, X_test, y_train, y_test = train_test_split(X, y, train_size = .8)"
   ]
  },
  {
   "cell_type": "code",
   "execution_count": 20,
   "id": "722636d3",
   "metadata": {},
   "outputs": [
    {
     "data": {
      "text/plain": [
       "RandomForestClassifier()"
      ]
     },
     "execution_count": 20,
     "metadata": {},
     "output_type": "execute_result"
    }
   ],
   "source": [
    "# define and train model\n",
    "\n",
    "rf = RandomForestClassifier(n_estimators = 100)\n",
    "rf.fit(X_train, y_train)"
   ]
  },
  {
   "cell_type": "code",
   "execution_count": 21,
   "id": "f24ddee2",
   "metadata": {},
   "outputs": [
    {
     "name": "stderr",
     "output_type": "stream",
     "text": [
      "C:\\Users\\schle\\anaconda3\\lib\\site-packages\\sklearn\\metrics\\_classification.py:1318: UndefinedMetricWarning: Precision is ill-defined and being set to 0.0 due to no predicted samples. Use `zero_division` parameter to control this behavior.\n",
      "  _warn_prf(average, modifier, msg_start, len(result))\n",
      "C:\\Users\\schle\\anaconda3\\lib\\site-packages\\sklearn\\metrics\\_classification.py:1318: UndefinedMetricWarning: Precision is ill-defined and being set to 0.0 due to no predicted samples. Use `zero_division` parameter to control this behavior.\n",
      "  _warn_prf(average, modifier, msg_start, len(result))\n"
     ]
    }
   ],
   "source": [
    "# make predictions\n",
    "rf_predictions = rf.predict(X_test)\n",
    "\n",
    "# assess results\n",
    "rf_accuracy = accuracy_score(y_test, rf_predictions)\n",
    "rf_precision = precision_score(y_test, rf_predictions)\n",
    "rf_recall = precision_score(y_test, rf_predictions)"
   ]
  },
  {
   "cell_type": "code",
   "execution_count": 22,
   "id": "77274bd1",
   "metadata": {},
   "outputs": [
    {
     "name": "stderr",
     "output_type": "stream",
     "text": [
      "C:\\Users\\schle\\anaconda3\\lib\\site-packages\\sklearn\\metrics\\_classification.py:1318: UndefinedMetricWarning: Precision is ill-defined and being set to 0.0 due to no predicted samples. Use `zero_division` parameter to control this behavior.\n",
      "  _warn_prf(average, modifier, msg_start, len(result))\n",
      "C:\\Users\\schle\\anaconda3\\lib\\site-packages\\sklearn\\metrics\\_classification.py:1318: UndefinedMetricWarning: Precision is ill-defined and being set to 0.0 due to no predicted samples. Use `zero_division` parameter to control this behavior.\n",
      "  _warn_prf(average, modifier, msg_start, len(result))\n"
     ]
    }
   ],
   "source": [
    "xgb = XGBClassifier()\n",
    "xgb.fit(X_train, y_train)\n",
    "\n",
    "xgb_predictions = xgb.predict(X_test)\n",
    "\n",
    "# assess results\n",
    "xgb_accuracy = accuracy_score(y_test, xgb_predictions)\n",
    "xgb_precision = precision_score(y_test, xgb_predictions)\n",
    "xgb_recall = precision_score(y_test, xgb_predictions)"
   ]
  },
  {
   "cell_type": "markdown",
   "id": "7f465b41",
   "metadata": {},
   "source": [
    "# Results"
   ]
  },
  {
   "cell_type": "code",
   "execution_count": 23,
   "id": "92a4f2ac",
   "metadata": {},
   "outputs": [
    {
     "name": "stdout",
     "output_type": "stream",
     "text": [
      "Random Forest Accuracy: 0.772\n",
      "Random Forest Precision: 0.0\n",
      "Random Forest Recall: 0.0\n"
     ]
    }
   ],
   "source": [
    "print(\"Random Forest Accuracy:\", rf_accuracy)\n",
    "print(\"Random Forest Precision:\", rf_precision)\n",
    "print(\"Random Forest Recall:\", rf_recall)"
   ]
  },
  {
   "cell_type": "code",
   "execution_count": 24,
   "id": "698c1609",
   "metadata": {},
   "outputs": [
    {
     "name": "stdout",
     "output_type": "stream",
     "text": [
      "Random Forest Accuracy: 0.772\n",
      "Random Forest Precision: 0.0\n",
      "Random Forest Recall: 0.0\n"
     ]
    }
   ],
   "source": [
    "print(\"Random Forest Accuracy:\", xgb_accuracy)\n",
    "print(\"Random Forest Precision:\", xgb_precision)\n",
    "print(\"Random Forest Recall:\", xgb_recall)"
   ]
  },
  {
   "cell_type": "markdown",
   "id": "dd0b47e3",
   "metadata": {},
   "source": [
    "<p style = \"color: blue; font-size: 16px;\">Unfortunately, we are not able to build a reliable predictive model.  Although our model is fairly accurate, it is not able to predict when someone will be a smoker.</p>"
   ]
  },
  {
   "cell_type": "code",
   "execution_count": null,
   "id": "eae57fc1",
   "metadata": {},
   "outputs": [],
   "source": []
  }
 ],
 "metadata": {
  "kernelspec": {
   "display_name": "Python 3 (ipykernel)",
   "language": "python",
   "name": "python3"
  },
  "language_info": {
   "codemirror_mode": {
    "name": "ipython",
    "version": 3
   },
   "file_extension": ".py",
   "mimetype": "text/x-python",
   "name": "python",
   "nbconvert_exporter": "python",
   "pygments_lexer": "ipython3",
   "version": "3.9.13"
  }
 },
 "nbformat": 4,
 "nbformat_minor": 5
}
