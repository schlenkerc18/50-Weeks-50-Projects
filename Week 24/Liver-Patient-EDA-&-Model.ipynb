{
 "cells": [
  {
   "cell_type": "code",
   "execution_count": 1,
   "id": "b2750a55",
   "metadata": {},
   "outputs": [],
   "source": [
    "import pandas as pd\n",
    "import numpy as np\n",
    "\n",
    "import matplotlib.pyplot as plt\n",
    "import seaborn as sns\n",
    "sns.set_style(\"whitegrid\")\n",
    "sns.set_palette(\"pastel\")\n",
    "\n",
    "from sklearn.preprocessing import OrdinalEncoder\n",
    "from sklearn.preprocessing import OneHotEncoder\n",
    "from sklearn.preprocessing import StandardScaler\n",
    "from sklearn.compose import ColumnTransformer\n",
    "from sklearn.pipeline import Pipeline\n",
    "from sklearn.metrics import accuracy_score, precision_score, recall_score\n",
    "from sklearn.model_selection import train_test_split\n",
    "from sklearn.model_selection import StratifiedShuffleSplit\n",
    "from sklearn.impute import SimpleImputer\n",
    "\n",
    "from sklearn.ensemble import RandomForestClassifier\n",
    "from xgboost import XGBClassifier\n",
    "\n",
    "import tensorflow as tf\n",
    "from tensorflow.keras.models import Sequential\n",
    "from tensorflow.keras.layers import Dense"
   ]
  },
  {
   "cell_type": "code",
   "execution_count": 2,
   "id": "6ad9e079",
   "metadata": {},
   "outputs": [
    {
     "data": {
      "text/html": [
       "<div>\n",
       "<style scoped>\n",
       "    .dataframe tbody tr th:only-of-type {\n",
       "        vertical-align: middle;\n",
       "    }\n",
       "\n",
       "    .dataframe tbody tr th {\n",
       "        vertical-align: top;\n",
       "    }\n",
       "\n",
       "    .dataframe thead th {\n",
       "        text-align: right;\n",
       "    }\n",
       "</style>\n",
       "<table border=\"1\" class=\"dataframe\">\n",
       "  <thead>\n",
       "    <tr style=\"text-align: right;\">\n",
       "      <th></th>\n",
       "      <th>Age</th>\n",
       "      <th>Gender</th>\n",
       "      <th>Total_Bilirubin</th>\n",
       "      <th>Direct_Bilirubin</th>\n",
       "      <th>Alkaline_Phosphotase</th>\n",
       "      <th>Alamine_Aminotransferase</th>\n",
       "      <th>Aspartate_Aminotransferase</th>\n",
       "      <th>Total_Protiens</th>\n",
       "      <th>Albumin</th>\n",
       "      <th>Albumin_and_Globulin_Ratio</th>\n",
       "      <th>isPatient</th>\n",
       "    </tr>\n",
       "  </thead>\n",
       "  <tbody>\n",
       "    <tr>\n",
       "      <th>0</th>\n",
       "      <td>65</td>\n",
       "      <td>0</td>\n",
       "      <td>0.7</td>\n",
       "      <td>0.1</td>\n",
       "      <td>187</td>\n",
       "      <td>16</td>\n",
       "      <td>18</td>\n",
       "      <td>6.8</td>\n",
       "      <td>3.3</td>\n",
       "      <td>0.90</td>\n",
       "      <td>1</td>\n",
       "    </tr>\n",
       "    <tr>\n",
       "      <th>1</th>\n",
       "      <td>62</td>\n",
       "      <td>1</td>\n",
       "      <td>10.9</td>\n",
       "      <td>5.5</td>\n",
       "      <td>699</td>\n",
       "      <td>64</td>\n",
       "      <td>100</td>\n",
       "      <td>7.5</td>\n",
       "      <td>3.2</td>\n",
       "      <td>0.74</td>\n",
       "      <td>1</td>\n",
       "    </tr>\n",
       "    <tr>\n",
       "      <th>2</th>\n",
       "      <td>62</td>\n",
       "      <td>1</td>\n",
       "      <td>7.3</td>\n",
       "      <td>4.1</td>\n",
       "      <td>490</td>\n",
       "      <td>60</td>\n",
       "      <td>68</td>\n",
       "      <td>7.0</td>\n",
       "      <td>3.3</td>\n",
       "      <td>0.89</td>\n",
       "      <td>1</td>\n",
       "    </tr>\n",
       "    <tr>\n",
       "      <th>3</th>\n",
       "      <td>58</td>\n",
       "      <td>1</td>\n",
       "      <td>1.0</td>\n",
       "      <td>0.4</td>\n",
       "      <td>182</td>\n",
       "      <td>14</td>\n",
       "      <td>20</td>\n",
       "      <td>6.8</td>\n",
       "      <td>3.4</td>\n",
       "      <td>1.00</td>\n",
       "      <td>1</td>\n",
       "    </tr>\n",
       "    <tr>\n",
       "      <th>4</th>\n",
       "      <td>72</td>\n",
       "      <td>1</td>\n",
       "      <td>3.9</td>\n",
       "      <td>2.0</td>\n",
       "      <td>195</td>\n",
       "      <td>27</td>\n",
       "      <td>59</td>\n",
       "      <td>7.3</td>\n",
       "      <td>2.4</td>\n",
       "      <td>0.40</td>\n",
       "      <td>1</td>\n",
       "    </tr>\n",
       "  </tbody>\n",
       "</table>\n",
       "</div>"
      ],
      "text/plain": [
       "   Age  Gender  Total_Bilirubin  Direct_Bilirubin  Alkaline_Phosphotase  \\\n",
       "0   65       0              0.7               0.1                   187   \n",
       "1   62       1             10.9               5.5                   699   \n",
       "2   62       1              7.3               4.1                   490   \n",
       "3   58       1              1.0               0.4                   182   \n",
       "4   72       1              3.9               2.0                   195   \n",
       "\n",
       "   Alamine_Aminotransferase  Aspartate_Aminotransferase  Total_Protiens  \\\n",
       "0                        16                          18             6.8   \n",
       "1                        64                         100             7.5   \n",
       "2                        60                          68             7.0   \n",
       "3                        14                          20             6.8   \n",
       "4                        27                          59             7.3   \n",
       "\n",
       "   Albumin  Albumin_and_Globulin_Ratio  isPatient  \n",
       "0      3.3                        0.90          1  \n",
       "1      3.2                        0.74          1  \n",
       "2      3.3                        0.89          1  \n",
       "3      3.4                        1.00          1  \n",
       "4      2.4                        0.40          1  "
      ]
     },
     "execution_count": 2,
     "metadata": {},
     "output_type": "execute_result"
    }
   ],
   "source": [
    "df = pd.read_csv('indian_liver_patient.csv')\n",
    "\n",
    "df.Gender = df.Gender.replace({'Female': 0, 'Male': 1})\n",
    "df.rename(columns = {'Dataset': 'isPatient'}, inplace = True)\n",
    "df.isPatient.replace({2:0}, inplace = True)\n",
    "# df.dropna(inplace = True)\n",
    "df.head()"
   ]
  },
  {
   "cell_type": "markdown",
   "id": "f8ea4e70",
   "metadata": {},
   "source": [
    "# Inspect the Data"
   ]
  },
  {
   "cell_type": "code",
   "execution_count": 3,
   "id": "90a4f08d",
   "metadata": {},
   "outputs": [
    {
     "data": {
      "text/plain": [
       "Age                           0\n",
       "Gender                        0\n",
       "Total_Bilirubin               0\n",
       "Direct_Bilirubin              0\n",
       "Alkaline_Phosphotase          0\n",
       "Alamine_Aminotransferase      0\n",
       "Aspartate_Aminotransferase    0\n",
       "Total_Protiens                0\n",
       "Albumin                       0\n",
       "Albumin_and_Globulin_Ratio    4\n",
       "isPatient                     0\n",
       "dtype: int64"
      ]
     },
     "execution_count": 3,
     "metadata": {},
     "output_type": "execute_result"
    }
   ],
   "source": [
    "df.isna().sum()"
   ]
  },
  {
   "cell_type": "markdown",
   "id": "ab4a1bae",
   "metadata": {},
   "source": [
    "> We have 4 missing values for one of our variables.  We will address this before we implement our Machine Learning Algorithm."
   ]
  },
  {
   "cell_type": "code",
   "execution_count": 4,
   "id": "5623702f",
   "metadata": {},
   "outputs": [
    {
     "data": {
      "text/html": [
       "<div>\n",
       "<style scoped>\n",
       "    .dataframe tbody tr th:only-of-type {\n",
       "        vertical-align: middle;\n",
       "    }\n",
       "\n",
       "    .dataframe tbody tr th {\n",
       "        vertical-align: top;\n",
       "    }\n",
       "\n",
       "    .dataframe thead th {\n",
       "        text-align: right;\n",
       "    }\n",
       "</style>\n",
       "<table border=\"1\" class=\"dataframe\">\n",
       "  <thead>\n",
       "    <tr style=\"text-align: right;\">\n",
       "      <th></th>\n",
       "      <th>Age</th>\n",
       "      <th>Gender</th>\n",
       "      <th>Total_Bilirubin</th>\n",
       "      <th>Direct_Bilirubin</th>\n",
       "      <th>Alkaline_Phosphotase</th>\n",
       "      <th>Alamine_Aminotransferase</th>\n",
       "      <th>Aspartate_Aminotransferase</th>\n",
       "      <th>Total_Protiens</th>\n",
       "      <th>Albumin</th>\n",
       "      <th>Albumin_and_Globulin_Ratio</th>\n",
       "    </tr>\n",
       "    <tr>\n",
       "      <th>isPatient</th>\n",
       "      <th></th>\n",
       "      <th></th>\n",
       "      <th></th>\n",
       "      <th></th>\n",
       "      <th></th>\n",
       "      <th></th>\n",
       "      <th></th>\n",
       "      <th></th>\n",
       "      <th></th>\n",
       "      <th></th>\n",
       "    </tr>\n",
       "  </thead>\n",
       "  <tbody>\n",
       "    <tr>\n",
       "      <th>0</th>\n",
       "      <td>41.239521</td>\n",
       "      <td>0.700599</td>\n",
       "      <td>1.142515</td>\n",
       "      <td>0.396407</td>\n",
       "      <td>219.754491</td>\n",
       "      <td>33.652695</td>\n",
       "      <td>40.688623</td>\n",
       "      <td>6.543114</td>\n",
       "      <td>3.344311</td>\n",
       "      <td>1.029576</td>\n",
       "    </tr>\n",
       "    <tr>\n",
       "      <th>1</th>\n",
       "      <td>46.153846</td>\n",
       "      <td>0.778846</td>\n",
       "      <td>4.164423</td>\n",
       "      <td>1.923558</td>\n",
       "      <td>319.007212</td>\n",
       "      <td>99.605769</td>\n",
       "      <td>137.699519</td>\n",
       "      <td>6.459135</td>\n",
       "      <td>3.060577</td>\n",
       "      <td>0.914179</td>\n",
       "    </tr>\n",
       "  </tbody>\n",
       "</table>\n",
       "</div>"
      ],
      "text/plain": [
       "                 Age    Gender  Total_Bilirubin  Direct_Bilirubin  \\\n",
       "isPatient                                                           \n",
       "0          41.239521  0.700599         1.142515          0.396407   \n",
       "1          46.153846  0.778846         4.164423          1.923558   \n",
       "\n",
       "           Alkaline_Phosphotase  Alamine_Aminotransferase  \\\n",
       "isPatient                                                   \n",
       "0                    219.754491                 33.652695   \n",
       "1                    319.007212                 99.605769   \n",
       "\n",
       "           Aspartate_Aminotransferase  Total_Protiens   Albumin  \\\n",
       "isPatient                                                         \n",
       "0                           40.688623        6.543114  3.344311   \n",
       "1                          137.699519        6.459135  3.060577   \n",
       "\n",
       "           Albumin_and_Globulin_Ratio  \n",
       "isPatient                              \n",
       "0                            1.029576  \n",
       "1                            0.914179  "
      ]
     },
     "execution_count": 4,
     "metadata": {},
     "output_type": "execute_result"
    }
   ],
   "source": [
    "df.groupby('isPatient').mean(numeric_only = True)"
   ]
  },
  {
   "cell_type": "code",
   "execution_count": 5,
   "id": "dec30d18",
   "metadata": {},
   "outputs": [
    {
     "data": {
      "image/png": "[encoded data removed]",
      "text/plain": [
       "<Figure size 900x600 with 12 Axes>"
      ]
     },
     "metadata": {},
     "output_type": "display_data"
    }
   ],
   "source": [
    "df.hist(bins = 10, figsize = (9,6))\n",
    "plt.show()"
   ]
  },
  {
   "cell_type": "markdown",
   "id": "9bc44aa3",
   "metadata": {},
   "source": [
    "# Split Data"
   ]
  },
  {
   "cell_type": "markdown",
   "id": "15c8dc74",
   "metadata": {},
   "source": [
    "<p>Let's split the data before we begin to explore it.  We don't want to find random patterns in the data that may bias our feature selection for our Machien Learning Algorithm.</p>"
   ]
  },
  {
   "cell_type": "code",
   "execution_count": 6,
   "id": "8fc2eb42",
   "metadata": {},
   "outputs": [
    {
     "name": "stdout",
     "output_type": "stream",
     "text": [
      "1    0.713551\n",
      "0    0.286449\n",
      "Name: isPatient, dtype: float64\n",
      "1    0.714592\n",
      "0    0.285408\n",
      "Name: isPatient, dtype: float64\n"
     ]
    }
   ],
   "source": [
    "# doing a stratified shuffle split ensures that the amount of non-liver and liver patients have \n",
    "# the same ratio in our train and test sets\n",
    "\n",
    "split = StratifiedShuffleSplit(n_splits = 1, train_size = .8, random_state = 42)\n",
    "\n",
    "for train_index, test_index in split.split(df, df.isPatient):\n",
    "    strat_train_set = df.loc[train_index]\n",
    "    strat_test_set = df.loc[test_index]\n",
    "    \n",
    "print(df.isPatient.value_counts() / len(df))\n",
    "print(strat_train_set.isPatient.value_counts() / len(strat_train_set))"
   ]
  },
  {
   "cell_type": "code",
   "execution_count": 7,
   "id": "aa5975f2",
   "metadata": {},
   "outputs": [
    {
     "data": {
      "text/html": [
       "<div>\n",
       "<style scoped>\n",
       "    .dataframe tbody tr th:only-of-type {\n",
       "        vertical-align: middle;\n",
       "    }\n",
       "\n",
       "    .dataframe tbody tr th {\n",
       "        vertical-align: top;\n",
       "    }\n",
       "\n",
       "    .dataframe thead th {\n",
       "        text-align: right;\n",
       "    }\n",
       "</style>\n",
       "<table border=\"1\" class=\"dataframe\">\n",
       "  <thead>\n",
       "    <tr style=\"text-align: right;\">\n",
       "      <th></th>\n",
       "      <th>Age</th>\n",
       "      <th>Gender</th>\n",
       "      <th>Total_Bilirubin</th>\n",
       "      <th>Direct_Bilirubin</th>\n",
       "      <th>Alkaline_Phosphotase</th>\n",
       "      <th>Alamine_Aminotransferase</th>\n",
       "      <th>Aspartate_Aminotransferase</th>\n",
       "      <th>Total_Protiens</th>\n",
       "      <th>Albumin</th>\n",
       "      <th>Albumin_and_Globulin_Ratio</th>\n",
       "      <th>isPatient</th>\n",
       "    </tr>\n",
       "  </thead>\n",
       "  <tbody>\n",
       "    <tr>\n",
       "      <th>21</th>\n",
       "      <td>51</td>\n",
       "      <td>1</td>\n",
       "      <td>2.9</td>\n",
       "      <td>1.3</td>\n",
       "      <td>482</td>\n",
       "      <td>22</td>\n",
       "      <td>34</td>\n",
       "      <td>7.0</td>\n",
       "      <td>2.4</td>\n",
       "      <td>0.50</td>\n",
       "      <td>1</td>\n",
       "    </tr>\n",
       "    <tr>\n",
       "      <th>68</th>\n",
       "      <td>66</td>\n",
       "      <td>1</td>\n",
       "      <td>0.7</td>\n",
       "      <td>0.2</td>\n",
       "      <td>239</td>\n",
       "      <td>27</td>\n",
       "      <td>26</td>\n",
       "      <td>6.3</td>\n",
       "      <td>3.7</td>\n",
       "      <td>1.40</td>\n",
       "      <td>1</td>\n",
       "    </tr>\n",
       "    <tr>\n",
       "      <th>321</th>\n",
       "      <td>30</td>\n",
       "      <td>0</td>\n",
       "      <td>0.8</td>\n",
       "      <td>0.2</td>\n",
       "      <td>198</td>\n",
       "      <td>30</td>\n",
       "      <td>58</td>\n",
       "      <td>5.2</td>\n",
       "      <td>2.8</td>\n",
       "      <td>1.10</td>\n",
       "      <td>1</td>\n",
       "    </tr>\n",
       "    <tr>\n",
       "      <th>317</th>\n",
       "      <td>35</td>\n",
       "      <td>1</td>\n",
       "      <td>0.7</td>\n",
       "      <td>0.2</td>\n",
       "      <td>198</td>\n",
       "      <td>42</td>\n",
       "      <td>30</td>\n",
       "      <td>6.8</td>\n",
       "      <td>3.4</td>\n",
       "      <td>1.00</td>\n",
       "      <td>1</td>\n",
       "    </tr>\n",
       "    <tr>\n",
       "      <th>110</th>\n",
       "      <td>24</td>\n",
       "      <td>0</td>\n",
       "      <td>0.7</td>\n",
       "      <td>0.2</td>\n",
       "      <td>188</td>\n",
       "      <td>11</td>\n",
       "      <td>10</td>\n",
       "      <td>5.5</td>\n",
       "      <td>2.3</td>\n",
       "      <td>0.71</td>\n",
       "      <td>0</td>\n",
       "    </tr>\n",
       "  </tbody>\n",
       "</table>\n",
       "</div>"
      ],
      "text/plain": [
       "     Age  Gender  Total_Bilirubin  Direct_Bilirubin  Alkaline_Phosphotase  \\\n",
       "21    51       1              2.9               1.3                   482   \n",
       "68    66       1              0.7               0.2                   239   \n",
       "321   30       0              0.8               0.2                   198   \n",
       "317   35       1              0.7               0.2                   198   \n",
       "110   24       0              0.7               0.2                   188   \n",
       "\n",
       "     Alamine_Aminotransferase  Aspartate_Aminotransferase  Total_Protiens  \\\n",
       "21                         22                          34             7.0   \n",
       "68                         27                          26             6.3   \n",
       "321                        30                          58             5.2   \n",
       "317                        42                          30             6.8   \n",
       "110                        11                          10             5.5   \n",
       "\n",
       "     Albumin  Albumin_and_Globulin_Ratio  isPatient  \n",
       "21       2.4                        0.50          1  \n",
       "68       3.7                        1.40          1  \n",
       "321      2.8                        1.10          1  \n",
       "317      3.4                        1.00          1  \n",
       "110      2.3                        0.71          0  "
      ]
     },
     "execution_count": 7,
     "metadata": {},
     "output_type": "execute_result"
    }
   ],
   "source": [
    "strat_train_set.head()"
   ]
  },
  {
   "cell_type": "markdown",
   "id": "f7e13acd",
   "metadata": {},
   "source": [
    "# Explore Data"
   ]
  },
  {
   "cell_type": "code",
   "execution_count": 8,
   "id": "24c40cba",
   "metadata": {},
   "outputs": [
    {
     "data": {
      "text/html": [
       "<div>\n",
       "<style scoped>\n",
       "    .dataframe tbody tr th:only-of-type {\n",
       "        vertical-align: middle;\n",
       "    }\n",
       "\n",
       "    .dataframe tbody tr th {\n",
       "        vertical-align: top;\n",
       "    }\n",
       "\n",
       "    .dataframe thead th {\n",
       "        text-align: right;\n",
       "    }\n",
       "</style>\n",
       "<table border=\"1\" class=\"dataframe\">\n",
       "  <thead>\n",
       "    <tr style=\"text-align: right;\">\n",
       "      <th></th>\n",
       "      <th>Age</th>\n",
       "      <th>Gender</th>\n",
       "      <th>Total_Bilirubin</th>\n",
       "      <th>Direct_Bilirubin</th>\n",
       "      <th>Alkaline_Phosphotase</th>\n",
       "      <th>Alamine_Aminotransferase</th>\n",
       "      <th>Aspartate_Aminotransferase</th>\n",
       "      <th>Total_Protiens</th>\n",
       "      <th>Albumin</th>\n",
       "      <th>Albumin_and_Globulin_Ratio</th>\n",
       "    </tr>\n",
       "    <tr>\n",
       "      <th>isPatient</th>\n",
       "      <th></th>\n",
       "      <th></th>\n",
       "      <th></th>\n",
       "      <th></th>\n",
       "      <th></th>\n",
       "      <th></th>\n",
       "      <th></th>\n",
       "      <th></th>\n",
       "      <th></th>\n",
       "      <th></th>\n",
       "    </tr>\n",
       "  </thead>\n",
       "  <tbody>\n",
       "    <tr>\n",
       "      <th>0</th>\n",
       "      <td>40.639098</td>\n",
       "      <td>0.684211</td>\n",
       "      <td>1.193985</td>\n",
       "      <td>0.428571</td>\n",
       "      <td>226.398496</td>\n",
       "      <td>34.939850</td>\n",
       "      <td>40.812030</td>\n",
       "      <td>6.562406</td>\n",
       "      <td>3.335338</td>\n",
       "      <td>1.017634</td>\n",
       "    </tr>\n",
       "    <tr>\n",
       "      <th>1</th>\n",
       "      <td>46.069069</td>\n",
       "      <td>0.780781</td>\n",
       "      <td>3.687988</td>\n",
       "      <td>1.750150</td>\n",
       "      <td>321.027027</td>\n",
       "      <td>102.405405</td>\n",
       "      <td>129.072072</td>\n",
       "      <td>6.452553</td>\n",
       "      <td>3.080480</td>\n",
       "      <td>0.924804</td>\n",
       "    </tr>\n",
       "  </tbody>\n",
       "</table>\n",
       "</div>"
      ],
      "text/plain": [
       "                 Age    Gender  Total_Bilirubin  Direct_Bilirubin  \\\n",
       "isPatient                                                           \n",
       "0          40.639098  0.684211         1.193985          0.428571   \n",
       "1          46.069069  0.780781         3.687988          1.750150   \n",
       "\n",
       "           Alkaline_Phosphotase  Alamine_Aminotransferase  \\\n",
       "isPatient                                                   \n",
       "0                    226.398496                 34.939850   \n",
       "1                    321.027027                102.405405   \n",
       "\n",
       "           Aspartate_Aminotransferase  Total_Protiens   Albumin  \\\n",
       "isPatient                                                         \n",
       "0                           40.812030        6.562406  3.335338   \n",
       "1                          129.072072        6.452553  3.080480   \n",
       "\n",
       "           Albumin_and_Globulin_Ratio  \n",
       "isPatient                              \n",
       "0                            1.017634  \n",
       "1                            0.924804  "
      ]
     },
     "execution_count": 8,
     "metadata": {},
     "output_type": "execute_result"
    }
   ],
   "source": [
    "df = strat_train_set.copy()\n",
    "group = df.groupby('isPatient').mean()\n",
    "group"
   ]
  },
  {
   "cell_type": "code",
   "execution_count": 9,
   "id": "41c05bad",
   "metadata": {},
   "outputs": [
    {
     "data": {
      "image/png": "[encoded data removed]",
      "text/plain": [
       "<Figure size 500x400 with 1 Axes>"
      ]
     },
     "metadata": {},
     "output_type": "display_data"
    }
   ],
   "source": [
    "plt.figure(figsize = (5,4))\n",
    "sns.countplot(data = df, x = 'isPatient')\n",
    "plt.title(\"Count of Patients vs. Non-patients\")\n",
    "plt.show()"
   ]
  },
  {
   "cell_type": "code",
   "execution_count": 10,
   "id": "ecc361d7",
   "metadata": {},
   "outputs": [
    {
     "data": {
      "text/plain": [
       "1    333\n",
       "0    133\n",
       "Name: isPatient, dtype: int64"
      ]
     },
     "execution_count": 10,
     "metadata": {},
     "output_type": "execute_result"
    }
   ],
   "source": [
    "df.isPatient.value_counts()"
   ]
  },
  {
   "cell_type": "code",
   "execution_count": 11,
   "id": "5eace37c",
   "metadata": {},
   "outputs": [
    {
     "data": {
      "image/png": "[encoded data removed]",
      "text/plain": [
       "<Figure size 600x400 with 1 Axes>"
      ]
     },
     "metadata": {},
     "output_type": "display_data"
    }
   ],
   "source": [
    "plt.figure(figsize = (6,4))\n",
    "sns.boxplot(data = df[df.Total_Bilirubin < 20], x = 'isPatient', y = 'Total_Bilirubin')\n",
    "plt.title(\"Dist. of Total Bilirubin\")\n",
    "plt.show()"
   ]
  },
  {
   "cell_type": "code",
   "execution_count": 12,
   "id": "36ea47e6",
   "metadata": {},
   "outputs": [
    {
     "data": {
      "image/png": "[encoded data removed]",
      "text/plain": [
       "<Figure size 600x400 with 1 Axes>"
      ]
     },
     "metadata": {},
     "output_type": "display_data"
    }
   ],
   "source": [
    "plt.figure(figsize=(6,4))\n",
    "sns.violinplot(data = df, x = 'isPatient', y = 'Alkaline_Phosphotase', inner = 'quartile')\n",
    "plt.title(\"Dist. of Alkaline Phosphotase\")\n",
    "plt.show()"
   ]
  },
  {
   "cell_type": "code",
   "execution_count": 13,
   "id": "b98a722c",
   "metadata": {},
   "outputs": [
    {
     "data": {
      "image/png": "[encoded data removed]",
      "text/plain": [
       "<Figure size 600x400 with 1 Axes>"
      ]
     },
     "metadata": {},
     "output_type": "display_data"
    }
   ],
   "source": [
    "plt.figure(figsize=(6,4))\n",
    "sns.boxenplot(data = df[df.Alamine_Aminotransferase < 1200], x = 'isPatient', y = 'Alamine_Aminotransferase')\n",
    "plt.title(\"Dist. of Alamine Aminotransferase\")\n",
    "plt.show()"
   ]
  },
  {
   "cell_type": "code",
   "execution_count": 14,
   "id": "fae4ef28",
   "metadata": {},
   "outputs": [
    {
     "data": {
      "image/png": "[encoded data removed]",
      "text/plain": [
       "<Figure size 600x400 with 1 Axes>"
      ]
     },
     "metadata": {},
     "output_type": "display_data"
    }
   ],
   "source": [
    "plt.figure(figsize=(6,4))\n",
    "sns.barplot(data = df, x = 'isPatient', y = 'Age', capsize = .05)\n",
    "plt.title(\"Avg. Age for Patiens and Non-Patients\")\n",
    "plt.show()"
   ]
  },
  {
   "cell_type": "markdown",
   "id": "89955dc9",
   "metadata": {},
   "source": [
    "# Statistical Significance Testing"
   ]
  },
  {
   "cell_type": "markdown",
   "id": "9c5b46d6",
   "metadata": {},
   "source": [
    "Let's perform some statistical significance testing on some of the variables that aren't obviously different for each group.\n",
    "This will give us some insight on which variables we should add to our ML algorithm.\n",
    "> Variables to perform Statistical Tests on: <br>\n",
    "> 1. Age <br>\n",
    "> 2. Gender <br>\n",
    "> 3. Total Protiens <br>\n",
    "> 4. Albumin <br>\n",
    "> 5. Albumin and Globulin Ratio"
   ]
  },
  {
   "cell_type": "code",
   "execution_count": 15,
   "id": "bf207902",
   "metadata": {},
   "outputs": [],
   "source": [
    "def perm_fun(df, col, len_a):\n",
    "    a = df.sample(n = len_a, replace = False)\n",
    "    b = df[~df.index.isin(a.index)]\n",
    "    \n",
    "    return a[col].mean() - b[col].mean()"
   ]
  },
  {
   "cell_type": "code",
   "execution_count": 16,
   "id": "87b1a92c",
   "metadata": {},
   "outputs": [],
   "source": [
    "def generate_diffs_and_graph(col, len_a, df):\n",
    "    # generated permuted differences\n",
    "    actual_diff = group.loc[1][col] - group.loc[0][col]\n",
    "    diffs = [perm_fun(df, col, len_a) for _ in range(1000)]\n",
    "    \n",
    "    # plot permuted differences and actual difference\n",
    "    plt.figure(figsize = (5,4))\n",
    "    sns.histplot(diffs)\n",
    "    plt.axvline(x = actual_diff, color = 'red')\n",
    "    plt.title(f\"Perm Test (statistical significance) for {col}\")\n",
    "    plt.show()\n",
    "\n",
    "    # calculate and print p-val for statistical significance test\n",
    "    p_val = [np.abs(diff) > np.abs(actual_diff) for diff in diffs]\n",
    "    p_val = np.array(p_val).mean()\n",
    "    print(\"p-val:\", p_val)\n",
    "    \n",
    "    return p_val"
   ]
  },
  {
   "cell_type": "code",
   "execution_count": 17,
   "id": "67155cf6",
   "metadata": {},
   "outputs": [
    {
     "name": "stdout",
     "output_type": "stream",
     "text": [
      "Number of patients in training set: 333\n"
     ]
    }
   ],
   "source": [
    "num_patients = df.isPatient.value_counts().loc[1]\n",
    "significant_vars = []\n",
    "print(\"Number of patients in training set:\", num_patients)"
   ]
  },
  {
   "cell_type": "code",
   "execution_count": 18,
   "id": "0ae34eb1",
   "metadata": {},
   "outputs": [
    {
     "data": {
      "image/png": "[encoded data removed]",
      "text/plain": [
       "<Figure size 500x400 with 1 Axes>"
      ]
     },
     "metadata": {},
     "output_type": "display_data"
    },
    {
     "name": "stdout",
     "output_type": "stream",
     "text": [
      "p-val: 0.0\n"
     ]
    }
   ],
   "source": [
    "age_pval = generate_diffs_and_graph('Age', num_patients, df)\n",
    "if age_pval <= .05:\n",
    "    significant_vars.append('Age')"
   ]
  },
  {
   "cell_type": "code",
   "execution_count": 19,
   "id": "a993ee67",
   "metadata": {},
   "outputs": [
    {
     "data": {
      "image/png": "[encoded data removed]",
      "text/plain": [
       "<Figure size 500x400 with 1 Axes>"
      ]
     },
     "metadata": {},
     "output_type": "display_data"
    },
    {
     "name": "stdout",
     "output_type": "stream",
     "text": [
      "p-val: 0.028\n"
     ]
    }
   ],
   "source": [
    "age_pval = generate_diffs_and_graph('Gender', num_patients, df)\n",
    "if age_pval <= .05:\n",
    "    significant_vars.append('Gender')"
   ]
  },
  {
   "cell_type": "code",
   "execution_count": 20,
   "id": "8f11fb35",
   "metadata": {},
   "outputs": [
    {
     "data": {
      "text/html": [
       "<div>\n",
       "<style scoped>\n",
       "    .dataframe tbody tr th:only-of-type {\n",
       "        vertical-align: middle;\n",
       "    }\n",
       "\n",
       "    .dataframe tbody tr th {\n",
       "        vertical-align: top;\n",
       "    }\n",
       "\n",
       "    .dataframe thead th {\n",
       "        text-align: right;\n",
       "    }\n",
       "</style>\n",
       "<table border=\"1\" class=\"dataframe\">\n",
       "  <thead>\n",
       "    <tr style=\"text-align: right;\">\n",
       "      <th></th>\n",
       "      <th>Age</th>\n",
       "      <th>Gender</th>\n",
       "      <th>Total_Bilirubin</th>\n",
       "      <th>Direct_Bilirubin</th>\n",
       "      <th>Alkaline_Phosphotase</th>\n",
       "      <th>Alamine_Aminotransferase</th>\n",
       "      <th>Aspartate_Aminotransferase</th>\n",
       "      <th>Total_Protiens</th>\n",
       "      <th>Albumin</th>\n",
       "      <th>Albumin_and_Globulin_Ratio</th>\n",
       "      <th>isPatient</th>\n",
       "    </tr>\n",
       "  </thead>\n",
       "  <tbody>\n",
       "    <tr>\n",
       "      <th>21</th>\n",
       "      <td>51</td>\n",
       "      <td>1</td>\n",
       "      <td>2.9</td>\n",
       "      <td>1.3</td>\n",
       "      <td>482</td>\n",
       "      <td>22</td>\n",
       "      <td>34</td>\n",
       "      <td>7.0</td>\n",
       "      <td>2.4</td>\n",
       "      <td>0.50</td>\n",
       "      <td>1</td>\n",
       "    </tr>\n",
       "    <tr>\n",
       "      <th>68</th>\n",
       "      <td>66</td>\n",
       "      <td>1</td>\n",
       "      <td>0.7</td>\n",
       "      <td>0.2</td>\n",
       "      <td>239</td>\n",
       "      <td>27</td>\n",
       "      <td>26</td>\n",
       "      <td>6.3</td>\n",
       "      <td>3.7</td>\n",
       "      <td>1.40</td>\n",
       "      <td>1</td>\n",
       "    </tr>\n",
       "    <tr>\n",
       "      <th>321</th>\n",
       "      <td>30</td>\n",
       "      <td>0</td>\n",
       "      <td>0.8</td>\n",
       "      <td>0.2</td>\n",
       "      <td>198</td>\n",
       "      <td>30</td>\n",
       "      <td>58</td>\n",
       "      <td>5.2</td>\n",
       "      <td>2.8</td>\n",
       "      <td>1.10</td>\n",
       "      <td>1</td>\n",
       "    </tr>\n",
       "    <tr>\n",
       "      <th>317</th>\n",
       "      <td>35</td>\n",
       "      <td>1</td>\n",
       "      <td>0.7</td>\n",
       "      <td>0.2</td>\n",
       "      <td>198</td>\n",
       "      <td>42</td>\n",
       "      <td>30</td>\n",
       "      <td>6.8</td>\n",
       "      <td>3.4</td>\n",
       "      <td>1.00</td>\n",
       "      <td>1</td>\n",
       "    </tr>\n",
       "    <tr>\n",
       "      <th>110</th>\n",
       "      <td>24</td>\n",
       "      <td>0</td>\n",
       "      <td>0.7</td>\n",
       "      <td>0.2</td>\n",
       "      <td>188</td>\n",
       "      <td>11</td>\n",
       "      <td>10</td>\n",
       "      <td>5.5</td>\n",
       "      <td>2.3</td>\n",
       "      <td>0.71</td>\n",
       "      <td>0</td>\n",
       "    </tr>\n",
       "  </tbody>\n",
       "</table>\n",
       "</div>"
      ],
      "text/plain": [
       "     Age  Gender  Total_Bilirubin  Direct_Bilirubin  Alkaline_Phosphotase  \\\n",
       "21    51       1              2.9               1.3                   482   \n",
       "68    66       1              0.7               0.2                   239   \n",
       "321   30       0              0.8               0.2                   198   \n",
       "317   35       1              0.7               0.2                   198   \n",
       "110   24       0              0.7               0.2                   188   \n",
       "\n",
       "     Alamine_Aminotransferase  Aspartate_Aminotransferase  Total_Protiens  \\\n",
       "21                         22                          34             7.0   \n",
       "68                         27                          26             6.3   \n",
       "321                        30                          58             5.2   \n",
       "317                        42                          30             6.8   \n",
       "110                        11                          10             5.5   \n",
       "\n",
       "     Albumin  Albumin_and_Globulin_Ratio  isPatient  \n",
       "21       2.4                        0.50          1  \n",
       "68       3.7                        1.40          1  \n",
       "321      2.8                        1.10          1  \n",
       "317      3.4                        1.00          1  \n",
       "110      2.3                        0.71          0  "
      ]
     },
     "execution_count": 20,
     "metadata": {},
     "output_type": "execute_result"
    }
   ],
   "source": [
    "df.head()"
   ]
  },
  {
   "cell_type": "code",
   "execution_count": 21,
   "id": "c5bf5ba3",
   "metadata": {},
   "outputs": [
    {
     "data": {
      "image/png": "[encoded data removed]",
      "text/plain": [
       "<Figure size 500x400 with 1 Axes>"
      ]
     },
     "metadata": {},
     "output_type": "display_data"
    },
    {
     "name": "stdout",
     "output_type": "stream",
     "text": [
      "p-val: 0.312\n"
     ]
    }
   ],
   "source": [
    "age_pval = generate_diffs_and_graph('Total_Protiens', num_patients, df)\n",
    "if age_pval <= .05:\n",
    "    significant_vars.append('Total_Protiens')"
   ]
  },
  {
   "cell_type": "code",
   "execution_count": 22,
   "id": "a70a3171",
   "metadata": {},
   "outputs": [
    {
     "data": {
      "image/png": "[encoded data removed]",
      "text/plain": [
       "<Figure size 500x400 with 1 Axes>"
      ]
     },
     "metadata": {},
     "output_type": "display_data"
    },
    {
     "name": "stdout",
     "output_type": "stream",
     "text": [
      "p-val: 0.0\n"
     ]
    }
   ],
   "source": [
    "age_pval = generate_diffs_and_graph('Albumin', num_patients, df)\n",
    "if age_pval <= .05:\n",
    "    significant_vars.append('Albumin')"
   ]
  },
  {
   "cell_type": "code",
   "execution_count": 23,
   "id": "9e53cd2b",
   "metadata": {},
   "outputs": [
    {
     "data": {
      "image/png": "[encoded data removed]",
      "text/plain": [
       "<Figure size 500x400 with 1 Axes>"
      ]
     },
     "metadata": {},
     "output_type": "display_data"
    },
    {
     "name": "stdout",
     "output_type": "stream",
     "text": [
      "p-val: 0.006\n"
     ]
    }
   ],
   "source": [
    "age_pval = generate_diffs_and_graph('Albumin_and_Globulin_Ratio', num_patients, df)\n",
    "if age_pval <= .05:\n",
    "    significant_vars.append('Albumin_and_Globulin_Ratio')"
   ]
  },
  {
   "cell_type": "code",
   "execution_count": 24,
   "id": "18060556",
   "metadata": {},
   "outputs": [
    {
     "data": {
      "text/plain": [
       "['Age', 'Gender', 'Albumin', 'Albumin_and_Globulin_Ratio', 'Total_Bilirubin']"
      ]
     },
     "execution_count": 24,
     "metadata": {},
     "output_type": "execute_result"
    }
   ],
   "source": [
    "# we will add the following variables to our algorithm\n",
    "significant_vars.append('Total_Bilirubin')\n",
    "\n",
    "significant_vars"
   ]
  },
  {
   "cell_type": "markdown",
   "id": "6651e8d3",
   "metadata": {},
   "source": [
    "# Feature Selection"
   ]
  },
  {
   "cell_type": "code",
   "execution_count": 25,
   "id": "4e44d5da",
   "metadata": {},
   "outputs": [
    {
     "data": {
      "text/plain": [
       "array(['Age', 'Gender', 'Albumin', 'Albumin_and_Globulin_Ratio',\n",
       "       'Total_Bilirubin', 'Total_Bilirubin', 'Direct_Bilirubin',\n",
       "       'Alkaline_Phosphotase', 'Alamine_Aminotransferase',\n",
       "       'Aspartate_Aminotransferase'], dtype='<U26')"
      ]
     },
     "execution_count": 25,
     "metadata": {},
     "output_type": "execute_result"
    }
   ],
   "source": [
    "sig_features = np.array(significant_vars).copy()\n",
    "all_features = np.append(sig_features, ['Total_Bilirubin', 'Direct_Bilirubin', 'Alkaline_Phosphotase', \n",
    "                                    'Alamine_Aminotransferase', 'Aspartate_Aminotransferase'])\n",
    "all_features"
   ]
  },
  {
   "cell_type": "markdown",
   "id": "f4ece6f8",
   "metadata": {},
   "source": [
    "### Clean Data before putting it into model"
   ]
  },
  {
   "cell_type": "code",
   "execution_count": 47,
   "id": "e6715556",
   "metadata": {},
   "outputs": [
    {
     "data": {
      "text/plain": [
       "SimpleImputer(strategy='median')"
      ]
     },
     "execution_count": 47,
     "metadata": {},
     "output_type": "execute_result"
    }
   ],
   "source": [
    "imputer = SimpleImputer(strategy = 'median')\n",
    "\n",
    "imputer.fit(strat_train_set[all_features])"
   ]
  },
  {
   "cell_type": "code",
   "execution_count": 48,
   "id": "c1c94844",
   "metadata": {},
   "outputs": [],
   "source": [
    "# data was already split, no need to split again\n",
    "X_train = imputer.transform(strat_train_set[all_features]) # fill in missing x values with median value\n",
    "y_train = np.array(strat_train_set['isPatient']).reshape(-1,1)"
   ]
  },
  {
   "cell_type": "code",
   "execution_count": 49,
   "id": "5c014233",
   "metadata": {},
   "outputs": [],
   "source": [
    "norm_layer = tf.keras.layers.Normalization(axis = -1)\n",
    "norm_layer.adapt(X_train) # learns mean and variance\n",
    "X_train_norm = norm_layer(X_train)"
   ]
  },
  {
   "cell_type": "code",
   "execution_count": 50,
   "id": "14d1efa6",
   "metadata": {},
   "outputs": [
    {
     "data": {
      "text/plain": [
       "<tf.Tensor: shape=(466, 10), dtype=float32, numpy=\n",
       "array([[ 0.40546107,  0.5723944 , -0.95533293, ...,  0.7441994 ,\n",
       "        -0.31704962, -0.31261483],\n",
       "       [ 1.3439279 ,  0.5723944 ,  0.6935009 , ..., -0.21781659,\n",
       "        -0.29112577, -0.3484026 ],\n",
       "       [-0.9083925 , -1.7470473 , -0.44799963, ..., -0.38013205,\n",
       "        -0.2755715 , -0.20525157],\n",
       "       ...,\n",
       "       [ 1.9070079 ,  0.5723944 , -0.32116607, ...,  0.32059562,\n",
       "         0.00959066, -0.16051689],\n",
       "       [-0.3453124 ,  0.5723944 ,  0.18616726, ...,  0.0157593 ,\n",
       "         0.09773169,  2.3535726 ],\n",
       "       [ 0.65571886,  0.5723944 , -0.57483286, ..., -0.41180336,\n",
       "        -0.3014953 , -0.33945563]], dtype=float32)>"
      ]
     },
     "execution_count": 50,
     "metadata": {},
     "output_type": "execute_result"
    }
   ],
   "source": [
    "X_train_norm"
   ]
  },
  {
   "cell_type": "markdown",
   "id": "d026f92d",
   "metadata": {},
   "source": [
    "# Tensorflow Model"
   ]
  },
  {
   "cell_type": "code",
   "execution_count": 67,
   "id": "7adddc0f",
   "metadata": {},
   "outputs": [],
   "source": [
    "tf.random.set_seed(42)\n",
    "\n",
    "# define model\n",
    "model = Sequential([\n",
    "    Dense(units = 50, activation = 'relu', kernel_regularizer  = tf.keras.regularizers.l2(.001)),\n",
    "    Dense(units = 25, activation = 'relu', kernel_regularizer  = tf.keras.regularizers.l2(.001)),\n",
    "    Dense(units = 1, activation = 'linear', kernel_regularizer = tf.keras.regularizers.l2(.001))\n",
    "])"
   ]
  },
  {
   "cell_type": "code",
   "execution_count": 68,
   "id": "c9ad980e",
   "metadata": {},
   "outputs": [],
   "source": [
    "# define loss function\n",
    "model.compile(\n",
    "    loss = tf.keras.losses.BinaryCrossentropy(from_logits = True),\n",
    "    optimizer = tf.keras.optimizers.Adam(learning_rate = 0.01)\n",
    ")"
   ]
  },
  {
   "cell_type": "code",
   "execution_count": 69,
   "id": "54137d1c",
   "metadata": {},
   "outputs": [],
   "source": [
    "# fit model\n",
    "history = model.fit(X_train, y_train, epochs = 1000, verbose = 0, validation_split = 0.2)"
   ]
  },
  {
   "cell_type": "markdown",
   "id": "fb246fa0",
   "metadata": {},
   "source": [
    "# Looking for Overfit"
   ]
  },
  {
   "cell_type": "code",
   "execution_count": 70,
   "id": "31e152f2",
   "metadata": {},
   "outputs": [
    {
     "data": {
      "text/html": [
       "<div>\n",
       "<style scoped>\n",
       "    .dataframe tbody tr th:only-of-type {\n",
       "        vertical-align: middle;\n",
       "    }\n",
       "\n",
       "    .dataframe tbody tr th {\n",
       "        vertical-align: top;\n",
       "    }\n",
       "\n",
       "    .dataframe thead th {\n",
       "        text-align: right;\n",
       "    }\n",
       "</style>\n",
       "<table border=\"1\" class=\"dataframe\">\n",
       "  <thead>\n",
       "    <tr style=\"text-align: right;\">\n",
       "      <th></th>\n",
       "      <th>loss</th>\n",
       "      <th>val_loss</th>\n",
       "      <th>epoch</th>\n",
       "    </tr>\n",
       "  </thead>\n",
       "  <tbody>\n",
       "    <tr>\n",
       "      <th>995</th>\n",
       "      <td>0.464444</td>\n",
       "      <td>0.619547</td>\n",
       "      <td>995</td>\n",
       "    </tr>\n",
       "    <tr>\n",
       "      <th>996</th>\n",
       "      <td>0.465632</td>\n",
       "      <td>0.695605</td>\n",
       "      <td>996</td>\n",
       "    </tr>\n",
       "    <tr>\n",
       "      <th>997</th>\n",
       "      <td>0.418841</td>\n",
       "      <td>0.707632</td>\n",
       "      <td>997</td>\n",
       "    </tr>\n",
       "    <tr>\n",
       "      <th>998</th>\n",
       "      <td>0.419569</td>\n",
       "      <td>0.708314</td>\n",
       "      <td>998</td>\n",
       "    </tr>\n",
       "    <tr>\n",
       "      <th>999</th>\n",
       "      <td>0.410503</td>\n",
       "      <td>0.680659</td>\n",
       "      <td>999</td>\n",
       "    </tr>\n",
       "  </tbody>\n",
       "</table>\n",
       "</div>"
      ],
      "text/plain": [
       "         loss  val_loss  epoch\n",
       "995  0.464444  0.619547    995\n",
       "996  0.465632  0.695605    996\n",
       "997  0.418841  0.707632    997\n",
       "998  0.419569  0.708314    998\n",
       "999  0.410503  0.680659    999"
      ]
     },
     "execution_count": 70,
     "metadata": {},
     "output_type": "execute_result"
    }
   ],
   "source": [
    "hist = pd.DataFrame(history.history)\n",
    "hist['epoch'] = history.epoch\n",
    "hist.tail()"
   ]
  },
  {
   "cell_type": "code",
   "execution_count": 71,
   "id": "53f26885",
   "metadata": {},
   "outputs": [
    {
     "data": {
      "image/png": "[encoded data removed]",
      "text/plain": [
       "<Figure size 600x400 with 1 Axes>"
      ]
     },
     "metadata": {},
     "output_type": "display_data"
    }
   ],
   "source": [
    "plt.figure(figsize=(6,4))\n",
    "plt.plot(history.history['loss'], label='loss')\n",
    "plt.plot(history.history['val_loss'], label='val_loss')\n",
    "plt.ylim([0, 5])\n",
    "\n",
    "plt.title(\"Line plot of MAE\")\n",
    "plt.xlabel('Epoch')\n",
    "plt.ylabel('Error')\n",
    "plt.legend()\n",
    "plt.grid(True)"
   ]
  },
  {
   "cell_type": "code",
   "execution_count": 78,
   "id": "edbe4466",
   "metadata": {},
   "outputs": [],
   "source": [
    "X_test_norm = norm_layer(strat_test_set[all_features])\n",
    "\n",
    "logit = model(X_test_norm)\n",
    "predictions = tf.nn.sigmoid(logit) # apply sigmoid function to predictions"
   ]
  },
  {
   "cell_type": "code",
   "execution_count": 79,
   "id": "2db94e9a",
   "metadata": {},
   "outputs": [
    {
     "data": {
      "text/html": [
       "<div>\n",
       "<style scoped>\n",
       "    .dataframe tbody tr th:only-of-type {\n",
       "        vertical-align: middle;\n",
       "    }\n",
       "\n",
       "    .dataframe tbody tr th {\n",
       "        vertical-align: top;\n",
       "    }\n",
       "\n",
       "    .dataframe thead th {\n",
       "        text-align: right;\n",
       "    }\n",
       "</style>\n",
       "<table border=\"1\" class=\"dataframe\">\n",
       "  <thead>\n",
       "    <tr style=\"text-align: right;\">\n",
       "      <th></th>\n",
       "      <th>Age</th>\n",
       "      <th>Gender</th>\n",
       "      <th>Total_Bilirubin</th>\n",
       "      <th>Direct_Bilirubin</th>\n",
       "      <th>Alkaline_Phosphotase</th>\n",
       "      <th>Alamine_Aminotransferase</th>\n",
       "      <th>Aspartate_Aminotransferase</th>\n",
       "      <th>Total_Protiens</th>\n",
       "      <th>Albumin</th>\n",
       "      <th>Albumin_and_Globulin_Ratio</th>\n",
       "      <th>isPatient</th>\n",
       "      <th>nn_prediction</th>\n",
       "      <th>nn_prob</th>\n",
       "      <th>Prediction</th>\n",
       "    </tr>\n",
       "  </thead>\n",
       "  <tbody>\n",
       "    <tr>\n",
       "      <th>70</th>\n",
       "      <td>19</td>\n",
       "      <td>0</td>\n",
       "      <td>0.7</td>\n",
       "      <td>0.2</td>\n",
       "      <td>186</td>\n",
       "      <td>166</td>\n",
       "      <td>397</td>\n",
       "      <td>5.5</td>\n",
       "      <td>3.0</td>\n",
       "      <td>1.20</td>\n",
       "      <td>1</td>\n",
       "      <td>0.556744</td>\n",
       "      <td>0.556744</td>\n",
       "      <td>1</td>\n",
       "    </tr>\n",
       "    <tr>\n",
       "      <th>61</th>\n",
       "      <td>58</td>\n",
       "      <td>1</td>\n",
       "      <td>1.0</td>\n",
       "      <td>0.5</td>\n",
       "      <td>158</td>\n",
       "      <td>37</td>\n",
       "      <td>43</td>\n",
       "      <td>7.2</td>\n",
       "      <td>3.6</td>\n",
       "      <td>1.00</td>\n",
       "      <td>1</td>\n",
       "      <td>0.650280</td>\n",
       "      <td>0.650280</td>\n",
       "      <td>1</td>\n",
       "    </tr>\n",
       "    <tr>\n",
       "      <th>252</th>\n",
       "      <td>65</td>\n",
       "      <td>1</td>\n",
       "      <td>1.1</td>\n",
       "      <td>0.3</td>\n",
       "      <td>258</td>\n",
       "      <td>48</td>\n",
       "      <td>40</td>\n",
       "      <td>7.0</td>\n",
       "      <td>3.9</td>\n",
       "      <td>1.20</td>\n",
       "      <td>0</td>\n",
       "      <td>0.712958</td>\n",
       "      <td>0.712958</td>\n",
       "      <td>1</td>\n",
       "    </tr>\n",
       "    <tr>\n",
       "      <th>136</th>\n",
       "      <td>46</td>\n",
       "      <td>0</td>\n",
       "      <td>4.7</td>\n",
       "      <td>2.2</td>\n",
       "      <td>310</td>\n",
       "      <td>62</td>\n",
       "      <td>90</td>\n",
       "      <td>6.4</td>\n",
       "      <td>2.5</td>\n",
       "      <td>0.60</td>\n",
       "      <td>1</td>\n",
       "      <td>0.340689</td>\n",
       "      <td>0.340689</td>\n",
       "      <td>0</td>\n",
       "    </tr>\n",
       "    <tr>\n",
       "      <th>396</th>\n",
       "      <td>74</td>\n",
       "      <td>1</td>\n",
       "      <td>1.0</td>\n",
       "      <td>0.3</td>\n",
       "      <td>175</td>\n",
       "      <td>30</td>\n",
       "      <td>32</td>\n",
       "      <td>6.4</td>\n",
       "      <td>3.4</td>\n",
       "      <td>1.10</td>\n",
       "      <td>1</td>\n",
       "      <td>0.725935</td>\n",
       "      <td>0.725935</td>\n",
       "      <td>1</td>\n",
       "    </tr>\n",
       "    <tr>\n",
       "      <th>...</th>\n",
       "      <td>...</td>\n",
       "      <td>...</td>\n",
       "      <td>...</td>\n",
       "      <td>...</td>\n",
       "      <td>...</td>\n",
       "      <td>...</td>\n",
       "      <td>...</td>\n",
       "      <td>...</td>\n",
       "      <td>...</td>\n",
       "      <td>...</td>\n",
       "      <td>...</td>\n",
       "      <td>...</td>\n",
       "      <td>...</td>\n",
       "      <td>...</td>\n",
       "    </tr>\n",
       "    <tr>\n",
       "      <th>195</th>\n",
       "      <td>60</td>\n",
       "      <td>1</td>\n",
       "      <td>2.4</td>\n",
       "      <td>1.0</td>\n",
       "      <td>1124</td>\n",
       "      <td>30</td>\n",
       "      <td>54</td>\n",
       "      <td>5.2</td>\n",
       "      <td>1.9</td>\n",
       "      <td>0.50</td>\n",
       "      <td>1</td>\n",
       "      <td>0.321718</td>\n",
       "      <td>0.321718</td>\n",
       "      <td>0</td>\n",
       "    </tr>\n",
       "    <tr>\n",
       "      <th>276</th>\n",
       "      <td>35</td>\n",
       "      <td>1</td>\n",
       "      <td>0.9</td>\n",
       "      <td>0.2</td>\n",
       "      <td>190</td>\n",
       "      <td>25</td>\n",
       "      <td>20</td>\n",
       "      <td>6.4</td>\n",
       "      <td>3.6</td>\n",
       "      <td>1.20</td>\n",
       "      <td>0</td>\n",
       "      <td>0.518461</td>\n",
       "      <td>0.518461</td>\n",
       "      <td>1</td>\n",
       "    </tr>\n",
       "    <tr>\n",
       "      <th>549</th>\n",
       "      <td>40</td>\n",
       "      <td>0</td>\n",
       "      <td>2.1</td>\n",
       "      <td>1.0</td>\n",
       "      <td>768</td>\n",
       "      <td>74</td>\n",
       "      <td>141</td>\n",
       "      <td>7.8</td>\n",
       "      <td>4.9</td>\n",
       "      <td>1.60</td>\n",
       "      <td>1</td>\n",
       "      <td>0.601924</td>\n",
       "      <td>0.601924</td>\n",
       "      <td>1</td>\n",
       "    </tr>\n",
       "    <tr>\n",
       "      <th>444</th>\n",
       "      <td>61</td>\n",
       "      <td>1</td>\n",
       "      <td>0.8</td>\n",
       "      <td>0.2</td>\n",
       "      <td>163</td>\n",
       "      <td>18</td>\n",
       "      <td>19</td>\n",
       "      <td>6.3</td>\n",
       "      <td>2.8</td>\n",
       "      <td>0.80</td>\n",
       "      <td>0</td>\n",
       "      <td>0.602891</td>\n",
       "      <td>0.602891</td>\n",
       "      <td>1</td>\n",
       "    </tr>\n",
       "    <tr>\n",
       "      <th>164</th>\n",
       "      <td>39</td>\n",
       "      <td>1</td>\n",
       "      <td>1.9</td>\n",
       "      <td>0.9</td>\n",
       "      <td>180</td>\n",
       "      <td>42</td>\n",
       "      <td>62</td>\n",
       "      <td>7.4</td>\n",
       "      <td>4.3</td>\n",
       "      <td>1.38</td>\n",
       "      <td>1</td>\n",
       "      <td>0.567538</td>\n",
       "      <td>0.567538</td>\n",
       "      <td>1</td>\n",
       "    </tr>\n",
       "  </tbody>\n",
       "</table>\n",
       "<p>117 rows × 14 columns</p>\n",
       "</div>"
      ],
      "text/plain": [
       "     Age  Gender  Total_Bilirubin  Direct_Bilirubin  Alkaline_Phosphotase  \\\n",
       "70    19       0              0.7               0.2                   186   \n",
       "61    58       1              1.0               0.5                   158   \n",
       "252   65       1              1.1               0.3                   258   \n",
       "136   46       0              4.7               2.2                   310   \n",
       "396   74       1              1.0               0.3                   175   \n",
       "..   ...     ...              ...               ...                   ...   \n",
       "195   60       1              2.4               1.0                  1124   \n",
       "276   35       1              0.9               0.2                   190   \n",
       "549   40       0              2.1               1.0                   768   \n",
       "444   61       1              0.8               0.2                   163   \n",
       "164   39       1              1.9               0.9                   180   \n",
       "\n",
       "     Alamine_Aminotransferase  Aspartate_Aminotransferase  Total_Protiens  \\\n",
       "70                        166                         397             5.5   \n",
       "61                         37                          43             7.2   \n",
       "252                        48                          40             7.0   \n",
       "136                        62                          90             6.4   \n",
       "396                        30                          32             6.4   \n",
       "..                        ...                         ...             ...   \n",
       "195                        30                          54             5.2   \n",
       "276                        25                          20             6.4   \n",
       "549                        74                         141             7.8   \n",
       "444                        18                          19             6.3   \n",
       "164                        42                          62             7.4   \n",
       "\n",
       "     Albumin  Albumin_and_Globulin_Ratio  isPatient  nn_prediction   nn_prob  \\\n",
       "70       3.0                        1.20          1       0.556744  0.556744   \n",
       "61       3.6                        1.00          1       0.650280  0.650280   \n",
       "252      3.9                        1.20          0       0.712958  0.712958   \n",
       "136      2.5                        0.60          1       0.340689  0.340689   \n",
       "396      3.4                        1.10          1       0.725935  0.725935   \n",
       "..       ...                         ...        ...            ...       ...   \n",
       "195      1.9                        0.50          1       0.321718  0.321718   \n",
       "276      3.6                        1.20          0       0.518461  0.518461   \n",
       "549      4.9                        1.60          1       0.601924  0.601924   \n",
       "444      2.8                        0.80          0       0.602891  0.602891   \n",
       "164      4.3                        1.38          1       0.567538  0.567538   \n",
       "\n",
       "     Prediction  \n",
       "70            1  \n",
       "61            1  \n",
       "252           1  \n",
       "136           0  \n",
       "396           1  \n",
       "..          ...  \n",
       "195           0  \n",
       "276           1  \n",
       "549           1  \n",
       "444           1  \n",
       "164           1  \n",
       "\n",
       "[117 rows x 14 columns]"
      ]
     },
     "execution_count": 79,
     "metadata": {},
     "output_type": "execute_result"
    }
   ],
   "source": [
    "strat_test_set['nn_prob'] = predictions\n",
    "strat_test_set['Prediction'] = (strat_test_set.nn_prob >= .5).replace({False: 0, True: 1})\n",
    "strat_test_set"
   ]
  },
  {
   "cell_type": "code",
   "execution_count": 80,
   "id": "0563a17f",
   "metadata": {},
   "outputs": [
    {
     "data": {
      "text/plain": [
       "0.4358974358974359"
      ]
     },
     "execution_count": 80,
     "metadata": {},
     "output_type": "execute_result"
    }
   ],
   "source": [
    "accuracy_score(strat_test_set.isPatient, strat_test_set.Prediction)"
   ]
  }
 ],
 "metadata": {
  "kernelspec": {
   "display_name": "Python 3 (ipykernel)",
   "language": "python",
   "name": "python3"
  },
  "language_info": {
   "codemirror_mode": {
    "name": "ipython",
    "version": 3
   },
   "file_extension": ".py",
   "mimetype": "text/x-python",
   "name": "python",
   "nbconvert_exporter": "python",
   "pygments_lexer": "ipython3",
   "version": "3.9.13"
  }
 },
 "nbformat": 4,
 "nbformat_minor": 5
}
