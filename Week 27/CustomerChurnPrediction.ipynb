{
 "cells": [
  {
   "cell_type": "code",
   "execution_count": 1,
   "id": "74937e36",
   "metadata": {},
   "outputs": [],
   "source": [
    "import pandas as pd\n",
    "import numpy as np\n",
    "\n",
    "import seaborn as sns\n",
    "import matplotlib.pyplot as plt\n",
    "sns.set_style(\"whitegrid\")\n",
    "sns.set_palette(\"pastel\")\n",
    "\n",
    "from sklearn.model_selection import train_test_split, GridSearchCV\n",
    "from sklearn.metrics import accuracy_score, precision_score, recall_score\n",
    "\n",
    "from sklearn.ensemble import RandomForestClassifier\n",
    "from xgboost import XGBClassifier"
   ]
  },
  {
   "cell_type": "code",
   "execution_count": 2,
   "id": "fdd1a038",
   "metadata": {},
   "outputs": [
    {
     "name": "stdout",
     "output_type": "stream",
     "text": [
      "<class 'pandas.core.frame.DataFrame'>\n",
      "RangeIndex: 10000 entries, 0 to 9999\n",
      "Data columns (total 12 columns):\n",
      " #   Column            Non-Null Count  Dtype  \n",
      "---  ------            --------------  -----  \n",
      " 0   customer_id       10000 non-null  int64  \n",
      " 1   credit_score      10000 non-null  int64  \n",
      " 2   country           10000 non-null  object \n",
      " 3   gender            10000 non-null  object \n",
      " 4   age               10000 non-null  int64  \n",
      " 5   tenure            10000 non-null  int64  \n",
      " 6   balance           10000 non-null  float64\n",
      " 7   products_number   10000 non-null  int64  \n",
      " 8   credit_card       10000 non-null  int64  \n",
      " 9   active_member     10000 non-null  int64  \n",
      " 10  estimated_salary  10000 non-null  float64\n",
      " 11  churn             10000 non-null  int64  \n",
      "dtypes: float64(2), int64(8), object(2)\n",
      "memory usage: 937.6+ KB\n"
     ]
    }
   ],
   "source": [
    "df = pd.read_csv('Bank Customer Churn Prediction.csv')\n",
    "df.info()"
   ]
  },
  {
   "cell_type": "code",
   "execution_count": 3,
   "id": "35c699af",
   "metadata": {},
   "outputs": [
    {
     "data": {
      "text/html": [
       "<div>\n",
       "<style scoped>\n",
       "    .dataframe tbody tr th:only-of-type {\n",
       "        vertical-align: middle;\n",
       "    }\n",
       "\n",
       "    .dataframe tbody tr th {\n",
       "        vertical-align: top;\n",
       "    }\n",
       "\n",
       "    .dataframe thead th {\n",
       "        text-align: right;\n",
       "    }\n",
       "</style>\n",
       "<table border=\"1\" class=\"dataframe\">\n",
       "  <thead>\n",
       "    <tr style=\"text-align: right;\">\n",
       "      <th></th>\n",
       "      <th>customer_id</th>\n",
       "      <th>credit_score</th>\n",
       "      <th>age</th>\n",
       "      <th>tenure</th>\n",
       "      <th>balance</th>\n",
       "      <th>products_number</th>\n",
       "      <th>credit_card</th>\n",
       "      <th>active_member</th>\n",
       "      <th>estimated_salary</th>\n",
       "      <th>churn</th>\n",
       "    </tr>\n",
       "  </thead>\n",
       "  <tbody>\n",
       "    <tr>\n",
       "      <th>count</th>\n",
       "      <td>1.000000e+04</td>\n",
       "      <td>10000.000000</td>\n",
       "      <td>10000.000000</td>\n",
       "      <td>10000.000000</td>\n",
       "      <td>10000.000000</td>\n",
       "      <td>10000.000000</td>\n",
       "      <td>10000.00000</td>\n",
       "      <td>10000.000000</td>\n",
       "      <td>10000.000000</td>\n",
       "      <td>10000.000000</td>\n",
       "    </tr>\n",
       "    <tr>\n",
       "      <th>mean</th>\n",
       "      <td>1.569094e+07</td>\n",
       "      <td>650.528800</td>\n",
       "      <td>38.921800</td>\n",
       "      <td>5.012800</td>\n",
       "      <td>76485.889288</td>\n",
       "      <td>1.530200</td>\n",
       "      <td>0.70550</td>\n",
       "      <td>0.515100</td>\n",
       "      <td>100090.239881</td>\n",
       "      <td>0.203700</td>\n",
       "    </tr>\n",
       "    <tr>\n",
       "      <th>std</th>\n",
       "      <td>7.193619e+04</td>\n",
       "      <td>96.653299</td>\n",
       "      <td>10.487806</td>\n",
       "      <td>2.892174</td>\n",
       "      <td>62397.405202</td>\n",
       "      <td>0.581654</td>\n",
       "      <td>0.45584</td>\n",
       "      <td>0.499797</td>\n",
       "      <td>57510.492818</td>\n",
       "      <td>0.402769</td>\n",
       "    </tr>\n",
       "    <tr>\n",
       "      <th>min</th>\n",
       "      <td>1.556570e+07</td>\n",
       "      <td>350.000000</td>\n",
       "      <td>18.000000</td>\n",
       "      <td>0.000000</td>\n",
       "      <td>0.000000</td>\n",
       "      <td>1.000000</td>\n",
       "      <td>0.00000</td>\n",
       "      <td>0.000000</td>\n",
       "      <td>11.580000</td>\n",
       "      <td>0.000000</td>\n",
       "    </tr>\n",
       "    <tr>\n",
       "      <th>25%</th>\n",
       "      <td>1.562853e+07</td>\n",
       "      <td>584.000000</td>\n",
       "      <td>32.000000</td>\n",
       "      <td>3.000000</td>\n",
       "      <td>0.000000</td>\n",
       "      <td>1.000000</td>\n",
       "      <td>0.00000</td>\n",
       "      <td>0.000000</td>\n",
       "      <td>51002.110000</td>\n",
       "      <td>0.000000</td>\n",
       "    </tr>\n",
       "    <tr>\n",
       "      <th>50%</th>\n",
       "      <td>1.569074e+07</td>\n",
       "      <td>652.000000</td>\n",
       "      <td>37.000000</td>\n",
       "      <td>5.000000</td>\n",
       "      <td>97198.540000</td>\n",
       "      <td>1.000000</td>\n",
       "      <td>1.00000</td>\n",
       "      <td>1.000000</td>\n",
       "      <td>100193.915000</td>\n",
       "      <td>0.000000</td>\n",
       "    </tr>\n",
       "    <tr>\n",
       "      <th>75%</th>\n",
       "      <td>1.575323e+07</td>\n",
       "      <td>718.000000</td>\n",
       "      <td>44.000000</td>\n",
       "      <td>7.000000</td>\n",
       "      <td>127644.240000</td>\n",
       "      <td>2.000000</td>\n",
       "      <td>1.00000</td>\n",
       "      <td>1.000000</td>\n",
       "      <td>149388.247500</td>\n",
       "      <td>0.000000</td>\n",
       "    </tr>\n",
       "    <tr>\n",
       "      <th>max</th>\n",
       "      <td>1.581569e+07</td>\n",
       "      <td>850.000000</td>\n",
       "      <td>92.000000</td>\n",
       "      <td>10.000000</td>\n",
       "      <td>250898.090000</td>\n",
       "      <td>4.000000</td>\n",
       "      <td>1.00000</td>\n",
       "      <td>1.000000</td>\n",
       "      <td>199992.480000</td>\n",
       "      <td>1.000000</td>\n",
       "    </tr>\n",
       "  </tbody>\n",
       "</table>\n",
       "</div>"
      ],
      "text/plain": [
       "        customer_id  credit_score           age        tenure        balance  \\\n",
       "count  1.000000e+04  10000.000000  10000.000000  10000.000000   10000.000000   \n",
       "mean   1.569094e+07    650.528800     38.921800      5.012800   76485.889288   \n",
       "std    7.193619e+04     96.653299     10.487806      2.892174   62397.405202   \n",
       "min    1.556570e+07    350.000000     18.000000      0.000000       0.000000   \n",
       "25%    1.562853e+07    584.000000     32.000000      3.000000       0.000000   \n",
       "50%    1.569074e+07    652.000000     37.000000      5.000000   97198.540000   \n",
       "75%    1.575323e+07    718.000000     44.000000      7.000000  127644.240000   \n",
       "max    1.581569e+07    850.000000     92.000000     10.000000  250898.090000   \n",
       "\n",
       "       products_number  credit_card  active_member  estimated_salary  \\\n",
       "count     10000.000000  10000.00000   10000.000000      10000.000000   \n",
       "mean          1.530200      0.70550       0.515100     100090.239881   \n",
       "std           0.581654      0.45584       0.499797      57510.492818   \n",
       "min           1.000000      0.00000       0.000000         11.580000   \n",
       "25%           1.000000      0.00000       0.000000      51002.110000   \n",
       "50%           1.000000      1.00000       1.000000     100193.915000   \n",
       "75%           2.000000      1.00000       1.000000     149388.247500   \n",
       "max           4.000000      1.00000       1.000000     199992.480000   \n",
       "\n",
       "              churn  \n",
       "count  10000.000000  \n",
       "mean       0.203700  \n",
       "std        0.402769  \n",
       "min        0.000000  \n",
       "25%        0.000000  \n",
       "50%        0.000000  \n",
       "75%        0.000000  \n",
       "max        1.000000  "
      ]
     },
     "execution_count": 3,
     "metadata": {},
     "output_type": "execute_result"
    }
   ],
   "source": [
    "df.describe()"
   ]
  },
  {
   "cell_type": "markdown",
   "id": "c5a2235f",
   "metadata": {},
   "source": [
    "# Split Data\n",
    "> <p style=\"font-size:16px\">Before we do ANYTHING, let's split our data!</p>\n",
    "> <p style=\"font-size:16px\">We don't want to find patterns in the data that may influence how we build our ML model.</p>"
   ]
  },
  {
   "cell_type": "code",
   "execution_count": 4,
   "id": "72bfbc58",
   "metadata": {},
   "outputs": [],
   "source": [
    "X = df.drop('churn', axis = 1)\n",
    "y = df['churn']\n",
    "\n",
    "X_train, X_test, y_train, y_test = train_test_split(X, y, train_size = .8)"
   ]
  },
  {
   "cell_type": "markdown",
   "id": "a57fd931",
   "metadata": {},
   "source": [
    "# Investigate Data"
   ]
  },
  {
   "cell_type": "code",
   "execution_count": 5,
   "id": "d382ed23",
   "metadata": {},
   "outputs": [
    {
     "data": {
      "text/html": [
       "<div>\n",
       "<style scoped>\n",
       "    .dataframe tbody tr th:only-of-type {\n",
       "        vertical-align: middle;\n",
       "    }\n",
       "\n",
       "    .dataframe tbody tr th {\n",
       "        vertical-align: top;\n",
       "    }\n",
       "\n",
       "    .dataframe thead th {\n",
       "        text-align: right;\n",
       "    }\n",
       "</style>\n",
       "<table border=\"1\" class=\"dataframe\">\n",
       "  <thead>\n",
       "    <tr style=\"text-align: right;\">\n",
       "      <th></th>\n",
       "      <th>customer_id</th>\n",
       "      <th>credit_score</th>\n",
       "      <th>country</th>\n",
       "      <th>gender</th>\n",
       "      <th>age</th>\n",
       "      <th>tenure</th>\n",
       "      <th>balance</th>\n",
       "      <th>products_number</th>\n",
       "      <th>credit_card</th>\n",
       "      <th>active_member</th>\n",
       "      <th>estimated_salary</th>\n",
       "      <th>churn</th>\n",
       "    </tr>\n",
       "  </thead>\n",
       "  <tbody>\n",
       "    <tr>\n",
       "      <th>6963</th>\n",
       "      <td>15595447</td>\n",
       "      <td>613</td>\n",
       "      <td>Spain</td>\n",
       "      <td>Male</td>\n",
       "      <td>39</td>\n",
       "      <td>8</td>\n",
       "      <td>118201.41</td>\n",
       "      <td>1</td>\n",
       "      <td>1</td>\n",
       "      <td>0</td>\n",
       "      <td>23315.59</td>\n",
       "      <td>0</td>\n",
       "    </tr>\n",
       "    <tr>\n",
       "      <th>9084</th>\n",
       "      <td>15593499</td>\n",
       "      <td>686</td>\n",
       "      <td>Spain</td>\n",
       "      <td>Female</td>\n",
       "      <td>47</td>\n",
       "      <td>6</td>\n",
       "      <td>0.00</td>\n",
       "      <td>1</td>\n",
       "      <td>1</td>\n",
       "      <td>0</td>\n",
       "      <td>32080.69</td>\n",
       "      <td>1</td>\n",
       "    </tr>\n",
       "    <tr>\n",
       "      <th>3396</th>\n",
       "      <td>15720354</td>\n",
       "      <td>581</td>\n",
       "      <td>France</td>\n",
       "      <td>Male</td>\n",
       "      <td>71</td>\n",
       "      <td>4</td>\n",
       "      <td>0.00</td>\n",
       "      <td>2</td>\n",
       "      <td>1</td>\n",
       "      <td>1</td>\n",
       "      <td>197562.08</td>\n",
       "      <td>0</td>\n",
       "    </tr>\n",
       "    <tr>\n",
       "      <th>1216</th>\n",
       "      <td>15682528</td>\n",
       "      <td>572</td>\n",
       "      <td>France</td>\n",
       "      <td>Male</td>\n",
       "      <td>33</td>\n",
       "      <td>5</td>\n",
       "      <td>0.00</td>\n",
       "      <td>1</td>\n",
       "      <td>0</td>\n",
       "      <td>1</td>\n",
       "      <td>41139.05</td>\n",
       "      <td>0</td>\n",
       "    </tr>\n",
       "    <tr>\n",
       "      <th>2545</th>\n",
       "      <td>15687130</td>\n",
       "      <td>686</td>\n",
       "      <td>France</td>\n",
       "      <td>Female</td>\n",
       "      <td>43</td>\n",
       "      <td>0</td>\n",
       "      <td>0.00</td>\n",
       "      <td>1</td>\n",
       "      <td>1</td>\n",
       "      <td>1</td>\n",
       "      <td>170072.90</td>\n",
       "      <td>0</td>\n",
       "    </tr>\n",
       "  </tbody>\n",
       "</table>\n",
       "</div>"
      ],
      "text/plain": [
       "      customer_id  credit_score country  gender  age  tenure    balance  \\\n",
       "6963     15595447           613   Spain    Male   39       8  118201.41   \n",
       "9084     15593499           686   Spain  Female   47       6       0.00   \n",
       "3396     15720354           581  France    Male   71       4       0.00   \n",
       "1216     15682528           572  France    Male   33       5       0.00   \n",
       "2545     15687130           686  France  Female   43       0       0.00   \n",
       "\n",
       "      products_number  credit_card  active_member  estimated_salary  churn  \n",
       "6963                1            1              0          23315.59      0  \n",
       "9084                1            1              0          32080.69      1  \n",
       "3396                2            1              1         197562.08      0  \n",
       "1216                1            0              1          41139.05      0  \n",
       "2545                1            1              1         170072.90      0  "
      ]
     },
     "execution_count": 5,
     "metadata": {},
     "output_type": "execute_result"
    }
   ],
   "source": [
    "df = pd.merge(X_train, y_train, left_index = True, right_index = True, how = 'inner')\n",
    "df.head()"
   ]
  },
  {
   "cell_type": "code",
   "execution_count": 6,
   "id": "06bc0e64",
   "metadata": {},
   "outputs": [
    {
     "data": {
      "text/html": [
       "<div>\n",
       "<style scoped>\n",
       "    .dataframe tbody tr th:only-of-type {\n",
       "        vertical-align: middle;\n",
       "    }\n",
       "\n",
       "    .dataframe tbody tr th {\n",
       "        vertical-align: top;\n",
       "    }\n",
       "\n",
       "    .dataframe thead th {\n",
       "        text-align: right;\n",
       "    }\n",
       "</style>\n",
       "<table border=\"1\" class=\"dataframe\">\n",
       "  <thead>\n",
       "    <tr style=\"text-align: right;\">\n",
       "      <th></th>\n",
       "      <th>customer_id</th>\n",
       "      <th>credit_score</th>\n",
       "      <th>age</th>\n",
       "      <th>tenure</th>\n",
       "      <th>balance</th>\n",
       "      <th>products_number</th>\n",
       "      <th>credit_card</th>\n",
       "      <th>active_member</th>\n",
       "      <th>estimated_salary</th>\n",
       "    </tr>\n",
       "    <tr>\n",
       "      <th>churn</th>\n",
       "      <th></th>\n",
       "      <th></th>\n",
       "      <th></th>\n",
       "      <th></th>\n",
       "      <th></th>\n",
       "      <th></th>\n",
       "      <th></th>\n",
       "      <th></th>\n",
       "      <th></th>\n",
       "    </tr>\n",
       "  </thead>\n",
       "  <tbody>\n",
       "    <tr>\n",
       "      <th>0</th>\n",
       "      <td>1.569184e+07</td>\n",
       "      <td>651.758599</td>\n",
       "      <td>37.449031</td>\n",
       "      <td>5.042839</td>\n",
       "      <td>73140.886621</td>\n",
       "      <td>1.541276</td>\n",
       "      <td>0.706535</td>\n",
       "      <td>0.553784</td>\n",
       "      <td>99798.907076</td>\n",
       "    </tr>\n",
       "    <tr>\n",
       "      <th>1</th>\n",
       "      <td>1.568917e+07</td>\n",
       "      <td>644.447631</td>\n",
       "      <td>44.849751</td>\n",
       "      <td>4.904613</td>\n",
       "      <td>92442.084458</td>\n",
       "      <td>1.481920</td>\n",
       "      <td>0.693890</td>\n",
       "      <td>0.362219</td>\n",
       "      <td>101337.880867</td>\n",
       "    </tr>\n",
       "  </tbody>\n",
       "</table>\n",
       "</div>"
      ],
      "text/plain": [
       "        customer_id  credit_score        age    tenure       balance  \\\n",
       "churn                                                                  \n",
       "0      1.569184e+07    651.758599  37.449031  5.042839  73140.886621   \n",
       "1      1.568917e+07    644.447631  44.849751  4.904613  92442.084458   \n",
       "\n",
       "       products_number  credit_card  active_member  estimated_salary  \n",
       "churn                                                                 \n",
       "0             1.541276     0.706535       0.553784      99798.907076  \n",
       "1             1.481920     0.693890       0.362219     101337.880867  "
      ]
     },
     "execution_count": 6,
     "metadata": {},
     "output_type": "execute_result"
    }
   ],
   "source": [
    "df.groupby('churn').mean(numeric_only = True)"
   ]
  },
  {
   "cell_type": "markdown",
   "id": "a486f0ac",
   "metadata": {},
   "source": [
    "# Continuous Variable Exploration"
   ]
  },
  {
   "cell_type": "code",
   "execution_count": 7,
   "id": "15df6c93",
   "metadata": {},
   "outputs": [
    {
     "data": {
      "image/png": "[encoded data removed]",
      "text/plain": [
       "<Figure size 600x400 with 1 Axes>"
      ]
     },
     "metadata": {},
     "output_type": "display_data"
    }
   ],
   "source": [
    "plt.figure(figsize = (6,4))\n",
    "sns.violinplot(data = df, x = 'churn', y = 'estimated_salary')\n",
    "plt.title(\"Dist. of Estimated Salary\")\n",
    "plt.show()"
   ]
  },
  {
   "cell_type": "markdown",
   "id": "6fb844ae",
   "metadata": {},
   "source": [
    "><p style=\"font-size:18px;color:DodgerBlue\">There doesn't seem to be any difference in estimated salaries between customers who curn.</p>"
   ]
  },
  {
   "cell_type": "code",
   "execution_count": 8,
   "id": "9d6f2147",
   "metadata": {},
   "outputs": [
    {
     "data": {
      "image/png": "[encoded data removed]",
      "text/plain": [
       "<Figure size 600x400 with 1 Axes>"
      ]
     },
     "metadata": {},
     "output_type": "display_data"
    }
   ],
   "source": [
    "plt.figure(figsize = (6,4))\n",
    "sns.boxplot(data = df, x = 'churn', y = 'balance')\n",
    "plt.title(\"Dist. of Total Balance\")\n",
    "plt.show()"
   ]
  },
  {
   "cell_type": "markdown",
   "id": "a09fdb08",
   "metadata": {},
   "source": [
    "><p style=\"font-size:17px;color:DodgerBlue\">Customers who churn have a higher median balance than customers who don't churn</p>"
   ]
  },
  {
   "cell_type": "markdown",
   "id": "7245265d",
   "metadata": {},
   "source": [
    "# Discrete Variable Exploration"
   ]
  },
  {
   "cell_type": "code",
   "execution_count": 9,
   "id": "e6316fff",
   "metadata": {},
   "outputs": [
    {
     "data": {
      "image/png": "[encoded data removed]",
      "text/plain": [
       "<Figure size 600x400 with 1 Axes>"
      ]
     },
     "metadata": {},
     "output_type": "display_data"
    }
   ],
   "source": [
    "plt.figure(figsize = (6,4))\n",
    "sns.boxenplot(data = df, x = 'churn', y = 'credit_score')\n",
    "plt.title(\"Dist. of Credit Score\")\n",
    "plt.show()"
   ]
  },
  {
   "cell_type": "markdown",
   "id": "e36fdfb4",
   "metadata": {},
   "source": [
    "><p style=\"font-size:18px;color:DodgerBlue\">Customers who churn tend to have lower median credit scores.</p>"
   ]
  },
  {
   "cell_type": "code",
   "execution_count": 10,
   "id": "b5f67b3b",
   "metadata": {},
   "outputs": [
    {
     "data": {
      "image/png": "[encoded data removed]",
      "text/plain": [
       "<Figure size 600x400 with 1 Axes>"
      ]
     },
     "metadata": {},
     "output_type": "display_data"
    }
   ],
   "source": [
    "plt.figure(figsize = (6,4))\n",
    "sns.boxplot(data = df, x = 'churn', y = 'age')\n",
    "plt.title('Dist. of Age by Customer Churn')\n",
    "plt.show()"
   ]
  },
  {
   "cell_type": "markdown",
   "id": "ca08e36e",
   "metadata": {},
   "source": [
    "><p style=\"font-size:18px;color:DodgerBlue\">Customers who churn have a higher median age.</p>"
   ]
  },
  {
   "cell_type": "code",
   "execution_count": 11,
   "id": "c7a6918c",
   "metadata": {},
   "outputs": [
    {
     "data": {
      "image/png": "[encoded data removed]",
      "text/plain": [
       "<Figure size 800x500 with 1 Axes>"
      ]
     },
     "metadata": {},
     "output_type": "display_data"
    }
   ],
   "source": [
    "plt.figure(figsize = (8,5))\n",
    "sns.countplot(data = df, x = 'products_number', hue = 'churn')\n",
    "plt.title(\"Number of Products split by Customer Churn\")\n",
    "plt.show()"
   ]
  },
  {
   "cell_type": "markdown",
   "id": "370fec13",
   "metadata": {},
   "source": [
    "><p style=\"font-size:18px;color:DodgerBlue\">\n",
    "    Customers who have 3 or more products are disproportionately more likely to churn\n",
    "</p>"
   ]
  },
  {
   "cell_type": "code",
   "execution_count": 12,
   "id": "d7b6f18c",
   "metadata": {},
   "outputs": [
    {
     "data": {
      "image/png": "[encoded data removed]",
      "text/plain": [
       "<Figure size 800x500 with 1 Axes>"
      ]
     },
     "metadata": {},
     "output_type": "display_data"
    }
   ],
   "source": [
    "plt.figure(figsize = (8,5))\n",
    "sns.countplot(data = df, x = 'tenure', hue = 'churn')\n",
    "plt.title('Tenure split by Customer Churn')\n",
    "plt.show()"
   ]
  },
  {
   "cell_type": "markdown",
   "id": "72dff480",
   "metadata": {},
   "source": [
    "><p style=\"font-size:18px;color:DodgerBlue\">\n",
    "    There doesn't seem to be any significant difference in customer tenure between those who churn and those who don't churn.\n",
    "</p>"
   ]
  },
  {
   "cell_type": "code",
   "execution_count": 13,
   "id": "0d70c817",
   "metadata": {},
   "outputs": [
    {
     "data": {
      "image/png": "[encoded data removed]",
      "text/plain": [
       "<Figure size 600x400 with 1 Axes>"
      ]
     },
     "metadata": {},
     "output_type": "display_data"
    }
   ],
   "source": [
    "plt.figure(figsize = (6,4))\n",
    "sns.countplot(data = df, x = 'active_member', hue = 'churn')\n",
    "plt.title(\"Active Member split by Customer Churn\")\n",
    "plt.show()"
   ]
  },
  {
   "cell_type": "markdown",
   "id": "b3aa2f65",
   "metadata": {},
   "source": [
    "><p style=\"font-size:18px;color:DodgerBlue\">\n",
    "    Active members are much less likely to churn!\n",
    "</p>"
   ]
  },
  {
   "cell_type": "code",
   "execution_count": 14,
   "id": "48ebe23b",
   "metadata": {},
   "outputs": [
    {
     "data": {
      "image/png": "[encoded data removed]",
      "text/plain": [
       "<Figure size 600x400 with 1 Axes>"
      ]
     },
     "metadata": {},
     "output_type": "display_data"
    }
   ],
   "source": [
    "plt.figure(figsize = (6,4))\n",
    "sns.countplot(data = df, x = 'gender', hue = 'churn')\n",
    "plt.title(\"Active Member split by Customer Churn\")\n",
    "plt.show()"
   ]
  },
  {
   "cell_type": "markdown",
   "id": "4ec785e3",
   "metadata": {},
   "source": [
    "><p style=\"font-size:18px;color:DodgerBlue\">\n",
    "    Females are more likely than males to churn!\n",
    "</p>"
   ]
  },
  {
   "cell_type": "markdown",
   "id": "e447c175",
   "metadata": {},
   "source": [
    "# Feature Selection"
   ]
  },
  {
   "cell_type": "markdown",
   "id": "5b9e0b36",
   "metadata": {},
   "source": [
    "<p style=\"font-size:15px\">\n",
    "    Based on the above EDA, it is time to select which variables should be used in our ML model!\n",
    "</p>\n",
    "\n",
    "<h3>\n",
    "    Features we're using\n",
    "</h3>\n",
    "\n",
    "> 1. Credit Score\n",
    "> 2. Age\n",
    "> 3. Balance\n",
    "> 4. Products Number\n",
    "> 5. Active Member\n",
    "> 6. Gender"
   ]
  },
  {
   "cell_type": "markdown",
   "id": "40141435",
   "metadata": {},
   "source": [
    "# Modeling"
   ]
  },
  {
   "cell_type": "markdown",
   "id": "8e0241e5",
   "metadata": {},
   "source": [
    "<p style=\"font-size: 16px\">We've already split our data above, so let's get right into building our model!</p>"
   ]
  },
  {
   "cell_type": "code",
   "execution_count": 15,
   "id": "7be11559",
   "metadata": {},
   "outputs": [],
   "source": [
    "# preparing data for machine learning algorithm\n",
    "\n",
    "features = ['credit_score', 'gender', 'age', 'tenure', 'products_number', 'active_member']\n",
    "X_train = X_train[features].copy()\n",
    "X_test = X_test[features].copy()\n",
    "\n",
    "\n",
    "X_train.gender.replace({'Female': 0, 'Male': 1}, inplace = True)\n",
    "X_test.gender.replace({'Female': 0, 'Male': 1}, inplace = True)"
   ]
  },
  {
   "cell_type": "markdown",
   "id": "ab5734bd",
   "metadata": {},
   "source": [
    "# Train Models"
   ]
  },
  {
   "cell_type": "code",
   "execution_count": 16,
   "id": "02022bfc",
   "metadata": {},
   "outputs": [
    {
     "data": {
      "text/plain": [
       "RandomForestClassifier(max_depth=9, random_state=42)"
      ]
     },
     "execution_count": 16,
     "metadata": {},
     "output_type": "execute_result"
    }
   ],
   "source": [
    "rf = RandomForestClassifier(max_depth = 9, random_state = 42)\n",
    "rf.fit(X_train, y_train)"
   ]
  },
  {
   "cell_type": "code",
   "execution_count": 17,
   "id": "3c8366df",
   "metadata": {},
   "outputs": [
    {
     "data": {
      "text/plain": [
       "XGBClassifier(base_score=None, booster=None, callbacks=None,\n",
       "              colsample_bylevel=None, colsample_bynode=None,\n",
       "              colsample_bytree=None, early_stopping_rounds=None,\n",
       "              enable_categorical=False, eval_metric=None, feature_types=None,\n",
       "              gamma=None, gpu_id=None, grow_policy=None, importance_type=None,\n",
       "              interaction_constraints=None, learning_rate=None, max_bin=None,\n",
       "              max_cat_threshold=None, max_cat_to_onehot=None,\n",
       "              max_delta_step=None, max_depth=9, max_leaves=None,\n",
       "              min_child_weight=None, missing=nan, monotone_constraints=None,\n",
       "              n_estimators=100, n_jobs=None, num_parallel_tree=None,\n",
       "              predictor=None, random_state=None, ...)"
      ]
     },
     "execution_count": 17,
     "metadata": {},
     "output_type": "execute_result"
    }
   ],
   "source": [
    "xgb = XGBClassifier(n_estimators = 100, max_depth = 9)\n",
    "xgb.fit(X_train, y_train)"
   ]
  },
  {
   "cell_type": "markdown",
   "id": "fac212b5",
   "metadata": {},
   "source": [
    "# Evaluate Models "
   ]
  },
  {
   "cell_type": "code",
   "execution_count": 18,
   "id": "5244a9a6",
   "metadata": {
    "scrolled": false
   },
   "outputs": [],
   "source": [
    "df_test = pd.merge(X_test[features], y_test, left_index = True, right_index = True, how = 'inner')\n",
    "df_test['RandForestPred'] = rf.predict(X_test[features])\n",
    "df_test['XgbPred'] = xgb.predict(X_test[features])"
   ]
  },
  {
   "cell_type": "code",
   "execution_count": 19,
   "id": "c2c234f1",
   "metadata": {},
   "outputs": [
    {
     "data": {
      "text/html": [
       "<div>\n",
       "<style scoped>\n",
       "    .dataframe tbody tr th:only-of-type {\n",
       "        vertical-align: middle;\n",
       "    }\n",
       "\n",
       "    .dataframe tbody tr th {\n",
       "        vertical-align: top;\n",
       "    }\n",
       "\n",
       "    .dataframe thead th {\n",
       "        text-align: right;\n",
       "    }\n",
       "</style>\n",
       "<table border=\"1\" class=\"dataframe\">\n",
       "  <thead>\n",
       "    <tr style=\"text-align: right;\">\n",
       "      <th></th>\n",
       "      <th>Accuracy</th>\n",
       "      <th>Precision</th>\n",
       "      <th>Recall</th>\n",
       "    </tr>\n",
       "  </thead>\n",
       "  <tbody>\n",
       "    <tr>\n",
       "      <th>Random Forest</th>\n",
       "      <td>0.848</td>\n",
       "      <td>0.827411</td>\n",
       "      <td>0.376443</td>\n",
       "    </tr>\n",
       "    <tr>\n",
       "      <th>XGBoost Forest</th>\n",
       "      <td>0.828</td>\n",
       "      <td>0.666667</td>\n",
       "      <td>0.411085</td>\n",
       "    </tr>\n",
       "  </tbody>\n",
       "</table>\n",
       "</div>"
      ],
      "text/plain": [
       "                Accuracy  Precision    Recall\n",
       "Random Forest      0.848   0.827411  0.376443\n",
       "XGBoost Forest     0.828   0.666667  0.411085"
      ]
     },
     "execution_count": 19,
     "metadata": {},
     "output_type": "execute_result"
    }
   ],
   "source": [
    "rf_accuracy = accuracy_score(df_test.churn, df_test.RandForestPred)\n",
    "rf_precision = precision_score(df_test.churn, df_test.RandForestPred)\n",
    "rf_recall = recall_score(df_test.churn, df_test.RandForestPred)\n",
    "\n",
    "xgb_accuracy = accuracy_score(df_test.churn, df_test.XgbPred)\n",
    "xgb_precision = precision_score(df_test.churn, df_test.XgbPred)\n",
    "xgb_recall = recall_score(df_test.churn, df_test.XgbPred)\n",
    "\n",
    "\n",
    "pd.DataFrame(data = [[rf_accuracy, rf_precision, rf_recall], [xgb_accuracy, xgb_precision, xgb_recall]],\n",
    "             index = ['Random Forest', 'XGBoost Forest'],\n",
    "             columns = ['Accuracy', 'Precision', 'Recall'])"
   ]
  },
  {
   "cell_type": "markdown",
   "id": "ef822e22",
   "metadata": {},
   "source": [
    "><p style=\"font-size:18px;color:DodgerBlue\">The Random Forest Classifier seems to be the more promising model, let's work on tuning its hyperparameters!</p>"
   ]
  },
  {
   "cell_type": "markdown",
   "id": "690f3e96",
   "metadata": {},
   "source": [
    "# GridSearchCV"
   ]
  },
  {
   "cell_type": "code",
   "execution_count": 20,
   "id": "0f5ba333",
   "metadata": {},
   "outputs": [],
   "source": [
    "param_grid = {\n",
    "    'n_estimators': [100, 200, 300],\n",
    "    'max_depth': [5, 7, 9, 11],\n",
    "    'min_samples_split': [2, 6, 10],\n",
    "}"
   ]
  },
  {
   "cell_type": "code",
   "execution_count": 21,
   "id": "24049073",
   "metadata": {},
   "outputs": [
    {
     "data": {
      "text/plain": [
       "GridSearchCV(cv=5,\n",
       "             estimator=RandomForestClassifier(max_depth=9, random_state=42),\n",
       "             param_grid={'max_depth': [5, 7, 9, 11],\n",
       "                         'min_samples_split': [2, 6, 10],\n",
       "                         'n_estimators': [100, 200, 300]},\n",
       "             scoring='accuracy')"
      ]
     },
     "execution_count": 21,
     "metadata": {},
     "output_type": "execute_result"
    }
   ],
   "source": [
    "rf_grid = GridSearchCV(rf, param_grid = param_grid, cv = 5, scoring = 'accuracy')\n",
    "rf_grid.fit(X_train, y_train)"
   ]
  },
  {
   "cell_type": "code",
   "execution_count": 22,
   "id": "e5ff3df4",
   "metadata": {},
   "outputs": [
    {
     "name": "stdout",
     "output_type": "stream",
     "text": [
      "0.85725 {'max_depth': 5, 'min_samples_split': 2, 'n_estimators': 100}\n",
      "0.8577499999999999 {'max_depth': 5, 'min_samples_split': 2, 'n_estimators': 200}\n",
      "0.858 {'max_depth': 5, 'min_samples_split': 2, 'n_estimators': 300}\n",
      "0.857 {'max_depth': 5, 'min_samples_split': 6, 'n_estimators': 100}\n",
      "0.857625 {'max_depth': 5, 'min_samples_split': 6, 'n_estimators': 200}\n",
      "0.8578749999999999 {'max_depth': 5, 'min_samples_split': 6, 'n_estimators': 300}\n",
      "0.857625 {'max_depth': 5, 'min_samples_split': 10, 'n_estimators': 100}\n",
      "0.85725 {'max_depth': 5, 'min_samples_split': 10, 'n_estimators': 200}\n",
      "0.85825 {'max_depth': 5, 'min_samples_split': 10, 'n_estimators': 300}\n",
      "0.85875 {'max_depth': 7, 'min_samples_split': 2, 'n_estimators': 100}\n",
      "0.858875 {'max_depth': 7, 'min_samples_split': 2, 'n_estimators': 200}\n",
      "0.85925 {'max_depth': 7, 'min_samples_split': 2, 'n_estimators': 300}\n",
      "0.858625 {'max_depth': 7, 'min_samples_split': 6, 'n_estimators': 100}\n",
      "0.859125 {'max_depth': 7, 'min_samples_split': 6, 'n_estimators': 200}\n",
      "0.8594999999999999 {'max_depth': 7, 'min_samples_split': 6, 'n_estimators': 300}\n",
      "0.85875 {'max_depth': 7, 'min_samples_split': 10, 'n_estimators': 100}\n",
      "0.859375 {'max_depth': 7, 'min_samples_split': 10, 'n_estimators': 200}\n",
      "0.858625 {'max_depth': 7, 'min_samples_split': 10, 'n_estimators': 300}\n",
      "0.858375 {'max_depth': 9, 'min_samples_split': 2, 'n_estimators': 100}\n",
      "0.85775 {'max_depth': 9, 'min_samples_split': 2, 'n_estimators': 200}\n",
      "0.859125 {'max_depth': 9, 'min_samples_split': 2, 'n_estimators': 300}\n",
      "0.8584999999999999 {'max_depth': 9, 'min_samples_split': 6, 'n_estimators': 100}\n",
      "0.8588749999999999 {'max_depth': 9, 'min_samples_split': 6, 'n_estimators': 200}\n",
      "0.8584999999999999 {'max_depth': 9, 'min_samples_split': 6, 'n_estimators': 300}\n",
      "0.858 {'max_depth': 9, 'min_samples_split': 10, 'n_estimators': 100}\n",
      "0.85875 {'max_depth': 9, 'min_samples_split': 10, 'n_estimators': 200}\n",
      "0.8588749999999999 {'max_depth': 9, 'min_samples_split': 10, 'n_estimators': 300}\n",
      "0.8567499999999999 {'max_depth': 11, 'min_samples_split': 2, 'n_estimators': 100}\n",
      "0.857375 {'max_depth': 11, 'min_samples_split': 2, 'n_estimators': 200}\n",
      "0.8571250000000001 {'max_depth': 11, 'min_samples_split': 2, 'n_estimators': 300}\n",
      "0.8567499999999999 {'max_depth': 11, 'min_samples_split': 6, 'n_estimators': 100}\n",
      "0.8577499999999999 {'max_depth': 11, 'min_samples_split': 6, 'n_estimators': 200}\n",
      "0.8577499999999999 {'max_depth': 11, 'min_samples_split': 6, 'n_estimators': 300}\n",
      "0.8574999999999999 {'max_depth': 11, 'min_samples_split': 10, 'n_estimators': 100}\n",
      "0.857 {'max_depth': 11, 'min_samples_split': 10, 'n_estimators': 200}\n",
      "0.85775 {'max_depth': 11, 'min_samples_split': 10, 'n_estimators': 300}\n"
     ]
    }
   ],
   "source": [
    "cvres = rf_grid.cv_results_\n",
    "\n",
    "for mean_score, params in zip(cvres['mean_test_score'], cvres['params']):\n",
    "    print(mean_score, params)"
   ]
  },
  {
   "cell_type": "code",
   "execution_count": 23,
   "id": "e866d5f5",
   "metadata": {},
   "outputs": [
    {
     "data": {
      "text/plain": [
       "RandomForestClassifier(max_depth=7, min_samples_split=6, n_estimators=300,\n",
       "                       random_state=42)"
      ]
     },
     "execution_count": 23,
     "metadata": {},
     "output_type": "execute_result"
    }
   ],
   "source": [
    "final_rf = rf_grid.best_estimator_\n",
    "final_rf.fit(X_train, y_train)"
   ]
  },
  {
   "cell_type": "code",
   "execution_count": 24,
   "id": "4d783ddd",
   "metadata": {},
   "outputs": [
    {
     "data": {
      "text/html": [
       "<div>\n",
       "<style scoped>\n",
       "    .dataframe tbody tr th:only-of-type {\n",
       "        vertical-align: middle;\n",
       "    }\n",
       "\n",
       "    .dataframe tbody tr th {\n",
       "        vertical-align: top;\n",
       "    }\n",
       "\n",
       "    .dataframe thead th {\n",
       "        text-align: right;\n",
       "    }\n",
       "</style>\n",
       "<table border=\"1\" class=\"dataframe\">\n",
       "  <thead>\n",
       "    <tr style=\"text-align: right;\">\n",
       "      <th></th>\n",
       "      <th>Accuracy</th>\n",
       "      <th>Precision</th>\n",
       "      <th>Recall</th>\n",
       "    </tr>\n",
       "  </thead>\n",
       "  <tbody>\n",
       "    <tr>\n",
       "      <th>Final Results</th>\n",
       "      <td>0.8505</td>\n",
       "      <td>0.848958</td>\n",
       "      <td>0.376443</td>\n",
       "    </tr>\n",
       "  </tbody>\n",
       "</table>\n",
       "</div>"
      ],
      "text/plain": [
       "               Accuracy  Precision    Recall\n",
       "Final Results    0.8505   0.848958  0.376443"
      ]
     },
     "execution_count": 24,
     "metadata": {},
     "output_type": "execute_result"
    }
   ],
   "source": [
    "df_test['FinalPred'] = final_rf.predict(X_test[features])\n",
    "\n",
    "final_accuracy = accuracy_score(df_test.churn, df_test.FinalPred)\n",
    "final_precision = precision_score(df_test.churn, df_test.FinalPred)\n",
    "final_recall = recall_score(df_test.churn, df_test.FinalPred)\n",
    "\n",
    "pd.DataFrame(data = [[final_accuracy, final_precision, final_recall]],\n",
    "             index = ['Final Results'],\n",
    "             columns = ['Accuracy', 'Precision', 'Recall'])"
   ]
  }
 ],
 "metadata": {
  "kernelspec": {
   "display_name": "Python 3 (ipykernel)",
   "language": "python",
   "name": "python3"
  },
  "language_info": {
   "codemirror_mode": {
    "name": "ipython",
    "version": 3
   },
   "file_extension": ".py",
   "mimetype": "text/x-python",
   "name": "python",
   "nbconvert_exporter": "python",
   "pygments_lexer": "ipython3",
   "version": "3.9.13"
  }
 },
 "nbformat": 4,
 "nbformat_minor": 5
}
