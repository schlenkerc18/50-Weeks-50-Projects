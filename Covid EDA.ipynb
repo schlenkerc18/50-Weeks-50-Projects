{
 "cells": [
  {
   "cell_type": "code",
   "execution_count": 30,
   "metadata": {},
   "outputs": [],
   "source": [
    "import numpy as np\n",
    "import pandas as pd\n",
    "import copy, math\n",
    "\n",
    "import matplotlib.pyplot as plt\n",
    "import seaborn as sns"
   ]
  },
  {
   "cell_type": "code",
   "execution_count": 31,
   "metadata": {},
   "outputs": [],
   "source": [
    "# df = pd.read_csv('./data/COVID-19_Case_Surveillance_Public_Use_Data.csv')\n",
    "\n",
    "# size = 10000\n",
    "# sample = df.sample(n = size, replace = True)\n",
    "# sample.reset_index(drop = True, inplace = True)\n",
    "# sample.to_csv('./data/sample_covid_data.csv')\n",
    "\n",
    "sample = pd.read_csv('./data/sample_covid_data.csv')"
   ]
  },
  {
   "cell_type": "code",
   "execution_count": 32,
   "metadata": {},
   "outputs": [
    {
     "data": {
      "text/html": [
       "<div>\n",
       "<style scoped>\n",
       "    .dataframe tbody tr th:only-of-type {\n",
       "        vertical-align: middle;\n",
       "    }\n",
       "\n",
       "    .dataframe tbody tr th {\n",
       "        vertical-align: top;\n",
       "    }\n",
       "\n",
       "    .dataframe thead th {\n",
       "        text-align: right;\n",
       "    }\n",
       "</style>\n",
       "<table border=\"1\" class=\"dataframe\">\n",
       "  <thead>\n",
       "    <tr style=\"text-align: right;\">\n",
       "      <th></th>\n",
       "      <th>cdc_case_earliest_dt</th>\n",
       "      <th>cdc_report_dt</th>\n",
       "      <th>pos_spec_dt</th>\n",
       "      <th>onset_dt</th>\n",
       "      <th>current_status</th>\n",
       "      <th>sex</th>\n",
       "      <th>age_group</th>\n",
       "      <th>race_ethnicity_combined</th>\n",
       "      <th>hosp_yn</th>\n",
       "      <th>icu_yn</th>\n",
       "      <th>death_yn</th>\n",
       "      <th>medcond_yn</th>\n",
       "    </tr>\n",
       "  </thead>\n",
       "  <tbody>\n",
       "    <tr>\n",
       "      <th>0</th>\n",
       "      <td>2022/11/27</td>\n",
       "      <td>2022/11/28</td>\n",
       "      <td>2022/11/27</td>\n",
       "      <td>NaN</td>\n",
       "      <td>Laboratory-confirmed case</td>\n",
       "      <td>Female</td>\n",
       "      <td>20 - 29 Years</td>\n",
       "      <td>Unknown</td>\n",
       "      <td>No</td>\n",
       "      <td>Missing</td>\n",
       "      <td>No</td>\n",
       "      <td>Missing</td>\n",
       "    </tr>\n",
       "    <tr>\n",
       "      <th>1</th>\n",
       "      <td>2022/02/01</td>\n",
       "      <td>2022/02/03</td>\n",
       "      <td>2022/02/01</td>\n",
       "      <td>NaN</td>\n",
       "      <td>Laboratory-confirmed case</td>\n",
       "      <td>Female</td>\n",
       "      <td>40 - 49 Years</td>\n",
       "      <td>White, Non-Hispanic</td>\n",
       "      <td>No</td>\n",
       "      <td>Missing</td>\n",
       "      <td>No</td>\n",
       "      <td>Missing</td>\n",
       "    </tr>\n",
       "    <tr>\n",
       "      <th>2</th>\n",
       "      <td>2022/07/21</td>\n",
       "      <td>2022/07/21</td>\n",
       "      <td>NaN</td>\n",
       "      <td>NaN</td>\n",
       "      <td>Probable Case</td>\n",
       "      <td>Female</td>\n",
       "      <td>10 - 19 Years</td>\n",
       "      <td>White, Non-Hispanic</td>\n",
       "      <td>Unknown</td>\n",
       "      <td>Missing</td>\n",
       "      <td>Missing</td>\n",
       "      <td>Missing</td>\n",
       "    </tr>\n",
       "    <tr>\n",
       "      <th>3</th>\n",
       "      <td>2021/08/07</td>\n",
       "      <td>2022/01/13</td>\n",
       "      <td>NaN</td>\n",
       "      <td>NaN</td>\n",
       "      <td>Laboratory-confirmed case</td>\n",
       "      <td>Male</td>\n",
       "      <td>0 - 9 Years</td>\n",
       "      <td>Hispanic/Latino</td>\n",
       "      <td>Missing</td>\n",
       "      <td>Missing</td>\n",
       "      <td>Missing</td>\n",
       "      <td>Missing</td>\n",
       "    </tr>\n",
       "    <tr>\n",
       "      <th>4</th>\n",
       "      <td>2022/02/08</td>\n",
       "      <td>2022/02/22</td>\n",
       "      <td>2022/02/10</td>\n",
       "      <td>2022/02/08</td>\n",
       "      <td>Probable Case</td>\n",
       "      <td>Male</td>\n",
       "      <td>40 - 49 Years</td>\n",
       "      <td>White, Non-Hispanic</td>\n",
       "      <td>No</td>\n",
       "      <td>Missing</td>\n",
       "      <td>Unknown</td>\n",
       "      <td>No</td>\n",
       "    </tr>\n",
       "  </tbody>\n",
       "</table>\n",
       "</div>"
      ],
      "text/plain": [
       "  cdc_case_earliest_dt  cdc_report_dt pos_spec_dt    onset_dt  \\\n",
       "0            2022/11/27    2022/11/28  2022/11/27         NaN   \n",
       "1            2022/02/01    2022/02/03  2022/02/01         NaN   \n",
       "2            2022/07/21    2022/07/21         NaN         NaN   \n",
       "3            2021/08/07    2022/01/13         NaN         NaN   \n",
       "4            2022/02/08    2022/02/22  2022/02/10  2022/02/08   \n",
       "\n",
       "              current_status     sex      age_group race_ethnicity_combined  \\\n",
       "0  Laboratory-confirmed case  Female  20 - 29 Years                 Unknown   \n",
       "1  Laboratory-confirmed case  Female  40 - 49 Years     White, Non-Hispanic   \n",
       "2              Probable Case  Female  10 - 19 Years     White, Non-Hispanic   \n",
       "3  Laboratory-confirmed case    Male    0 - 9 Years         Hispanic/Latino   \n",
       "4              Probable Case    Male  40 - 49 Years     White, Non-Hispanic   \n",
       "\n",
       "   hosp_yn   icu_yn death_yn medcond_yn  \n",
       "0       No  Missing       No    Missing  \n",
       "1       No  Missing       No    Missing  \n",
       "2  Unknown  Missing  Missing    Missing  \n",
       "3  Missing  Missing  Missing    Missing  \n",
       "4       No  Missing  Unknown         No  "
      ]
     },
     "execution_count": 32,
     "metadata": {},
     "output_type": "execute_result"
    }
   ],
   "source": [
    "sample.drop(labels = ['Unnamed: 0'], axis = 1, inplace = True)\n",
    "sample.head()"
   ]
  },
  {
   "cell_type": "code",
   "execution_count": 33,
   "metadata": {},
   "outputs": [
    {
     "data": {
      "text/plain": [
       "Laboratory-confirmed case    8318\n",
       "Probable Case                1682\n",
       "Name: current_status, dtype: int64"
      ]
     },
     "execution_count": 33,
     "metadata": {},
     "output_type": "execute_result"
    }
   ],
   "source": [
    "sample.current_status.value_counts()"
   ]
  },
  {
   "cell_type": "code",
   "execution_count": 34,
   "metadata": {},
   "outputs": [
    {
     "data": {
      "text/plain": [
       "20 - 29 Years    1721\n",
       "30 - 39 Years    1634\n",
       "50 - 59 Years    1346\n",
       "40 - 49 Years    1336\n",
       "10 - 19 Years    1221\n",
       "60 - 69 Years     992\n",
       "0 - 9 Years       774\n",
       "70 - 79 Years     551\n",
       "80+ Years         344\n",
       "Missing            81\n",
       "Name: age_group, dtype: int64"
      ]
     },
     "execution_count": 34,
     "metadata": {},
     "output_type": "execute_result"
    }
   ],
   "source": [
    "sample.age_group.value_counts()"
   ]
  },
  {
   "cell_type": "code",
   "execution_count": 35,
   "metadata": {},
   "outputs": [],
   "source": [
    "sample.age_group = sample.age_group.replace({'20 - 29 Years': 25, '30 - 39 Years': 35, '40 - 49 Years': 45,\n",
    "                                             '50 - 59 Years': 55, '10 - 19 Years': 15, '60 - 69 Years': 65,\n",
    "                                             '70 - 79 Years': 75, '0 - 9 Years': 5, '80+ Years': 85, 'Missing': np.nan})"
   ]
  },
  {
   "cell_type": "code",
   "execution_count": 36,
   "metadata": {},
   "outputs": [
    {
     "data": {
      "text/plain": [
       "25.0    1721\n",
       "35.0    1634\n",
       "55.0    1346\n",
       "45.0    1336\n",
       "15.0    1221\n",
       "65.0     992\n",
       "5.0      774\n",
       "75.0     551\n",
       "85.0     344\n",
       "Name: age_group, dtype: int64"
      ]
     },
     "execution_count": 36,
     "metadata": {},
     "output_type": "execute_result"
    }
   ],
   "source": [
    "sample.age_group.value_counts()"
   ]
  },
  {
   "cell_type": "code",
   "execution_count": 37,
   "metadata": {},
   "outputs": [],
   "source": [
    "# drop missing people\n",
    "sample.dropna(axis = 0, subset = 'age_group', inplace=True)"
   ]
  },
  {
   "cell_type": "code",
   "execution_count": 38,
   "metadata": {},
   "outputs": [
    {
     "data": {
      "text/plain": [
       "Female     5266\n",
       "Male       4470\n",
       "Unknown     139\n",
       "Missing      44\n",
       "Name: sex, dtype: int64"
      ]
     },
     "execution_count": 38,
     "metadata": {},
     "output_type": "execute_result"
    }
   ],
   "source": [
    "sample.sex.value_counts()"
   ]
  },
  {
   "cell_type": "code",
   "execution_count": 39,
   "metadata": {},
   "outputs": [],
   "source": [
    "sample.medcond_yn.replace({'Missing': 0, 'Unknown': 0, 'No': 0, 'Yes': 1}, inplace = True)\n",
    "sample.death_yn.replace({'Missing': 0, 'Unknown': 0, 'No': 0, 'Yes': 1}, inplace = True)"
   ]
  },
  {
   "cell_type": "code",
   "execution_count": 40,
   "metadata": {},
   "outputs": [
    {
     "data": {
      "text/plain": [
       "0    9619\n",
       "1     300\n",
       "Name: medcond_yn, dtype: int64"
      ]
     },
     "execution_count": 40,
     "metadata": {},
     "output_type": "execute_result"
    }
   ],
   "source": [
    "sample.medcond_yn.value_counts()"
   ]
  },
  {
   "cell_type": "code",
   "execution_count": 41,
   "metadata": {},
   "outputs": [
    {
     "data": {
      "text/plain": [
       "0    9802\n",
       "1     117\n",
       "Name: death_yn, dtype: int64"
      ]
     },
     "execution_count": 41,
     "metadata": {},
     "output_type": "execute_result"
    }
   ],
   "source": [
    "sample.death_yn.value_counts()"
   ]
  },
  {
   "cell_type": "code",
   "execution_count": 42,
   "metadata": {},
   "outputs": [
    {
     "name": "stdout",
     "output_type": "stream",
     "text": [
      "9619\n",
      "300\n"
     ]
    }
   ],
   "source": [
    "no_medcond = sample[sample.medcond_yn == 0]\n",
    "yes_medcond = sample[sample.medcond_yn == 1]\n",
    "\n",
    "print(no_medcond.shape[0])\n",
    "print(yes_medcond.shape[0])"
   ]
  },
  {
   "cell_type": "code",
   "execution_count": 43,
   "metadata": {},
   "outputs": [
    {
     "data": {
      "text/html": [
       "<div>\n",
       "<style scoped>\n",
       "    .dataframe tbody tr th:only-of-type {\n",
       "        vertical-align: middle;\n",
       "    }\n",
       "\n",
       "    .dataframe tbody tr th {\n",
       "        vertical-align: top;\n",
       "    }\n",
       "\n",
       "    .dataframe thead th {\n",
       "        text-align: right;\n",
       "    }\n",
       "</style>\n",
       "<table border=\"1\" class=\"dataframe\">\n",
       "  <thead>\n",
       "    <tr style=\"text-align: right;\">\n",
       "      <th>death_yn</th>\n",
       "      <th>0</th>\n",
       "      <th>1</th>\n",
       "    </tr>\n",
       "    <tr>\n",
       "      <th>medcond_yn</th>\n",
       "      <th></th>\n",
       "      <th></th>\n",
       "    </tr>\n",
       "  </thead>\n",
       "  <tbody>\n",
       "    <tr>\n",
       "      <th>0</th>\n",
       "      <td>9518</td>\n",
       "      <td>101</td>\n",
       "    </tr>\n",
       "    <tr>\n",
       "      <th>1</th>\n",
       "      <td>284</td>\n",
       "      <td>16</td>\n",
       "    </tr>\n",
       "  </tbody>\n",
       "</table>\n",
       "</div>"
      ],
      "text/plain": [
       "death_yn       0    1\n",
       "medcond_yn           \n",
       "0           9518  101\n",
       "1            284   16"
      ]
     },
     "execution_count": 43,
     "metadata": {},
     "output_type": "execute_result"
    }
   ],
   "source": [
    "crosstab = pd.crosstab(index = sample.medcond_yn, columns = sample.death_yn)\n",
    "crosstab"
   ]
  },
  {
   "cell_type": "code",
   "execution_count": 44,
   "metadata": {},
   "outputs": [
    {
     "data": {
      "image/png": "[encoded data removed]",
      "text/plain": [
       "<Figure size 432x288 with 2 Axes>"
      ]
     },
     "metadata": {
      "needs_background": "light"
     },
     "output_type": "display_data"
    }
   ],
   "source": [
    "sns.heatmap(sample.corr(), annot = True)\n",
    "plt.show()"
   ]
  },
  {
   "cell_type": "code",
   "execution_count": 45,
   "metadata": {},
   "outputs": [
    {
     "data": {
      "image/png": "[encoded data removed]",
      "text/plain": [
       "<Figure size 432x288 with 1 Axes>"
      ]
     },
     "metadata": {
      "needs_background": "light"
     },
     "output_type": "display_data"
    }
   ],
   "source": [
    "crosstab.plot.bar()\n",
    "plt.show()"
   ]
  },
  {
   "cell_type": "code",
   "execution_count": 46,
   "metadata": {},
   "outputs": [
    {
     "data": {
      "text/html": [
       "<div>\n",
       "<style scoped>\n",
       "    .dataframe tbody tr th:only-of-type {\n",
       "        vertical-align: middle;\n",
       "    }\n",
       "\n",
       "    .dataframe tbody tr th {\n",
       "        vertical-align: top;\n",
       "    }\n",
       "\n",
       "    .dataframe thead th {\n",
       "        text-align: right;\n",
       "    }\n",
       "</style>\n",
       "<table border=\"1\" class=\"dataframe\">\n",
       "  <thead>\n",
       "    <tr style=\"text-align: right;\">\n",
       "      <th></th>\n",
       "      <th>death_yn</th>\n",
       "    </tr>\n",
       "    <tr>\n",
       "      <th>medcond_yn</th>\n",
       "      <th></th>\n",
       "    </tr>\n",
       "  </thead>\n",
       "  <tbody>\n",
       "    <tr>\n",
       "      <th>0</th>\n",
       "      <td>0.010500</td>\n",
       "    </tr>\n",
       "    <tr>\n",
       "      <th>1</th>\n",
       "      <td>0.053333</td>\n",
       "    </tr>\n",
       "  </tbody>\n",
       "</table>\n",
       "</div>"
      ],
      "text/plain": [
       "            death_yn\n",
       "medcond_yn          \n",
       "0           0.010500\n",
       "1           0.053333"
      ]
     },
     "execution_count": 46,
     "metadata": {},
     "output_type": "execute_result"
    }
   ],
   "source": [
    "grouped = sample.groupby('medcond_yn').aggregate({'death_yn': np.average})\n",
    "grouped"
   ]
  },
  {
   "cell_type": "code",
   "execution_count": 47,
   "metadata": {},
   "outputs": [
    {
     "data": {
      "text/plain": [
       "array([False,  True])"
      ]
     },
     "execution_count": 47,
     "metadata": {},
     "output_type": "execute_result"
    }
   ],
   "source": [
    "grouped.index == 1"
   ]
  },
  {
   "cell_type": "code",
   "execution_count": 50,
   "metadata": {},
   "outputs": [
    {
     "name": "stdout",
     "output_type": "stream",
     "text": [
      "4.2833\n"
     ]
    }
   ],
   "source": [
    "medcond_death_rate = grouped.loc[grouped.index == 1, 'death_yn'] * 100\n",
    "no_medcond_death_rate = grouped.loc[grouped.index == 0, 'death_yn'] * 100\n",
    "actual_diff = medcond_death_rate.iloc[0] - no_medcond_death_rate.iloc[0]\n",
    "print(actual_diff.round(4))"
   ]
  },
  {
   "cell_type": "code",
   "execution_count": 51,
   "metadata": {},
   "outputs": [
    {
     "data": {
      "text/html": [
       "<div>\n",
       "<style scoped>\n",
       "    .dataframe tbody tr th:only-of-type {\n",
       "        vertical-align: middle;\n",
       "    }\n",
       "\n",
       "    .dataframe tbody tr th {\n",
       "        vertical-align: top;\n",
       "    }\n",
       "\n",
       "    .dataframe thead th {\n",
       "        text-align: right;\n",
       "    }\n",
       "</style>\n",
       "<table border=\"1\" class=\"dataframe\">\n",
       "  <thead>\n",
       "    <tr style=\"text-align: right;\">\n",
       "      <th></th>\n",
       "      <th>death_yn</th>\n",
       "    </tr>\n",
       "    <tr>\n",
       "      <th>age_group</th>\n",
       "      <th></th>\n",
       "    </tr>\n",
       "  </thead>\n",
       "  <tbody>\n",
       "    <tr>\n",
       "      <th>5.0</th>\n",
       "      <td>0.000000</td>\n",
       "    </tr>\n",
       "    <tr>\n",
       "      <th>15.0</th>\n",
       "      <td>0.000000</td>\n",
       "    </tr>\n",
       "    <tr>\n",
       "      <th>25.0</th>\n",
       "      <td>0.000000</td>\n",
       "    </tr>\n",
       "    <tr>\n",
       "      <th>35.0</th>\n",
       "      <td>0.001224</td>\n",
       "    </tr>\n",
       "    <tr>\n",
       "      <th>45.0</th>\n",
       "      <td>0.000749</td>\n",
       "    </tr>\n",
       "    <tr>\n",
       "      <th>55.0</th>\n",
       "      <td>0.006686</td>\n",
       "    </tr>\n",
       "    <tr>\n",
       "      <th>65.0</th>\n",
       "      <td>0.023185</td>\n",
       "    </tr>\n",
       "    <tr>\n",
       "      <th>75.0</th>\n",
       "      <td>0.054446</td>\n",
       "    </tr>\n",
       "    <tr>\n",
       "      <th>85.0</th>\n",
       "      <td>0.151163</td>\n",
       "    </tr>\n",
       "  </tbody>\n",
       "</table>\n",
       "</div>"
      ],
      "text/plain": [
       "           death_yn\n",
       "age_group          \n",
       "5.0        0.000000\n",
       "15.0       0.000000\n",
       "25.0       0.000000\n",
       "35.0       0.001224\n",
       "45.0       0.000749\n",
       "55.0       0.006686\n",
       "65.0       0.023185\n",
       "75.0       0.054446\n",
       "85.0       0.151163"
      ]
     },
     "execution_count": 51,
     "metadata": {},
     "output_type": "execute_result"
    }
   ],
   "source": [
    "grouped_age = sample.groupby('age_group').aggregate({'death_yn': np.average})\n",
    "grouped_age"
   ]
  },
  {
   "cell_type": "code",
   "execution_count": 52,
   "metadata": {},
   "outputs": [
    {
     "name": "stdout",
     "output_type": "stream",
     "text": [
      "(8032, 12)\n",
      "(1887, 12)\n"
     ]
    }
   ],
   "source": [
    "under_60 = sample[sample.age_group < 60]\n",
    "over_60 = sample[sample.age_group > 60]\n",
    "print(under_60.shape)\n",
    "print(over_60.shape)"
   ]
  },
  {
   "cell_type": "markdown",
   "metadata": {},
   "source": [
    "### Medical Condition Permutation Test"
   ]
  },
  {
   "cell_type": "code",
   "execution_count": 53,
   "metadata": {},
   "outputs": [],
   "source": [
    "def perm_fun(df, len_a, len_b, col):\n",
    "    idx_a = set(df.sample(len_a).index)\n",
    "    idx_b = set(df.index) - idx_a\n",
    "    \n",
    "    return df.loc[df.index.isin(idx_a), col].mean() - df.loc[df.index.isin(idx_b), col].mean()"
   ]
  },
  {
   "cell_type": "code",
   "execution_count": 54,
   "metadata": {},
   "outputs": [],
   "source": [
    "perm_diffs = [perm_fun(sample, yes_medcond.shape[0], no_medcond.shape[0], 'death_yn') * 100 for _ in range(10000)]"
   ]
  },
  {
   "cell_type": "code",
   "execution_count": 55,
   "metadata": {},
   "outputs": [
    {
     "data": {
      "image/png": "[encoded data removed]",
      "text/plain": [
       "<Figure size 432x288 with 1 Axes>"
      ]
     },
     "metadata": {
      "needs_background": "light"
     },
     "output_type": "display_data"
    }
   ],
   "source": [
    "plt.figure()\n",
    "\n",
    "sns.histplot(data = perm_diffs)\n",
    "plt.axvline(actual_diff, color = 'red')\n",
    "\n",
    "plt.show()"
   ]
  },
  {
   "cell_type": "code",
   "execution_count": 56,
   "metadata": {},
   "outputs": [
    {
     "data": {
      "text/plain": [
       "0.0"
      ]
     },
     "execution_count": 56,
     "metadata": {},
     "output_type": "execute_result"
    }
   ],
   "source": [
    "p_val = [0 if actual_diff > diff else 1 for diff in perm_diffs]\n",
    "p_val = np.array(p_val)\n",
    "p_val.mean()"
   ]
  },
  {
   "cell_type": "markdown",
   "metadata": {},
   "source": [
    "### Age Permutation Test"
   ]
  },
  {
   "cell_type": "code",
   "execution_count": 57,
   "metadata": {},
   "outputs": [
    {
     "name": "stdout",
     "output_type": "stream",
     "text": [
      "5.414985526890847\n"
     ]
    }
   ],
   "source": [
    "actual_diff = (over_60.death_yn.mean() - under_60.death_yn.mean()) * 100\n",
    "print(actual_diff)"
   ]
  },
  {
   "cell_type": "code",
   "execution_count": 58,
   "metadata": {},
   "outputs": [],
   "source": [
    "perm_diffs = [perm_fun(sample, over_60.shape[0], under_60.shape[0], 'death_yn') * 100 for _ in range(1000)]"
   ]
  },
  {
   "cell_type": "code",
   "execution_count": 59,
   "metadata": {},
   "outputs": [
    {
     "data": {
      "image/png": "[encoded data removed]",
      "text/plain": [
       "<Figure size 432x288 with 1 Axes>"
      ]
     },
     "metadata": {
      "needs_background": "light"
     },
     "output_type": "display_data"
    }
   ],
   "source": [
    "plt.figure()\n",
    "\n",
    "sns.histplot(data = perm_diffs)\n",
    "plt.axvline(actual_diff, color = 'red')\n",
    "\n",
    "plt.show()"
   ]
  },
  {
   "cell_type": "code",
   "execution_count": 60,
   "metadata": {},
   "outputs": [
    {
     "data": {
      "text/plain": [
       "0.0"
      ]
     },
     "execution_count": 60,
     "metadata": {},
     "output_type": "execute_result"
    }
   ],
   "source": [
    "p_val = [0 if actual_diff > diff else 1 for diff in perm_diffs]\n",
    "p_val = np.array(p_val)\n",
    "p_val.mean()"
   ]
  },
  {
   "cell_type": "code",
   "execution_count": 61,
   "metadata": {},
   "outputs": [],
   "source": [
    "def sigmoid(z):\n",
    "    \"\"\"\n",
    "    computes sigmoid of scalar\n",
    "    \"\"\"\n",
    "    sigmoid = 1 / (1 + np.exp(-z))\n",
    "    \n",
    "    return sigmoid"
   ]
  },
  {
   "cell_type": "code",
   "execution_count": 62,
   "metadata": {},
   "outputs": [],
   "source": [
    "def compute_cost_logistic(X, y, w, b):\n",
    "    \"\"\"\n",
    "    args:\n",
    "        X: feature vector\n",
    "        y: target vector\n",
    "        w,b: scalar paremeters\n",
    "        \n",
    "    returns:\n",
    "        cost for given parameters\n",
    "    \"\"\"\n",
    "    \n",
    "    m = X.shape[0] # number of training examples\n",
    "    total_cost = 0\n",
    "    \n",
    "    for i in range(m):\n",
    "        z_i = np.dot(X[i], w) + b\n",
    "        f_wb_i = sigmoid(z_i)\n",
    "        \n",
    "        # cost at i\n",
    "        j_wb_i = y[i] * np.log(f_wb_i) + (1 - y[i]) * np.log(1 - f_wb_i)\n",
    "        \n",
    "        total_cost += j_wb_i\n",
    "        \n",
    "    total_cost = - (total_cost / m)\n",
    "    \n",
    "    return total_cost"
   ]
  },
  {
   "cell_type": "code",
   "execution_count": 63,
   "metadata": {},
   "outputs": [],
   "source": [
    "def compute_gradient_logistic(X, y, w, b):\n",
    "    \"\"\"\n",
    "    args:\n",
    "        X: 1darray feature vecotr\n",
    "        y: 1darray target vector\n",
    "        w,b: scalar parameters of cost function\n",
    "        \n",
    "    returns:\n",
    "        total loss for parameters w,b\n",
    "    \"\"\"\n",
    "    \n",
    "    m = X.shape[0] # number of training examples\n",
    "    dw = 0\n",
    "    db = 0\n",
    "    \n",
    "    for i in range(m):\n",
    "        z_i = np.dot(X[i], w) + b # dot product of scalars is simply a multiplication\n",
    "        f_wb_i = sigmoid(z_i)\n",
    "        \n",
    "        d_dw_i = (f_wb_i - y[i]) * X[i]\n",
    "        d_db_i = f_wb_i - y[i]\n",
    "        \n",
    "        dw += d_dw_i\n",
    "        db += d_db_i\n",
    "        \n",
    "    dw = dw / m\n",
    "    db = db / m\n",
    "    \n",
    "    return dw, db"
   ]
  },
  {
   "cell_type": "code",
   "execution_count": 64,
   "metadata": {},
   "outputs": [],
   "source": [
    "def gradient_descent(X, y, w_in, b_in, alpha, iterations):\n",
    "    \"\"\"\n",
    "    args:\n",
    "        X: feature vectors\n",
    "        y: target vector\n",
    "        w_in, b_in: scalar parameters\n",
    "        alpha: learning rate\n",
    "        iterations: amount of repetitions\n",
    "        \n",
    "    returns:\n",
    "        parameters of the minimized cost function\n",
    "    \"\"\"\n",
    "    \n",
    "    J_history = []\n",
    "    w = w_in\n",
    "    b = b_in\n",
    "    \n",
    "    for i in range(iterations):\n",
    "        dw, db = compute_gradient_logistic(X, y, w, b)\n",
    "        \n",
    "        w = w - alpha * dw\n",
    "        b = b - alpha * db\n",
    "        \n",
    "        \n",
    "        cost = compute_cost_logistic(X, y, w, b)\n",
    "        \n",
    "        # Save cost J at each iteration\n",
    "        if i<100000:      # prevent resource exhaustion \n",
    "            J_history.append( compute_cost_logistic(X, y, w, b) )\n",
    "\n",
    "        # Print cost every at intervals 10 times or as many iterations if < 10\n",
    "        if i % math.ceil(iterations / 10) == 0:\n",
    "            print(f\"Iteration {i:4d}: Cost {J_history[-1]}   \")\n",
    "        \n",
    "    return w, b, J_history         #return final w,b and J history for graphing"
   ]
  },
  {
   "cell_type": "code",
   "execution_count": 65,
   "metadata": {},
   "outputs": [
    {
     "name": "stdout",
     "output_type": "stream",
     "text": [
      "Iteration    0: Cost [2.51895252]   \n",
      "Iteration    5: Cost [2.12756792]   \n",
      "Iteration   10: Cost [1.73619759]   \n",
      "Iteration   15: Cost [1.34495825]   \n",
      "Iteration   20: Cost [0.95491196]   \n",
      "Iteration   25: Cost [0.57507045]   \n",
      "Iteration   30: Cost [0.26403662]   \n",
      "Iteration   35: Cost [0.22295936]   \n",
      "Iteration   40: Cost [0.22082827]   \n",
      "Iteration   45: Cost [0.21872811]   \n"
     ]
    }
   ],
   "source": [
    "X_train = np.array(sample.age_group).reshape(-1,1)\n",
    "y_train = np.array(sample.death_yn).reshape(-1,1)\n",
    "\n",
    "w = 1\n",
    "b = 1\n",
    "alpha = 0.1\n",
    "iterations = 50\n",
    "\n",
    "w_out, b_out, _ = gradient_descent(X_train, y_train, w, b, alpha, iterations)"
   ]
  },
  {
   "cell_type": "code",
   "execution_count": 66,
   "metadata": {},
   "outputs": [
    {
     "data": {
      "text/plain": [
       "(array([-0.14847309]), array([0.80981893]))"
      ]
     },
     "execution_count": 66,
     "metadata": {},
     "output_type": "execute_result"
    }
   ],
   "source": [
    "w_out, b_out"
   ]
  },
  {
   "cell_type": "markdown",
   "metadata": {},
   "source": [
    "### Multiple Logistic Regression"
   ]
  },
  {
   "cell_type": "code",
   "execution_count": 67,
   "metadata": {},
   "outputs": [],
   "source": [
    "def compute_ml_cost(x, y, w, b):\n",
    "    \"\"\"\n",
    "    args:\n",
    "        x: vector of feature variables\n",
    "        y: vector of feature variables\n",
    "        w: vector of scalars\n",
    "        b: scalar parameter\n",
    "        \n",
    "    output:\n",
    "        total cost associated with model parameters w,b\n",
    "    \"\"\"\n",
    "    \n",
    "    m = x.shape[0]\n",
    "    total_cost = 0\n",
    "    \n",
    "    for i in range(m):\n",
    "        z_i = np.dot(w, x[i]) + b\n",
    "        f_wb_i = sigmoid(z_i)\n",
    "        \n",
    "        # cost at i\n",
    "        j_wb_i = y[i] * np.log(f_wb_i) + (1 - y[i]) * np.log(1 - f_wb_i)\n",
    "        \n",
    "        total_cost = total_cost + j_wb_i\n",
    "        \n",
    "    total_cost = - (total_cost / m)\n",
    "    \n",
    "    return total_cost"
   ]
  },
  {
   "cell_type": "code",
   "execution_count": 68,
   "metadata": {},
   "outputs": [],
   "source": [
    "def compute_ml_gradient(x, y, w, b):\n",
    "    \"\"\"\n",
    "    args:\n",
    "        x: vector of feature variables\n",
    "        y: vector of feature variables\n",
    "        w: vector of scalars\n",
    "        b: scalar parameter\n",
    "    \"\"\"\n",
    "    \n",
    "    m,n = x.shape\n",
    "    \n",
    "    dj_dw = np.zeros((n,))\n",
    "    dj_db = 0\n",
    "    \n",
    "    for i in range(m):\n",
    "        z_i = np.dot(w, x[i]) + b\n",
    "        f_wb_i = sigmoid(z_i)\n",
    "        \n",
    "        for j in range(n):\n",
    "            dj_dw[j] = dj_dw[j] + ((f_wb_i - y[i]) * x[i, j])\n",
    "            \n",
    "        dj_db += (f_wb_i - y[i])\n",
    "        \n",
    "    dj_dw = dj_dw / m\n",
    "    dj_db = dj_db / m\n",
    "    \n",
    "    return dj_dw, dj_db"
   ]
  },
  {
   "cell_type": "code",
   "execution_count": 69,
   "metadata": {},
   "outputs": [],
   "source": [
    "def gradient_descent_ml(x, y, w_in, b_in, alpha, iterations):\n",
    "    \"\"\"\n",
    "    args:\n",
    "        x: 2d vector of feature variables\n",
    "        y: vector of target variable\n",
    "        w_in: parameter vector\n",
    "        b_in: scalar parameter\n",
    "        alpha: scalar learning rate\n",
    "        iterations: num of iterations for gd alg\n",
    "        \n",
    "    output:\n",
    "        w,b: parameters for model\n",
    "        cost: total cost for w,b\n",
    "    \"\"\"\n",
    "    J_history = []\n",
    "    w = copy.deepcopy(w_in)\n",
    "    b = b_in\n",
    "    \n",
    "    for i in range(iterations):\n",
    "        dj_dw, dj_db = compute_ml_gradient(x, y, w, b)\n",
    "            \n",
    "        w = w - alpha * dj_dw\n",
    "        b = b - alpha * dj_db\n",
    "        \n",
    "        # Save cost J at each iteration\n",
    "        if (i<100000):      # prevent resource exhaustion \n",
    "            J_history.append( compute_ml_cost(x, y, w, b))        \n",
    "        \n",
    "        if (i% math.ceil(iterations / 10) == 0):\n",
    "            print(f\"Iteration {i}: Cost {J_history[-1]}   \")\n",
    "        \n",
    "    return w, b, J_history #return final w,b and J history for graphing"
   ]
  },
  {
   "cell_type": "code",
   "execution_count": 72,
   "metadata": {},
   "outputs": [
    {
     "data": {
      "text/plain": [
       "array([[25.,  0.],\n",
       "       [45.,  0.],\n",
       "       [15.,  0.],\n",
       "       ...,\n",
       "       [65.,  0.],\n",
       "       [25.,  0.],\n",
       "       [65.,  0.]])"
      ]
     },
     "execution_count": 72,
     "metadata": {},
     "output_type": "execute_result"
    }
   ],
   "source": [
    "X_train"
   ]
  },
  {
   "cell_type": "code",
   "execution_count": 70,
   "metadata": {},
   "outputs": [
    {
     "name": "stdout",
     "output_type": "stream",
     "text": [
      "Iteration 0: Cost [0.74918958]   \n",
      "Iteration 10: Cost [0.22213755]   \n",
      "Iteration 20: Cost [0.21791385]   \n",
      "Iteration 30: Cost [0.21384524]   \n",
      "Iteration 40: Cost [0.20989565]   \n",
      "Iteration 50: Cost [0.20606275]   \n",
      "Iteration 60: Cost [0.20234412]   \n",
      "Iteration 70: Cost [0.19873723]   \n",
      "Iteration 80: Cost [0.19523951]   \n",
      "Iteration 90: Cost [0.19184832]   \n"
     ]
    }
   ],
   "source": [
    "predictors = ['age_group', 'medcond_yn']\n",
    "X_train = np.array(sample[predictors])\n",
    "y_train = np.array(sample['death_yn']).reshape(-1,1)\n",
    "\n",
    "w = np.array([3,2])\n",
    "b = 1\n",
    "alpha = 0.1\n",
    "iterations = 100\n",
    "\n",
    "w_out, b_out, _ = gradient_descent_ml(X_train, y_train, w, b, alpha, iterations)"
   ]
  },
  {
   "cell_type": "code",
   "execution_count": 71,
   "metadata": {},
   "outputs": [
    {
     "data": {
      "text/plain": [
       "(array([-0.12885969,  1.98960586]), array([0.34699974]))"
      ]
     },
     "execution_count": 71,
     "metadata": {},
     "output_type": "execute_result"
    }
   ],
   "source": [
    "w_out, b_out"
   ]
  }
 ],
 "metadata": {
  "kernelspec": {
   "display_name": "Python 3",
   "language": "python",
   "name": "python3"
  },
  "language_info": {
   "codemirror_mode": {
    "name": "ipython",
    "version": 3
   },
   "file_extension": ".py",
   "mimetype": "text/x-python",
   "name": "python",
   "nbconvert_exporter": "python",
   "pygments_lexer": "ipython3",
   "version": "3.8.5"
  }
 },
 "nbformat": 4,
 "nbformat_minor": 4
}
